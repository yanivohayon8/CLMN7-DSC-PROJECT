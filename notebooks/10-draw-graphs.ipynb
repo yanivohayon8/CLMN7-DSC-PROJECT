{
 "cells": [
  {
   "cell_type": "code",
   "execution_count": 1,
   "metadata": {},
   "outputs": [],
   "source": [
    "import sys\n",
    "sys.path.append('..')\n",
    "from src.data.docx  import read_docx,process_docx,find_content\n",
    "import glob\n",
    "import json\n",
    "import os\n",
    "import pandas as pd\n",
    "import ast\n",
    "import warnings\n",
    "warnings.filterwarnings(\"ignore\")\n",
    "from src.models.pipeline import pipeline\n",
    "from src.features.segment_transcript import CreateBlocks\n",
    "from functools import reduce\n",
    "import heapq\n",
    "from gensim.corpora import Dictionary\n",
    "from gensim import models\n",
    "from gensim import similarities\n",
    "import re\n",
    "import statistics\n",
    "import numpy as np\n",
    "import seaborn as sns; sns.set()\n",
    "%matplotlib inline\n",
    "import matplotlib.pyplot as plt\n",
    "from sklearn.feature_extraction.text import CountVectorizer\n",
    "from IPython.display import display, HTML\n",
    "from scipy.stats import entropy"
   ]
  },
  {
   "cell_type": "code",
   "execution_count": 3,
   "metadata": {},
   "outputs": [
    {
     "ename": "NameError",
     "evalue": "name 'correlation' is not defined",
     "output_type": "error",
     "traceback": [
      "\u001b[1;31m---------------------------------------------------------------------------\u001b[0m",
      "\u001b[1;31mNameError\u001b[0m                                 Traceback (most recent call last)",
      "\u001b[1;32m<ipython-input-3-5753a2fcc2cd>\u001b[0m in \u001b[0;36m<module>\u001b[1;34m\u001b[0m\n\u001b[0;32m     29\u001b[0m \u001b[0mdf_results\u001b[0m\u001b[1;33m[\u001b[0m\u001b[1;34m'max entropy'\u001b[0m\u001b[1;33m]\u001b[0m \u001b[1;33m=\u001b[0m \u001b[1;33m[\u001b[0m\u001b[0mnp\u001b[0m\u001b[1;33m.\u001b[0m\u001b[0mlog2\u001b[0m\u001b[1;33m(\u001b[0m\u001b[0mlen\u001b[0m\u001b[1;33m(\u001b[0m\u001b[0mdf_google_form\u001b[0m\u001b[1;33m[\u001b[0m\u001b[0mcol\u001b[0m\u001b[1;33m]\u001b[0m\u001b[1;33m.\u001b[0m\u001b[0mvalue_counts\u001b[0m\u001b[1;33m(\u001b[0m\u001b[1;33m)\u001b[0m\u001b[1;33m)\u001b[0m\u001b[1;33m)\u001b[0m \u001b[1;32mfor\u001b[0m \u001b[0mcol\u001b[0m \u001b[1;32min\u001b[0m \u001b[0mquestions\u001b[0m\u001b[1;33m]\u001b[0m\u001b[1;33m\u001b[0m\u001b[1;33m\u001b[0m\u001b[0m\n\u001b[0;32m     30\u001b[0m \u001b[0mdf_results\u001b[0m\u001b[1;33m[\u001b[0m\u001b[1;34m'labeled choose entropy'\u001b[0m\u001b[1;33m]\u001b[0m \u001b[1;33m=\u001b[0m \u001b[1;33m[\u001b[0m\u001b[0mentropy\u001b[0m\u001b[1;33m(\u001b[0m\u001b[0mdf_google_form\u001b[0m\u001b[1;33m[\u001b[0m\u001b[0mcol\u001b[0m\u001b[1;33m]\u001b[0m\u001b[1;33m.\u001b[0m\u001b[0mvalue_counts\u001b[0m\u001b[1;33m(\u001b[0m\u001b[0mnormalize\u001b[0m\u001b[1;33m=\u001b[0m\u001b[1;32mTrue\u001b[0m\u001b[1;33m)\u001b[0m\u001b[1;33m,\u001b[0m\u001b[0mbase\u001b[0m\u001b[1;33m=\u001b[0m\u001b[1;36m2\u001b[0m\u001b[1;33m)\u001b[0m \u001b[1;32mfor\u001b[0m \u001b[0mcol\u001b[0m \u001b[1;32min\u001b[0m \u001b[0mquestions\u001b[0m\u001b[1;33m]\u001b[0m\u001b[1;33m\u001b[0m\u001b[1;33m\u001b[0m\u001b[0m\n\u001b[1;32m---> 31\u001b[1;33m \u001b[0mdf_results\u001b[0m\u001b[1;33m[\u001b[0m\u001b[1;34m'founded chapter corr'\u001b[0m\u001b[1;33m]\u001b[0m \u001b[1;33m=\u001b[0m \u001b[1;33m[\u001b[0m\u001b[0mmax\u001b[0m\u001b[1;33m(\u001b[0m\u001b[0mtopic_correlations\u001b[0m\u001b[1;33m)\u001b[0m \u001b[1;32mfor\u001b[0m \u001b[0mtopic_correlations\u001b[0m \u001b[1;32min\u001b[0m \u001b[0mcorrelation\u001b[0m\u001b[1;33m]\u001b[0m\u001b[1;33m\u001b[0m\u001b[1;33m\u001b[0m\u001b[0m\n\u001b[0m\u001b[0;32m     32\u001b[0m \u001b[0mdom_subsec_titles_\u001b[0m \u001b[1;33m=\u001b[0m \u001b[1;33m[\u001b[0m\u001b[0mre\u001b[0m\u001b[1;33m.\u001b[0m\u001b[0msub\u001b[0m\u001b[1;33m(\u001b[0m\u001b[1;34m\"\\t\"\u001b[0m\u001b[1;33m,\u001b[0m\u001b[1;34m' '\u001b[0m\u001b[1;33m,\u001b[0m\u001b[0mtl\u001b[0m\u001b[1;33m)\u001b[0m \u001b[1;32mfor\u001b[0m \u001b[0mtl\u001b[0m \u001b[1;32min\u001b[0m \u001b[0mdom_subsec_titles\u001b[0m\u001b[1;33m]\u001b[0m\u001b[1;33m\u001b[0m\u001b[1;33m\u001b[0m\u001b[0m\n\u001b[0;32m     33\u001b[0m df_results['labeled chapter corr'] = [[correlation[index][dom_subsec_titles_.index(ch)] for ch in ch_corr_labeled] \n",
      "\u001b[1;31mNameError\u001b[0m: name 'correlation' is not defined"
     ]
    }
   ],
   "source": [
    "df_google_form = pd.read_csv('../data/raw/forms/form-answers-poc.csv')\n",
    "mycolumns = [\n",
    "             '00:00-04:06','04:06-06:55','06:55-08:54',\n",
    "             '08:54-10:39','10:39-13:03','13:03-14:56',\n",
    "             '14:56-17:42','17:42-22:09','22:09-24:41',\n",
    "             '24:41-27:11','27:11-30:18','30:18-33:39',\n",
    "             '33:39-38:24','38:24-41:42','41:42-45:20',\n",
    "             '45:20-49:47','49:47-52:52','52:52-53:30',\n",
    "             'rating_00:00-04:06','rating_04:06-06:55','rating_06:55-08:54',\n",
    "             'rating_08:54-10:39','rating_10:39-13:03','rating_13:03-14:56',\n",
    "             'rating_14:56-17:42','rating_17:42-22:09','rating_22:09-24:41',\n",
    "             'rating_24:41-27:11','rating_27:11-30:18','rating_30:18-33:39',\n",
    "             'rating_33:39-38:24','rating_38:24-41:42','rating_41:42-45:20',\n",
    "             'rating_45:20-49:47','rating_49:47-52:52','rating_52:52-53:30'\n",
    "            ]\n",
    "df_google_form = df_google_form.drop(columns=['מבין הפרקים הבאים, איזה אחד הכי מתאים לטווח הזמנים: 00:00-04:06 בסרטון'\n",
    "                                              ,'חותמת זמן','Unnamed: 20'])\n",
    "df_google_form.columns = mycolumns\n",
    "df_results = pd.DataFrame()\n",
    "questions = list(filter(lambda x: \"rating\" not in x,df_google_form.columns))\n",
    "rating_confidence = list(filter(lambda x: \"rating\" in x,df_google_form.columns))\n",
    "chapters_most_frequent = [df_google_form[col].mode().values.tolist() for col in questions]\n",
    "ratings_avg = [df_google_form[col].mean() for col in rating_confidence]\n",
    "ratings_var = [df_google_form[col].var() for col in rating_confidence]\n",
    "df_results['most corr labeled chapters'] = chapters_most_frequent\n",
    "df_results['rating mean confidence '] = ratings_avg\n",
    "df_results['rating var confidence '] = ratings_var\n",
    "df_results['labeled num choices'] = [len(df_google_form[col].value_counts()) for col in questions]\n",
    "df_results['max entropy'] = [np.log2(len(df_google_form[col].value_counts())) for col in questions]\n",
    "df_results['labeled choose entropy'] = [entropy(df_google_form[col].value_counts(normalize=True),base=2) for col in questions]\n",
    "df_results['founded chapter corr'] = [max(topic_correlations) for topic_correlations in correlation]\n",
    "dom_subsec_titles_ = [re.sub(\"\\t\",' ',tl) for tl in dom_subsec_titles]\n",
    "df_results['labeled chapter corr'] = [[correlation[index][dom_subsec_titles_.index(ch)] for ch in ch_corr_labeled] \n",
    "                                      for index,ch_corr_labeled in enumerate(chapters_most_frequent)]\n",
    "df_results"
   ]
  },
  {
   "cell_type": "code",
   "execution_count": null,
   "metadata": {},
   "outputs": [],
   "source": []
  }
 ],
 "metadata": {
  "kernelspec": {
   "display_name": "Python 3",
   "language": "python",
   "name": "python3"
  },
  "language_info": {
   "codemirror_mode": {
    "name": "ipython",
    "version": 3
   },
   "file_extension": ".py",
   "mimetype": "text/x-python",
   "name": "python",
   "nbconvert_exporter": "python",
   "pygments_lexer": "ipython3",
   "version": "3.7.4"
  }
 },
 "nbformat": 4,
 "nbformat_minor": 2
}
