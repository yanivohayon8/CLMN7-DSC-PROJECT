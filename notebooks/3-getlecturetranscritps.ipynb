{
 "cells": [
  {
   "cell_type": "code",
   "execution_count": 1,
   "metadata": {},
   "outputs": [],
   "source": [
    "from youtube_transcript_api import YouTubeTranscriptApi\n",
    "import json \n",
    "import glob\n",
    "import pandas as pd\n",
    "import os"
   ]
  },
  {
   "cell_type": "code",
   "execution_count": 3,
   "metadata": {},
   "outputs": [],
   "source": [
    "groubase_path = '../data/raw/groundbase/'\n",
    "transcripts_path = os.path.join(groubase_path,'transcripts')\n",
    "\n",
    "files = glob.glob(transcripts_path + '/*')\n",
    "vid_downloaded = list(map(lambda x: x.split('\\\\')[-1].split('.')[0],files))"
   ]
  },
  {
   "cell_type": "code",
   "execution_count": 4,
   "metadata": {},
   "outputs": [
    {
     "data": {
      "text/plain": [
       "['0NgCZKFEmGU',\n",
       " '2mC1uqwEmWQ',\n",
       " '2PhaT6AbH3Q',\n",
       " '4BZBog1Zx6c',\n",
       " '7kLHJ-F33GI',\n",
       " '7meUnPoFBIs',\n",
       " '7snJ1mx1EMQ',\n",
       " '8BeXwhljq2g',\n",
       " '8dkZO4yoH58',\n",
       " 'B-Xe7_mf2CY',\n",
       " 'bI9fsWNWDds',\n",
       " 'BiLJmhQMbVg',\n",
       " 'c5Fx9fZqoo4',\n",
       " 'd9D-Z3-44F8',\n",
       " 'defQQqkXEfE',\n",
       " 'dkAr9ThdSUU',\n",
       " 'dZb6kf5FbY4',\n",
       " 'E8rOVwKQ5-8',\n",
       " 'enI1YMvCJ34',\n",
       " 'f1Xqs_JHLZs',\n",
       " 'ffkIQrq-m34',\n",
       " 'FNl4Q6D65Is',\n",
       " 'fvV13MvvQ8k',\n",
       " 'gK00-nZEStM',\n",
       " 'GZG1hmWA-oA',\n",
       " 'ifYstEK5718',\n",
       " 'iVU4nH-HJGA',\n",
       " 'Iw894UT3yUg',\n",
       " 'K2X0eBd-0lc',\n",
       " 'ksh6OMRFroI',\n",
       " 'LdkkZglLZ0Q',\n",
       " 'lriqDajV2Nc',\n",
       " 'LX4ugnzwggg',\n",
       " 'Mg4Cs2K7f98',\n",
       " 'MkiUBJcgdUY',\n",
       " 'MSYmyJgYOnU',\n",
       " 'nsrzWEHEWDw',\n",
       " 'o5gByn3RKFI',\n",
       " 'oSSENq5SFMM',\n",
       " 'OT6XvxN9AWk',\n",
       " 'Q-HugPvA7GQ',\n",
       " 'rHYq1Git6U8',\n",
       " 'RIawrYLVdIw',\n",
       " 'SCvtxjpVQms',\n",
       " 'tORLeHHtazM',\n",
       " 'UdgZUZSrD5g',\n",
       " 'vzoe2G5g-w4',\n",
       " 'WhQJM6NH104',\n",
       " 'wtoc9UjBjGI',\n",
       " 'wVCW3VqYU4w',\n",
       " 'x5zLaWT5KPs',\n",
       " 'Xjtu1L7RwVM',\n",
       " 'xTU79Zs4XKY',\n",
       " 'YOuOo1ALnwc',\n",
       " 'zeO3G7B0U40',\n",
       " 'zT83sJ5IrEE',\n",
       " 'zWg7U0OEAoE']"
      ]
     },
     "execution_count": 4,
     "metadata": {},
     "output_type": "execute_result"
    }
   ],
   "source": [
    "vid_downloaded"
   ]
  },
  {
   "cell_type": "code",
   "execution_count": 5,
   "metadata": {},
   "outputs": [],
   "source": [
    "dataset = pd.read_csv(os.path.join(groubase_path,'dataset.csv'))"
   ]
  },
  {
   "cell_type": "code",
   "execution_count": 6,
   "metadata": {},
   "outputs": [
    {
     "data": {
      "text/html": [
       "<div>\n",
       "<style scoped>\n",
       "    .dataframe tbody tr th:only-of-type {\n",
       "        vertical-align: middle;\n",
       "    }\n",
       "\n",
       "    .dataframe tbody tr th {\n",
       "        vertical-align: top;\n",
       "    }\n",
       "\n",
       "    .dataframe thead th {\n",
       "        text-align: right;\n",
       "    }\n",
       "</style>\n",
       "<table border=\"1\" class=\"dataframe\">\n",
       "  <thead>\n",
       "    <tr style=\"text-align: right;\">\n",
       "      <th></th>\n",
       "      <th>shift index</th>\n",
       "      <th>topic shifts(ends)</th>\n",
       "      <th>label</th>\n",
       "      <th>video</th>\n",
       "      <th>subject</th>\n",
       "      <th>youtube link</th>\n",
       "      <th>length</th>\n",
       "      <th>video id</th>\n",
       "      <th>chapter section</th>\n",
       "      <th>chapter title</th>\n",
       "      <th>chapter confidence</th>\n",
       "    </tr>\n",
       "  </thead>\n",
       "  <tbody>\n",
       "    <tr>\n",
       "      <td>0</td>\n",
       "      <td>0</td>\n",
       "      <td>00:11:17</td>\n",
       "      <td>Syllabus , Textbook and references</td>\n",
       "      <td>Mod-01 Lec-01 Foundation of Scientific Computi...</td>\n",
       "      <td>Foundation of Scientific Computing</td>\n",
       "      <td>https://www.youtube.com/watch?v=MkiUBJcgdUY</td>\n",
       "      <td>01:05:06</td>\n",
       "      <td>MkiUBJcgdUY</td>\n",
       "      <td>NaN</td>\n",
       "      <td>NaN</td>\n",
       "      <td>NaN</td>\n",
       "    </tr>\n",
       "    <tr>\n",
       "      <td>1</td>\n",
       "      <td>1</td>\n",
       "      <td>00:12:45</td>\n",
       "      <td>course grading</td>\n",
       "      <td>Mod-01 Lec-01 Foundation of Scientific Computi...</td>\n",
       "      <td>Foundation of Scientific Computing</td>\n",
       "      <td>https://www.youtube.com/watch?v=MkiUBJcgdUY</td>\n",
       "      <td>01:05:06</td>\n",
       "      <td>MkiUBJcgdUY</td>\n",
       "      <td>NaN</td>\n",
       "      <td>NaN</td>\n",
       "      <td>NaN</td>\n",
       "    </tr>\n",
       "    <tr>\n",
       "      <td>2</td>\n",
       "      <td>2</td>\n",
       "      <td>00:20:57</td>\n",
       "      <td>relationship between computing and science</td>\n",
       "      <td>Mod-01 Lec-01 Foundation of Scientific Computi...</td>\n",
       "      <td>Foundation of Scientific Computing</td>\n",
       "      <td>https://www.youtube.com/watch?v=MkiUBJcgdUY</td>\n",
       "      <td>01:05:06</td>\n",
       "      <td>MkiUBJcgdUY</td>\n",
       "      <td>NaN</td>\n",
       "      <td>NaN</td>\n",
       "      <td>NaN</td>\n",
       "    </tr>\n",
       "    <tr>\n",
       "      <td>3</td>\n",
       "      <td>3</td>\n",
       "      <td>00:22:37</td>\n",
       "      <td>implemntation</td>\n",
       "      <td>Mod-01 Lec-01 Foundation of Scientific Computi...</td>\n",
       "      <td>Foundation of Scientific Computing</td>\n",
       "      <td>https://www.youtube.com/watch?v=MkiUBJcgdUY</td>\n",
       "      <td>01:05:06</td>\n",
       "      <td>MkiUBJcgdUY</td>\n",
       "      <td>NaN</td>\n",
       "      <td>NaN</td>\n",
       "      <td>NaN</td>\n",
       "    </tr>\n",
       "    <tr>\n",
       "      <td>4</td>\n",
       "      <td>4</td>\n",
       "      <td>00:24:45</td>\n",
       "      <td>scientific computing uses</td>\n",
       "      <td>Mod-01 Lec-01 Foundation of Scientific Computi...</td>\n",
       "      <td>Foundation of Scientific Computing</td>\n",
       "      <td>https://www.youtube.com/watch?v=MkiUBJcgdUY</td>\n",
       "      <td>01:05:06</td>\n",
       "      <td>MkiUBJcgdUY</td>\n",
       "      <td>NaN</td>\n",
       "      <td>NaN</td>\n",
       "      <td>NaN</td>\n",
       "    </tr>\n",
       "  </tbody>\n",
       "</table>\n",
       "</div>"
      ],
      "text/plain": [
       "   shift index topic shifts(ends)                                       label  \\\n",
       "0            0           00:11:17          Syllabus , Textbook and references   \n",
       "1            1           00:12:45                              course grading   \n",
       "2            2           00:20:57  relationship between computing and science   \n",
       "3            3           00:22:37                               implemntation   \n",
       "4            4           00:24:45                   scientific computing uses   \n",
       "\n",
       "                                               video  \\\n",
       "0  Mod-01 Lec-01 Foundation of Scientific Computi...   \n",
       "1  Mod-01 Lec-01 Foundation of Scientific Computi...   \n",
       "2  Mod-01 Lec-01 Foundation of Scientific Computi...   \n",
       "3  Mod-01 Lec-01 Foundation of Scientific Computi...   \n",
       "4  Mod-01 Lec-01 Foundation of Scientific Computi...   \n",
       "\n",
       "                             subject   \\\n",
       "0  Foundation of Scientific Computing   \n",
       "1  Foundation of Scientific Computing   \n",
       "2  Foundation of Scientific Computing   \n",
       "3  Foundation of Scientific Computing   \n",
       "4  Foundation of Scientific Computing   \n",
       "\n",
       "                                  youtube link    length     video id  \\\n",
       "0  https://www.youtube.com/watch?v=MkiUBJcgdUY  01:05:06  MkiUBJcgdUY   \n",
       "1  https://www.youtube.com/watch?v=MkiUBJcgdUY  01:05:06  MkiUBJcgdUY   \n",
       "2  https://www.youtube.com/watch?v=MkiUBJcgdUY  01:05:06  MkiUBJcgdUY   \n",
       "3  https://www.youtube.com/watch?v=MkiUBJcgdUY  01:05:06  MkiUBJcgdUY   \n",
       "4  https://www.youtube.com/watch?v=MkiUBJcgdUY  01:05:06  MkiUBJcgdUY   \n",
       "\n",
       "  chapter section chapter title  chapter confidence  \n",
       "0             NaN           NaN                 NaN  \n",
       "1             NaN           NaN                 NaN  \n",
       "2             NaN           NaN                 NaN  \n",
       "3             NaN           NaN                 NaN  \n",
       "4             NaN           NaN                 NaN  "
      ]
     },
     "execution_count": 6,
     "metadata": {},
     "output_type": "execute_result"
    }
   ],
   "source": [
    "dataset.head()"
   ]
  },
  {
   "cell_type": "code",
   "execution_count": 7,
   "metadata": {},
   "outputs": [],
   "source": [
    "vids = dataset.drop_duplicates(subset=['video id'])['video id'].values.tolist()"
   ]
  },
  {
   "cell_type": "code",
   "execution_count": 8,
   "metadata": {},
   "outputs": [
    {
     "data": {
      "text/plain": [
       "['MkiUBJcgdUY',\n",
       " 'zWg7U0OEAoE',\n",
       " '2mC1uqwEmWQ',\n",
       " 'x5zLaWT5KPs',\n",
       " 'Q-HugPvA7GQ',\n",
       " 'B-Xe7_mf2CY',\n",
       " 'SCvtxjpVQms',\n",
       " '8BeXwhljq2g',\n",
       " 'BiLJmhQMbVg',\n",
       " 'ksh6OMRFroI',\n",
       " 'dkAr9ThdSUU',\n",
       " 'zT83sJ5IrEE',\n",
       " 'tORLeHHtazM',\n",
       " 'RIawrYLVdIw',\n",
       " '7snJ1mx1EMQ',\n",
       " '7kLHJ-F33GI',\n",
       " 'NuY7szYSXSw',\n",
       " 'XX7ePR21Ook',\n",
       " 'h9wxtqoa1jY',\n",
       " 'GJpt_3ie4WU',\n",
       " 'bTyxpoi2dmM']"
      ]
     },
     "execution_count": 8,
     "metadata": {},
     "output_type": "execute_result"
    }
   ],
   "source": [
    "vids"
   ]
  },
  {
   "cell_type": "code",
   "execution_count": 9,
   "metadata": {},
   "outputs": [],
   "source": [
    "vids =list(set(vids) ^ set(vid_downloaded))"
   ]
  },
  {
   "cell_type": "code",
   "execution_count": 11,
   "metadata": {},
   "outputs": [],
   "source": [
    "vids = ['NuY7szYSXSw','XX7ePR21Ook','h9wxtqoa1jY','GJpt_3ie4WU','bTyxpoi2dmM']"
   ]
  },
  {
   "cell_type": "code",
   "execution_count": 12,
   "metadata": {},
   "outputs": [
    {
     "name": "stdout",
     "output_type": "stream",
     "text": [
      "../data/raw/groundbase/transcripts\\NuY7szYSXSw.json\n",
      "../data/raw/groundbase/transcripts\\XX7ePR21Ook.json\n",
      "../data/raw/groundbase/transcripts\\h9wxtqoa1jY.json\n",
      "../data/raw/groundbase/transcripts\\GJpt_3ie4WU.json\n",
      "../data/raw/groundbase/transcripts\\bTyxpoi2dmM.json\n"
     ]
    }
   ],
   "source": [
    "for vid in vids:\n",
    "    trs = YouTubeTranscriptApi.list_transcripts(vid)\n",
    "    mytrans = []\n",
    "    for tr in trs:\n",
    "        mytrans.append(tr.fetch())\n",
    "    path = os.path.join(transcripts_path,vid + '.json')\n",
    "    print(path)\n",
    "    with open(path,'w') as f:\n",
    "        json.dump(mytrans[0],f)"
   ]
  },
  {
   "cell_type": "markdown",
   "metadata": {},
   "source": [
    "# From here, extracting eduardo data set transcripts"
   ]
  },
  {
   "cell_type": "code",
   "execution_count": 4,
   "metadata": {},
   "outputs": [],
   "source": [
    "transcripts_path_eduardo = os.path.join(groubase_path,'eduardo')\n",
    "\n",
    "files = glob.glob(transcripts_path_eduardo + '/**/*.json')\n",
    "vid_downloaded = list(map(lambda x: x.split('\\\\')[-1].split('.')[0],files))"
   ]
  },
  {
   "cell_type": "code",
   "execution_count": 5,
   "metadata": {},
   "outputs": [
    {
     "data": {
      "text/plain": [
       "89"
      ]
     },
     "execution_count": 5,
     "metadata": {},
     "output_type": "execute_result"
    }
   ],
   "source": [
    "len(vid_downloaded)"
   ]
  },
  {
   "cell_type": "code",
   "execution_count": 6,
   "metadata": {},
   "outputs": [
    {
     "data": {
      "text/plain": [
       "<youtube_transcript_api._transcripts.TranscriptList at 0x2b71405e408>"
      ]
     },
     "execution_count": 6,
     "metadata": {},
     "output_type": "execute_result"
    }
   ],
   "source": [
    "YouTubeTranscriptApi.list_transcripts('0NgCZKFEmGU')"
   ]
  },
  {
   "cell_type": "code",
   "execution_count": 9,
   "metadata": {},
   "outputs": [
    {
     "name": "stdout",
     "output_type": "stream",
     "text": [
      "Downloading transcript for 0NgCZKFEmGU\n",
      "Downloading transcript for 2PhaT6AbH3Q\n",
      "Downloading transcript for 4BZBog1Zx6c\n",
      "Downloading transcript for 7meUnPoFBIs\n",
      "Downloading transcript for 8dkZO4yoH58\n",
      "find mannualy the transcripts for AIImpact \n",
      "find mannualy the transcripts for AlgorithmsForRobotNavigation \n",
      "find mannualy the transcripts for ArchitecturesForDistributed \n",
      "find mannualy the transcripts for AutomaticDifferentiation \n",
      "find mannualy the transcripts for b8TJvEr6eSQ \n",
      "Downloading transcript for bI9fsWNWDds\n",
      "find mannualy the transcripts for BigDataProcessing \n",
      "Downloading transcript for c5Fx9fZqoo4\n",
      "find mannualy the transcripts for CollaborativelyRegularized \n",
      "find mannualy the transcripts for ComplexityScience \n",
      "find mannualy the transcripts for ComputingExponentiallyFaster \n",
      "find mannualy the transcripts for Cross-lingual \n",
      "Downloading transcript for d9D-Z3-44F8\n",
      "find mannualy the transcripts for DataAndAnalytics \n",
      "find mannualy the transcripts for DeepReinforcement \n",
      "Downloading transcript for defQQqkXEfE\n",
      "find mannualy the transcripts for dl2OixkAPlg \n",
      "Downloading transcript for dZb6kf5FbY4\n",
      "Downloading transcript for E8rOVwKQ5-8\n",
      "Downloading transcript for enI1YMvCJ34\n",
      "find mannualy the transcripts for ExperimentalTechniques \n",
      "find mannualy the transcripts for ExperimentsWithNon-parametric \n",
      "Downloading transcript for f1Xqs_JHLZs\n",
      "Downloading transcript for ffkIQrq-m34\n",
      "Downloading transcript for FNl4Q6D65Is\n",
      "Downloading transcript for fvV13MvvQ8k\n",
      "find mannualy the transcripts for f_8tZHsaKQs \n",
      "find mannualy the transcripts for GameTheory \n",
      "find mannualy the transcripts for GenerativeModels \n",
      "find mannualy the transcripts for GettingThere \n",
      "Downloading transcript for gK00-nZEStM\n",
      "Downloading transcript for GZG1hmWA-oA\n",
      "find mannualy the transcripts for HiddenMarkovModels \n",
      "find mannualy the transcripts for HPC \n",
      "find mannualy the transcripts for HumanMobility \n",
      "find mannualy the transcripts for HumanoidniRoboti \n",
      "Downloading transcript for ifYstEK5718\n",
      "find mannualy the transcripts for IntroductionToCNNs \n",
      "Downloading transcript for iVU4nH-HJGA\n",
      "Downloading transcript for Iw894UT3yUg\n",
      "find mannualy the transcripts for jjvBnvA8GzA \n",
      "Downloading transcript for K2X0eBd-0lc\n",
      "find mannualy the transcripts for LargeScaleImage \n",
      "Downloading transcript for LdkkZglLZ0Q\n",
      "Downloading transcript for lriqDajV2Nc\n",
      "find mannualy the transcripts for LSD-SLAM \n",
      "Downloading transcript for LX4ugnzwggg\n",
      "find mannualy the transcripts for MachineLearning \n",
      "find mannualy the transcripts for MarryingGraphical \n",
      "Downloading transcript for Mg4Cs2K7f98\n",
      "Downloading transcript for MSYmyJgYOnU\n",
      "find mannualy the transcripts for NeuralNetworks \n",
      "Downloading transcript for nsrzWEHEWDw\n",
      "Downloading transcript for o5gByn3RKFI\n",
      "Downloading transcript for oSSENq5SFMM\n",
      "Downloading transcript for OT6XvxN9AWk\n",
      "find mannualy the transcripts for PolicySearchForRL \n",
      "find mannualy the transcripts for ProbabilisticNumerics \n",
      "find mannualy the transcripts for ProgrammingMethodologies \n",
      "find mannualy the transcripts for PyTorch \n",
      "find mannualy the transcripts for ReinforcementLearning \n",
      "find mannualy the transcripts for ResearchAtTwitter \n",
      "find mannualy the transcripts for Results6Regional \n",
      "Downloading transcript for rHYq1Git6U8\n",
      "find mannualy the transcripts for RNNs \n",
      "find mannualy the transcripts for rRG3ZuASJi0 \n",
      "find mannualy the transcripts for ScalingLaws \n",
      "find mannualy the transcripts for SelfOrganizedCriticality \n",
      "find mannualy the transcripts for SimplifyingComplexity \n",
      "find mannualy the transcripts for TDLearning \n",
      "find mannualy the transcripts for TechnologyAndCombinatorialEvolution \n",
      "find mannualy the transcripts for TheoreticalNeuroscience \n",
      "find mannualy the transcripts for ThePhonebusters \n",
      "find mannualy the transcripts for TippingPoints \n",
      "Downloading transcript for UdgZUZSrD5g\n",
      "find mannualy the transcripts for VeryLargeScaleModeling \n",
      "Downloading transcript for vzoe2G5g-w4\n",
      "Downloading transcript for WhQJM6NH104\n",
      "Downloading transcript for wtoc9UjBjGI\n",
      "Downloading transcript for wVCW3VqYU4w\n",
      "Downloading transcript for Xjtu1L7RwVM\n",
      "Downloading transcript for xTU79Zs4XKY\n",
      "Downloading transcript for YOuOo1ALnwc\n",
      "Downloading transcript for zeO3G7B0U40\n"
     ]
    }
   ],
   "source": [
    "trouble_makers = []\n",
    "for vid in vid_downloaded:\n",
    "    \n",
    "    vid = vid[3:] # removing prefix gt_\n",
    "    try:\n",
    "        trs = YouTubeTranscriptApi.list_transcripts(vid)\n",
    "        auto_gen = []\n",
    "        man_gen = []\n",
    "        trs = list(filter(lambda x: x.language_code == 'en',trs))\n",
    "        for tr in trs:\n",
    "            if tr.is_generated is False:\n",
    "                man_gen.append(tr)\n",
    "            else:\n",
    "                auto_gen.append(tr)            \n",
    "        \n",
    "        if len(man_gen) >0:\n",
    "            final_tr = man_gen[0].fetch()\n",
    "        else:\n",
    "            final_tr = auto_gen[0].fetch()\n",
    "            \n",
    "        path = os.path.join(transcripts_path,vid + '.json')\n",
    "        with open(path,'w') as f:\n",
    "            print('Downloading transcript for %s' %(vid))\n",
    "            json.dump(final_tr,f)\n",
    "    except Exception as e:\n",
    "        #print(e)\n",
    "        trouble_makers.append(vid)\n",
    "        print(\"find mannualy the transcripts for %s \" %(vid))"
   ]
  },
  {
   "cell_type": "code",
   "execution_count": 13,
   "metadata": {},
   "outputs": [
    {
     "ename": "TypeError",
     "evalue": "unsupported operand type(s) for -: 'list' and 'list'",
     "output_type": "error",
     "traceback": [
      "\u001b[1;31m---------------------------------------------------------------------------\u001b[0m",
      "\u001b[1;31mTypeError\u001b[0m                                 Traceback (most recent call last)",
      "\u001b[1;32m<ipython-input-13-0dc52c8314cb>\u001b[0m in \u001b[0;36m<module>\u001b[1;34m\u001b[0m\n\u001b[1;32m----> 1\u001b[1;33m \u001b[0mvid_downloaded\u001b[0m \u001b[1;33m-\u001b[0m \u001b[0mtrouble_makers\u001b[0m\u001b[1;33m\u001b[0m\u001b[1;33m\u001b[0m\u001b[0m\n\u001b[0m",
      "\u001b[1;31mTypeError\u001b[0m: unsupported operand type(s) for -: 'list' and 'list'"
     ]
    }
   ],
   "source": []
  },
  {
   "cell_type": "code",
   "execution_count": null,
   "metadata": {},
   "outputs": [],
   "source": []
  }
 ],
 "metadata": {
  "kernelspec": {
   "display_name": "Python 3",
   "language": "python",
   "name": "python3"
  },
  "language_info": {
   "codemirror_mode": {
    "name": "ipython",
    "version": 3
   },
   "file_extension": ".py",
   "mimetype": "text/x-python",
   "name": "python",
   "nbconvert_exporter": "python",
   "pygments_lexer": "ipython3",
   "version": "3.7.4"
  }
 },
 "nbformat": 4,
 "nbformat_minor": 2
}
