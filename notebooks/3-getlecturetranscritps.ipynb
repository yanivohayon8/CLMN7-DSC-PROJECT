{
 "cells": [
  {
   "cell_type": "code",
   "execution_count": 47,
   "metadata": {},
   "outputs": [],
   "source": [
    "from youtube_transcript_api import YouTubeTranscriptApi\n",
    "import json \n",
    "import glob\n",
    "import pandas as pd\n",
    "import os"
   ]
  },
  {
   "cell_type": "code",
   "execution_count": 48,
   "metadata": {},
   "outputs": [],
   "source": [
    "groubase_path = '../data/raw/groundbase/'\n",
    "transcripts_path = os.path.join(groubase_path,'transcripts')\n",
    "\n",
    "files = glob.glob(transcripts_path + '/*')\n",
    "vid_downloaded = list(map(lambda x: x.split('\\\\')[-1].split('.')[0],files))"
   ]
  },
  {
   "cell_type": "code",
   "execution_count": 49,
   "metadata": {},
   "outputs": [
    {
     "data": {
      "text/plain": [
       "['2mC1uqwEmWQ',\n",
       " 'B-Xe7_mf2CY',\n",
       " 'MkiUBJcgdUY',\n",
       " 'Q-HugPvA7GQ',\n",
       " 'x5zLaWT5KPs',\n",
       " 'zWg7U0OEAoE']"
      ]
     },
     "execution_count": 49,
     "metadata": {},
     "output_type": "execute_result"
    }
   ],
   "source": [
    "vid_downloaded"
   ]
  },
  {
   "cell_type": "code",
   "execution_count": 50,
   "metadata": {},
   "outputs": [],
   "source": [
    "dataset = pd.read_csv(os.path.join(groubase_path,'dataset.csv'))"
   ]
  },
  {
   "cell_type": "code",
   "execution_count": 51,
   "metadata": {},
   "outputs": [
    {
     "data": {
      "text/html": [
       "<div>\n",
       "<style scoped>\n",
       "    .dataframe tbody tr th:only-of-type {\n",
       "        vertical-align: middle;\n",
       "    }\n",
       "\n",
       "    .dataframe tbody tr th {\n",
       "        vertical-align: top;\n",
       "    }\n",
       "\n",
       "    .dataframe thead th {\n",
       "        text-align: right;\n",
       "    }\n",
       "</style>\n",
       "<table border=\"1\" class=\"dataframe\">\n",
       "  <thead>\n",
       "    <tr style=\"text-align: right;\">\n",
       "      <th></th>\n",
       "      <th>shift index</th>\n",
       "      <th>topic shifts(ends)</th>\n",
       "      <th>label</th>\n",
       "      <th>video</th>\n",
       "      <th>subject</th>\n",
       "      <th>youtube link</th>\n",
       "      <th>length</th>\n",
       "      <th>video id</th>\n",
       "    </tr>\n",
       "  </thead>\n",
       "  <tbody>\n",
       "    <tr>\n",
       "      <td>0</td>\n",
       "      <td>0</td>\n",
       "      <td>00:11:17</td>\n",
       "      <td>Syllabus , Textbook and references</td>\n",
       "      <td>Mod-01 Lec-01 Foundation of Scientific Computi...</td>\n",
       "      <td>Foundation of Scientific Computing</td>\n",
       "      <td>https://www.youtube.com/watch?v=MkiUBJcgdUY</td>\n",
       "      <td>01:05:06</td>\n",
       "      <td>MkiUBJcgdUY</td>\n",
       "    </tr>\n",
       "    <tr>\n",
       "      <td>1</td>\n",
       "      <td>1</td>\n",
       "      <td>00:12:45</td>\n",
       "      <td>course grading</td>\n",
       "      <td>Mod-01 Lec-01 Foundation of Scientific Computi...</td>\n",
       "      <td>Foundation of Scientific Computing</td>\n",
       "      <td>https://www.youtube.com/watch?v=MkiUBJcgdUY</td>\n",
       "      <td>01:05:06</td>\n",
       "      <td>MkiUBJcgdUY</td>\n",
       "    </tr>\n",
       "    <tr>\n",
       "      <td>2</td>\n",
       "      <td>2</td>\n",
       "      <td>00:20:57</td>\n",
       "      <td>relationship between computing and science</td>\n",
       "      <td>Mod-01 Lec-01 Foundation of Scientific Computi...</td>\n",
       "      <td>Foundation of Scientific Computing</td>\n",
       "      <td>https://www.youtube.com/watch?v=MkiUBJcgdUY</td>\n",
       "      <td>01:05:06</td>\n",
       "      <td>MkiUBJcgdUY</td>\n",
       "    </tr>\n",
       "    <tr>\n",
       "      <td>3</td>\n",
       "      <td>3</td>\n",
       "      <td>00:22:37</td>\n",
       "      <td>implemntation</td>\n",
       "      <td>Mod-01 Lec-01 Foundation of Scientific Computi...</td>\n",
       "      <td>Foundation of Scientific Computing</td>\n",
       "      <td>https://www.youtube.com/watch?v=MkiUBJcgdUY</td>\n",
       "      <td>01:05:06</td>\n",
       "      <td>MkiUBJcgdUY</td>\n",
       "    </tr>\n",
       "    <tr>\n",
       "      <td>4</td>\n",
       "      <td>4</td>\n",
       "      <td>00:24:45</td>\n",
       "      <td>scientific computing uses</td>\n",
       "      <td>Mod-01 Lec-01 Foundation of Scientific Computi...</td>\n",
       "      <td>Foundation of Scientific Computing</td>\n",
       "      <td>https://www.youtube.com/watch?v=MkiUBJcgdUY</td>\n",
       "      <td>01:05:06</td>\n",
       "      <td>MkiUBJcgdUY</td>\n",
       "    </tr>\n",
       "  </tbody>\n",
       "</table>\n",
       "</div>"
      ],
      "text/plain": [
       "   shift index topic shifts(ends)                                       label  \\\n",
       "0            0           00:11:17          Syllabus , Textbook and references   \n",
       "1            1           00:12:45                              course grading   \n",
       "2            2           00:20:57  relationship between computing and science   \n",
       "3            3           00:22:37                               implemntation   \n",
       "4            4           00:24:45                   scientific computing uses   \n",
       "\n",
       "                                               video  \\\n",
       "0  Mod-01 Lec-01 Foundation of Scientific Computi...   \n",
       "1  Mod-01 Lec-01 Foundation of Scientific Computi...   \n",
       "2  Mod-01 Lec-01 Foundation of Scientific Computi...   \n",
       "3  Mod-01 Lec-01 Foundation of Scientific Computi...   \n",
       "4  Mod-01 Lec-01 Foundation of Scientific Computi...   \n",
       "\n",
       "                             subject   \\\n",
       "0  Foundation of Scientific Computing   \n",
       "1  Foundation of Scientific Computing   \n",
       "2  Foundation of Scientific Computing   \n",
       "3  Foundation of Scientific Computing   \n",
       "4  Foundation of Scientific Computing   \n",
       "\n",
       "                                  youtube link    length     video id  \n",
       "0  https://www.youtube.com/watch?v=MkiUBJcgdUY  01:05:06  MkiUBJcgdUY  \n",
       "1  https://www.youtube.com/watch?v=MkiUBJcgdUY  01:05:06  MkiUBJcgdUY  \n",
       "2  https://www.youtube.com/watch?v=MkiUBJcgdUY  01:05:06  MkiUBJcgdUY  \n",
       "3  https://www.youtube.com/watch?v=MkiUBJcgdUY  01:05:06  MkiUBJcgdUY  \n",
       "4  https://www.youtube.com/watch?v=MkiUBJcgdUY  01:05:06  MkiUBJcgdUY  "
      ]
     },
     "execution_count": 51,
     "metadata": {},
     "output_type": "execute_result"
    }
   ],
   "source": [
    "dataset.head()"
   ]
  },
  {
   "cell_type": "code",
   "execution_count": 52,
   "metadata": {},
   "outputs": [],
   "source": [
    "vids = dataset.drop_duplicates(subset=['video id'])['video id'].values.tolist()"
   ]
  },
  {
   "cell_type": "code",
   "execution_count": 53,
   "metadata": {},
   "outputs": [
    {
     "data": {
      "text/plain": [
       "['MkiUBJcgdUY',\n",
       " 'zWg7U0OEAoE',\n",
       " '2mC1uqwEmWQ',\n",
       " 'x5zLaWT5KPs',\n",
       " 'Q-HugPvA7GQ',\n",
       " 'B-Xe7_mf2CY',\n",
       " 'SCvtxjpVQms',\n",
       " '8BeXwhljq2g',\n",
       " 'BiLJmhQMbVg',\n",
       " 'ksh6OMRFroI',\n",
       " 'dkAr9ThdSUU',\n",
       " 'zT83sJ5IrEE']"
      ]
     },
     "execution_count": 53,
     "metadata": {},
     "output_type": "execute_result"
    }
   ],
   "source": [
    "vids"
   ]
  },
  {
   "cell_type": "code",
   "execution_count": 54,
   "metadata": {},
   "outputs": [],
   "source": [
    "vids =list(set(vids) ^ set(vid_downloaded))"
   ]
  },
  {
   "cell_type": "code",
   "execution_count": 56,
   "metadata": {},
   "outputs": [
    {
     "data": {
      "text/plain": [
       "['8BeXwhljq2g',\n",
       " 'dkAr9ThdSUU',\n",
       " 'BiLJmhQMbVg',\n",
       " 'SCvtxjpVQms',\n",
       " 'zT83sJ5IrEE',\n",
       " 'ksh6OMRFroI']"
      ]
     },
     "execution_count": 56,
     "metadata": {},
     "output_type": "execute_result"
    }
   ],
   "source": [
    "vids"
   ]
  },
  {
   "cell_type": "code",
   "execution_count": 58,
   "metadata": {},
   "outputs": [
    {
     "name": "stdout",
     "output_type": "stream",
     "text": [
      "../data/raw/groundbase/transcripts\\8BeXwhljq2g.json\n",
      "../data/raw/groundbase/transcripts\\dkAr9ThdSUU.json\n",
      "../data/raw/groundbase/transcripts\\BiLJmhQMbVg.json\n",
      "../data/raw/groundbase/transcripts\\SCvtxjpVQms.json\n",
      "../data/raw/groundbase/transcripts\\zT83sJ5IrEE.json\n",
      "../data/raw/groundbase/transcripts\\ksh6OMRFroI.json\n"
     ]
    }
   ],
   "source": [
    "for vid in vids:\n",
    "    trs = YouTubeTranscriptApi.list_transcripts(vid)\n",
    "    mytrans = []\n",
    "    for tr in trs:\n",
    "        mytrans.append(tr.fetch())\n",
    "    path = os.path.join(transcripts_path,vid + '.json')\n",
    "    print(path)\n",
    "    with open(path,'w') as f:\n",
    "        json.dump(mytrans[0],f)"
   ]
  },
  {
   "cell_type": "code",
   "execution_count": null,
   "metadata": {},
   "outputs": [],
   "source": []
  }
 ],
 "metadata": {
  "kernelspec": {
   "display_name": "Python 3",
   "language": "python",
   "name": "python3"
  },
  "language_info": {
   "codemirror_mode": {
    "name": "ipython",
    "version": 3
   },
   "file_extension": ".py",
   "mimetype": "text/x-python",
   "name": "python",
   "nbconvert_exporter": "python",
   "pygments_lexer": "ipython3",
   "version": "3.7.4"
  }
 },
 "nbformat": 4,
 "nbformat_minor": 2
}
