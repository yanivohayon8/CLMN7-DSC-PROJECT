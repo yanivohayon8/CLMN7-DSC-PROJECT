{
 "cells": [
  {
   "cell_type": "code",
   "execution_count": 1,
   "metadata": {},
   "outputs": [],
   "source": [
    "import sys\n",
    "sys.path.append('..')\n",
    "from src.data.docx  import read_docx,process_docx,find_content\n",
    "import glob\n",
    "import json\n",
    "import os\n",
    "import pandas as pd\n",
    "import ast\n",
    "import warnings\n",
    "warnings.filterwarnings(\"ignore\")\n",
    "from src.models.pipeline import pipeline\n",
    "from functools import reduce\n",
    "import heapq\n",
    "from gensim.corpora import Dictionary\n",
    "from gensim import models\n",
    "from gensim import similarities\n",
    "import re\n",
    "import statistics\n",
    "import numpy as np\n",
    "import seaborn as sns; sns.set()\n",
    "%matplotlib inline\n",
    "import matplotlib.pyplot as plt\n",
    "from sklearn.feature_extraction.text import CountVectorizer"
   ]
  },
  {
   "cell_type": "markdown",
   "metadata": {},
   "source": [
    "# READ BOOKS OF VIDEOS"
   ]
  },
  {
   "cell_type": "code",
   "execution_count": 2,
   "metadata": {},
   "outputs": [],
   "source": [
    "'''Defining CONSTS'''\n",
    "docx_path = '../data/raw/docx'\n",
    "groundbase_dir = '../data/raw/groundbase'\n",
    "transcripts_dir = os.path.join(groundbase_dir,'transcripts')\n",
    "topic_dataset_path = os.path.join(groundbase_dir,'dataset.csv')\n",
    "transcript_filespath = glob.glob(groundbase_dir + '/transcripts/*.json')"
   ]
  },
  {
   "cell_type": "code",
   "execution_count": 3,
   "metadata": {},
   "outputs": [],
   "source": [
    "videos_ids = list(map(lambda fl: fl.split('\\\\')[-1].split('.')[0],glob.glob(docx_path + '/*')))"
   ]
  },
  {
   "cell_type": "code",
   "execution_count": 4,
   "metadata": {},
   "outputs": [],
   "source": [
    "desired_videos =['7kLHJ-F33GI','RIawrYLVdIw','7snJ1mx1EMQ','zWg7U0OEAoE','tORLeHHtazM'] #['zWg7U0OEAoE','tORLeHHtazM'] #['7kLHJ-F33GI','RIawrYLVdIw','7snJ1mx1EMQ']\n",
    "videos_ids = list(filter(lambda x: x in desired_videos,videos_ids))"
   ]
  },
  {
   "cell_type": "code",
   "execution_count": 5,
   "metadata": {},
   "outputs": [],
   "source": [
    "#video_docx = [glob.glob(os.path.join(docx_path,vid + '/*.docx'))[0] for vid in videos_ids]\n",
    "#docx_db =[read_docx(path) for path in video_docx]"
   ]
  },
  {
   "cell_type": "code",
   "execution_count": 6,
   "metadata": {},
   "outputs": [],
   "source": [
    "f_read = {\n",
    "    'statbook':'statbook',\n",
    "    'Dsa':'Dsa'\n",
    "}\n",
    "\n",
    "docxs_chapter_keyword = {\n",
    "    'statbook':'Topic',\n",
    "    'Dsa': 'Chapter'\n",
    "}"
   ]
  },
  {
   "cell_type": "code",
   "execution_count": 7,
   "metadata": {},
   "outputs": [],
   "source": [
    "video_to_paper = {}\n",
    "paper_content ={}\n",
    "for vid in videos_ids:\n",
    "    doc_path = glob.glob(os.path.join(docx_path,vid + '/*.docx'))[0]\n",
    "    doc_name = doc_path.split('\\\\')[-1].split('.')[0]\n",
    "    video_to_paper[vid] = doc_name    \n",
    "    if doc_name not in paper_content.keys():    \n",
    "        full_text,font_sizes = read_docx(doc_path)\n",
    "        paper_content[doc_name] = find_content(f_read[doc_name],\n",
    "                                               full_text,\n",
    "                                               font_sizes,\n",
    "                                               docxs_chapter_keyword[doc_name])"
   ]
  },
  {
   "cell_type": "code",
   "execution_count": 8,
   "metadata": {},
   "outputs": [
    {
     "data": {
      "text/plain": [
       "\"#transcript_filespath\\n#videos_ids\\nfrom docx import *\\nword_document = Document(doc_path)\\np_sent = re.compile('\\\\w+')\\nfull_text = []\\nfont_sizes = []\\nfor para in word_document.paragraphs:\\n    for i,run in enumerate(para.runs):        \\n        matching = p_sent.match(run.text)\\n\\n        # see if there is a number or letter ( it is not a trash)\\n        if matching is not None and run.text is not None and run.font.size is not None:\\n                full_text.append(re.sub('[\\t\\n\\x08\\r]','',run.text))\\n\""
      ]
     },
     "execution_count": 8,
     "metadata": {},
     "output_type": "execute_result"
    }
   ],
   "source": [
    "\"\"\"#transcript_filespath\n",
    "#videos_ids\n",
    "from docx import *\n",
    "word_document = Document(doc_path)\n",
    "p_sent = re.compile('\\w+')\n",
    "full_text = []\n",
    "font_sizes = []\n",
    "for para in word_document.paragraphs:\n",
    "    for i,run in enumerate(para.runs):        \n",
    "        matching = p_sent.match(run.text)\n",
    "\n",
    "        # see if there is a number or letter ( it is not a trash)\n",
    "        if matching is not None and run.text is not None and run.font.size is not None:\n",
    "                full_text.append(re.sub('[\\t\\n\\b\\r]','',run.text))\n",
    "\"\"\""
   ]
  },
  {
   "cell_type": "markdown",
   "metadata": {},
   "source": [
    "# RESTORE RESULTS FROM TRAINING"
   ]
  },
  {
   "cell_type": "code",
   "execution_count": 9,
   "metadata": {},
   "outputs": [],
   "source": [
    "'''Select transcript for only wanted videos'''\n",
    "transcript_filespath = list(filter(lambda x: x.split('\\\\')[-1].split('.')[0] in videos_ids,transcript_filespath))\n",
    "\n",
    "'''Read the transcript'''\n",
    "transcripts_jsons = {}\n",
    "for fl in transcript_filespath:\n",
    "    with open(fl,encoding=\"utf8\") as f:\n",
    "        transcript =ast.literal_eval(f.read()) #json.load(f)\n",
    "        vid = fl.split('\\\\')[-1].split('.')[0]\n",
    "        #print(vid)\n",
    "        transcripts_jsons[vid] = transcript\n",
    "#print(transcripts_jsons)\n",
    "\n",
    "'''Read the videos metadata to perform on them the segmentation'''\n",
    "df_videos = pd.read_csv(topic_dataset_path)\n",
    "\n",
    "''' Transfer topic shifts time to seconds units instead HH:MM:SS'''\n",
    "def topic_shifts_seconds(topic_shifts):\n",
    "    tp_shift_sec=[]\n",
    "    for tp in topic_shifts:\n",
    "        intervals = tp.split(':')\n",
    "        seconds = int(intervals[2])\n",
    "        minutes = int(intervals[1]) * 60\n",
    "        hours = int(intervals[0]) * 60 *60\n",
    "        tp_shift_sec.append(seconds + minutes + hours)\n",
    "    return tp_shift_sec\n",
    "for video_id in transcripts_jsons.keys():    \n",
    "    df_videos.at[df_videos['video id'] == video_id,'topic shifts(ends)'] =\\\n",
    "    topic_shifts_seconds(\\\n",
    "                         df_videos[df_videos['video id'] == \\\n",
    "                                   video_id]['topic shifts(ends)'])\n",
    "    \n",
    "    \n",
    "'''Get parameters from training'''\n",
    "df_results = pd.read_csv('../data/processed/bayesian_opt/results.csv')\n",
    "n_largest_res = 3\n",
    "pipeline_results = df_results[df_results['video'].isin(videos_ids)]\\\n",
    "                .groupby('video')[['video','workflow','params','max_target']]\\\n",
    "                .apply(lambda grp: grp.nlargest(n_largest_res,'max_target')).values.tolist()\n",
    "#pipeline_results = pipeline_results[2:] "
   ]
  },
  {
   "cell_type": "code",
   "execution_count": 10,
   "metadata": {},
   "outputs": [
    {
     "data": {
      "text/plain": [
       "[['7kLHJ-F33GI',\n",
       "  'sliding_window-tfidf-cosine-median_(3,3)-spectral_clustering',\n",
       "  \"{'n_clusters': 18.0, 'sim_thresh': 0.6, 'step_size': 10.0, 'window_size': 150.0}\",\n",
       "  0.8181818181818182],\n",
       " ['7kLHJ-F33GI',\n",
       "  'sliding_window-tfidf-cosine-None-spectral_clustering',\n",
       "  \"{'n_clusters': 14.502132028215444, 'sim_thresh': 0.5160973480326474, 'step_size': 10.005718740867245, 'window_size': 59.30323444213917}\",\n",
       "  0.7272727272727273],\n",
       " ['7kLHJ-F33GI',\n",
       "  'sliding_window-tfidf-cosine-None-spectral_clustering',\n",
       "  \"{'n_clusters': 12.880535344902679, 'sim_thresh': 0.32770157843063935, 'step_size': 19.313010568883545, 'window_size': 64.9228945155962}\",\n",
       "  0.7272727272727273],\n",
       " ['7snJ1mx1EMQ',\n",
       "  'sliding_window-tfidf-cosine-median_(2,2)-spectral_clustering',\n",
       "  \"{'n_clusters': 16.432431412456257, 'sim_thresh': 0.3000063890009115, 'step_size': 59.99514192872911, 'window_size': 21.1099397077962}\",\n",
       "  0.8571428571428571],\n",
       " ['7snJ1mx1EMQ',\n",
       "  'sliding_window-tfidf-cosine-median_(3,3)-spectral_clustering',\n",
       "  \"{'n_clusters': 12.0, 'sim_thresh': 0.6, 'step_size': 60.0, 'window_size': 113.1280123783269}\",\n",
       "  0.7142857142857143],\n",
       " ['7snJ1mx1EMQ',\n",
       "  'sliding_window-tfidf-cosine-None-spectral_clustering',\n",
       "  \"{'n_clusters': 18.0, 'sim_thresh': 0.6, 'step_size': 60.0, 'window_size': 20.0}\",\n",
       "  0.5714285714285714],\n",
       " ['RIawrYLVdIw',\n",
       "  'sliding_window-tfidf-cosine-None-spectral_clustering',\n",
       "  \"{'n_clusters': 14.786160659898577, 'sim_thresh': 0.5924873369457966, 'step_size': 10.073958555862824, 'window_size': 60.422260605496106}\",\n",
       "  0.625],\n",
       " ['RIawrYLVdIw',\n",
       "  'sliding_window-tfidf-cosine-median_(3,3)-spectral_clustering',\n",
       "  \"{'n_clusters': 14.786160659898577, 'sim_thresh': 0.5924873369457966, 'step_size': 10.073958555862824, 'window_size': 60.422260605496106}\",\n",
       "  0.625],\n",
       " ['RIawrYLVdIw',\n",
       "  'sliding_window-tfidf-cosine-median_(2,2)-spectral_clustering',\n",
       "  \"{'n_clusters': 14.786160659898577, 'sim_thresh': 0.5924873369457966, 'step_size': 10.073958555862824, 'window_size': 60.422260605496106}\",\n",
       "  0.5],\n",
       " ['tORLeHHtazM',\n",
       "  'sliding_window-tfidf-cosine-median_(3,3)-spectral_clustering',\n",
       "  \"{'n_clusters': 12.880535344902679, 'sim_thresh': 0.32770157843063935, 'step_size': 19.313010568883545, 'window_size': 64.9228945155962}\",\n",
       "  0.6],\n",
       " ['tORLeHHtazM',\n",
       "  'sliding_window-tfidf-cosine-median_(2,2)-spectral_clustering',\n",
       "  \"{'n_clusters': 17.91079887564834, 'sim_thresh': 0.817336080129486, 'step_size': 11.151010670803554, 'window_size': 199.95285581039045}\",\n",
       "  0.4],\n",
       " ['tORLeHHtazM',\n",
       "  'sliding_window-tfidf-cosine-None-spectral_clustering',\n",
       "  \"{'n_clusters': 14.502132028215444, 'sim_thresh': 0.5160973480326474, 'step_size': 10.005718740867245, 'window_size': 59.30323444213917}\",\n",
       "  0.0],\n",
       " ['zWg7U0OEAoE',\n",
       "  'sliding_window-tfidf-cosine-median_(3,3)-spectral_clustering',\n",
       "  \"{'n_clusters': 12.880535344902679, 'sim_thresh': 0.32770157843063935, 'step_size': 19.313010568883545, 'window_size': 64.9228945155962}\",\n",
       "  0.384615385],\n",
       " ['zWg7U0OEAoE',\n",
       "  'sliding_window-tfidf-cosine-median_(3,3)-spectral_clustering',\n",
       "  \"{'n_clusters': 17.90913045315346, 'sim_thresh': 0.48840541351614664, 'step_size': 22.277728309382358, 'window_size': 55.313492553993115}\",\n",
       "  0.307692308],\n",
       " ['zWg7U0OEAoE',\n",
       "  'sliding_window-tfidf-cosine-None-spectral_clustering',\n",
       "  \"{'n_clusters': 18.0, 'sim_thresh': 0.6, 'step_size': 60.0, 'window_size': 150.0}\",\n",
       "  0.230769231]]"
      ]
     },
     "execution_count": 10,
     "metadata": {},
     "output_type": "execute_result"
    }
   ],
   "source": [
    "pipeline_results"
   ]
  },
  {
   "cell_type": "code",
   "execution_count": 11,
   "metadata": {},
   "outputs": [],
   "source": [
    "def boundryevaluation(curresults,ground_base,accurrcy_shift = 30):\n",
    "        true_positive = 0\n",
    "        false_negative = 0\n",
    "        false_positive = 0 \n",
    "        true_positive_list_debug = []\n",
    "        #false_negative_list_debug = []\n",
    "        false_positive_list_debug = []\n",
    "        results = curresults[:]\n",
    "        \n",
    "        \n",
    "        #print('curresults %s' %(curresults))\n",
    "        #print('ground_base %s ' %(ground_base))\n",
    "        \n",
    "        for grb in ground_base:\n",
    "            is_false_positive = True\n",
    "            for res in results:     \n",
    "                if abs(res - grb) < accurrcy_shift:\n",
    "                    is_false_positive = False\n",
    "                    true_positive_list_debug.append(res)\n",
    "                    true_positive+=1\n",
    "                    results.remove(res)\n",
    "                    break   \n",
    "            if is_false_positive:\n",
    "                false_positive_list_debug.append(grb)\n",
    "                false_positive+=1\n",
    "                \n",
    "        #print(\"TP: \" + str(true_positive_list_debug))\n",
    "        #print(\"FP: \" + str(false_positive_list_debug))\n",
    "        #print(\"FN: \" + str(curresults))\n",
    "        #print('true_positive : %s ' %(true_positive))\n",
    "        false_negative = len(results) # make sure the true positive are removed from here \n",
    "        recall_rate = true_positive/(true_positive + false_negative )\n",
    "        precision_rate = true_positive/(true_positive + false_positive)\n",
    "        #print(\"TP: %s , FP: %s, FN: %s\" %(true_positive,false_positive,false_negative))\n",
    "        #print(\"precision rate : %s, recall rate : %s \" % (precision_rate,recall_rate))\n",
    "        return precision_rate"
   ]
  },
  {
   "cell_type": "code",
   "execution_count": 18,
   "metadata": {},
   "outputs": [
    {
     "name": "stdout",
     "output_type": "stream",
     "text": [
      "##################################################\n",
      "running trial 5 for vid 7kLHJ-F33GI desired precision 0.8181818181818182 \n",
      "output precision 0.45454545454545453 \n",
      "new high percision caught\n",
      "##################################################\n",
      "running trial 4 for vid 7kLHJ-F33GI desired precision 0.8181818181818182 \n",
      "output precision 0.45454545454545453 \n",
      "##################################################\n",
      "running trial 3 for vid 7kLHJ-F33GI desired precision 0.8181818181818182 \n",
      "output precision 0.45454545454545453 \n",
      "##################################################\n",
      "running trial 2 for vid 7kLHJ-F33GI desired precision 0.8181818181818182 \n",
      "output precision 0.45454545454545453 \n",
      "##################################################\n",
      "running trial 1 for vid 7kLHJ-F33GI desired precision 0.8181818181818182 \n",
      "output precision 0.36363636363636365 \n",
      "##################################################\n",
      "running trial 5 for vid 7kLHJ-F33GI desired precision 0.7272727272727273 \n",
      "output precision 0.6363636363636364 \n",
      "new high percision caught\n",
      "##################################################\n",
      "running trial 4 for vid 7kLHJ-F33GI desired precision 0.7272727272727273 \n",
      "output precision 0.6363636363636364 \n",
      "##################################################\n",
      "running trial 3 for vid 7kLHJ-F33GI desired precision 0.7272727272727273 \n",
      "output precision 0.6363636363636364 \n",
      "##################################################\n",
      "running trial 2 for vid 7kLHJ-F33GI desired precision 0.7272727272727273 \n",
      "output precision 0.6363636363636364 \n",
      "##################################################\n",
      "running trial 1 for vid 7kLHJ-F33GI desired precision 0.7272727272727273 \n",
      "output precision 0.6363636363636364 \n",
      "##################################################\n",
      "running trial 5 for vid 7kLHJ-F33GI desired precision 0.7272727272727273 \n",
      "output precision 0.5454545454545454 \n",
      "##################################################\n",
      "running trial 4 for vid 7kLHJ-F33GI desired precision 0.7272727272727273 \n",
      "output precision 0.5454545454545454 \n",
      "##################################################\n",
      "running trial 3 for vid 7kLHJ-F33GI desired precision 0.7272727272727273 \n",
      "output precision 0.5454545454545454 \n",
      "##################################################\n",
      "running trial 2 for vid 7kLHJ-F33GI desired precision 0.7272727272727273 \n",
      "output precision 0.5454545454545454 \n",
      "##################################################\n",
      "running trial 1 for vid 7kLHJ-F33GI desired precision 0.7272727272727273 \n",
      "output precision 0.6363636363636364 \n",
      "##################################################\n",
      "running trial 5 for vid 7snJ1mx1EMQ desired precision 0.8571428571428571 \n",
      "output precision 0.8571428571428571 \n",
      "new high percision caught\n",
      "##################################################\n",
      "running trial 5 for vid 7snJ1mx1EMQ desired precision 0.7142857142857143 \n",
      "output precision 0.7142857142857143 \n",
      "##################################################\n",
      "running trial 5 for vid 7snJ1mx1EMQ desired precision 0.5714285714285714 \n",
      "output precision 0.5714285714285714 \n",
      "##################################################\n",
      "running trial 5 for vid RIawrYLVdIw desired precision 0.625 \n",
      "output precision 0.625 \n",
      "new high percision caught\n",
      "##################################################\n",
      "running trial 5 for vid RIawrYLVdIw desired precision 0.625 \n",
      "output precision 0.625 \n",
      "##################################################\n",
      "running trial 5 for vid RIawrYLVdIw desired precision 0.5 \n",
      "output precision 0.625 \n",
      "##################################################\n",
      "running trial 5 for vid tORLeHHtazM desired precision 0.6 \n",
      "output precision 0.6 \n",
      "new high percision caught\n",
      "##################################################\n",
      "running trial 5 for vid tORLeHHtazM desired precision 0.4 \n",
      "output precision 0.6 \n",
      "##################################################\n",
      "running trial 5 for vid tORLeHHtazM desired precision 0.0 \n",
      "label 1 has done already cannot evaluate unsequentional segmentation, try other parameters\n",
      "##################################################\n",
      "running trial 4 for vid tORLeHHtazM desired precision 0.0 \n",
      "label 13 has done already cannot evaluate unsequentional segmentation, try other parameters\n",
      "##################################################\n",
      "running trial 3 for vid tORLeHHtazM desired precision 0.0 \n",
      "label 12 has done already cannot evaluate unsequentional segmentation, try other parameters\n",
      "##################################################\n",
      "running trial 2 for vid tORLeHHtazM desired precision 0.0 \n",
      "label 0 has done already cannot evaluate unsequentional segmentation, try other parameters\n",
      "##################################################\n",
      "running trial 1 for vid tORLeHHtazM desired precision 0.0 \n",
      "label 1 has done already cannot evaluate unsequentional segmentation, try other parameters\n",
      "##################################################\n",
      "running trial 5 for vid zWg7U0OEAoE desired precision 0.384615385 \n",
      "output precision 0.3076923076923077 \n",
      "new high percision caught\n",
      "##################################################\n",
      "running trial 4 for vid zWg7U0OEAoE desired precision 0.384615385 \n",
      "output precision 0.23076923076923078 \n",
      "##################################################\n",
      "running trial 3 for vid zWg7U0OEAoE desired precision 0.384615385 \n",
      "output precision 0.3076923076923077 \n",
      "##################################################\n",
      "running trial 2 for vid zWg7U0OEAoE desired precision 0.384615385 \n",
      "output precision 0.15384615384615385 \n",
      "##################################################\n",
      "running trial 1 for vid zWg7U0OEAoE desired precision 0.384615385 \n",
      "output precision 0.38461538461538464 \n",
      "new high percision caught\n",
      "##################################################\n",
      "running trial 5 for vid zWg7U0OEAoE desired precision 0.307692308 \n",
      "output precision 0.23076923076923078 \n",
      "##################################################\n",
      "running trial 4 for vid zWg7U0OEAoE desired precision 0.307692308 \n",
      "output precision 0.23076923076923078 \n",
      "##################################################\n",
      "running trial 3 for vid zWg7U0OEAoE desired precision 0.307692308 \n",
      "output precision 0.3076923076923077 \n",
      "##################################################\n",
      "running trial 2 for vid zWg7U0OEAoE desired precision 0.307692308 \n",
      "output precision 0.23076923076923078 \n",
      "##################################################\n",
      "running trial 1 for vid zWg7U0OEAoE desired precision 0.307692308 \n",
      "output precision 0.5384615384615384 \n",
      "new high percision caught\n",
      "##################################################\n",
      "running trial 5 for vid zWg7U0OEAoE desired precision 0.230769231 \n",
      "output precision 0.15384615384615385 \n",
      "##################################################\n",
      "running trial 4 for vid zWg7U0OEAoE desired precision 0.230769231 \n",
      "output precision 0.23076923076923078 \n",
      "##################################################\n",
      "running trial 3 for vid zWg7U0OEAoE desired precision 0.230769231 \n",
      "output precision 0.3076923076923077 \n"
     ]
    }
   ],
   "source": [
    "videos_division = {}\n",
    "\n",
    "for vid in videos_ids:\n",
    "    vid_results = list(filter(lambda x: x[0] == vid,pipeline_results))\n",
    "    max_precision = 0\n",
    "    vid_words = None\n",
    "    vid_shifts = None\n",
    "    for result in vid_results:\n",
    "        '''From the get optimized by bayesian we get that for the video '''\n",
    "        vid = result[0]\n",
    "        params = ast.literal_eval(result[2]) #{'n_clusters': 18, 'sim_thresh': 0.6, 'step_size': 49, 'window_size': 150}\n",
    "        #print(params)\n",
    "        for key in ['n_clusters','step_size','window_size']:\n",
    "            params[key] = int(params[key])# - 1\n",
    "        workflow = result[1] #'sliding_window-tfidf-cosine-median_(3,3)-spectral_clustering'\n",
    "        \n",
    "        shifts = df_videos.loc[df_videos['video id'] == vid,'topic shifts(ends)'].values.tolist()\n",
    "        groundbase = shifts[:-1]\n",
    "        transcripts = transcripts_jsons[vid]\n",
    "        #print(grounbase)\n",
    "        _pipeline = workflow.split('-')\n",
    "        filter_type = None\n",
    "        mask_shape = None\n",
    "        filtering = _pipeline[3]\n",
    "        if filtering != 'None':\n",
    "            filter_type = filtering.split('_')[0]\n",
    "            mask_shape = ast.literal_eval(filtering.split('_')[1])\n",
    "        '''This running may not work at first time do not give up and run it couple of times'''\n",
    "\n",
    "        '''print('Running the following %s for video %s with params %s %s %s'\n",
    "              %(workflow, vid,params,filter_type,mask_shape))'''\n",
    "        #print(vid_results[1])\n",
    "        #print(str(filter_type) + \" \" + str(mask_shape))\n",
    "        shift_times,topic_words = (None,None)\n",
    "        n_trials = 5\n",
    "        while shift_times is None and topic_words is None and n_trials > 0:\n",
    "            print('##################################################')\n",
    "            print(\"running trial %s for vid %s desired precision %s \"%(n_trials,vid,result[3]))\n",
    "            n_trials= n_trials - 1\n",
    "            shift_times,topic_words = pipeline.run_for_baye(groundbase,\n",
    "                                                            transcripts,\n",
    "                                                            slicing_method='sliding_window',\n",
    "                                                            window_size=params['window_size'],#59\n",
    "                                                            step_size_sd= params['step_size'], #10\n",
    "                                  vector_method='tfidf',vectorizing_params=None,\n",
    "                                  similarity_method='cosine',\n",
    "                                  filter_params={\"filter_type\":filter_type,\n",
    "                                                 \"mask_shape\":mask_shape,\n",
    "                                                 \"sim_thresh\": params['sim_thresh'], #0.5160973480326474 \n",
    "                                                 \"is_min_thresh\":True\n",
    "                                                 },\n",
    "                                 clustering_params={\n",
    "                                         'algorithm':'spectral_clustering',\n",
    "                                         'n_clusters':params['n_clusters'] #14\n",
    "                                         },\n",
    "                                        accurrcy_shift=30,\n",
    "                                        return_value='division') or (None,None)\n",
    "\n",
    "            if shift_times is not None:\n",
    "                pr = boundryevaluation(shift_times,groundbase,accurrcy_shift=30)\n",
    "                print(\"output precision %s \" %(pr))\n",
    "                \n",
    "                if pr > max_precision:\n",
    "                    print(\"new high percision caught\")\n",
    "                    max_precision = pr \n",
    "                    vid_words = topic_words\n",
    "                    shift_times.append('end')\n",
    "                    vid_shifts = shift_times \n",
    "                if pr < result[3]:\n",
    "                    shift_times,topic_words = (None,None)    \n",
    "\n",
    "    videos_division[vid] = {'topic_words':vid_words,'topic_shift':vid_shifts}"
   ]
  },
  {
   "cell_type": "code",
   "execution_count": 19,
   "metadata": {},
   "outputs": [],
   "source": [
    "#videos_division"
   ]
  },
  {
   "cell_type": "markdown",
   "metadata": {},
   "source": [
    "# EXTRACT MAIN CHAPTERS OF BOOKS AND ORAGANIZE THE PAPER AS DIFFERENT DOCUMENTS GROUPS"
   ]
  },
  {
   "cell_type": "code",
   "execution_count": 20,
   "metadata": {},
   "outputs": [
    {
     "data": {
      "text/plain": [
       "dict_keys(['corpus', 'titles', 'main titles'])"
      ]
     },
     "execution_count": 20,
     "metadata": {},
     "output_type": "execute_result"
    }
   ],
   "source": [
    "paper_content[doc_name].keys()"
   ]
  },
  {
   "cell_type": "code",
   "execution_count": 21,
   "metadata": {},
   "outputs": [],
   "source": [
    "'''Find the following for each paper:\n",
    "    1) main chapter title index. for example [10,15....]\n",
    "    2) range of subsection within each main chapter . for example [(0,9),(11,14)...]\n",
    "    \n",
    "    '''\n",
    "\n",
    "paper_mainchapter_indexes = {}\n",
    "paper_sec_within_main_indexes = {}\n",
    "paper_mains_as_one_doc = {}\n",
    "paper_subsec_as_one_doc = {}\n",
    "\n",
    "for doc_name in paper_content.keys():\n",
    "    '''Find the main chapter indexes in the list of the overall titles'''\n",
    "    mainchapter_indexes = [paper_content[doc_name]['titles'].index(ch_title)\n",
    "                           for ch_title in paper_content[doc_name]['main titles']]\n",
    "    '''Find the subsection indexes range within each main chapter '''\n",
    "    subsec_mainchapter_indexes = [range(mainchapter_indexes[index],mainchapter_indexes[index + 1])\n",
    "                                  for index in range(len(mainchapter_indexes) - 1)]\n",
    "    subsec_mainchapter_indexes.append(range(mainchapter_indexes[-1],\n",
    "                                            len(paper_content[doc_name]['titles'])))\n",
    "    paper_mainchapter_indexes[doc_name] = mainchapter_indexes\n",
    "    paper_sec_within_main_indexes[doc_name] = subsec_mainchapter_indexes\n",
    "    \n",
    "    \n",
    "    '''Making each chapter as a one documents'''\n",
    "    \n",
    "    '''Union all the documents in a section into single document'''\n",
    "    paper_subsec_as_one_doc[doc_name] = [list(reduce(lambda doc,acc:doc + acc,sec,[]))\n",
    "                                         for sec in paper_content[doc_name]['corpus']]\n",
    "    '''Union all the sub section in a main chapter into one document'''\n",
    "    paper_mains_as_one_doc[doc_name] = [list(reduce(lambda acc,s_i:\n",
    "                                                    paper_subsec_as_one_doc[doc_name][s_i]+acc,subsec_indexes,[]))\n",
    "                                        for subsec_indexes in paper_sec_within_main_indexes[doc_name]]"
   ]
  },
  {
   "cell_type": "code",
   "execution_count": 22,
   "metadata": {},
   "outputs": [
    {
     "data": {
      "text/plain": [
       "\"print(paper_content['Dsa']['main titles'][0])\\nprint(len(paper_mains_as_one_doc['Dsa'][0][0]))\\nprint((paper_mains_as_one_doc['Dsa'][0][0]))\\n#print(len(paper_sec_within_main_indexes['Dsa'][0][0]))\\nprint(len(paper_subsec_as_one_doc['Dsa'][0]))\\nprint((paper_subsec_as_one_doc['Dsa'][0][0]))\\nprint(len(videos_division['tORLeHHtazM']['topic_words'][0][0]))\\nprint((videos_division['tORLeHHtazM']['topic_words'][0][0]))\""
      ]
     },
     "execution_count": 22,
     "metadata": {},
     "output_type": "execute_result"
    }
   ],
   "source": [
    "'''Debug'''\n",
    "\"\"\"\n",
    "print(paper_content['statbook']['main titles'])\n",
    "print((paper_content['statbook']['titles']))\n",
    "print(len(paper_content['statbook']['titles']))# \n",
    "print(len(paper_content['statbook']['corpus']))#members of each element:section corpus\n",
    "print(len(paper_content['statbook']['corpus'][0]))#members of each element: documents\n",
    "print(len(paper_content['statbook']['corpus'][0][0])) #of each element words\n",
    "print(paper_sec_within_main_indexes['statbook'])\n",
    "\n",
    "\n",
    "#debug\n",
    "print(sum([len(paper_subsec_as_one_doc['statbook'][s]) for s in range(0,10)]))\n",
    "print(len(paper_mains_as_one_doc['statbook'][0]))\n",
    "print(len(paper_mains_as_one_doc['statbook']))\n",
    "\n",
    "\n",
    "\n",
    "\"\"\"\n",
    "\"\"\"#print(len(paper_subsec_as_one_doc['statbook']))\n",
    "print((subsec_mainchapter_indexes))\n",
    "print(len(paper_content['Dsa']['titles']))\n",
    "print(len(paper_subsec_as_one_doc[doc_name]))\n",
    "print(len(paper_sec_within_main_indexes[doc_name]))\n",
    "print(paper_content['Dsa']['titles'][-1])\n",
    "print(paper_subsec_as_one_doc[doc_name][-2])\n",
    "\"\"\"\n",
    "\"\"\"print(paper_content['Dsa']['main titles'][0])\n",
    "print(len(paper_mains_as_one_doc['Dsa'][0][0]))\n",
    "print((paper_mains_as_one_doc['Dsa'][0][0]))\n",
    "#print(len(paper_sec_within_main_indexes['Dsa'][0][0]))\n",
    "print(len(paper_subsec_as_one_doc['Dsa'][0]))\n",
    "print((paper_subsec_as_one_doc['Dsa'][0][0]))\n",
    "print(len(videos_division['tORLeHHtazM']['topic_words'][0][0]))\n",
    "print((videos_division['tORLeHHtazM']['topic_words'][0][0]))\"\"\"\n",
    "\n",
    "#paper_content['Dsa']['corpus']"
   ]
  },
  {
   "cell_type": "code",
   "execution_count": null,
   "metadata": {},
   "outputs": [],
   "source": []
  },
  {
   "cell_type": "markdown",
   "metadata": {},
   "source": [
    "# FIND CORRELATION BETWEEN MAIN CHAPTERES AND FOUNDED TOPICS IN THE VIDEO "
   ]
  },
  {
   "cell_type": "code",
   "execution_count": 23,
   "metadata": {},
   "outputs": [],
   "source": [
    "def find_top_words_of_topic(topic_words,chapter_titles=None):\n",
    "    for tp_i,tp_words in enumerate(topic_words):\n",
    "        #\n",
    "        raw_text = ' '.join(tp_words)\n",
    "        myvectorizer = CountVectorizer()\n",
    "        mytf = myvectorizer.fit_transform([raw_text]).toarray()\n",
    "        #print(mytf)\n",
    "        maxes = heapq.nlargest(3,mytf[0])\n",
    "        indexes = []\n",
    "        for i,bal in enumerate(mytf[0]):\n",
    "            if bal in maxes:\n",
    "                indexes.append(i)\n",
    "        ws = [myvectorizer.get_feature_names()[_] for i,_ in enumerate(indexes)]\n",
    "        \n",
    "        if chapter_titles is None:\n",
    "            print('top words for topic %s are %s' %(tp_i,ws))\n",
    "        else:\n",
    "            print('top words for topic %s are %s' %(chapter_titles[tp_i],ws))"
   ]
  },
  {
   "cell_type": "code",
   "execution_count": 24,
   "metadata": {},
   "outputs": [
    {
     "data": {
      "text/plain": [
       "'Calculate the whole corpus of the video and the books as one raw text'"
      ]
     },
     "execution_count": 24,
     "metadata": {},
     "output_type": "execute_result"
    }
   ],
   "source": [
    "'''Calculate the whole corpus of the video and the books as one raw text'''"
   ]
  },
  {
   "cell_type": "code",
   "execution_count": 25,
   "metadata": {},
   "outputs": [],
   "source": [
    "def get_topic_chapter_corr_tfidf(paper_name,book_chapters,\n",
    "                                 vid_topics_words,vid_topics_shift,\n",
    "                                 dispaly_titles):\n",
    "    raw_book_video = []\n",
    "    for tp_vid in vid_topics_words:\n",
    "        raw_book_video = raw_book_video + tp_vid\n",
    "    \n",
    "    for ch in book_chapters:\n",
    "        raw_book_video = raw_book_video + ch\n",
    "\n",
    "    # creating dictionary of all of the words in the corpus of the video and the paper\n",
    "    dictionary = Dictionary([raw_book_video])\n",
    "    whole_corpus = vid_topics_words + book_chapters\n",
    "    bgw_corpus = [dictionary.doc2bow(doc) for doc in whole_corpus]\n",
    "    tf_idf_model = models.TfidfModel(bgw_corpus)\n",
    "    bgw_chapter = [dictionary.doc2bow(doc) for doc in book_chapters]\n",
    "    index_sim = similarities.SparseMatrixSimilarity(tf_idf_model[bgw_chapter],\n",
    "                                                    num_features=len(dictionary))\n",
    "    bgw_vids = [dictionary.doc2bow(doc) for doc in vid_topics_words]\n",
    "    correlation = [[s for s in index_sim[tf_idf_model[doc]]] for doc in bgw_vids]\n",
    "    \n",
    "    \n",
    "    # find the top n words in the topic (in the video)\n",
    "    '''print('$$$$$$$$$$$$$$top words of video topic$$$$$$$$$$$$$$')\n",
    "    find_top_words_of_topic(videos_division[vid]['topic_words'])\n",
    "    print('$$$$$$$$$$$$$$top words of book chapters$$$$$$$$$$$$$$')\n",
    "    find_top_words_of_topic(book_chapters,chapter_titles=dispaly_titles)'''\n",
    "    \n",
    "    \n",
    "    \n",
    "    # normalizing the correlation between each topic and chapter \n",
    "    for i_t in range(len(correlation)):\n",
    "        sum_ = sum(correlation[i_t])\n",
    "        for ch_index in range(len(correlation[i_t])):\n",
    "            correlation[i_t][ch_index] = correlation[i_t][ch_index]/sum_\n",
    "    \n",
    "    corr_as_row = reduce(lambda x,y: x+y,correlation,[] ) # to get the global max in min\n",
    "    sns.heatmap(correlation,vmin=min(corr_as_row),vmax=max(corr_as_row))\n",
    "    plt.show()\n",
    "    \n",
    "    \n",
    "    \n",
    "    # find the cha\n",
    "    ch_matching_top = []\n",
    "    #print(len(correlation[0]))\n",
    "    for i,corr in enumerate(correlation):\n",
    "        \n",
    "        #####################################3\n",
    "        '''Consider make this code in pandas'''\n",
    "        ####################################33\n",
    "        \n",
    "        max_cor = max(corr) # max correlation with that topic\n",
    "        shift = vid_topics_shift[i]\n",
    "\n",
    "        #ch_matching_top.append(paper_mainchapter_indexes[paper_name][corr.index(max_cor)])\n",
    "        ch_matching_top.append(dispaly_titles[corr.index(max_cor)])\n",
    "        \n",
    "        print (\" video_shift index %s at %s , chapter title %s ( index %s) \" \n",
    "               %(i,\n",
    "                 sec_to_min(shift),\n",
    "                 dispaly_titles[corr.index(max_cor)],\n",
    "                 corr.index(max_cor)\n",
    "                 ))\n",
    "    return ch_matching_top\n",
    "\n",
    "def find_dominent_main_chapter(ch_tp_corr,titles):\n",
    "    \n",
    "    '''Find the frequency of each chapter'''\n",
    "    chapter_matching_counts_max = [max([ch_tp_corr.count(ch) for ch in ch_tp_corr])]\n",
    "    for max_count in chapter_matching_counts_max:\n",
    "        #print(\"####### #######\")\n",
    "        '''Find the most frequent chapter'''\n",
    "        #print(([ch for ch in ch_tp_corr if ch_tp_corr.count(ch) == max_count]))\n",
    "        dominent_chapters = list(set([ch for ch in ch_tp_corr if ch_tp_corr.count(ch) == max_count]))\n",
    "        #print(dominent_chapters)\n",
    "        \n",
    "        # if we have absulote majority on topic\n",
    "        if len(dominent_chapters) == 1:\n",
    "            return dominent_chapters[0]\n",
    "        else:\n",
    "            '''####################################################3'''\n",
    "            '''Think in the future maybe change this code ! making the decision based on something statistic else'''\n",
    "            '''####################################################3'''\n",
    "            # draw between topics, decide which one by taking this with the high variance\n",
    "            index_winner = 0\n",
    "            df_ch_corr =   pd.DataFrame.from_records(ch_tp_corr)\n",
    "            for j_dom in range(len(dominent_chapters)):\n",
    "                first = df_ch_corr.var()[titles.index(dominent_chapters[index_winner])]\n",
    "                #print(first)\n",
    "                second = df_ch_corr.var()[titles.index(dominent_chapters[j_dom])]\n",
    "                #print(second)\n",
    "                if first < second:\n",
    "                    index_winner = j_dom\n",
    "            return (dominent_chapters[index_winner])\n",
    "        \n",
    "        \n",
    "def sec_to_min(seconds):\n",
    "    if seconds == 'end':\n",
    "        return 'end'\n",
    "    return (\"%02d:%02d\"%(seconds//60,seconds%60))"
   ]
  },
  {
   "cell_type": "code",
   "execution_count": 26,
   "metadata": {},
   "outputs": [
    {
     "name": "stdout",
     "output_type": "stream",
     "text": [
      "################ 7kLHJ-F33GI ################\n"
     ]
    },
    {
     "data": {
      "image/png": "[encoded data removed]",
      "text/plain": [
       "<Figure size 432x288 with 2 Axes>"
      ]
     },
     "metadata": {
      "needs_background": "light"
     },
     "output_type": "display_data"
    },
    {
     "name": "stdout",
     "output_type": "stream",
     "text": [
      " video_shift index 0 at 02:26 , chapter title Random Variables and Distribution Functions ( index 6) \n",
      " video_shift index 1 at 05:18 , chapter title Maximum Likelihood Estimation ( index 14) \n",
      " video_shift index 2 at 08:55 , chapter title Random Variables and Distribution Functions ( index 6) \n",
      " video_shift index 3 at 11:56 , chapter title Maximum Likelihood Estimation ( index 14) \n",
      " video_shift index 4 at 15:05 , chapter title Interval Estimation ( index 15) \n",
      " video_shift index 5 at 18:30 , chapter title Interval Estimation ( index 15) \n",
      " video_shift index 6 at 20:47 , chapter title Unbiased Estimation ( index 13) \n",
      " video_shift index 7 at 24:16 , chapter title Unbiased Estimation ( index 13) \n",
      " video_shift index 8 at 27:46 , chapter title Simple Hypotheses ( index 16) \n",
      " video_shift index 9 at 30:53 , chapter title Maximum Likelihood Estimation ( index 14) \n",
      " video_shift index 10 at 33:57 , chapter title Goodness of Fit ( index 20) \n",
      " video_shift index 11 at 37:13 , chapter title Maximum Likelihood Estimation ( index 14) \n",
      " video_shift index 12 at 40:16 , chapter title Unbiased Estimation ( index 13) \n",
      " video_shift index 13 at end , chapter title Maximum Likelihood Estimation ( index 14) \n",
      "Maximum Likelihood Estimation\n"
     ]
    },
    {
     "data": {
      "image/png": "[encoded data removed]",
      "text/plain": [
       "<Figure size 432x288 with 2 Axes>"
      ]
     },
     "metadata": {
      "needs_background": "light"
     },
     "output_type": "display_data"
    },
    {
     "name": "stdout",
     "output_type": "stream",
     "text": [
      " video_shift index 0 at 02:26 , chapter title 15.6 Multidimensional Estimation ( index 6) \n",
      " video_shift index 1 at 05:18 , chapter title 15.2 Examples ( index 2) \n",
      " video_shift index 2 at 08:55 , chapter title 15.1 ( index 1) \n",
      " video_shift index 3 at 11:56 , chapter title 15.4 Asymptotic Properties ( index 4) \n",
      " video_shift index 4 at 15:05 , chapter title 15.6 Multidimensional Estimation ( index 6) \n",
      " video_shift index 5 at 18:30 , chapter title 15.6 Multidimensional Estimation ( index 6) \n",
      " video_shift index 6 at 20:47 , chapter title 15.6 Multidimensional Estimation ( index 6) \n",
      " video_shift index 7 at 24:16 , chapter title 15.4 Asymptotic Properties ( index 4) \n",
      " video_shift index 8 at 27:46 , chapter title 15.6 Multidimensional Estimation ( index 6) \n",
      " video_shift index 9 at 30:53 , chapter title 15.6 Multidimensional Estimation ( index 6) \n",
      " video_shift index 10 at 33:57 , chapter title 15.1 ( index 1) \n",
      " video_shift index 11 at 37:13 , chapter title 15.2 Examples ( index 2) \n",
      " video_shift index 12 at 40:16 , chapter title 15.2 Examples ( index 2) \n",
      " video_shift index 13 at end , chapter title 15.5 Comparison of Estimation Procedures ( index 5) \n",
      "################ 7snJ1mx1EMQ ################\n"
     ]
    },
    {
     "data": {
      "image/png": "[encoded data removed]",
      "text/plain": [
       "<Figure size 432x288 with 2 Axes>"
      ]
     },
     "metadata": {
      "needs_background": "light"
     },
     "output_type": "display_data"
    },
    {
     "name": "stdout",
     "output_type": "stream",
     "text": [
      " video_shift index 0 at 02:48 , chapter title The Central Limit Theorem ( index 10) \n",
      " video_shift index 1 at 04:38 , chapter title Interval Estimation ( index 15) \n",
      " video_shift index 2 at 06:44 , chapter title Random Variables and Distribution Functions ( index 6) \n",
      " video_shift index 3 at 09:12 , chapter title Random Variables and Distribution Functions ( index 6) \n",
      " video_shift index 4 at 13:42 , chapter title Random Variables and Distribution Functions ( index 6) \n",
      " video_shift index 5 at 15:21 , chapter title Overview of Estimation ( index 11) \n",
      " video_shift index 6 at 17:20 , chapter title Maximum Likelihood Estimation ( index 14) \n",
      " video_shift index 7 at 18:54 , chapter title Maximum Likelihood Estimation ( index 14) \n",
      " video_shift index 8 at 21:03 , chapter title Displaying Data ( index 0) \n",
      " video_shift index 9 at 23:06 , chapter title Maximum Likelihood Estimation ( index 14) \n",
      " video_shift index 10 at 25:04 , chapter title Maximum Likelihood Estimation ( index 14) \n",
      " video_shift index 11 at 28:24 , chapter title Maximum Likelihood Estimation ( index 14) \n",
      " video_shift index 12 at 30:35 , chapter title Maximum Likelihood Estimation ( index 14) \n",
      " video_shift index 13 at 31:46 , chapter title Maximum Likelihood Estimation ( index 14) \n",
      " video_shift index 14 at 32:31 , chapter title Maximum Likelihood Estimation ( index 14) \n",
      " video_shift index 15 at end , chapter title Producing Data ( index 3) \n",
      "Maximum Likelihood Estimation\n"
     ]
    },
    {
     "data": {
      "image/png": "[encoded data removed]",
      "text/plain": [
       "<Figure size 432x288 with 2 Axes>"
      ]
     },
     "metadata": {
      "needs_background": "light"
     },
     "output_type": "display_data"
    },
    {
     "name": "stdout",
     "output_type": "stream",
     "text": [
      " video_shift index 0 at 02:48 , chapter title 15.2 Examples ( index 2) \n",
      " video_shift index 1 at 04:38 , chapter title 15.2 Examples ( index 2) \n",
      " video_shift index 2 at 06:44 , chapter title 15.10 Answers to Selected Exercises ( index 10) \n",
      " video_shift index 3 at 09:12 , chapter title 15.1 ( index 1) \n",
      " video_shift index 4 at 13:42 , chapter title 15.1 ( index 1) \n",
      " video_shift index 5 at 15:21 , chapter title 15.2 Examples ( index 2) \n",
      " video_shift index 6 at 17:20 , chapter title Maximum Likelihood Estimation ( index 0) \n",
      " video_shift index 7 at 18:54 , chapter title 15.9 Technical Aspects ( index 9) \n",
      " video_shift index 8 at 21:03 , chapter title 15.5 Comparison of Estimation Procedures ( index 5) \n",
      " video_shift index 9 at 23:06 , chapter title 15.10 Answers to Selected Exercises ( index 10) \n",
      " video_shift index 10 at 25:04 , chapter title 15.2 Examples ( index 2) \n",
      " video_shift index 11 at 28:24 , chapter title 15.6 Multidimensional Estimation ( index 6) \n",
      " video_shift index 12 at 30:35 , chapter title Maximum Likelihood Estimation ( index 0) \n",
      " video_shift index 13 at 31:46 , chapter title Maximum Likelihood Estimation ( index 0) \n",
      " video_shift index 14 at 32:31 , chapter title 15.1 ( index 1) \n",
      " video_shift index 15 at end , chapter title 15.4 Asymptotic Properties ( index 4) \n",
      "################ RIawrYLVdIw ################\n"
     ]
    },
    {
     "data": {
      "image/png": "[encoded data removed]",
      "text/plain": [
       "<Figure size 432x288 with 2 Axes>"
      ]
     },
     "metadata": {
      "needs_background": "light"
     },
     "output_type": "display_data"
    },
    {
     "name": "stdout",
     "output_type": "stream",
     "text": [
      " video_shift index 0 at 02:24 , chapter title Producing Data ( index 3) \n",
      " video_shift index 1 at 05:51 , chapter title Simple Hypotheses ( index 16) \n",
      " video_shift index 2 at 08:52 , chapter title Method of Moments ( index 12) \n",
      " video_shift index 3 at 11:44 , chapter title The Law of Large Numbers ( index 9) \n",
      " video_shift index 4 at 14:21 , chapter title Conditional Probability and Independence ( index 5) \n",
      " video_shift index 5 at 18:17 , chapter title Goodness of Fit ( index 20) \n",
      " video_shift index 6 at 24:16 , chapter title Maximum Likelihood Estimation ( index 14) \n",
      " video_shift index 7 at 28:02 , chapter title Overview of Estimation ( index 11) \n",
      " video_shift index 8 at 30:52 , chapter title Producing Data ( index 3) \n",
      " video_shift index 9 at 34:08 , chapter title Random Variables and Distribution Functions ( index 6) \n",
      " video_shift index 10 at 37:19 , chapter title Overview of Estimation ( index 11) \n",
      " video_shift index 11 at 42:04 , chapter title Overview of Estimation ( index 11) \n",
      " video_shift index 12 at 45:36 , chapter title Overview of Estimation ( index 11) \n",
      " video_shift index 13 at 48:47 , chapter title Random Variables and Distribution Functions ( index 6) \n",
      " video_shift index 14 at end , chapter title The Law of Large Numbers ( index 9) \n",
      "Overview of Estimation\n"
     ]
    },
    {
     "data": {
      "image/png": "[encoded data removed]",
      "text/plain": [
       "<Figure size 432x288 with 2 Axes>"
      ]
     },
     "metadata": {
      "needs_background": "light"
     },
     "output_type": "display_data"
    },
    {
     "name": "stdout",
     "output_type": "stream",
     "text": [
      " video_shift index 0 at 02:24 , chapter title Overview of Estimation ( index 0) \n",
      " video_shift index 1 at 05:51 , chapter title 12.3 Bayesian Statistics ( index 3) \n",
      " video_shift index 2 at 08:52 , chapter title 12.1 ( index 1) \n",
      " video_shift index 3 at 11:44 , chapter title 12.3 Bayesian Statistics ( index 3) \n",
      " video_shift index 4 at 14:21 , chapter title 12.3 Bayesian Statistics ( index 3) \n",
      " video_shift index 5 at 18:17 , chapter title 12.1 ( index 1) \n",
      " video_shift index 6 at 24:16 , chapter title 12.2 Classical Statistics ( index 2) \n",
      " video_shift index 7 at 28:02 , chapter title 12.3 Bayesian Statistics ( index 3) \n",
      " video_shift index 8 at 30:52 , chapter title 12.2 Classical Statistics ( index 2) \n",
      " video_shift index 9 at 34:08 , chapter title 12.2 Classical Statistics ( index 2) \n",
      " video_shift index 10 at 37:19 , chapter title 12.3 Bayesian Statistics ( index 3) \n",
      " video_shift index 11 at 42:04 , chapter title 12.3 Bayesian Statistics ( index 3) \n",
      " video_shift index 12 at 45:36 , chapter title 12.3 Bayesian Statistics ( index 3) \n",
      " video_shift index 13 at 48:47 , chapter title Overview of Estimation ( index 0) \n",
      " video_shift index 14 at end , chapter title 12.1 ( index 1) \n",
      "################ tORLeHHtazM ################\n"
     ]
    },
    {
     "data": {
      "image/png": "[encoded data removed]",
      "text/plain": [
       "<Figure size 432x288 with 2 Axes>"
      ]
     },
     "metadata": {
      "needs_background": "light"
     },
     "output_type": "display_data"
    },
    {
     "name": "stdout",
     "output_type": "stream",
     "text": [
      " video_shift index 0 at 04:09 , chapter title Binary Search Tree ( index 2) \n",
      " video_shift index 1 at 07:01 , chapter title AVL Tree ( index 6) \n",
      " video_shift index 2 at 08:32 , chapter title Introduction ( index 0) \n",
      " video_shift index 3 at 11:04 , chapter title Binary Search Tree ( index 2) \n",
      " video_shift index 4 at 12:27 , chapter title Binary Search Tree ( index 2) \n",
      " video_shift index 5 at 13:28 , chapter title Binary Search Tree ( index 2) \n",
      " video_shift index 6 at 14:36 , chapter title Binary Search Tree ( index 2) \n",
      " video_shift index 7 at 15:47 , chapter title Introduction ( index 0) \n",
      " video_shift index 8 at 32:09 , chapter title AVL Tree ( index 6) \n",
      " video_shift index 9 at 36:18 , chapter title Binary Search Tree ( index 2) \n",
      " video_shift index 10 at 38:54 , chapter title Binary Search Tree ( index 2) \n",
      " video_shift index 11 at 42:34 , chapter title Linked Lists ( index 1) \n",
      " video_shift index 12 at end , chapter title Binary Search Tree ( index 2) \n",
      "Binary Search Tree\n"
     ]
    },
    {
     "data": {
      "image/png": "[encoded data removed]",
      "text/plain": [
       "<Figure size 432x288 with 2 Axes>"
      ]
     },
     "metadata": {
      "needs_background": "light"
     },
     "output_type": "display_data"
    },
    {
     "name": "stdout",
     "output_type": "stream",
     "text": [
      " video_shift index 0 at 04:09 , chapter title 3.3\tDeletion ( index 3) \n",
      " video_shift index 1 at 07:01 , chapter title 3.7.4\tBreadth First ( index 11) \n",
      " video_shift index 2 at 08:32 , chapter title 3.7.2\tPostorder ( index 9) \n",
      " video_shift index 3 at 11:04 , chapter title 3.7.4\tBreadth First ( index 11) \n",
      " video_shift index 4 at 12:27 , chapter title 3.8\tSummary ( index 12) \n",
      " video_shift index 5 at 13:28 , chapter title 3.3\tDeletion ( index 3) \n",
      " video_shift index 6 at 14:36 , chapter title Binary Search Tree ( index 0) \n",
      " video_shift index 7 at 15:47 , chapter title Binary Search Tree ( index 0) \n",
      " video_shift index 8 at 32:09 , chapter title 3.3\tDeletion ( index 3) \n",
      " video_shift index 9 at 36:18 , chapter title 3.5\tAttaining a reference to a node ( index 5) \n",
      " video_shift index 10 at 38:54 , chapter title 3.4\tFinding the parent of a given node ( index 4) \n",
      " video_shift index 11 at 42:34 , chapter title 3.5\tAttaining a reference to a node ( index 5) \n",
      " video_shift index 12 at end , chapter title 3.2\tSearching ( index 2) \n",
      "################ zWg7U0OEAoE ################\n"
     ]
    },
    {
     "data": {
      "image/png": "[encoded data removed]",
      "text/plain": [
       "<Figure size 432x288 with 2 Axes>"
      ]
     },
     "metadata": {
      "needs_background": "light"
     },
     "output_type": "display_data"
    },
    {
     "name": "stdout",
     "output_type": "stream",
     "text": [
      " video_shift index 0 at 05:42 , chapter title Introduction ( index 0) \n",
      " video_shift index 1 at 08:52 , chapter title Introduction ( index 0) \n",
      " video_shift index 2 at 13:00 , chapter title Introduction ( index 0) \n",
      " video_shift index 3 at 16:05 , chapter title Introduction ( index 0) \n",
      " video_shift index 4 at 20:27 , chapter title Introduction ( index 0) \n",
      " video_shift index 5 at 23:57 , chapter title Introduction ( index 0) \n",
      " video_shift index 6 at 27:44 , chapter title Introduction ( index 0) \n",
      " video_shift index 7 at 30:56 , chapter title Introduction ( index 0) \n",
      " video_shift index 8 at 33:59 , chapter title Introduction ( index 0) \n",
      " video_shift index 9 at 37:07 , chapter title Sorting ( index 7) \n",
      " video_shift index 10 at 41:06 , chapter title Sorting ( index 7) \n",
      " video_shift index 11 at 45:39 , chapter title Introduction ( index 0) \n",
      " video_shift index 12 at 49:10 , chapter title Introduction ( index 0) \n",
      " video_shift index 13 at 53:36 , chapter title Introduction ( index 0) \n",
      " video_shift index 14 at 56:49 , chapter title Numeric ( index 8) \n",
      " video_shift index 15 at 60:55 , chapter title Introduction ( index 0) \n",
      " video_shift index 16 at 64:24 , chapter title Introduction ( index 0) \n",
      " video_shift index 17 at end , chapter title Sorting ( index 7) \n",
      "Introduction\n"
     ]
    },
    {
     "data": {
      "image/png": "[encoded data removed]",
      "text/plain": [
       "<Figure size 432x288 with 2 Axes>"
      ]
     },
     "metadata": {
      "needs_background": "light"
     },
     "output_type": "display_data"
    },
    {
     "name": "stdout",
     "output_type": "stream",
     "text": [
      " video_shift index 0 at 05:42 , chapter title 1.3\tPseudocode ( index 6) \n",
      " video_shift index 1 at 08:52 , chapter title 1.2.1\tBig Oh notation ( index 3) \n",
      " video_shift index 2 at 13:00 , chapter title 1.4\tTips for working through the examples ( index 7) \n",
      " video_shift index 3 at 16:05 , chapter title 1.3\tPseudocode ( index 6) \n",
      " video_shift index 4 at 20:27 , chapter title 1.6\tTesting ( index 9) \n",
      " video_shift index 5 at 23:57 , chapter title 1.2.1\tBig Oh notation ( index 3) \n",
      " video_shift index 6 at 27:44 , chapter title 1.2.1\tBig Oh notation ( index 3) \n",
      " video_shift index 7 at 30:56 , chapter title 1.2.2\tImperative programming language ( index 4) \n",
      " video_shift index 8 at 33:59 , chapter title 1.2.1\tBig Oh notation ( index 3) \n",
      " video_shift index 9 at 37:07 , chapter title 1.2.1\tBig Oh notation ( index 3) \n",
      " video_shift index 10 at 41:06 , chapter title 1.6\tTesting ( index 9) \n",
      " video_shift index 11 at 45:39 , chapter title 1.4\tTips for working through the examples ( index 7) \n",
      " video_shift index 12 at 49:10 , chapter title 1.6\tTesting ( index 9) \n",
      " video_shift index 13 at 53:36 , chapter title 1.4\tTips for working through the examples ( index 7) \n",
      " video_shift index 14 at 56:49 , chapter title 1.2.1\tBig Oh notation ( index 3) \n",
      " video_shift index 15 at 60:55 , chapter title 1.6\tTesting ( index 9) \n",
      " video_shift index 16 at 64:24 , chapter title 1.2.2\tImperative programming language ( index 4) \n",
      " video_shift index 17 at end , chapter title 1.6\tTesting ( index 9) \n"
     ]
    }
   ],
   "source": [
    "chapters_matching_topics = {}\n",
    "for vid in videos_ids:\n",
    "    print('################ %s ################' % (vid))\n",
    "    paper_name = video_to_paper[vid]\n",
    "    '''Finding the correlation between topic and main chapters'''\n",
    "    main_matching_topic = get_topic_chapter_corr_tfidf(paper_name,\n",
    "                                 paper_mains_as_one_doc[paper_name],\n",
    "                                 videos_division[vid]['topic_words'],\n",
    "                                 videos_division[vid]['topic_shift'],\n",
    "                                 paper_content[paper_name]['main titles'])\n",
    "    #print(main_matching_topic)\n",
    "    '''Searching for the dominent main chapter '''\n",
    "    '''titlesIndex = find_dominent_main_chapter(main_matching_topic,paper_content[paper_name]['main titles'])\n",
    "    dominet_chapter = paper_content[paper_name]['titles'][titlesIndex]'''\n",
    "    \n",
    "    dominet_chapter =  find_dominent_main_chapter(main_matching_topic,paper_content[paper_name]['main titles'])\n",
    "    \n",
    "    print(dominet_chapter)\n",
    "    \n",
    "    '''Searching for each topic the most correlated \n",
    "       subsection to a topic within the dominent main chapter '''\n",
    "    dom_main_cha_index = paper_content[paper_name]['main titles'].index(dominet_chapter)\n",
    "    dom_subsec_text = [paper_subsec_as_one_doc[paper_name][s_i] for s_i in\n",
    "                      paper_sec_within_main_indexes[paper_name][dom_main_cha_index]]\n",
    "    dom_subsec_titles = [paper_content[paper_name]['titles'][tl]\n",
    "                         for tl in paper_sec_within_main_indexes[paper_name][dom_main_cha_index]]\n",
    "    \n",
    "    subsec_matching_topic = get_topic_chapter_corr_tfidf(paper_name,\n",
    "                                 dom_subsec_text,\n",
    "                                 videos_division[vid]['topic_words'],\n",
    "                                 videos_division[vid]['topic_shift'],\n",
    "                                 dom_subsec_titles\n",
    "                                    )\n",
    "    \n",
    "    "
   ]
  },
  {
   "cell_type": "code",
   "execution_count": null,
   "metadata": {},
   "outputs": [],
   "source": []
  }
 ],
 "metadata": {
  "kernelspec": {
   "display_name": "Python 3",
   "language": "python",
   "name": "python3"
  },
  "language_info": {
   "codemirror_mode": {
    "name": "ipython",
    "version": 3
   },
   "file_extension": ".py",
   "mimetype": "text/x-python",
   "name": "python",
   "nbconvert_exporter": "python",
   "pygments_lexer": "ipython3",
   "version": "3.7.4"
  }
 },
 "nbformat": 4,
 "nbformat_minor": 2
}
