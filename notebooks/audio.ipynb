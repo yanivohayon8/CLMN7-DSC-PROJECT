{
 "cells": [
  {
   "cell_type": "code",
   "execution_count": 1,
   "metadata": {},
   "outputs": [],
   "source": [
    "from pydub import AudioSegment\n",
    "from pydub.silence import split_on_silence\n",
    "import csv\n",
    "\n",
    "def db_to_float(db, using_amplitude=True):\n",
    "    \"\"\"\n",
    "    Converts the input db to a float, which represents the equivalent\n",
    "    ratio in power.\n",
    "    \"\"\"\n",
    "    db = float(db)\n",
    "    if using_amplitude:\n",
    "        return 10 ** (db / 20)\n",
    "    else:  # using power\n",
    "        return 10 ** (db / 10)\n",
    "\n",
    "# returns the silent ranges who's length is longer than the average \n",
    "# silent range in the audio file.\n",
    "def getSubjSilentRanges(wavFilePath , silence_threshold):\n",
    "    SLICE_LEN=0\n",
    "    STEP_SIZE=0\n",
    "    silence_thresh=0\n",
    "    \n",
    "    with open('silence_detection_parameters.csv') as csv_file:\n",
    "        csv_reader = csv.reader(csv_file, delimiter=',')\n",
    "        line_count = 0\n",
    "        SLICE_LEN = int(next(csv_reader)[0].split(':')[1])\n",
    "        STEP_SIZE = int(next(csv_reader)[0].split(':')[1])\n",
    "        silence_threshold = int(next(csv_reader)[0].split(':')[1])\n",
    "\n",
    "    \n",
    "    switchPoints = []\n",
    "    audio = AudioSegment.from_wav(wavFilePath)\n",
    "    audio_len = len(audio) # result is in ms\n",
    "\n",
    "    #SLICE_LEN = 1000 # ms   --- slice the audio to secondes\n",
    "    #STEP_SIZE = 100 # ms   --- step of window lookig for silence\n",
    "\n",
    "    # find silence and add start and end indicies to the to_cut list\n",
    "    silence_starts = []\n",
    "\n",
    "    last_slice_start_point = audio_len - SLICE_LEN\n",
    "    slice_start_points = range(0, last_slice_start_point + 1,STEP_SIZE)\n",
    "\n",
    "    #silence_thresh = silence_threshold # silence threshold\n",
    "\n",
    "    # convert silence threshold to a float value (so we can compare it to rms)\n",
    "    silence_thresh = db_to_float(silence_threshold) * audio.max_possible_amplitude\n",
    "\n",
    "    for i in slice_start_points:\n",
    "        audio_slice = audio[i:i + SLICE_LEN]\n",
    "        #print(audio_slice.rms)\n",
    "        if audio_slice.rms <= silence_thresh:\n",
    "            silence_starts.append(i)\n",
    "    \n",
    "    # combine the silence we detected into ranges (start ms - end ms)\n",
    "    silent_ranges = []\n",
    "\n",
    "    prev_i = silence_starts.pop(0)\n",
    "    current_range_start = prev_i\n",
    "\n",
    "    for silence_start_i in silence_starts:\n",
    "        continuous = (silence_start_i == prev_i + 1)\n",
    "\n",
    "        # sometimes two small blips are enough for one particular slice to be\n",
    "        # non-silent, despite the silence all running together. Just combine\n",
    "        # the two overlapping silent ranges.\n",
    "        silence_has_gap = silence_start_i > (prev_i + SLICE_LEN)\n",
    "\n",
    "        if not continuous and silence_has_gap:\n",
    "            silent_ranges.append([current_range_start,prev_i + SLICE_LEN])\n",
    "            current_range_start = silence_start_i\n",
    "        prev_i = silence_start_i\n",
    "\n",
    "    silent_ranges.append([current_range_start,prev_i + SLICE_LEN])\n",
    "\n",
    "    silence_ranges_len = list(map(lambda silence_range : silence_range[1]-silence_range[0] ,silent_ranges))\n",
    "\n",
    "    avg_silence_time = sum(list(silence_ranges_len))/len(list(silence_ranges_len))\n",
    "\n",
    "    subject_switch_silent_ranges=[]\n",
    "\n",
    "    for idx,silence_range in enumerate(silence_ranges_len):\n",
    "        if silence_range > avg_silence_time:\n",
    "            subject_switch_silent_ranges.append(silent_ranges[idx])\n",
    "    \n",
    "    \n",
    "    with open('./../models/audio_optimization/results_'+str(SLICE_LEN) + '_' + str(STEP_SIZE) + '_' + str(silence_threshold) + '.csv', 'w', newline='') as csvfile:\n",
    "        writer = csv.writer(csvfile, delimiter=',',\n",
    "                                quotechar='|', quoting=csv.QUOTE_MINIMAL)\n",
    "        header=['num','start_time','end_time']\n",
    "        writer = csv.DictWriter(csvfile, fieldnames=header)\n",
    "        writer.writeheader()\n",
    "        \n",
    "        for idx,silence_range in enumerate(subject_switch_silent_ranges):\n",
    "            writer.writerow({'num': str(idx+1), 'start_time': str(silence_range[0]) , 'end_time': str(silence_range[1])})\n",
    "    \n",
    "        \n",
    "    return subject_switch_silent_ranges\n",
    "    "
   ]
  },
  {
   "cell_type": "code",
   "execution_count": 2,
   "metadata": {
    "scrolled": false
   },
   "outputs": [
    {
     "name": "stdout",
     "output_type": "stream",
     "text": [
      "Collecting youtube-dl\n",
      "  Downloading youtube_dl-2020.5.3-py2.py3-none-any.whl (1.8 MB)\n",
      "Installing collected packages: youtube-dl\n",
      "  Attempting uninstall: youtube-dl\n",
      "    Found existing installation: youtube-dl 2020.3.24\n",
      "    Uninstalling youtube-dl-2020.3.24:\n",
      "      Successfully uninstalled youtube-dl-2020.3.24\n",
      "Successfully installed youtube-dl-2020.5.3\n",
      "Requirement already up-to-date: pygame in c:\\users\\ruti kevesh\\anaconda3\\lib\\site-packages (1.9.6)\n",
      "Requirement already up-to-date: pydub in c:\\users\\ruti kevesh\\anaconda3\\lib\\site-packages (0.23.1)\n",
      "Requirement already up-to-date: ffprobe in c:\\users\\ruti kevesh\\anaconda3\\lib\\site-packages (0.5)\n",
      "Requirement already up-to-date: ffmpeg in c:\\users\\ruti kevesh\\anaconda3\\lib\\site-packages (1.4)\n"
     ]
    }
   ],
   "source": [
    "# Test \n",
    "\n",
    "# Download audio from youtube\n",
    "from __future__ import unicode_literals\n",
    "\n",
    "!pip install --upgrade youtube-dl\n",
    "!pip install --upgrade pygame\n",
    "!pip install --upgrade pydub\n",
    "!pip install --upgrade ffprobe\n",
    "!pip install --upgrade ffmpeg"
   ]
  },
  {
   "cell_type": "code",
   "execution_count": 3,
   "metadata": {},
   "outputs": [
    {
     "name": "stdout",
     "output_type": "stream",
     "text": [
      "[youtube] MkiUBJcgdUY: Downloading webpage\n",
      "[download] Destination: Mod-01 Lec-01 Foundation of Scientific Computing-01-MkiUBJcgdUY.m4a\n",
      "[download] 100% of 59.32MiB in 00:17                   \n",
      "[ffmpeg] Correcting container in \"Mod-01 Lec-01 Foundation of Scientific Computing-01-MkiUBJcgdUY.m4a\"\n",
      "[ffmpeg] Destination: Mod-01 Lec-01 Foundation of Scientific Computing-01-MkiUBJcgdUY.wav\n",
      "Deleting original file Mod-01 Lec-01 Foundation of Scientific Computing-01-MkiUBJcgdUY.m4a (pass -k to keep)\n"
     ]
    }
   ],
   "source": [
    "import youtube_dl\n",
    "\n",
    "ydl_opts = {\n",
    "    'format': 'bestaudio/best',\n",
    "    'postprocessors': [{\n",
    "        'key': 'FFmpegExtractAudio',\n",
    "        'preferredcodec': 'wav',\n",
    "        'preferredquality': '192',\n",
    "    }],\n",
    "}\n",
    "\n",
    "with youtube_dl.YoutubeDL(ydl_opts) as ydl:\n",
    "    ydl.download(['https://www.youtube.com/watch?v=MkiUBJcgdUY'])\n",
    "    "
   ]
  },
  {
   "cell_type": "code",
   "execution_count": 4,
   "metadata": {
    "scrolled": true
   },
   "outputs": [
    {
     "ename": "FileNotFoundError",
     "evalue": "[Errno 2] No such file or directory: 'Introduction to Number Theory-SCvtxjpVQms.wav'",
     "output_type": "error",
     "traceback": [
      "\u001b[1;31m---------------------------------------------------------------------------\u001b[0m",
      "\u001b[1;31mFileNotFoundError\u001b[0m                         Traceback (most recent call last)",
      "\u001b[1;32m<ipython-input-4-f23314f8a6bb>\u001b[0m in \u001b[0;36m<module>\u001b[1;34m\u001b[0m\n\u001b[0;32m      3\u001b[0m \u001b[1;33m\u001b[0m\u001b[0m\n\u001b[0;32m      4\u001b[0m \u001b[1;31m# run the algorithm and receive the silence ranges\u001b[0m\u001b[1;33m\u001b[0m\u001b[1;33m\u001b[0m\u001b[1;33m\u001b[0m\u001b[0m\n\u001b[1;32m----> 5\u001b[1;33m \u001b[0msilent_ranges\u001b[0m \u001b[1;33m=\u001b[0m \u001b[0mgetSubjSilentRanges\u001b[0m\u001b[1;33m(\u001b[0m\u001b[1;34m\"Introduction to Number Theory-SCvtxjpVQms.wav\"\u001b[0m\u001b[1;33m,\u001b[0m\u001b[1;36m0\u001b[0m\u001b[1;33m)\u001b[0m\u001b[1;33m\u001b[0m\u001b[1;33m\u001b[0m\u001b[0m\n\u001b[0m\u001b[0;32m      6\u001b[0m \u001b[1;33m\u001b[0m\u001b[0m\n\u001b[0;32m      7\u001b[0m \u001b[1;31m# get the length of each silent part\u001b[0m\u001b[1;33m\u001b[0m\u001b[1;33m\u001b[0m\u001b[1;33m\u001b[0m\u001b[0m\n",
      "\u001b[1;32m<ipython-input-1-cb991775710d>\u001b[0m in \u001b[0;36mgetSubjSilentRanges\u001b[1;34m(wavFilePath, silence_threshold)\u001b[0m\n\u001b[0;32m     30\u001b[0m \u001b[1;33m\u001b[0m\u001b[0m\n\u001b[0;32m     31\u001b[0m     \u001b[0mswitchPoints\u001b[0m \u001b[1;33m=\u001b[0m \u001b[1;33m[\u001b[0m\u001b[1;33m]\u001b[0m\u001b[1;33m\u001b[0m\u001b[1;33m\u001b[0m\u001b[0m\n\u001b[1;32m---> 32\u001b[1;33m     \u001b[0maudio\u001b[0m \u001b[1;33m=\u001b[0m \u001b[0mAudioSegment\u001b[0m\u001b[1;33m.\u001b[0m\u001b[0mfrom_wav\u001b[0m\u001b[1;33m(\u001b[0m\u001b[0mwavFilePath\u001b[0m\u001b[1;33m)\u001b[0m\u001b[1;33m\u001b[0m\u001b[1;33m\u001b[0m\u001b[0m\n\u001b[0m\u001b[0;32m     33\u001b[0m     \u001b[0maudio_len\u001b[0m \u001b[1;33m=\u001b[0m \u001b[0mlen\u001b[0m\u001b[1;33m(\u001b[0m\u001b[0maudio\u001b[0m\u001b[1;33m)\u001b[0m \u001b[1;31m# result is in ms\u001b[0m\u001b[1;33m\u001b[0m\u001b[1;33m\u001b[0m\u001b[0m\n\u001b[0;32m     34\u001b[0m \u001b[1;33m\u001b[0m\u001b[0m\n",
      "\u001b[1;32m~\\anaconda3\\lib\\site-packages\\pydub\\audio_segment.py\u001b[0m in \u001b[0;36mfrom_wav\u001b[1;34m(cls, file, parameters)\u001b[0m\n\u001b[0;32m    726\u001b[0m     \u001b[1;33m@\u001b[0m\u001b[0mclassmethod\u001b[0m\u001b[1;33m\u001b[0m\u001b[1;33m\u001b[0m\u001b[0m\n\u001b[0;32m    727\u001b[0m     \u001b[1;32mdef\u001b[0m \u001b[0mfrom_wav\u001b[0m\u001b[1;33m(\u001b[0m\u001b[0mcls\u001b[0m\u001b[1;33m,\u001b[0m \u001b[0mfile\u001b[0m\u001b[1;33m,\u001b[0m \u001b[0mparameters\u001b[0m\u001b[1;33m=\u001b[0m\u001b[1;32mNone\u001b[0m\u001b[1;33m)\u001b[0m\u001b[1;33m:\u001b[0m\u001b[1;33m\u001b[0m\u001b[1;33m\u001b[0m\u001b[0m\n\u001b[1;32m--> 728\u001b[1;33m         \u001b[1;32mreturn\u001b[0m \u001b[0mcls\u001b[0m\u001b[1;33m.\u001b[0m\u001b[0mfrom_file\u001b[0m\u001b[1;33m(\u001b[0m\u001b[0mfile\u001b[0m\u001b[1;33m,\u001b[0m \u001b[1;34m'wav'\u001b[0m\u001b[1;33m,\u001b[0m \u001b[0mparameters\u001b[0m\u001b[1;33m=\u001b[0m\u001b[0mparameters\u001b[0m\u001b[1;33m)\u001b[0m\u001b[1;33m\u001b[0m\u001b[1;33m\u001b[0m\u001b[0m\n\u001b[0m\u001b[0;32m    729\u001b[0m \u001b[1;33m\u001b[0m\u001b[0m\n\u001b[0;32m    730\u001b[0m     \u001b[1;33m@\u001b[0m\u001b[0mclassmethod\u001b[0m\u001b[1;33m\u001b[0m\u001b[1;33m\u001b[0m\u001b[0m\n",
      "\u001b[1;32m~\\anaconda3\\lib\\site-packages\\pydub\\audio_segment.py\u001b[0m in \u001b[0;36mfrom_file\u001b[1;34m(cls, file, format, codec, parameters, **kwargs)\u001b[0m\n\u001b[0;32m    608\u001b[0m         \u001b[1;32mexcept\u001b[0m \u001b[0mTypeError\u001b[0m\u001b[1;33m:\u001b[0m\u001b[1;33m\u001b[0m\u001b[1;33m\u001b[0m\u001b[0m\n\u001b[0;32m    609\u001b[0m             \u001b[0mfilename\u001b[0m \u001b[1;33m=\u001b[0m \u001b[1;32mNone\u001b[0m\u001b[1;33m\u001b[0m\u001b[1;33m\u001b[0m\u001b[0m\n\u001b[1;32m--> 610\u001b[1;33m         \u001b[0mfile\u001b[0m \u001b[1;33m=\u001b[0m \u001b[0m_fd_or_path_or_tempfile\u001b[0m\u001b[1;33m(\u001b[0m\u001b[0mfile\u001b[0m\u001b[1;33m,\u001b[0m \u001b[1;34m'rb'\u001b[0m\u001b[1;33m,\u001b[0m \u001b[0mtempfile\u001b[0m\u001b[1;33m=\u001b[0m\u001b[1;32mFalse\u001b[0m\u001b[1;33m)\u001b[0m\u001b[1;33m\u001b[0m\u001b[1;33m\u001b[0m\u001b[0m\n\u001b[0m\u001b[0;32m    611\u001b[0m \u001b[1;33m\u001b[0m\u001b[0m\n\u001b[0;32m    612\u001b[0m         \u001b[1;32mif\u001b[0m \u001b[0mformat\u001b[0m\u001b[1;33m:\u001b[0m\u001b[1;33m\u001b[0m\u001b[1;33m\u001b[0m\u001b[0m\n",
      "\u001b[1;32m~\\anaconda3\\lib\\site-packages\\pydub\\utils.py\u001b[0m in \u001b[0;36m_fd_or_path_or_tempfile\u001b[1;34m(fd, mode, tempfile)\u001b[0m\n\u001b[0;32m     55\u001b[0m \u001b[1;33m\u001b[0m\u001b[0m\n\u001b[0;32m     56\u001b[0m     \u001b[1;32mif\u001b[0m \u001b[0misinstance\u001b[0m\u001b[1;33m(\u001b[0m\u001b[0mfd\u001b[0m\u001b[1;33m,\u001b[0m \u001b[0mbasestring\u001b[0m\u001b[1;33m)\u001b[0m\u001b[1;33m:\u001b[0m\u001b[1;33m\u001b[0m\u001b[1;33m\u001b[0m\u001b[0m\n\u001b[1;32m---> 57\u001b[1;33m         \u001b[0mfd\u001b[0m \u001b[1;33m=\u001b[0m \u001b[0mopen\u001b[0m\u001b[1;33m(\u001b[0m\u001b[0mfd\u001b[0m\u001b[1;33m,\u001b[0m \u001b[0mmode\u001b[0m\u001b[1;33m=\u001b[0m\u001b[0mmode\u001b[0m\u001b[1;33m)\u001b[0m\u001b[1;33m\u001b[0m\u001b[1;33m\u001b[0m\u001b[0m\n\u001b[0m\u001b[0;32m     58\u001b[0m \u001b[1;33m\u001b[0m\u001b[0m\n\u001b[0;32m     59\u001b[0m     \u001b[1;32mtry\u001b[0m\u001b[1;33m:\u001b[0m\u001b[1;33m\u001b[0m\u001b[1;33m\u001b[0m\u001b[0m\n",
      "\u001b[1;31mFileNotFoundError\u001b[0m: [Errno 2] No such file or directory: 'Introduction to Number Theory-SCvtxjpVQms.wav'"
     ]
    }
   ],
   "source": [
    "import time\n",
    "start_time = time.time()\n",
    "\n",
    "# run the algorithm and receive the silence ranges\n",
    "silent_ranges = getSubjSilentRanges(\"Introduction to Number Theory-SCvtxjpVQms.wav\",0)\n",
    "\n",
    "# get the length of each silent part\n",
    "silence_ranges_len = list(map(lambda silence_range : silence_range[1]-silence_range[0] ,silent_ranges))\n",
    "\n",
    "\n",
    "print(\"the silent range are (ms): \")\n",
    "print(silent_ranges)\n",
    "print(\"the silent range's lengths are (ms):\")\n",
    "print(silence_ranges_len)\n",
    "print(\"amount of silent parts: \" + str(len(silence_ranges_len)))\n",
    "\n",
    "# print the run time in seconds\n",
    "print(\"--- %s seconds ---\" % (time.time() - start_time))"
   ]
  },
  {
   "cell_type": "code",
   "execution_count": null,
   "metadata": {},
   "outputs": [],
   "source": [
    "# plot the ranges\n",
    "\n",
    "import matplotlib.pyplot as plt\n",
    "\n",
    "n, bins, patches = plt.hist(x=silence_ranges_len, bins='auto', color='#0504aa',\n",
    "                            alpha=0.7, rwidth=0.85)\n",
    "plt.grid(axis='y', alpha=0.75)\n",
    "plt.xlabel('ms')\n",
    "plt.ylabel('count')\n",
    "plt.title('My Very Own Histogram')\n",
    "plt.text(23, 45, r'$\\mu=15, b=3$')\n",
    "maxfreq = n.max()\n",
    "# Set a clean upper y-axis limit.\n",
    "plt.ylim(ymax=np.ceil(maxfreq / 10) * 10 if maxfreq % 10 else maxfreq + 10)"
   ]
  },
  {
   "cell_type": "code",
   "execution_count": null,
   "metadata": {},
   "outputs": [],
   "source": []
  }
 ],
 "metadata": {
  "kernelspec": {
   "display_name": "Python 3",
   "language": "python",
   "name": "python3"
  },
  "language_info": {
   "codemirror_mode": {
    "name": "ipython",
    "version": 3
   },
   "file_extension": ".py",
   "mimetype": "text/x-python",
   "name": "python",
   "nbconvert_exporter": "python",
   "pygments_lexer": "ipython3",
   "version": "3.7.6"
  }
 },
 "nbformat": 4,
 "nbformat_minor": 4
}
