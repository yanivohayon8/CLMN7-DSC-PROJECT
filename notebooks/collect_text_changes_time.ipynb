{
 "cells": [
  {
   "cell_type": "code",
   "execution_count": 8,
   "metadata": {},
   "outputs": [],
   "source": [
    "import cv2\n",
    "import os\n",
    "import glob\n",
    "from pytube import YouTube\n",
    "#pip install fuzzywuzzy\n",
    "from fuzzywuzzy import fuzz\n",
    "import pytesseract\n",
    "\n",
    "curr_url = \"https://www.youtube.com/watch?v=VO5vKowfMOQ&t=7s\""
   ]
  },
  {
   "cell_type": "code",
   "execution_count": 9,
   "metadata": {},
   "outputs": [],
   "source": [
    "def extract_images_from_video(video, target_path, frequency=15, name=\"file\", max_images=20, silent=False):  \n",
    "    vidcap = cv2.VideoCapture(video)\n",
    "    frame_count = 0\n",
    "    time_sec = 0\n",
    "    num_images = 0\n",
    "    folder = target_path\n",
    "    label = 0\n",
    "    success = True\n",
    "    fps = int(vidcap.get(cv2.CAP_PROP_FPS))\n",
    "\n",
    "    list = []\n",
    "    success, image = vidcap.read()\n",
    "    while success and num_images < max_images:\n",
    "        num_images += 1\n",
    "        label += 1\n",
    "        file_name = name + \"_\" + str(num_images) + \".jpg\"\n",
    "        list.append((file_name,time_sec))\n",
    "        path = os.path.join(folder, file_name)\n",
    "        print(path)\n",
    "        cv2.imwrite(path, image)\n",
    "        if cv2.imread(path) is None:\n",
    "            os.remove(path)\n",
    "        else:\n",
    "            if not silent:\n",
    "                print(f'Image successfully written at {path}')\n",
    "        frame_count += frequency * fps #skips secends\n",
    "        time_sec += frequency\n",
    "        vidcap.set(1, frame_count)\n",
    "        success, image = vidcap.read()\n",
    "    return (list);"
   ]
  },
  {
   "cell_type": "code",
   "execution_count": 10,
   "metadata": {},
   "outputs": [],
   "source": [
    "import pytesseract\n",
    "# download from here https://github.com/UB-Mannheim/tesseract/wiki\n",
    "pytesseract.pytesseract.tesseract_cmd = r\"C:\\Program Files\\Tesseract-OCR\\tesseract.exe\""
   ]
  },
  {
   "cell_type": "code",
   "execution_count": 11,
   "metadata": {},
   "outputs": [],
   "source": [
    "def extract_time_titles_changed(listi,change_threshold):\n",
    "    wantedTimes=[]\n",
    "    index = 0\n",
    "    (file_name,time) = listi[index]\n",
    "    img = cv2.imread(file_name)\n",
    "    last_text = pytesseract.image_to_string(img)\n",
    "    index += 1\n",
    "    while index < len(listi):\n",
    "        (file_name,time) = listi[index]\n",
    "        img = cv2.imread(file_name)\n",
    "        text = pytesseract.image_to_string(img)\n",
    "        if text:\n",
    "            # compare similarity between the last text and the new one\n",
    "            if fuzz.ratio(text.lower(),last_text.lower()) > change_threshold:\n",
    "                wantedTimes.append(time)\n",
    "            \n",
    "        index+=1\n",
    "        last_text = text\n",
    "    return wantedTimes"
   ]
  },
  {
   "cell_type": "code",
   "execution_count": 7,
   "metadata": {},
   "outputs": [],
   "source": [
    "def get_time_titles_changed_with_downlode(video_url, target_path, wanted_frequency, fileName ):\n",
    "    print(video_url)\n",
    "    youtube = YouTube(video_url)\n",
    "    # download youtube video\n",
    "    \n",
    "    youtube.streams.first().download(target_path,filename=fileName)\n",
    "    arr = []\n",
    "    #videoPath = \"C:/Users/Sarit/Desktop/final_proj/The Apriori algorithm.mp4\"\n",
    "    wanted_file_path=target_path+'/'+fileName+'.mp4'\n",
    "    print(wanted_file_path)\n",
    "    arr = extract_images_from_video(wanted_file_path,target_path, frequency=wanted_frequency, name=\"The Apriori algorithm.mp4\", max_images=1500, silent=False)\n",
    "    print(extract_time_titles_changed(arr))\n"
   ]
  },
  {
   "cell_type": "code",
   "execution_count": 5,
   "metadata": {},
   "outputs": [],
   "source": [
    "def get_time_titles_changed(video_path, wanted_frequency, change_threshold):\n",
    "    target_path = os.getcwd();\n",
    "    print(target_path)\n",
    "    video_name=video_path.rsplit('/',1)[1] # take from right the first / to get the name\n",
    "    print(video_name)\n",
    "\n",
    "    images = extract_images_from_video(video_path, target_path, frequency = wanted_frequency, name=video_name, max_images=1500, silent=True)\n",
    "    return extract_time_titles_changed(images, change_threshold)\n"
   ]
  },
  {
   "cell_type": "code",
   "execution_count": null,
   "metadata": {
    "scrolled": true
   },
   "outputs": [],
   "source": [
    "#get_time_titles_changed_with_downlode('https://www.youtube.com/watch?v=2mC1uqwEmWQ','C:/Users/sarit/Desktop/final_proj',30,'The Apriori algorithm')"
   ]
  },
  {
   "cell_type": "code",
   "execution_count": 6,
   "metadata": {},
   "outputs": [
    {
     "ename": "NameError",
     "evalue": "name 'os' is not defined",
     "output_type": "error",
     "traceback": [
      "\u001b[1;31m---------------------------------------------------------------------------\u001b[0m",
      "\u001b[1;31mNameError\u001b[0m                                 Traceback (most recent call last)",
      "\u001b[1;32m<ipython-input-6-557bbec9215a>\u001b[0m in \u001b[0;36m<module>\u001b[1;34m\u001b[0m\n\u001b[1;32m----> 1\u001b[1;33m \u001b[0mget_time_titles_changed\u001b[0m\u001b[1;33m(\u001b[0m\u001b[1;34m'C:/Users/sarit/Desktop/final_proj/The Apriori algorithm.mp4'\u001b[0m\u001b[1;33m,\u001b[0m \u001b[0mwanted_frequency\u001b[0m\u001b[1;33m=\u001b[0m\u001b[1;36m30\u001b[0m\u001b[1;33m,\u001b[0m \u001b[0mchange_threshold\u001b[0m\u001b[1;33m=\u001b[0m\u001b[1;36m75\u001b[0m\u001b[1;33m)\u001b[0m\u001b[1;33m\u001b[0m\u001b[1;33m\u001b[0m\u001b[0m\n\u001b[0m",
      "\u001b[1;32m<ipython-input-5-867c38c40b56>\u001b[0m in \u001b[0;36mget_time_titles_changed\u001b[1;34m(video_path, wanted_frequency, change_threshold)\u001b[0m\n\u001b[0;32m      1\u001b[0m \u001b[1;32mdef\u001b[0m \u001b[0mget_time_titles_changed\u001b[0m\u001b[1;33m(\u001b[0m\u001b[0mvideo_path\u001b[0m\u001b[1;33m,\u001b[0m \u001b[0mwanted_frequency\u001b[0m\u001b[1;33m,\u001b[0m \u001b[0mchange_threshold\u001b[0m\u001b[1;33m)\u001b[0m\u001b[1;33m:\u001b[0m\u001b[1;33m\u001b[0m\u001b[1;33m\u001b[0m\u001b[0m\n\u001b[1;32m----> 2\u001b[1;33m     \u001b[0mtarget_path\u001b[0m \u001b[1;33m=\u001b[0m \u001b[0mos\u001b[0m\u001b[1;33m.\u001b[0m\u001b[0mgetcwd\u001b[0m\u001b[1;33m(\u001b[0m\u001b[1;33m)\u001b[0m\u001b[1;33m;\u001b[0m\u001b[1;33m\u001b[0m\u001b[1;33m\u001b[0m\u001b[0m\n\u001b[0m\u001b[0;32m      3\u001b[0m     \u001b[0mprint\u001b[0m\u001b[1;33m(\u001b[0m\u001b[0mtarget_path\u001b[0m\u001b[1;33m)\u001b[0m\u001b[1;33m\u001b[0m\u001b[1;33m\u001b[0m\u001b[0m\n\u001b[0;32m      4\u001b[0m     \u001b[0mvideo_name\u001b[0m\u001b[1;33m=\u001b[0m\u001b[0mvideo_path\u001b[0m\u001b[1;33m.\u001b[0m\u001b[0mrsplit\u001b[0m\u001b[1;33m(\u001b[0m\u001b[1;34m'/'\u001b[0m\u001b[1;33m,\u001b[0m\u001b[1;36m1\u001b[0m\u001b[1;33m)\u001b[0m\u001b[1;33m[\u001b[0m\u001b[1;36m1\u001b[0m\u001b[1;33m]\u001b[0m \u001b[1;31m# take from right the first / to get the name\u001b[0m\u001b[1;33m\u001b[0m\u001b[1;33m\u001b[0m\u001b[0m\n\u001b[0;32m      5\u001b[0m     \u001b[0mprint\u001b[0m\u001b[1;33m(\u001b[0m\u001b[0mvideo_name\u001b[0m\u001b[1;33m)\u001b[0m\u001b[1;33m\u001b[0m\u001b[1;33m\u001b[0m\u001b[0m\n",
      "\u001b[1;31mNameError\u001b[0m: name 'os' is not defined"
     ]
    }
   ],
   "source": [
    "get_time_titles_changed('C:/Users/sarit/Desktop/final_proj/The Apriori algorithm.mp4', wanted_frequency=30, change_threshold=75)"
   ]
  },
  {
   "cell_type": "code",
   "execution_count": null,
   "metadata": {},
   "outputs": [],
   "source": []
  }
 ],
 "metadata": {
  "kernelspec": {
   "display_name": "Python 3",
   "language": "python",
   "name": "python3"
  },
  "language_info": {
   "codemirror_mode": {
    "name": "ipython",
    "version": 3
   },
   "file_extension": ".py",
   "mimetype": "text/x-python",
   "name": "python",
   "nbconvert_exporter": "python",
   "pygments_lexer": "ipython3",
   "version": "3.7.6"
  }
 },
 "nbformat": 4,
 "nbformat_minor": 2
}
