{
 "cells": [
  {
   "cell_type": "code",
   "execution_count": 1,
   "metadata": {},
   "outputs": [],
   "source": [
    "import pandas as pd\n",
    "import glob"
   ]
  },
  {
   "cell_type": "code",
   "execution_count": 2,
   "metadata": {},
   "outputs": [],
   "source": [
    "experiments_path = '../data/processed/bayesian_opt'\n",
    "csv_files = glob.glob(experiments_path + '/**/*.csv',recursive=True)"
   ]
  },
  {
   "cell_type": "code",
   "execution_count": 3,
   "metadata": {},
   "outputs": [],
   "source": [
    "dfs = [pd.read_csv(csv) for csv in csv_files]"
   ]
  },
  {
   "cell_type": "code",
   "execution_count": 4,
   "metadata": {},
   "outputs": [],
   "source": [
    "all_dfs = pd.concat(dfs)"
   ]
  },
  {
   "cell_type": "code",
   "execution_count": 5,
   "metadata": {},
   "outputs": [
    {
     "data": {
      "text/html": [
       "<div>\n",
       "<style scoped>\n",
       "    .dataframe tbody tr th:only-of-type {\n",
       "        vertical-align: middle;\n",
       "    }\n",
       "\n",
       "    .dataframe tbody tr th {\n",
       "        vertical-align: top;\n",
       "    }\n",
       "\n",
       "    .dataframe thead th {\n",
       "        text-align: right;\n",
       "    }\n",
       "</style>\n",
       "<table border=\"1\" class=\"dataframe\">\n",
       "  <thead>\n",
       "    <tr style=\"text-align: right;\">\n",
       "      <th></th>\n",
       "      <th>Unnamed: 0</th>\n",
       "      <th>video</th>\n",
       "      <th>max_target</th>\n",
       "      <th>workflow</th>\n",
       "      <th>params</th>\n",
       "    </tr>\n",
       "  </thead>\n",
       "  <tbody>\n",
       "    <tr>\n",
       "      <td>0</td>\n",
       "      <td>0</td>\n",
       "      <td>MkiUBJcgdUY</td>\n",
       "      <td>0.222222</td>\n",
       "      <td>sliding_window-tfidf-cosine-None-spectral_clus...</td>\n",
       "      <td>{'n_clusters': 14.502132028215444, 'sim_thresh...</td>\n",
       "    </tr>\n",
       "    <tr>\n",
       "      <td>1</td>\n",
       "      <td>1</td>\n",
       "      <td>MkiUBJcgdUY</td>\n",
       "      <td>0.222222</td>\n",
       "      <td>sliding_window-tfidf-cosine-None-spectral_clus...</td>\n",
       "      <td>{'n_clusters': 12.880535344902679, 'sim_thresh...</td>\n",
       "    </tr>\n",
       "    <tr>\n",
       "      <td>2</td>\n",
       "      <td>2</td>\n",
       "      <td>MkiUBJcgdUY</td>\n",
       "      <td>0.444444</td>\n",
       "      <td>sliding_window-tfidf-cosine-None-spectral_clus...</td>\n",
       "      <td>{'n_clusters': 15.53458736722668, 'sim_thresh'...</td>\n",
       "    </tr>\n",
       "    <tr>\n",
       "      <td>3</td>\n",
       "      <td>3</td>\n",
       "      <td>MkiUBJcgdUY</td>\n",
       "      <td>0.277778</td>\n",
       "      <td>sliding_window-tfidf-cosine-None-spectral_clus...</td>\n",
       "      <td>{'n_clusters': 12.0, 'sim_thresh': 0.300000010...</td>\n",
       "    </tr>\n",
       "    <tr>\n",
       "      <td>4</td>\n",
       "      <td>4</td>\n",
       "      <td>MkiUBJcgdUY</td>\n",
       "      <td>0.222222</td>\n",
       "      <td>sliding_window-tfidf-cosine-None-spectral_clus...</td>\n",
       "      <td>{'n_clusters': 13.425649132739782, 'sim_thresh...</td>\n",
       "    </tr>\n",
       "    <tr>\n",
       "      <td>...</td>\n",
       "      <td>...</td>\n",
       "      <td>...</td>\n",
       "      <td>...</td>\n",
       "      <td>...</td>\n",
       "      <td>...</td>\n",
       "    </tr>\n",
       "    <tr>\n",
       "      <td>190</td>\n",
       "      <td>190</td>\n",
       "      <td>tORLeHHtazM</td>\n",
       "      <td>0.000000</td>\n",
       "      <td>sliding_window-tfidf-cosine-median_(3,3)-spect...</td>\n",
       "      <td>{'n_clusters': 14.502132028215444, 'sim_thresh...</td>\n",
       "    </tr>\n",
       "    <tr>\n",
       "      <td>191</td>\n",
       "      <td>191</td>\n",
       "      <td>tORLeHHtazM</td>\n",
       "      <td>0.600000</td>\n",
       "      <td>sliding_window-tfidf-cosine-median_(3,3)-spect...</td>\n",
       "      <td>{'n_clusters': 12.880535344902679, 'sim_thresh...</td>\n",
       "    </tr>\n",
       "    <tr>\n",
       "      <td>192</td>\n",
       "      <td>192</td>\n",
       "      <td>tORLeHHtazM</td>\n",
       "      <td>0.000000</td>\n",
       "      <td>sliding_window-tfidf-cosine-median_(3,3)-spect...</td>\n",
       "      <td>{'n_clusters': 12.646847099853698, 'sim_thresh...</td>\n",
       "    </tr>\n",
       "    <tr>\n",
       "      <td>193</td>\n",
       "      <td>193</td>\n",
       "      <td>tORLeHHtazM</td>\n",
       "      <td>0.000000</td>\n",
       "      <td>sliding_window-tfidf-cosine-median_(3,3)-spect...</td>\n",
       "      <td>{'n_clusters': 14.320865310852728, 'sim_thresh...</td>\n",
       "    </tr>\n",
       "    <tr>\n",
       "      <td>194</td>\n",
       "      <td>194</td>\n",
       "      <td>tORLeHHtazM</td>\n",
       "      <td>0.000000</td>\n",
       "      <td>sliding_window-tfidf-cosine-median_(3,3)-spect...</td>\n",
       "      <td>{'n_clusters': 12.793862924653098, 'sim_thresh...</td>\n",
       "    </tr>\n",
       "  </tbody>\n",
       "</table>\n",
       "<p>195 rows × 5 columns</p>\n",
       "</div>"
      ],
      "text/plain": [
       "     Unnamed: 0        video  max_target  \\\n",
       "0             0  MkiUBJcgdUY    0.222222   \n",
       "1             1  MkiUBJcgdUY    0.222222   \n",
       "2             2  MkiUBJcgdUY    0.444444   \n",
       "3             3  MkiUBJcgdUY    0.277778   \n",
       "4             4  MkiUBJcgdUY    0.222222   \n",
       "..          ...          ...         ...   \n",
       "190         190  tORLeHHtazM    0.000000   \n",
       "191         191  tORLeHHtazM    0.600000   \n",
       "192         192  tORLeHHtazM    0.000000   \n",
       "193         193  tORLeHHtazM    0.000000   \n",
       "194         194  tORLeHHtazM    0.000000   \n",
       "\n",
       "                                              workflow  \\\n",
       "0    sliding_window-tfidf-cosine-None-spectral_clus...   \n",
       "1    sliding_window-tfidf-cosine-None-spectral_clus...   \n",
       "2    sliding_window-tfidf-cosine-None-spectral_clus...   \n",
       "3    sliding_window-tfidf-cosine-None-spectral_clus...   \n",
       "4    sliding_window-tfidf-cosine-None-spectral_clus...   \n",
       "..                                                 ...   \n",
       "190  sliding_window-tfidf-cosine-median_(3,3)-spect...   \n",
       "191  sliding_window-tfidf-cosine-median_(3,3)-spect...   \n",
       "192  sliding_window-tfidf-cosine-median_(3,3)-spect...   \n",
       "193  sliding_window-tfidf-cosine-median_(3,3)-spect...   \n",
       "194  sliding_window-tfidf-cosine-median_(3,3)-spect...   \n",
       "\n",
       "                                                params  \n",
       "0    {'n_clusters': 14.502132028215444, 'sim_thresh...  \n",
       "1    {'n_clusters': 12.880535344902679, 'sim_thresh...  \n",
       "2    {'n_clusters': 15.53458736722668, 'sim_thresh'...  \n",
       "3    {'n_clusters': 12.0, 'sim_thresh': 0.300000010...  \n",
       "4    {'n_clusters': 13.425649132739782, 'sim_thresh...  \n",
       "..                                                 ...  \n",
       "190  {'n_clusters': 14.502132028215444, 'sim_thresh...  \n",
       "191  {'n_clusters': 12.880535344902679, 'sim_thresh...  \n",
       "192  {'n_clusters': 12.646847099853698, 'sim_thresh...  \n",
       "193  {'n_clusters': 14.320865310852728, 'sim_thresh...  \n",
       "194  {'n_clusters': 12.793862924653098, 'sim_thresh...  \n",
       "\n",
       "[195 rows x 5 columns]"
      ]
     },
     "execution_count": 5,
     "metadata": {},
     "output_type": "execute_result"
    }
   ],
   "source": [
    "all_dfs"
   ]
  },
  {
   "cell_type": "code",
   "execution_count": 9,
   "metadata": {},
   "outputs": [
    {
     "data": {
      "text/plain": [
       "video\n",
       "2mC1uqwEmWQ    0.666667\n",
       "8BeXwhljq2g    0.666667\n",
       "B-Xe7_mf2CY    0.388889\n",
       "BiLJmhQMbVg    0.450000\n",
       "MkiUBJcgdUY    0.444444\n",
       "Q-HugPvA7GQ    0.500000\n",
       "SCvtxjpVQms    0.384615\n",
       "dkAr9ThdSUU    0.529412\n",
       "ksh6OMRFroI    0.833333\n",
       "tORLeHHtazM    0.600000\n",
       "x5zLaWT5KPs    0.785714\n",
       "zT83sJ5IrEE    0.461538\n",
       "zWg7U0OEAoE    0.384615\n",
       "Name: max_target, dtype: float64"
      ]
     },
     "execution_count": 9,
     "metadata": {},
     "output_type": "execute_result"
    }
   ],
   "source": [
    "'''Best results for the videos'''\n",
    "all_dfs.groupby('video')['max_target'].max()"
   ]
  },
  {
   "cell_type": "code",
   "execution_count": 28,
   "metadata": {},
   "outputs": [
    {
     "data": {
      "text/plain": [
       "workflow                                                      video      \n",
       "sliding_window-tfidf-cosine-None-spectral_clustering          2mC1uqwEmWQ    0.573333\n",
       "                                                              8BeXwhljq2g    0.733333\n",
       "                                                              B-Xe7_mf2CY    0.788889\n",
       "                                                              BiLJmhQMbVg    1.000000\n",
       "                                                              MkiUBJcgdUY    0.722222\n",
       "                                                              Q-HugPvA7GQ    0.828571\n",
       "                                                              SCvtxjpVQms    0.953846\n",
       "                                                              dkAr9ThdSUU    0.600000\n",
       "                                                              ksh6OMRFroI    0.516667\n",
       "                                                              tORLeHHtazM    1.000000\n",
       "                                                              x5zLaWT5KPs    0.728571\n",
       "                                                              zT83sJ5IrEE    0.876923\n",
       "                                                              zWg7U0OEAoE    0.876923\n",
       "sliding_window-tfidf-cosine-median_(2,2)-spectral_clustering  2mC1uqwEmWQ    0.733333\n",
       "                                                              8BeXwhljq2g    0.755556\n",
       "                                                              B-Xe7_mf2CY    0.922222\n",
       "                                                              BiLJmhQMbVg    0.840000\n",
       "                                                              MkiUBJcgdUY    0.866667\n",
       "                                                              Q-HugPvA7GQ    0.800000\n",
       "                                                              SCvtxjpVQms    0.861538\n",
       "                                                              dkAr9ThdSUU    0.858824\n",
       "                                                              ksh6OMRFroI    0.583333\n",
       "                                                              tORLeHHtazM    0.920000\n",
       "                                                              x5zLaWT5KPs    0.757143\n",
       "                                                              zT83sJ5IrEE    0.876923\n",
       "                                                              zWg7U0OEAoE    0.907692\n",
       "sliding_window-tfidf-cosine-median_(3,3)-spectral_clustering  2mC1uqwEmWQ    0.626667\n",
       "                                                              8BeXwhljq2g    0.733333\n",
       "                                                              B-Xe7_mf2CY    0.766667\n",
       "                                                              BiLJmhQMbVg    0.920000\n",
       "                                                              MkiUBJcgdUY    0.800000\n",
       "                                                              Q-HugPvA7GQ    0.685714\n",
       "                                                              SCvtxjpVQms    0.892308\n",
       "                                                              dkAr9ThdSUU    0.658824\n",
       "                                                              ksh6OMRFroI    0.533333\n",
       "                                                              tORLeHHtazM    0.880000\n",
       "                                                              x5zLaWT5KPs    0.500000\n",
       "                                                              zT83sJ5IrEE    0.815385\n",
       "                                                              zWg7U0OEAoE    0.815385\n",
       "Name: max_target, dtype: float64"
      ]
     },
     "execution_count": 28,
     "metadata": {},
     "output_type": "execute_result"
    }
   ],
   "source": [
    "''' Calculate bias'''\n",
    "Ex = all_dfs.groupby([\"workflow\",'video'])['max_target'].mean()\n",
    "Fx = 1\n",
    "Ex =Ex.apply(lambda x: Fx-x)\n",
    "Ex"
   ]
  },
  {
   "cell_type": "code",
   "execution_count": 30,
   "metadata": {},
   "outputs": [
    {
     "data": {
      "text/plain": [
       "workflow                                                      video      \n",
       "sliding_window-tfidf-cosine-None-spectral_clustering          2mC1uqwEmWQ    0.063556\n",
       "                                                              8BeXwhljq2g    0.133333\n",
       "                                                              B-Xe7_mf2CY    0.016049\n",
       "                                                              BiLJmhQMbVg    0.000000\n",
       "                                                              MkiUBJcgdUY    0.009259\n",
       "                                                              Q-HugPvA7GQ    0.027041\n",
       "                                                              SCvtxjpVQms    0.010651\n",
       "                                                              dkAr9ThdSUU    0.050865\n",
       "                                                              ksh6OMRFroI    0.195833\n",
       "                                                              tORLeHHtazM    0.000000\n",
       "                                                              x5zLaWT5KPs    0.138776\n",
       "                                                              zT83sJ5IrEE    0.028402\n",
       "                                                              zWg7U0OEAoE    0.007692\n",
       "sliding_window-tfidf-cosine-median_(2,2)-spectral_clustering  2mC1uqwEmWQ    0.080000\n",
       "                                                              8BeXwhljq2g    0.113580\n",
       "                                                              B-Xe7_mf2CY    0.014815\n",
       "                                                              BiLJmhQMbVg    0.049250\n",
       "                                                              MkiUBJcgdUY    0.016358\n",
       "                                                              Q-HugPvA7GQ    0.026531\n",
       "                                                              SCvtxjpVQms    0.027811\n",
       "                                                              dkAr9ThdSUU    0.039100\n",
       "                                                              ksh6OMRFroI    0.149306\n",
       "                                                              tORLeHHtazM    0.032000\n",
       "                                                              x5zLaWT5KPs    0.111224\n",
       "                                                              zT83sJ5IrEE    0.031361\n",
       "                                                              zWg7U0OEAoE    0.004142\n",
       "sliding_window-tfidf-cosine-median_(3,3)-spectral_clustering  2mC1uqwEmWQ    0.056889\n",
       "                                                              8BeXwhljq2g    0.133333\n",
       "                                                              B-Xe7_mf2CY    0.022222\n",
       "                                                              BiLJmhQMbVg    0.032000\n",
       "                                                              MkiUBJcgdUY    0.016358\n",
       "                                                              Q-HugPvA7GQ    0.027041\n",
       "                                                              SCvtxjpVQms    0.022485\n",
       "                                                              dkAr9ThdSUU    0.038754\n",
       "                                                              ksh6OMRFroI    0.186111\n",
       "                                                              tORLeHHtazM    0.072000\n",
       "                                                              x5zLaWT5KPs    0.096939\n",
       "                                                              zT83sJ5IrEE    0.040237\n",
       "                                                              zWg7U0OEAoE    0.031361\n",
       "Name: max_target, dtype: float64"
      ]
     },
     "execution_count": 30,
     "metadata": {},
     "output_type": "execute_result"
    }
   ],
   "source": [
    "'''Calculating variance'''\n",
    "all_dfs.groupby([\"workflow\",'video'])['max_target'].var()"
   ]
  },
  {
   "cell_type": "code",
   "execution_count": null,
   "metadata": {},
   "outputs": [],
   "source": []
  }
 ],
 "metadata": {
  "kernelspec": {
   "display_name": "Python 3",
   "language": "python",
   "name": "python3"
  },
  "language_info": {
   "codemirror_mode": {
    "name": "ipython",
    "version": 3
   },
   "file_extension": ".py",
   "mimetype": "text/x-python",
   "name": "python",
   "nbconvert_exporter": "python",
   "pygments_lexer": "ipython3",
   "version": "3.7.4"
  }
 },
 "nbformat": 4,
 "nbformat_minor": 2
}
