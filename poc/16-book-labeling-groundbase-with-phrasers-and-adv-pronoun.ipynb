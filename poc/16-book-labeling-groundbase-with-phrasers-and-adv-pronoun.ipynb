{
 "cells": [
  {
   "cell_type": "code",
   "execution_count": 1,
   "metadata": {},
   "outputs": [],
   "source": [
    "import sys\n",
    "sys.path.append('..')\n",
    "from src.data.docx  import read_docx,process_docx,find_content\n",
    "import glob\n",
    "import json\n",
    "import os\n",
    "import pandas as pd\n",
    "import ast\n",
    "import warnings\n",
    "warnings.filterwarnings(\"ignore\")\n",
    "from src.features.segment_transcript import CreateBlocks\n",
    "from functools import reduce\n",
    "import heapq\n",
    "from gensim.corpora import Dictionary\n",
    "from gensim import models\n",
    "from gensim import similarities\n",
    "import re\n",
    "import statistics\n",
    "import numpy as np\n",
    "import seaborn as sns; sns.set()\n",
    "%matplotlib inline\n",
    "import matplotlib.pyplot as plt\n",
    "from sklearn.feature_extraction.text import CountVectorizer\n",
    "from IPython.display import display, HTML"
   ]
  },
  {
   "cell_type": "markdown",
   "metadata": {},
   "source": [
    "# READ BOOKS OF VIDEOS"
   ]
  },
  {
   "cell_type": "code",
   "execution_count": 2,
   "metadata": {},
   "outputs": [],
   "source": [
    "'''Defining CONSTS'''\n",
    "docx_path = '../data/raw/docx'\n",
    "groundbase_dir = '../data/raw/groundbase'\n",
    "transcripts_dir = os.path.join(groundbase_dir,'transcripts')\n",
    "topic_dataset_path = os.path.join(groundbase_dir,'dataset.csv')\n",
    "transcript_filespath = glob.glob(groundbase_dir + '/transcripts/*.json')\n",
    "lemmatizing_method ='stemm'#'lemma' #"
   ]
  },
  {
   "cell_type": "code",
   "execution_count": 3,
   "metadata": {},
   "outputs": [],
   "source": [
    "videos_ids = list(map(lambda fl: fl.split('\\\\')[-1].split('.')[0],glob.glob(docx_path + '/*')))"
   ]
  },
  {
   "cell_type": "code",
   "execution_count": 4,
   "metadata": {},
   "outputs": [],
   "source": [
    "desired_videos =['7kLHJ-F33GI','RIawrYLVdIw','7snJ1mx1EMQ','zWg7U0OEAoE','tORLeHHtazM'] #['zWg7U0OEAoE','tORLeHHtazM'] #['7kLHJ-F33GI','RIawrYLVdIw','7snJ1mx1EMQ']\n",
    "videos_ids = list(filter(lambda x: x in desired_videos,videos_ids))"
   ]
  },
  {
   "cell_type": "code",
   "execution_count": 5,
   "metadata": {},
   "outputs": [],
   "source": [
    "#video_docx = [glob.glob(os.path.join(docx_path,vid + '/*.docx'))[0] for vid in videos_ids]\n",
    "#docx_db =[read_docx(path) for path in video_docx]"
   ]
  },
  {
   "cell_type": "code",
   "execution_count": 6,
   "metadata": {},
   "outputs": [],
   "source": [
    "f_read = {\n",
    "    'statbook':'statbook',\n",
    "    'Dsa':'Dsa'\n",
    "}\n",
    "\n",
    "docxs_chapter_keyword = {\n",
    "    'statbook':'Topic',\n",
    "    'Dsa': 'Chapter'\n",
    "}"
   ]
  },
  {
   "cell_type": "code",
   "execution_count": 7,
   "metadata": {},
   "outputs": [],
   "source": [
    "video_to_paper = {}\n",
    "paper_content ={}\n",
    "for vid in videos_ids:\n",
    "    doc_path = glob.glob(os.path.join(docx_path,vid + '/*.docx'))[0]\n",
    "    doc_name = doc_path.split('\\\\')[-1].split('.')[0]\n",
    "    video_to_paper[vid] = doc_name    \n",
    "    if doc_name not in paper_content.keys():    \n",
    "        full_text,font_sizes = read_docx(doc_path)\n",
    "        paper_content[doc_name] = find_content(f_read[doc_name],\n",
    "                                               full_text,\n",
    "                                               font_sizes,\n",
    "                                               docxs_chapter_keyword[doc_name],\n",
    "                                              lemmatizing=lemmatizing_method)"
   ]
  },
  {
   "cell_type": "code",
   "execution_count": 8,
   "metadata": {},
   "outputs": [
    {
     "data": {
      "text/plain": [
       "\"#transcript_filespath\\n#videos_ids\\nfrom docx import *\\nword_document = Document(doc_path)\\np_sent = re.compile('\\\\w+')\\nfull_text = []\\nfont_sizes = []\\nfor para in word_document.paragraphs:\\n    for i,run in enumerate(para.runs):        \\n        matching = p_sent.match(run.text)\\n\\n        # see if there is a number or letter ( it is not a trash)\\n        if matching is not None and run.text is not None and run.font.size is not None:\\n                full_text.append(re.sub('[\\t\\n\\x08\\r]','',run.text))\\n\""
      ]
     },
     "execution_count": 8,
     "metadata": {},
     "output_type": "execute_result"
    }
   ],
   "source": [
    "\"\"\"#transcript_filespath\n",
    "#videos_ids\n",
    "from docx import *\n",
    "word_document = Document(doc_path)\n",
    "p_sent = re.compile('\\w+')\n",
    "full_text = []\n",
    "font_sizes = []\n",
    "for para in word_document.paragraphs:\n",
    "    for i,run in enumerate(para.runs):        \n",
    "        matching = p_sent.match(run.text)\n",
    "\n",
    "        # see if there is a number or letter ( it is not a trash)\n",
    "        if matching is not None and run.text is not None and run.font.size is not None:\n",
    "                full_text.append(re.sub('[\\t\\n\\b\\r]','',run.text))\n",
    "\"\"\""
   ]
  },
  {
   "cell_type": "markdown",
   "metadata": {},
   "source": [
    "# RESTORE RESULTS FROM TRAINING"
   ]
  },
  {
   "cell_type": "code",
   "execution_count": 9,
   "metadata": {},
   "outputs": [
    {
     "name": "stdout",
     "output_type": "stream",
     "text": [
      "7kLHJ-F33GI\n",
      "[170, 299, 647, 735, 871, 1161, 1433, 1662, 1858, 2437]\n",
      "{'text': 'these socials', 'start': 2557.07, 'duration': 3.56}\n",
      "7snJ1mx1EMQ\n",
      "[390, 840, 1140, 1260, 1365, 1565]\n",
      "{'text': 'we will continue in the subsequent model Thank\\nyou very much', 'start': 1948.799, 'duration': 8.81}\n",
      "RIawrYLVdIw\n",
      "[265, 519, 1329, 1833, 2220, 2308, 2545]\n",
      "{'text': 'see you next week', 'start': 2926.78, 'duration': 3.39}\n",
      "tORLeHHtazM\n",
      "[91, 410, 513, 807, 966, 1394, 1604, 1942, 2234]\n",
      "{'text': 'of trees.', 'start': 2592.02, 'duration': 1.38}\n",
      "zWg7U0OEAoE\n",
      "[149, 233, 503, 791, 1476, 1836, 2036, 2155, 2221, 2350, 2494, 2761]\n",
      "{'text': 'and terminology that we be following with\\nthis course.', 'start': 3175.91, 'duration': 34.75}\n"
     ]
    }
   ],
   "source": [
    "'''Select transcript for only wanted videos'''\n",
    "transcript_filespath = list(filter(lambda x: x.split('\\\\')[-1].split('.')[0] in videos_ids,transcript_filespath))\n",
    "\n",
    "'''Read the transcript'''\n",
    "transcripts_jsons = {}\n",
    "for fl in transcript_filespath:\n",
    "    with open(fl,encoding=\"utf8\") as f:\n",
    "        transcript =ast.literal_eval(f.read()) #json.load(f)\n",
    "        vid = fl.split('\\\\')[-1].split('.')[0]\n",
    "        #print(vid)\n",
    "        transcripts_jsons[vid] = transcript\n",
    "#print(transcripts_jsons)\n",
    "\n",
    "'''Read the videos metadata to perform on them the segmentation'''\n",
    "df_videos = pd.read_csv(topic_dataset_path)\n",
    "\n",
    "''' Transfer topic shifts time to seconds units instead HH:MM:SS'''\n",
    "def topic_shifts_seconds(topic_shifts):\n",
    "    tp_shift_sec=[]\n",
    "    for tp in topic_shifts:\n",
    "        intervals = tp.split(':')\n",
    "        seconds = int(intervals[2])\n",
    "        minutes = int(intervals[1]) * 60\n",
    "        hours = int(intervals[0]) * 60 *60\n",
    "        tp_shift_sec.append(seconds + minutes + hours)\n",
    "    return tp_shift_sec\n",
    "for video_id in transcripts_jsons.keys():    \n",
    "    df_videos.at[df_videos['video id'] == video_id,'topic shifts(ends)'] =\\\n",
    "    topic_shifts_seconds(\\\n",
    "                         df_videos[df_videos['video id'] == \\\n",
    "                                   video_id]['topic shifts(ends)'])\n",
    "    \n",
    "    \n",
    "def boundryevaluation(curresults,ground_base,accurrcy_shift = 30):\n",
    "        true_positive = 0\n",
    "        false_negative = 0\n",
    "        false_positive = 0 \n",
    "        true_positive_list_debug = []\n",
    "        #false_negative_list_debug = []\n",
    "        false_positive_list_debug = []\n",
    "        results = curresults[:]\n",
    "        \n",
    "        \n",
    "        #print('curresults %s' %(curresults))\n",
    "        #print('ground_base %s ' %(ground_base))\n",
    "        \n",
    "        for grb in ground_base:\n",
    "            is_false_positive = True\n",
    "            for res in results:     \n",
    "                if abs(res - grb) < accurrcy_shift:\n",
    "                    is_false_positive = False\n",
    "                    true_positive_list_debug.append(res)\n",
    "                    true_positive+=1\n",
    "                    results.remove(res)\n",
    "                    break   \n",
    "            if is_false_positive:\n",
    "                false_positive_list_debug.append(grb)\n",
    "                false_positive+=1\n",
    "                \n",
    "        #print(\"TP: \" + str(true_positive_list_debug))\n",
    "        #print(\"FP: \" + str(false_positive_list_debug))\n",
    "        #print(\"FN: \" + str(curresults))\n",
    "        #print('true_positive : %s ' %(true_positive))\n",
    "        false_negative = len(results) # make sure the true positive are removed from here \n",
    "        recall_rate = true_positive/(true_positive + false_negative )\n",
    "        precision_rate = true_positive/(true_positive + false_positive)\n",
    "        #print(\"TP: %s , FP: %s, FN: %s\" %(true_positive,false_positive,false_negative))\n",
    "        #print(\"precision rate : %s, recall rate : %s \" % (precision_rate,recall_rate))\n",
    "        return precision_rate\n",
    "\n",
    "    \n",
    "videos_division = {}\n",
    "\n",
    "for vid in videos_ids:\n",
    "    vid_words = None\n",
    "    vid_shifts = None\n",
    "    shifts = df_videos.loc[df_videos['video id'] == vid,'topic shifts(ends)'].values.tolist()\n",
    "    groundbase = shifts[:-2]\n",
    "    transcripts = transcripts_jsons[vid]\n",
    "    print(vid)\n",
    "    print(groundbase)\n",
    "    print(transcripts[-1])\n",
    "    block_handler = CreateBlocks(transcripts,lemmatizing=lemmatizing_method)\n",
    "    block_as_topics = block_handler.partion_by_timestamp(groundbase)\n",
    "    vid_words = [list(blk) for blk in block_as_topics]\n",
    "    groundbase.append('end')\n",
    "    videos_division[vid] = {'topic_words':vid_words,'topic_shift':groundbase}"
   ]
  },
  {
   "cell_type": "code",
   "execution_count": null,
   "metadata": {
    "scrolled": true
   },
   "outputs": [],
   "source": []
  },
  {
   "cell_type": "code",
   "execution_count": 10,
   "metadata": {},
   "outputs": [],
   "source": [
    "#videos_division"
   ]
  },
  {
   "cell_type": "markdown",
   "metadata": {},
   "source": [
    "# EXTRACT MAIN CHAPTERS OF BOOKS AND ORAGANIZE THE PAPER AS DIFFERENT DOCUMENTS GROUPS"
   ]
  },
  {
   "cell_type": "code",
   "execution_count": 11,
   "metadata": {},
   "outputs": [
    {
     "data": {
      "text/plain": [
       "dict_keys(['corpus', 'titles', 'main titles'])"
      ]
     },
     "execution_count": 11,
     "metadata": {},
     "output_type": "execute_result"
    }
   ],
   "source": [
    "paper_content[doc_name].keys()"
   ]
  },
  {
   "cell_type": "code",
   "execution_count": 12,
   "metadata": {},
   "outputs": [],
   "source": [
    "'''Find the following for each paper:\n",
    "    1) main chapter title index. for example [10,15....]\n",
    "    2) range of subsection within each main chapter . for example [(0,9),(11,14)...]\n",
    "    \n",
    "    '''\n",
    "\n",
    "paper_mainchapter_indexes = {}\n",
    "paper_sec_within_main_indexes = {}\n",
    "paper_mains_as_one_doc = {}\n",
    "paper_subsec_as_one_doc = {}\n",
    "\n",
    "for doc_name in paper_content.keys():\n",
    "    '''Find the main chapter indexes in the list of the overall titles'''\n",
    "    mainchapter_indexes = [paper_content[doc_name]['titles'].index(ch_title)\n",
    "                           for ch_title in paper_content[doc_name]['main titles']]\n",
    "    '''Find the subsection indexes range within each main chapter '''\n",
    "    subsec_mainchapter_indexes = [range(mainchapter_indexes[index],mainchapter_indexes[index + 1])\n",
    "                                  for index in range(len(mainchapter_indexes) - 1)]\n",
    "    subsec_mainchapter_indexes.append(range(mainchapter_indexes[-1],\n",
    "                                            len(paper_content[doc_name]['titles'])))\n",
    "    paper_mainchapter_indexes[doc_name] = mainchapter_indexes\n",
    "    paper_sec_within_main_indexes[doc_name] = subsec_mainchapter_indexes\n",
    "    \n",
    "    \n",
    "    '''Making each chapter as a one documents'''\n",
    "    \n",
    "    '''Union all the documents in a section into single document'''\n",
    "    paper_subsec_as_one_doc[doc_name] = [list(reduce(lambda doc,acc:doc + acc,sec,[]))\n",
    "                                         for sec in paper_content[doc_name]['corpus']]\n",
    "    '''Union all the sub section in a main chapter into one document'''\n",
    "    paper_mains_as_one_doc[doc_name] = [list(reduce(lambda acc,s_i:\n",
    "                                                    paper_subsec_as_one_doc[doc_name][s_i]+acc,subsec_indexes,[]))\n",
    "                                        for subsec_indexes in paper_sec_within_main_indexes[doc_name]]"
   ]
  },
  {
   "cell_type": "code",
   "execution_count": 13,
   "metadata": {},
   "outputs": [],
   "source": [
    "#paper_subsec_as_one_doc['statbook'][0]"
   ]
  },
  {
   "cell_type": "code",
   "execution_count": 14,
   "metadata": {},
   "outputs": [
    {
     "name": "stdout",
     "output_type": "stream",
     "text": [
      "flnal\n"
     ]
    }
   ],
   "source": [
    "'''Debug'''\n",
    "\"\"\"\n",
    "print(paper_content['statbook']['main titles'])\n",
    "print((paper_content['statbook']['titles']))\n",
    "print(len(paper_content['statbook']['titles']))# \n",
    "print(len(paper_content['statbook']['corpus']))#members of each element:section corpus\n",
    "print(len(paper_content['statbook']['corpus'][0]))#members of each element: documents\n",
    "print(len(paper_content['statbook']['corpus'][0][0])) #of each element words\n",
    "print(paper_sec_within_main_indexes['statbook'])\n",
    "\n",
    "\n",
    "#debug\n",
    "print(sum([len(paper_subsec_as_one_doc['statbook'][s]) for s in range(0,10)]))\n",
    "print(len(paper_mains_as_one_doc['statbook'][0]))\n",
    "print(len(paper_mains_as_one_doc['statbook']))\n",
    "\n",
    "\n",
    "\n",
    "\"\"\"\n",
    "\"\"\"#print(len(paper_subsec_as_one_doc['statbook']))\n",
    "print((subsec_mainchapter_indexes))\n",
    "print(len(paper_content['Dsa']['titles']))\n",
    "print(len(paper_subsec_as_one_doc[doc_name]))\n",
    "print(len(paper_sec_within_main_indexes[doc_name]))\n",
    "print(paper_content['Dsa']['titles'][-1])\n",
    "print(paper_subsec_as_one_doc[doc_name][-2])\n",
    "\"\"\"\n",
    "\"\"\"print(paper_content['Dsa']['main titles'][0])\n",
    "print(len(paper_mains_as_one_doc['Dsa'][0][0]))\n",
    "print((paper_mains_as_one_doc['Dsa'][0][0]))\n",
    "#print(len(paper_sec_within_main_indexes['Dsa'][0][0]))\n",
    "print(len(paper_subsec_as_one_doc['Dsa'][0]))\n",
    "print((paper_subsec_as_one_doc['Dsa'][0][0]))\n",
    "print(len(videos_division['tORLeHHtazM']['topic_words'][0][0]))\n",
    "print((videos_division['tORLeHHtazM']['topic_words'][0][0]))\"\"\"\n",
    "\n",
    "#paper_content['Dsa']['corpus']\n",
    "print((paper_mains_as_one_doc['Dsa'][0][0]))"
   ]
  },
  {
   "cell_type": "code",
   "execution_count": 15,
   "metadata": {},
   "outputs": [],
   "source": [
    "'''Find phrasers of books  '''\n",
    "paper_phrasers = {}\n",
    "for doc_name in paper_mains_as_one_doc.keys():\n",
    "    paper_phrasers[doc_name] = list(set(reduce(lambda acc,x: acc+x,\n",
    "                                      [[w for w in ch if '_' in w]\n",
    "                                      for ch in paper_mains_as_one_doc[doc_name]])))"
   ]
  },
  {
   "cell_type": "code",
   "execution_count": 16,
   "metadata": {},
   "outputs": [],
   "source": [
    "#paper_phrasers['Dsa']"
   ]
  },
  {
   "cell_type": "markdown",
   "metadata": {},
   "source": [
    "# FIND CORRELATION BETWEEN MAIN CHAPTERES AND FOUNDED TOPICS IN THE VIDEO "
   ]
  },
  {
   "cell_type": "code",
   "execution_count": 17,
   "metadata": {},
   "outputs": [],
   "source": [
    "def find_top_words_of_topic(topic_words,chapter_titles=None):\n",
    "    for tp_i,tp_words in enumerate(topic_words):\n",
    "        #\n",
    "        raw_text = ' '.join(tp_words)\n",
    "        myvectorizer = CountVectorizer()\n",
    "        mytf = myvectorizer.fit_transform([raw_text]).toarray()\n",
    "        #print(mytf)\n",
    "        maxes = heapq.nlargest(3,mytf[0])\n",
    "        indexes = []\n",
    "        for i,bal in enumerate(mytf[0]):\n",
    "            if bal in maxes:\n",
    "                indexes.append(i)\n",
    "        ws = [myvectorizer.get_feature_names()[_] for i,_ in enumerate(indexes)]\n",
    "        \n",
    "        if chapter_titles is None:\n",
    "            print('top words for topic %s are %s' %(tp_i,ws))\n",
    "        else:\n",
    "            print('top words for topic %s are %s' %(chapter_titles[tp_i],ws))"
   ]
  },
  {
   "cell_type": "code",
   "execution_count": null,
   "metadata": {},
   "outputs": [],
   "source": []
  },
  {
   "cell_type": "code",
   "execution_count": 18,
   "metadata": {},
   "outputs": [],
   "source": [
    "from nltk.corpus import stopwords\n",
    "from gensim.utils import simple_preprocess\n",
    "import spacy\n",
    "from nltk.stem import PorterStemmer\n",
    "stop_words = stopwords.words('english')\n",
    "nlp = spacy.load('en',disable=['parser','ner'])\n",
    "allowed_postags=['NOUN', 'ADJ', 'VERB','PROPN','ADV']#['NOUN', 'ADJ', 'VERB','ADV']#['NOUN', 'ADJ', 'VERB','PROPN']# #['NOUN', 'ADJ', 'VERB']\n",
    "porter = PorterStemmer()"
   ]
  },
  {
   "cell_type": "code",
   "execution_count": 19,
   "metadata": {},
   "outputs": [],
   "source": [
    "def emphasize_title(doc_name,book_chapters,titles,factor_enrich = 20,lemmatizing = \"lemma\"):\n",
    "    chapters_enriched = book_chapters[:]\n",
    "    \n",
    "    for index,tl in enumerate(titles):\n",
    "        tl_text_no_punc = simple_preprocess(tl,deacc=True) \n",
    "        tokenized_text_non_stop_words = [ word for word in tl_text_no_punc \n",
    "                                         if word not in stop_words]\n",
    "        \"\"\"text_non_stop_words = ' '.join(tokenized_text_non_stop_words)\n",
    "        tokenized_lemmas = nlp(text_non_stop_words)\n",
    "        tokenized_lemmas = [token.lemma_ for token in tokenized_lemmas \\\n",
    "                            if token.pos_ in allowed_postags]\"\"\"\n",
    "        \n",
    "        if lemmatizing == \"stemm\":\n",
    "            tokenized_lemmas = [porter.stem(w) for w in tokenized_text_non_stop_words]\n",
    "        else:\n",
    "            text_non_stop_words = ' '.join(tokenized_text_non_stop_words)\n",
    "            tokenized_lemmas = nlp(text_non_stop_words)\n",
    "            tokenized_lemmas = [token.lemma_ for token in tokenized_lemmas \\\n",
    "                                if token.pos_ in allowed_postags]\n",
    "\n",
    "        \n",
    "        \n",
    "        tokenized_lemmas_ph = '_'.join(tokenized_lemmas)#reduce(lambda acc,x: acc+x,\n",
    "        #print('tokenized_lemmas_ph %s' %(tokenized_lemmas_ph))\n",
    "        \n",
    "        if tokenized_lemmas_ph in paper_phrasers[doc_name]:\n",
    "            tokenized_lemmas =[tokenized_lemmas_ph]\n",
    "        \n",
    "        chapters_enriched[index] = chapters_enriched[index] + tokenized_lemmas * factor_enrich\n",
    "    return chapters_enriched"
   ]
  },
  {
   "cell_type": "code",
   "execution_count": 20,
   "metadata": {},
   "outputs": [],
   "source": [
    "def get_topic_chapter_corr_tfidf(paper_name,book_chapters,\n",
    "                                 vid_topics_words,vid_topics_shift,\n",
    "                                 dispaly_titles,pre_labeled_title=None):\n",
    "    raw_book_video = []\n",
    "    for tp_vid in vid_topics_words:\n",
    "        raw_book_video = raw_book_video + [tp_vid]\n",
    "    \n",
    "    for ch in book_chapters:\n",
    "        raw_book_video = raw_book_video + [ch]\n",
    "\n",
    "    # creating dictionary of all of the words in the corpus of the video and the paper\n",
    "    #print(len(raw_book_video))\n",
    "    dictionary = Dictionary(raw_book_video)\n",
    "    #dictionary = Dictionary(book_chapters)\n",
    "    \n",
    "    #ch_dict = Dictionary(book_chapters)\n",
    "    #vid_dict = Dictionary(vid_topics_words)\n",
    "    \n",
    "    the_dictionary = dictionary\n",
    "    \n",
    "    #whole_corpus = vid_topics_words + book_chapters\n",
    "    #bgw_corpus = [dictionary.doc2bow(doc) for doc in whole_corpus]\n",
    "    bgw_chapter = [the_dictionary.doc2bow(doc) for doc in book_chapters]\n",
    "    bgw_vids = [the_dictionary.doc2bow(doc) for doc in vid_topics_words]\n",
    "    \n",
    "    '''Calculate the pivot '''\n",
    "    _tmp =  [len(list(set([w for w in ch]))) for ch in book_chapters]\n",
    "    book_pivot = sum(_tmp)/len(_tmp)\n",
    "    _tmp = [len(list(set([w for w in ch]))) for ch in vid_topics_words]\n",
    "    vid_pivot = sum(_tmp)/len(_tmp)\n",
    "    \n",
    "    tf_idf_model_ch = models.TfidfModel(bgw_chapter,\n",
    "                                        dictionary=the_dictionary#,\n",
    "                                        #pivot=book_pivot#,\n",
    "                                        #slope=0.8,\n",
    "                                        #smartirs='nnc'\n",
    "                                       ) #,\n",
    "    tf_idf_model_vid = models.TfidfModel(bgw_vids,\n",
    "                                         dictionary=the_dictionary#,\n",
    "                                         #pivot=vid_pivot#,\n",
    "                                         #slope=0.4\n",
    "                                        )#,smartirs='lfc'\n",
    "    \n",
    "    index_sim = similarities.SparseMatrixSimilarity(tf_idf_model_ch[bgw_chapter],\n",
    "                                                    num_features=len(the_dictionary))\n",
    "    \n",
    "    correlation = [[s for s in index_sim[tf_idf_model_vid[doc]]] for doc in bgw_vids]\n",
    "    #print(tf_idf_model[bgw_vids])\n",
    "    \n",
    "    # find the top n words in the topic (in the video)\n",
    "    #print('$$$$$$$$$$$$$$top words of video topic$$$$$$$$$$$$$$')\n",
    "    #find_top_words_of_topic(videos_division[vid]['topic_words'])\n",
    "    #print('$$$$$$$$$$$$$$top words of book chapters$$$$$$$$$$$$$$')\n",
    "    #find_top_words_of_topic(book_chapters,chapter_titles=dispaly_titles)\n",
    "    \n",
    "    \n",
    "    \n",
    "    # normalizing the correlation between each topic and chapter \n",
    "    for i_t in range(len(correlation)):\n",
    "        sum_ = sum(correlation[i_t])\n",
    "        for ch_index in range(len(correlation[i_t])):\n",
    "            correlation[i_t][ch_index] = correlation[i_t][ch_index]/sum_\n",
    "    \n",
    "    corr_as_row = reduce(lambda x,y: x+y,correlation,[] ) # to get the global max in min\n",
    "    sns.heatmap(correlation,vmin=min(corr_as_row),vmax=max(corr_as_row))\n",
    "    plt.show()\n",
    "    \n",
    "    \n",
    "    \n",
    "    # find the cha\n",
    "    ch_matching_top = []\n",
    "    #print(len(correlation[0]))\n",
    "    \n",
    "    \n",
    "    for i,corr in enumerate(correlation):\n",
    "        max_cor = max(corr) # max correlation with that topic\n",
    "        shift = vid_topics_shift[i]\n",
    "        founded_title = dispaly_titles[corr.index(max_cor)]\n",
    "        #ch_matching_top.append(paper_mainchapter_indexes[paper_name][corr.index(max_cor)])\n",
    "        ch_matching_top.append(founded_title)\n",
    "\n",
    "    \n",
    "    \n",
    "    hit = 0 \n",
    "    miss = 0\n",
    "    \n",
    "    if pre_labeled_title is not None:\n",
    "        print(vid)\n",
    "        df_vid_results = pd.DataFrame(columns=['Video',\n",
    "                                               'Video Shift',\n",
    "                                               'Founded Title',\n",
    "                                               'Similarity Ratio',\n",
    "                                               'Chapter Section',\n",
    "                                               'Prelabeled Title',\n",
    "                                               'Labeling Confidence'])\n",
    "        for i,corr in enumerate(correlation):\n",
    "            max_cor = max(corr) # max correlation with that topic\n",
    "            shift = vid_topics_shift[i]\n",
    "            founded_title = dispaly_titles[corr.index(max_cor)]\n",
    "            df_vid_results = df_vid_results.append({\n",
    "                                   'Video' :vid,\n",
    "                                   'Video Shift': sec_to_min(shift),\n",
    "                                   'Founded Title':founded_title,\n",
    "                                   'Similarity Ratio':max_cor,\n",
    "                                   'Chapter Section':pre_labeled_title[i][0],\n",
    "                                   'Prelabeled Title':pre_labeled_title[i][1],\n",
    "                                   'Labeling Confidence':pre_labeled_title[i][2]},ignore_index=True)\n",
    "\n",
    "        display(HTML(df_vid_results[['Video Shift',\n",
    "                                    'Founded Title',\n",
    "                                    'Similarity Ratio',\n",
    "                                    'Chapter Section',\n",
    "                                    'Prelabeled Title',\n",
    "                                    'Labeling Confidence']].to_html()))\n",
    "\n",
    "    return ch_matching_top,correlation\n",
    "\n",
    "def find_dominent_main_chapter(ch_tp_corr,titles,correlation):\n",
    "    \n",
    "    '''Find the frequency of each chapter'''\n",
    "    chapter_matching_counts_max = [max([ch_tp_corr.count(ch) for ch in ch_tp_corr])]\n",
    "    for max_count in chapter_matching_counts_max:\n",
    "        #print(\"####### #######\")\n",
    "        '''Find the most frequent chapter'''\n",
    "        #print(([ch for ch in ch_tp_corr if ch_tp_corr.count(ch) == max_count]))\n",
    "        dominent_chapters = list(set([ch for ch in ch_tp_corr if ch_tp_corr.count(ch) == max_count]))\n",
    "        #print(dominent_chapters)\n",
    "        \n",
    "        # if we have absulote majority on topic\n",
    "        if len(dominent_chapters) == 1:\n",
    "            return dominent_chapters[0]\n",
    "        else:\n",
    "            \"\"\"max_value = 0\n",
    "            title_max =None\n",
    "            for j,ch in dominent_chapters:\n",
    "                cor = sum(ch_tp_corr[j])\n",
    "                if cor > max_value:\n",
    "                    max_value= cor\n",
    "                    title_max = ch\n",
    "            return title_max\"\"\"\n",
    "            \n",
    "            # draw between topics, decide which one by taking this with the high variance\n",
    "            index_winner = 0\n",
    "            df_ch_corr = pd.DataFrame.from_records(correlation)\n",
    "            for j_dom in range(len(dominent_chapters)):\n",
    "                first = df_ch_corr.var()[titles.index(dominent_chapters[index_winner])]\n",
    "                #print(first)\n",
    "                second = df_ch_corr.var()[titles.index(dominent_chapters[j_dom])]\n",
    "                #print(second)\n",
    "                if first < second:\n",
    "                    index_winner = j_dom\n",
    "            return (dominent_chapters[index_winner])\n",
    "        \n",
    "            \n",
    "        \n",
    "def sec_to_min(seconds):\n",
    "    if seconds == 'end':\n",
    "        return 'end'\n",
    "    return (\"%02d:%02d\"%(seconds//60,seconds%60))\n",
    "\n",
    "# correlations : correaltions of all levels\n",
    "def measure_confidence(vid,correlations):\n",
    "    n_vid_topic = len(correlations[0]) # number of video topics that were found\n",
    "    topics_errs = []\n",
    "    for topic_index in range(n_vid_topic):\n",
    "        topic_pr = 0\n",
    "        for map_index,correlation_map in enumerate(correlations):\n",
    "            '''Calculate soft max on the correlation of the current topic to the chapters'''\n",
    "            #print('correlation %s map %s' % (topic_index,correlation_map[topic_index]))\n",
    "            sum_ = sum(correlation_map[topic_index])\n",
    "            max_corr_ch_val = max(correlation_map[topic_index])\n",
    "            #most_corr_ch_index = correlation_map[topic_index].index(max_corr_ch_val)\n",
    "            most_corr_ch_val = max_corr_ch_val/sum_\n",
    "            #print('max_val : %s sum_ : %s value from softmax : %s '%(max_corr_ch_val,sum_,most_corr_ch_val))\n",
    "            '''scaling the max value by the cosine value of the max correlated'''\n",
    "            most_corr_ch_val = most_corr_ch_val * max_corr_ch_val\n",
    "            '''adding and scaling the given value to the overall rate of the topic'''\n",
    "            topic_pr += (2**(-(map_index - 1))) * most_corr_ch_val\n",
    "        print(\"For topic number %s the confidence is %s \" % (topic_index,topic_pr))\n",
    "        topics_errs.append(topic_pr)"
   ]
  },
  {
   "cell_type": "code",
   "execution_count": 21,
   "metadata": {},
   "outputs": [],
   "source": [
    "df_tp_to_ch = pd.read_csv(os.path.join(groundbase_dir,'Topic to chapter.csv'))\n",
    "df_tp_to_ch  = df_tp_to_ch.replace({np.nan:None})\n",
    "#df_tp_to_ch.loc[df_tp_to_ch['video id'] == '7kLHJ-F33GI',\n",
    "#                ['chapter section','chapter title','chapter confidence']].values[0].tolist()"
   ]
  },
  {
   "cell_type": "code",
   "execution_count": 22,
   "metadata": {},
   "outputs": [
    {
     "name": "stdout",
     "output_type": "stream",
     "text": [
      "################ 7kLHJ-F33GI ################\n"
     ]
    },
    {
     "data": {
      "image/png": "[encoded data removed]",
      "text/plain": [
       "<Figure size 432x288 with 2 Axes>"
      ]
     },
     "metadata": {
      "needs_background": "light"
     },
     "output_type": "display_data"
    },
    {
     "name": "stdout",
     "output_type": "stream",
     "text": [
      "By the majority vote, the dominent chapter choosed is Maximum Likelihood Estimation \n"
     ]
    },
    {
     "data": {
      "image/png": "[encoded data removed]",
      "text/plain": [
       "<Figure size 432x288 with 2 Axes>"
      ]
     },
     "metadata": {
      "needs_background": "light"
     },
     "output_type": "display_data"
    },
    {
     "name": "stdout",
     "output_type": "stream",
     "text": [
      "7kLHJ-F33GI\n"
     ]
    },
    {
     "data": {
      "text/html": [
       "<table border=\"1\" class=\"dataframe\">\n",
       "  <thead>\n",
       "    <tr style=\"text-align: right;\">\n",
       "      <th></th>\n",
       "      <th>Video Shift</th>\n",
       "      <th>Founded Title</th>\n",
       "      <th>Similarity Ratio</th>\n",
       "      <th>Chapter Section</th>\n",
       "      <th>Prelabeled Title</th>\n",
       "      <th>Labeling Confidence</th>\n",
       "    </tr>\n",
       "  </thead>\n",
       "  <tbody>\n",
       "    <tr>\n",
       "      <th>0</th>\n",
       "      <td>02:50</td>\n",
       "      <td>15.4 Asymptotic Properties</td>\n",
       "      <td>0.246324</td>\n",
       "      <td>None</td>\n",
       "      <td>None</td>\n",
       "      <td>None</td>\n",
       "    </tr>\n",
       "    <tr>\n",
       "      <th>1</th>\n",
       "      <td>04:59</td>\n",
       "      <td>15.9 Technical Aspects</td>\n",
       "      <td>0.218625</td>\n",
       "      <td>15.1,15</td>\n",
       "      <td>Introduction</td>\n",
       "      <td>0.8</td>\n",
       "    </tr>\n",
       "    <tr>\n",
       "      <th>2</th>\n",
       "      <td>10:47</td>\n",
       "      <td>15.1</td>\n",
       "      <td>0.315284</td>\n",
       "      <td>15.2</td>\n",
       "      <td>example</td>\n",
       "      <td>0.9</td>\n",
       "    </tr>\n",
       "    <tr>\n",
       "      <th>3</th>\n",
       "      <td>12:15</td>\n",
       "      <td>15.2 Examples</td>\n",
       "      <td>0.218005</td>\n",
       "      <td>15.1</td>\n",
       "      <td>Introduction</td>\n",
       "      <td>0.2</td>\n",
       "    </tr>\n",
       "    <tr>\n",
       "      <th>4</th>\n",
       "      <td>14:31</td>\n",
       "      <td>15.6 Multidimensional Estimation</td>\n",
       "      <td>0.435674</td>\n",
       "      <td>15.6</td>\n",
       "      <td>multidimensional estimation</td>\n",
       "      <td>0.3</td>\n",
       "    </tr>\n",
       "    <tr>\n",
       "      <th>5</th>\n",
       "      <td>19:21</td>\n",
       "      <td>15.2 Examples</td>\n",
       "      <td>0.247097</td>\n",
       "      <td>15.2</td>\n",
       "      <td>example</td>\n",
       "      <td>None</td>\n",
       "    </tr>\n",
       "    <tr>\n",
       "      <th>6</th>\n",
       "      <td>23:53</td>\n",
       "      <td>15.4 Asymptotic Properties</td>\n",
       "      <td>0.415395</td>\n",
       "      <td>15.4</td>\n",
       "      <td>asymtotic properties</td>\n",
       "      <td>0.3</td>\n",
       "    </tr>\n",
       "    <tr>\n",
       "      <th>7</th>\n",
       "      <td>27:42</td>\n",
       "      <td>15.1</td>\n",
       "      <td>0.205318</td>\n",
       "      <td>None</td>\n",
       "      <td>None</td>\n",
       "      <td>None</td>\n",
       "    </tr>\n",
       "    <tr>\n",
       "      <th>8</th>\n",
       "      <td>30:58</td>\n",
       "      <td>15.6 Multidimensional Estimation</td>\n",
       "      <td>0.452733</td>\n",
       "      <td>15.6</td>\n",
       "      <td>multidimensional estimation</td>\n",
       "      <td>None</td>\n",
       "    </tr>\n",
       "    <tr>\n",
       "      <th>9</th>\n",
       "      <td>40:37</td>\n",
       "      <td>15.2 Examples</td>\n",
       "      <td>0.239861</td>\n",
       "      <td>15.2</td>\n",
       "      <td>example</td>\n",
       "      <td>None</td>\n",
       "    </tr>\n",
       "    <tr>\n",
       "      <th>10</th>\n",
       "      <td>end</td>\n",
       "      <td>Maximum Likelihood Estimation</td>\n",
       "      <td>0.223827</td>\n",
       "      <td>15.8</td>\n",
       "      <td>choice of estimations</td>\n",
       "      <td>0.7</td>\n",
       "    </tr>\n",
       "  </tbody>\n",
       "</table>"
      ],
      "text/plain": [
       "<IPython.core.display.HTML object>"
      ]
     },
     "metadata": {},
     "output_type": "display_data"
    },
    {
     "name": "stdout",
     "output_type": "stream",
     "text": [
      "################ 7snJ1mx1EMQ ################\n"
     ]
    },
    {
     "data": {
      "image/png": "[encoded data removed]",
      "text/plain": [
       "<Figure size 432x288 with 2 Axes>"
      ]
     },
     "metadata": {
      "needs_background": "light"
     },
     "output_type": "display_data"
    },
    {
     "name": "stdout",
     "output_type": "stream",
     "text": [
      "By the majority vote, the dominent chapter choosed is Maximum Likelihood Estimation \n"
     ]
    },
    {
     "data": {
      "image/png": "[encoded data removed]",
      "text/plain": [
       "<Figure size 432x288 with 2 Axes>"
      ]
     },
     "metadata": {
      "needs_background": "light"
     },
     "output_type": "display_data"
    },
    {
     "name": "stdout",
     "output_type": "stream",
     "text": [
      "7snJ1mx1EMQ\n"
     ]
    },
    {
     "data": {
      "text/html": [
       "<table border=\"1\" class=\"dataframe\">\n",
       "  <thead>\n",
       "    <tr style=\"text-align: right;\">\n",
       "      <th></th>\n",
       "      <th>Video Shift</th>\n",
       "      <th>Founded Title</th>\n",
       "      <th>Similarity Ratio</th>\n",
       "      <th>Chapter Section</th>\n",
       "      <th>Prelabeled Title</th>\n",
       "      <th>Labeling Confidence</th>\n",
       "    </tr>\n",
       "  </thead>\n",
       "  <tbody>\n",
       "    <tr>\n",
       "      <th>0</th>\n",
       "      <td>06:30</td>\n",
       "      <td>15.2 Examples</td>\n",
       "      <td>0.277810</td>\n",
       "      <td>15.2</td>\n",
       "      <td>example</td>\n",
       "      <td>0.8</td>\n",
       "    </tr>\n",
       "    <tr>\n",
       "      <th>1</th>\n",
       "      <td>14:00</td>\n",
       "      <td>15.1</td>\n",
       "      <td>0.442234</td>\n",
       "      <td>15.2,15.1</td>\n",
       "      <td>example,Introduction</td>\n",
       "      <td>0.8</td>\n",
       "    </tr>\n",
       "    <tr>\n",
       "      <th>2</th>\n",
       "      <td>19:00</td>\n",
       "      <td>15.2 Examples</td>\n",
       "      <td>0.220116</td>\n",
       "      <td>15.1</td>\n",
       "      <td>Introduction</td>\n",
       "      <td>0.8</td>\n",
       "    </tr>\n",
       "    <tr>\n",
       "      <th>3</th>\n",
       "      <td>21:00</td>\n",
       "      <td>15.1</td>\n",
       "      <td>0.316984</td>\n",
       "      <td>15.1</td>\n",
       "      <td>Introduction</td>\n",
       "      <td>0.8</td>\n",
       "    </tr>\n",
       "    <tr>\n",
       "      <th>4</th>\n",
       "      <td>22:45</td>\n",
       "      <td>15.1</td>\n",
       "      <td>0.260591</td>\n",
       "      <td>15.1</td>\n",
       "      <td>Introduction</td>\n",
       "      <td>0.8</td>\n",
       "    </tr>\n",
       "    <tr>\n",
       "      <th>5</th>\n",
       "      <td>26:05</td>\n",
       "      <td>15.1</td>\n",
       "      <td>0.415759</td>\n",
       "      <td>15.2,15.1</td>\n",
       "      <td>example,Introduction</td>\n",
       "      <td>0.8</td>\n",
       "    </tr>\n",
       "    <tr>\n",
       "      <th>6</th>\n",
       "      <td>end</td>\n",
       "      <td>Maximum Likelihood Estimation</td>\n",
       "      <td>0.222054</td>\n",
       "      <td>15.2</td>\n",
       "      <td>example</td>\n",
       "      <td>0.8</td>\n",
       "    </tr>\n",
       "  </tbody>\n",
       "</table>"
      ],
      "text/plain": [
       "<IPython.core.display.HTML object>"
      ]
     },
     "metadata": {},
     "output_type": "display_data"
    },
    {
     "name": "stdout",
     "output_type": "stream",
     "text": [
      "################ RIawrYLVdIw ################\n"
     ]
    },
    {
     "data": {
      "image/png": "[encoded data removed]",
      "text/plain": [
       "<Figure size 432x288 with 2 Axes>"
      ]
     },
     "metadata": {
      "needs_background": "light"
     },
     "output_type": "display_data"
    },
    {
     "name": "stdout",
     "output_type": "stream",
     "text": [
      "By the majority vote, the dominent chapter choosed is Overview of Estimation \n"
     ]
    },
    {
     "data": {
      "image/png": "[encoded data removed]",
      "text/plain": [
       "<Figure size 432x288 with 2 Axes>"
      ]
     },
     "metadata": {
      "needs_background": "light"
     },
     "output_type": "display_data"
    },
    {
     "name": "stdout",
     "output_type": "stream",
     "text": [
      "RIawrYLVdIw\n"
     ]
    },
    {
     "data": {
      "text/html": [
       "<table border=\"1\" class=\"dataframe\">\n",
       "  <thead>\n",
       "    <tr style=\"text-align: right;\">\n",
       "      <th></th>\n",
       "      <th>Video Shift</th>\n",
       "      <th>Founded Title</th>\n",
       "      <th>Similarity Ratio</th>\n",
       "      <th>Chapter Section</th>\n",
       "      <th>Prelabeled Title</th>\n",
       "      <th>Labeling Confidence</th>\n",
       "    </tr>\n",
       "  </thead>\n",
       "  <tbody>\n",
       "    <tr>\n",
       "      <th>0</th>\n",
       "      <td>04:25</td>\n",
       "      <td>12.3 Bayesian Statistics</td>\n",
       "      <td>0.492329</td>\n",
       "      <td>None</td>\n",
       "      <td>None</td>\n",
       "      <td>None</td>\n",
       "    </tr>\n",
       "    <tr>\n",
       "      <th>1</th>\n",
       "      <td>08:39</td>\n",
       "      <td>12.3 Bayesian Statistics</td>\n",
       "      <td>0.463263</td>\n",
       "      <td>15.1</td>\n",
       "      <td>Introduction</td>\n",
       "      <td>None</td>\n",
       "    </tr>\n",
       "    <tr>\n",
       "      <th>2</th>\n",
       "      <td>22:09</td>\n",
       "      <td>12.3 Bayesian Statistics</td>\n",
       "      <td>0.415238</td>\n",
       "      <td>15.2,15.1</td>\n",
       "      <td>example,Introduction</td>\n",
       "      <td>None</td>\n",
       "    </tr>\n",
       "    <tr>\n",
       "      <th>3</th>\n",
       "      <td>30:33</td>\n",
       "      <td>12.3 Bayesian Statistics</td>\n",
       "      <td>0.432146</td>\n",
       "      <td>12.3</td>\n",
       "      <td>bayesian statistics</td>\n",
       "      <td>0.8</td>\n",
       "    </tr>\n",
       "    <tr>\n",
       "      <th>4</th>\n",
       "      <td>37:00</td>\n",
       "      <td>12.3 Bayesian Statistics</td>\n",
       "      <td>0.577535</td>\n",
       "      <td>12.3</td>\n",
       "      <td>bayesian statistics</td>\n",
       "      <td>0.8</td>\n",
       "    </tr>\n",
       "    <tr>\n",
       "      <th>5</th>\n",
       "      <td>38:28</td>\n",
       "      <td>12.3 Bayesian Statistics</td>\n",
       "      <td>0.650059</td>\n",
       "      <td>12.3</td>\n",
       "      <td>bayesian statistics</td>\n",
       "      <td>0.8</td>\n",
       "    </tr>\n",
       "    <tr>\n",
       "      <th>6</th>\n",
       "      <td>42:25</td>\n",
       "      <td>12.3 Bayesian Statistics</td>\n",
       "      <td>0.726159</td>\n",
       "      <td>12.3</td>\n",
       "      <td>bayesian statistics</td>\n",
       "      <td>0.8</td>\n",
       "    </tr>\n",
       "    <tr>\n",
       "      <th>7</th>\n",
       "      <td>end</td>\n",
       "      <td>12.3 Bayesian Statistics</td>\n",
       "      <td>0.575933</td>\n",
       "      <td>12.3</td>\n",
       "      <td>bayesian statistics</td>\n",
       "      <td>0.8</td>\n",
       "    </tr>\n",
       "  </tbody>\n",
       "</table>"
      ],
      "text/plain": [
       "<IPython.core.display.HTML object>"
      ]
     },
     "metadata": {},
     "output_type": "display_data"
    },
    {
     "name": "stdout",
     "output_type": "stream",
     "text": [
      "################ tORLeHHtazM ################\n"
     ]
    },
    {
     "data": {
      "image/png": "[encoded data removed]",
      "text/plain": [
       "<Figure size 432x288 with 2 Axes>"
      ]
     },
     "metadata": {
      "needs_background": "light"
     },
     "output_type": "display_data"
    },
    {
     "name": "stdout",
     "output_type": "stream",
     "text": [
      "By the majority vote, the dominent chapter choosed is Binary Search Tree \n"
     ]
    },
    {
     "data": {
      "image/png": "[encoded data removed]",
      "text/plain": [
       "<Figure size 432x288 with 2 Axes>"
      ]
     },
     "metadata": {
      "needs_background": "light"
     },
     "output_type": "display_data"
    },
    {
     "name": "stdout",
     "output_type": "stream",
     "text": [
      "tORLeHHtazM\n"
     ]
    },
    {
     "data": {
      "text/html": [
       "<table border=\"1\" class=\"dataframe\">\n",
       "  <thead>\n",
       "    <tr style=\"text-align: right;\">\n",
       "      <th></th>\n",
       "      <th>Video Shift</th>\n",
       "      <th>Founded Title</th>\n",
       "      <th>Similarity Ratio</th>\n",
       "      <th>Chapter Section</th>\n",
       "      <th>Prelabeled Title</th>\n",
       "      <th>Labeling Confidence</th>\n",
       "    </tr>\n",
       "  </thead>\n",
       "  <tbody>\n",
       "    <tr>\n",
       "      <th>0</th>\n",
       "      <td>01:31</td>\n",
       "      <td>3.8\\tSummary</td>\n",
       "      <td>0.391088</td>\n",
       "      <td>3</td>\n",
       "      <td>binary search trees</td>\n",
       "      <td>0.6</td>\n",
       "    </tr>\n",
       "    <tr>\n",
       "      <th>1</th>\n",
       "      <td>06:50</td>\n",
       "      <td>3.4\\tFinding the parent of a given node</td>\n",
       "      <td>0.607997</td>\n",
       "      <td>3</td>\n",
       "      <td>binary search trees</td>\n",
       "      <td>0.6</td>\n",
       "    </tr>\n",
       "    <tr>\n",
       "      <th>2</th>\n",
       "      <td>08:33</td>\n",
       "      <td>3.7\\tTree Traversals</td>\n",
       "      <td>0.474155</td>\n",
       "      <td>3</td>\n",
       "      <td>binary search trees</td>\n",
       "      <td>0.9</td>\n",
       "    </tr>\n",
       "    <tr>\n",
       "      <th>3</th>\n",
       "      <td>13:27</td>\n",
       "      <td>Binary Search Tree</td>\n",
       "      <td>0.342266</td>\n",
       "      <td>3</td>\n",
       "      <td>binary search trees</td>\n",
       "      <td>0.6</td>\n",
       "    </tr>\n",
       "    <tr>\n",
       "      <th>4</th>\n",
       "      <td>16:06</td>\n",
       "      <td>Binary Search Tree</td>\n",
       "      <td>0.430619</td>\n",
       "      <td>3</td>\n",
       "      <td>binary search trees</td>\n",
       "      <td>0.6</td>\n",
       "    </tr>\n",
       "    <tr>\n",
       "      <th>5</th>\n",
       "      <td>23:14</td>\n",
       "      <td>Binary Search Tree</td>\n",
       "      <td>0.527305</td>\n",
       "      <td>None</td>\n",
       "      <td>None</td>\n",
       "      <td>None</td>\n",
       "    </tr>\n",
       "    <tr>\n",
       "      <th>6</th>\n",
       "      <td>26:44</td>\n",
       "      <td>Binary Search Tree</td>\n",
       "      <td>0.608553</td>\n",
       "      <td>None</td>\n",
       "      <td>None</td>\n",
       "      <td>None</td>\n",
       "    </tr>\n",
       "    <tr>\n",
       "      <th>7</th>\n",
       "      <td>32:22</td>\n",
       "      <td>Binary Search Tree</td>\n",
       "      <td>0.235722</td>\n",
       "      <td>None</td>\n",
       "      <td>None</td>\n",
       "      <td>None</td>\n",
       "    </tr>\n",
       "    <tr>\n",
       "      <th>8</th>\n",
       "      <td>37:14</td>\n",
       "      <td>3.4\\tFinding the parent of a given node</td>\n",
       "      <td>0.310551</td>\n",
       "      <td>None</td>\n",
       "      <td>None</td>\n",
       "      <td>None</td>\n",
       "    </tr>\n",
       "    <tr>\n",
       "      <th>9</th>\n",
       "      <td>end</td>\n",
       "      <td>3.5\\tAttaining a reference to a node</td>\n",
       "      <td>0.463153</td>\n",
       "      <td>3</td>\n",
       "      <td>binary search trees</td>\n",
       "      <td>0.6</td>\n",
       "    </tr>\n",
       "  </tbody>\n",
       "</table>"
      ],
      "text/plain": [
       "<IPython.core.display.HTML object>"
      ]
     },
     "metadata": {},
     "output_type": "display_data"
    },
    {
     "name": "stdout",
     "output_type": "stream",
     "text": [
      "################ zWg7U0OEAoE ################\n"
     ]
    },
    {
     "data": {
      "image/png": "[encoded data removed]",
      "text/plain": [
       "<Figure size 432x288 with 2 Axes>"
      ]
     },
     "metadata": {
      "needs_background": "light"
     },
     "output_type": "display_data"
    },
    {
     "name": "stdout",
     "output_type": "stream",
     "text": [
      "By the majority vote, the dominent chapter choosed is Introduction \n"
     ]
    },
    {
     "data": {
      "image/png": "[encoded data removed]",
      "text/plain": [
       "<Figure size 432x288 with 2 Axes>"
      ]
     },
     "metadata": {
      "needs_background": "light"
     },
     "output_type": "display_data"
    },
    {
     "name": "stdout",
     "output_type": "stream",
     "text": [
      "zWg7U0OEAoE\n"
     ]
    },
    {
     "data": {
      "text/html": [
       "<table border=\"1\" class=\"dataframe\">\n",
       "  <thead>\n",
       "    <tr style=\"text-align: right;\">\n",
       "      <th></th>\n",
       "      <th>Video Shift</th>\n",
       "      <th>Founded Title</th>\n",
       "      <th>Similarity Ratio</th>\n",
       "      <th>Chapter Section</th>\n",
       "      <th>Prelabeled Title</th>\n",
       "      <th>Labeling Confidence</th>\n",
       "    </tr>\n",
       "  </thead>\n",
       "  <tbody>\n",
       "    <tr>\n",
       "      <th>0</th>\n",
       "      <td>02:29</td>\n",
       "      <td>1.2.2\\tImperative programming language</td>\n",
       "      <td>0.348002</td>\n",
       "      <td>1.1</td>\n",
       "      <td>What this book is about</td>\n",
       "      <td>0.4</td>\n",
       "    </tr>\n",
       "    <tr>\n",
       "      <th>1</th>\n",
       "      <td>03:53</td>\n",
       "      <td>1.3\\tPseudocode</td>\n",
       "      <td>0.275702</td>\n",
       "      <td>1.1</td>\n",
       "      <td>What this book is about</td>\n",
       "      <td>0.4</td>\n",
       "    </tr>\n",
       "    <tr>\n",
       "      <th>2</th>\n",
       "      <td>08:23</td>\n",
       "      <td>1.2.1\\tBig Oh notation</td>\n",
       "      <td>0.314387</td>\n",
       "      <td>1.2.1</td>\n",
       "      <td>Big oh notation</td>\n",
       "      <td>0.7</td>\n",
       "    </tr>\n",
       "    <tr>\n",
       "      <th>3</th>\n",
       "      <td>13:11</td>\n",
       "      <td>1.3\\tPseudocode</td>\n",
       "      <td>0.407326</td>\n",
       "      <td>1.3</td>\n",
       "      <td>Pseudocode</td>\n",
       "      <td>1</td>\n",
       "    </tr>\n",
       "    <tr>\n",
       "      <th>4</th>\n",
       "      <td>24:36</td>\n",
       "      <td>1.3\\tPseudocode</td>\n",
       "      <td>0.402134</td>\n",
       "      <td>None</td>\n",
       "      <td>None</td>\n",
       "      <td>None</td>\n",
       "    </tr>\n",
       "    <tr>\n",
       "      <th>5</th>\n",
       "      <td>30:36</td>\n",
       "      <td>1.3\\tPseudocode</td>\n",
       "      <td>0.286149</td>\n",
       "      <td>None</td>\n",
       "      <td>None</td>\n",
       "      <td>None</td>\n",
       "    </tr>\n",
       "    <tr>\n",
       "      <th>6</th>\n",
       "      <td>33:56</td>\n",
       "      <td>1.2.1\\tBig Oh notation</td>\n",
       "      <td>0.405854</td>\n",
       "      <td>1.2.1</td>\n",
       "      <td>Big oh notation</td>\n",
       "      <td>0.7</td>\n",
       "    </tr>\n",
       "    <tr>\n",
       "      <th>7</th>\n",
       "      <td>35:55</td>\n",
       "      <td>1.2.2\\tImperative programming language</td>\n",
       "      <td>0.245398</td>\n",
       "      <td>1.2.1</td>\n",
       "      <td>Big oh notation</td>\n",
       "      <td>0.7</td>\n",
       "    </tr>\n",
       "    <tr>\n",
       "      <th>8</th>\n",
       "      <td>37:01</td>\n",
       "      <td>1.2.1\\tBig Oh notation</td>\n",
       "      <td>0.533142</td>\n",
       "      <td>1.2.1</td>\n",
       "      <td>Big oh notation</td>\n",
       "      <td>0.7</td>\n",
       "    </tr>\n",
       "    <tr>\n",
       "      <th>9</th>\n",
       "      <td>39:10</td>\n",
       "      <td>1.2.1\\tBig Oh notation</td>\n",
       "      <td>0.416824</td>\n",
       "      <td>1.2.1</td>\n",
       "      <td>Big oh notation</td>\n",
       "      <td>0.7</td>\n",
       "    </tr>\n",
       "    <tr>\n",
       "      <th>10</th>\n",
       "      <td>41:34</td>\n",
       "      <td>1.7\\tWhere can I get the code?</td>\n",
       "      <td>0.285031</td>\n",
       "      <td>1.2.1</td>\n",
       "      <td>Big oh notation</td>\n",
       "      <td>0.7</td>\n",
       "    </tr>\n",
       "    <tr>\n",
       "      <th>11</th>\n",
       "      <td>46:01</td>\n",
       "      <td>1.3\\tPseudocode</td>\n",
       "      <td>0.253124</td>\n",
       "      <td>1.2.1</td>\n",
       "      <td>Big oh notation</td>\n",
       "      <td>0.7</td>\n",
       "    </tr>\n",
       "    <tr>\n",
       "      <th>12</th>\n",
       "      <td>end</td>\n",
       "      <td>1.2.1\\tBig Oh notation</td>\n",
       "      <td>0.453485</td>\n",
       "      <td>1.2.1</td>\n",
       "      <td>Big oh notation</td>\n",
       "      <td>0.7</td>\n",
       "    </tr>\n",
       "  </tbody>\n",
       "</table>"
      ],
      "text/plain": [
       "<IPython.core.display.HTML object>"
      ]
     },
     "metadata": {},
     "output_type": "display_data"
    }
   ],
   "source": [
    "chapters_matching_topics = {}\n",
    "for vid in videos_ids:\n",
    "    print('################ %s ################' % (vid))\n",
    "    paper_name = video_to_paper[vid]\n",
    "    correlations_levels = []\n",
    "    \n",
    "    #################################################\n",
    "    '''Extracting the prelabeled topics to chapters'''\n",
    "    #################################################\n",
    "    '''Extracting all pre labeled topics '''\n",
    "    pre_labeled_titles = df_tp_to_ch.loc[df_tp_to_ch['video id'] == vid,\n",
    "                        ['chapter section','chapter title','chapter confidence']].values.tolist()\n",
    "    \n",
    "    '''Extracting prelabel for main titles'''\n",
    "    '''level = 0 \n",
    "    pre_labeled_main_titles = []\n",
    "    for label in pre_labeled_titles:\n",
    "        # if no correlation was given \n",
    "        main_section = None\n",
    "        main_section_tl = None\n",
    "        if label[0] is not None:\n",
    "            main_section = int(str(label[0]).split('.')[level])\n",
    "            main_section_tl = paper_content[paper_name]['main titles'][main_section -1]\n",
    "        pre_labeled_main_titles.append([main_section,\n",
    "                                        main_section_tl,\n",
    "                                        label[2]])'''\n",
    "    \n",
    "    \n",
    "    '''Finding the correlation between topic and main chapters'''\n",
    "    main_matching_topic,correlation = get_topic_chapter_corr_tfidf(paper_name,\n",
    "                                 paper_mains_as_one_doc[paper_name],\n",
    "                                 videos_division[vid]['topic_words'],\n",
    "                                 videos_division[vid]['topic_shift'],\n",
    "                                 paper_content[paper_name]['main titles']\n",
    "                                                                  )\n",
    "    \n",
    "    correlations_levels.append(correlation)\n",
    "    #print(main_matching_topic)\n",
    "    dominet_chapter =  find_dominent_main_chapter(main_matching_topic,\n",
    "                                                  paper_content[paper_name]['main titles'],\n",
    "                                                 correlation)\n",
    "    print('By the majority vote, the dominent chapter choosed is %s ' %(dominet_chapter))\n",
    "    \n",
    "    #Searching for each topic the most correlated \n",
    "    #subsection to a topic within the dominent main chapter '''\n",
    "    dom_main_cha_index = paper_content[paper_name]['main titles'].index(dominet_chapter)\n",
    "    dom_subsec_text = [paper_subsec_as_one_doc[paper_name][s_i] for s_i in\n",
    "                      paper_sec_within_main_indexes[paper_name][dom_main_cha_index]]\n",
    "    dom_subsec_titles = [paper_content[paper_name]['titles'][tl]\n",
    "                         for tl in paper_sec_within_main_indexes[paper_name][dom_main_cha_index]]\n",
    "    \n",
    "    dom_subsec_text = emphasize_title(paper_name,dom_subsec_text,\n",
    "                                      dom_subsec_titles,lemmatizing = lemmatizing_method)\n",
    "    \n",
    "    subsec_matching_topic,correlation = get_topic_chapter_corr_tfidf(paper_name,\n",
    "                                 dom_subsec_text,\n",
    "                                 videos_division[vid]['topic_words'],\n",
    "                                 videos_division[vid]['topic_shift'],\n",
    "                                 dom_subsec_titles,\n",
    "                                 pre_labeled_title = pre_labeled_titles)\n",
    "    \n",
    "    correlations_levels.append(correlation)\n",
    "    #measure_confidence(vid,correlations_levels)\n",
    "    \n",
    "    \n",
    "    \n",
    "    \n",
    "    "
   ]
  },
  {
   "cell_type": "code",
   "execution_count": null,
   "metadata": {},
   "outputs": [],
   "source": []
  },
  {
   "cell_type": "code",
   "execution_count": null,
   "metadata": {},
   "outputs": [],
   "source": []
  }
 ],
 "metadata": {
  "kernelspec": {
   "display_name": "Python 3",
   "language": "python",
   "name": "python3"
  },
  "language_info": {
   "codemirror_mode": {
    "name": "ipython",
    "version": 3
   },
   "file_extension": ".py",
   "mimetype": "text/x-python",
   "name": "python",
   "nbconvert_exporter": "python",
   "pygments_lexer": "ipython3",
   "version": "3.7.4"
  }
 },
 "nbformat": 4,
 "nbformat_minor": 2
}
