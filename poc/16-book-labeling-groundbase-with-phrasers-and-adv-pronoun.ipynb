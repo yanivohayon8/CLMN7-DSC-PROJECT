{
 "cells": [
  {
   "cell_type": "code",
   "execution_count": 1,
   "metadata": {},
   "outputs": [],
   "source": [
    "import sys\n",
    "sys.path.append('..')\n",
    "from src.data.docx  import read_docx,process_docx,find_content\n",
    "import glob\n",
    "import json\n",
    "import os\n",
    "import pandas as pd\n",
    "import ast\n",
    "import warnings\n",
    "warnings.filterwarnings(\"ignore\")\n",
    "from src.features.segment_transcript import CreateBlocks\n",
    "from functools import reduce\n",
    "import heapq\n",
    "from gensim.corpora import Dictionary\n",
    "from gensim import models\n",
    "from gensim import similarities\n",
    "import re\n",
    "import statistics\n",
    "import numpy as np\n",
    "import seaborn as sns; sns.set()\n",
    "%matplotlib inline\n",
    "import matplotlib.pyplot as plt\n",
    "from sklearn.feature_extraction.text import CountVectorizer"
   ]
  },
  {
   "cell_type": "markdown",
   "metadata": {},
   "source": [
    "# READ BOOKS OF VIDEOS"
   ]
  },
  {
   "cell_type": "code",
   "execution_count": 2,
   "metadata": {},
   "outputs": [],
   "source": [
    "'''Defining CONSTS'''\n",
    "docx_path = '../data/raw/docx'\n",
    "groundbase_dir = '../data/raw/groundbase'\n",
    "transcripts_dir = os.path.join(groundbase_dir,'transcripts')\n",
    "topic_dataset_path = os.path.join(groundbase_dir,'dataset.csv')\n",
    "transcript_filespath = glob.glob(groundbase_dir + '/transcripts/*.json')"
   ]
  },
  {
   "cell_type": "code",
   "execution_count": 3,
   "metadata": {},
   "outputs": [],
   "source": [
    "videos_ids = list(map(lambda fl: fl.split('\\\\')[-1].split('.')[0],glob.glob(docx_path + '/*')))"
   ]
  },
  {
   "cell_type": "code",
   "execution_count": 4,
   "metadata": {},
   "outputs": [],
   "source": [
    "desired_videos =['7kLHJ-F33GI','RIawrYLVdIw','7snJ1mx1EMQ','zWg7U0OEAoE','tORLeHHtazM'] #['zWg7U0OEAoE','tORLeHHtazM'] #['7kLHJ-F33GI','RIawrYLVdIw','7snJ1mx1EMQ']\n",
    "videos_ids = list(filter(lambda x: x in desired_videos,videos_ids))"
   ]
  },
  {
   "cell_type": "code",
   "execution_count": 5,
   "metadata": {},
   "outputs": [],
   "source": [
    "#video_docx = [glob.glob(os.path.join(docx_path,vid + '/*.docx'))[0] for vid in videos_ids]\n",
    "#docx_db =[read_docx(path) for path in video_docx]"
   ]
  },
  {
   "cell_type": "code",
   "execution_count": 6,
   "metadata": {},
   "outputs": [],
   "source": [
    "f_read = {\n",
    "    'statbook':'statbook',\n",
    "    'Dsa':'Dsa'\n",
    "}\n",
    "\n",
    "docxs_chapter_keyword = {\n",
    "    'statbook':'Topic',\n",
    "    'Dsa': 'Chapter'\n",
    "}"
   ]
  },
  {
   "cell_type": "code",
   "execution_count": 7,
   "metadata": {},
   "outputs": [],
   "source": [
    "video_to_paper = {}\n",
    "paper_content ={}\n",
    "for vid in videos_ids:\n",
    "    doc_path = glob.glob(os.path.join(docx_path,vid + '/*.docx'))[0]\n",
    "    doc_name = doc_path.split('\\\\')[-1].split('.')[0]\n",
    "    video_to_paper[vid] = doc_name    \n",
    "    if doc_name not in paper_content.keys():    \n",
    "        full_text,font_sizes = read_docx(doc_path)\n",
    "        paper_content[doc_name] = find_content(f_read[doc_name],\n",
    "                                               full_text,\n",
    "                                               font_sizes,\n",
    "                                               docxs_chapter_keyword[doc_name])"
   ]
  },
  {
   "cell_type": "code",
   "execution_count": 8,
   "metadata": {},
   "outputs": [
    {
     "data": {
      "text/plain": [
       "\"#transcript_filespath\\n#videos_ids\\nfrom docx import *\\nword_document = Document(doc_path)\\np_sent = re.compile('\\\\w+')\\nfull_text = []\\nfont_sizes = []\\nfor para in word_document.paragraphs:\\n    for i,run in enumerate(para.runs):        \\n        matching = p_sent.match(run.text)\\n\\n        # see if there is a number or letter ( it is not a trash)\\n        if matching is not None and run.text is not None and run.font.size is not None:\\n                full_text.append(re.sub('[\\t\\n\\x08\\r]','',run.text))\\n\""
      ]
     },
     "execution_count": 8,
     "metadata": {},
     "output_type": "execute_result"
    }
   ],
   "source": [
    "\"\"\"#transcript_filespath\n",
    "#videos_ids\n",
    "from docx import *\n",
    "word_document = Document(doc_path)\n",
    "p_sent = re.compile('\\w+')\n",
    "full_text = []\n",
    "font_sizes = []\n",
    "for para in word_document.paragraphs:\n",
    "    for i,run in enumerate(para.runs):        \n",
    "        matching = p_sent.match(run.text)\n",
    "\n",
    "        # see if there is a number or letter ( it is not a trash)\n",
    "        if matching is not None and run.text is not None and run.font.size is not None:\n",
    "                full_text.append(re.sub('[\\t\\n\\b\\r]','',run.text))\n",
    "\"\"\""
   ]
  },
  {
   "cell_type": "markdown",
   "metadata": {},
   "source": [
    "# RESTORE RESULTS FROM TRAINING"
   ]
  },
  {
   "cell_type": "code",
   "execution_count": 9,
   "metadata": {},
   "outputs": [],
   "source": [
    "'''Select transcript for only wanted videos'''\n",
    "transcript_filespath = list(filter(lambda x: x.split('\\\\')[-1].split('.')[0] in videos_ids,transcript_filespath))\n",
    "\n",
    "'''Read the transcript'''\n",
    "transcripts_jsons = {}\n",
    "for fl in transcript_filespath:\n",
    "    with open(fl,encoding=\"utf8\") as f:\n",
    "        transcript =ast.literal_eval(f.read()) #json.load(f)\n",
    "        vid = fl.split('\\\\')[-1].split('.')[0]\n",
    "        #print(vid)\n",
    "        transcripts_jsons[vid] = transcript\n",
    "#print(transcripts_jsons)\n",
    "\n",
    "'''Read the videos metadata to perform on them the segmentation'''\n",
    "df_videos = pd.read_csv(topic_dataset_path)\n",
    "\n",
    "''' Transfer topic shifts time to seconds units instead HH:MM:SS'''\n",
    "def topic_shifts_seconds(topic_shifts):\n",
    "    tp_shift_sec=[]\n",
    "    for tp in topic_shifts:\n",
    "        intervals = tp.split(':')\n",
    "        seconds = int(intervals[2])\n",
    "        minutes = int(intervals[1]) * 60\n",
    "        hours = int(intervals[0]) * 60 *60\n",
    "        tp_shift_sec.append(seconds + minutes + hours)\n",
    "    return tp_shift_sec\n",
    "for video_id in transcripts_jsons.keys():    \n",
    "    df_videos.at[df_videos['video id'] == video_id,'topic shifts(ends)'] =\\\n",
    "    topic_shifts_seconds(\\\n",
    "                         df_videos[df_videos['video id'] == \\\n",
    "                                   video_id]['topic shifts(ends)'])\n",
    "    \n",
    "    \n"
   ]
  },
  {
   "cell_type": "code",
   "execution_count": 10,
   "metadata": {},
   "outputs": [],
   "source": [
    "def boundryevaluation(curresults,ground_base,accurrcy_shift = 30):\n",
    "        true_positive = 0\n",
    "        false_negative = 0\n",
    "        false_positive = 0 \n",
    "        true_positive_list_debug = []\n",
    "        #false_negative_list_debug = []\n",
    "        false_positive_list_debug = []\n",
    "        results = curresults[:]\n",
    "        \n",
    "        \n",
    "        #print('curresults %s' %(curresults))\n",
    "        #print('ground_base %s ' %(ground_base))\n",
    "        \n",
    "        for grb in ground_base:\n",
    "            is_false_positive = True\n",
    "            for res in results:     \n",
    "                if abs(res - grb) < accurrcy_shift:\n",
    "                    is_false_positive = False\n",
    "                    true_positive_list_debug.append(res)\n",
    "                    true_positive+=1\n",
    "                    results.remove(res)\n",
    "                    break   \n",
    "            if is_false_positive:\n",
    "                false_positive_list_debug.append(grb)\n",
    "                false_positive+=1\n",
    "                \n",
    "        #print(\"TP: \" + str(true_positive_list_debug))\n",
    "        #print(\"FP: \" + str(false_positive_list_debug))\n",
    "        #print(\"FN: \" + str(curresults))\n",
    "        #print('true_positive : %s ' %(true_positive))\n",
    "        false_negative = len(results) # make sure the true positive are removed from here \n",
    "        recall_rate = true_positive/(true_positive + false_negative )\n",
    "        precision_rate = true_positive/(true_positive + false_positive)\n",
    "        #print(\"TP: %s , FP: %s, FN: %s\" %(true_positive,false_positive,false_negative))\n",
    "        #print(\"precision rate : %s, recall rate : %s \" % (precision_rate,recall_rate))\n",
    "        return precision_rate"
   ]
  },
  {
   "cell_type": "code",
   "execution_count": 11,
   "metadata": {
    "scrolled": true
   },
   "outputs": [
    {
     "name": "stdout",
     "output_type": "stream",
     "text": [
      "7kLHJ-F33GI\n",
      "[170, 299, 647, 735, 871, 1161, 1433, 1662, 1858, 2437]\n",
      "{'text': 'these socials', 'start': 2557.07, 'duration': 3.56}\n",
      "7snJ1mx1EMQ\n",
      "[390, 840, 1140, 1260, 1365, 1565]\n",
      "{'text': 'we will continue in the subsequent model Thank\\nyou very much', 'start': 1948.799, 'duration': 8.81}\n",
      "RIawrYLVdIw\n",
      "[265, 519, 1329, 1833, 2220, 2308, 2545]\n",
      "{'text': 'see you next week', 'start': 2926.78, 'duration': 3.39}\n",
      "tORLeHHtazM\n",
      "[91, 410, 513, 807, 966, 1394, 1604, 1942, 2234]\n",
      "{'text': 'of trees.', 'start': 2592.02, 'duration': 1.38}\n",
      "zWg7U0OEAoE\n",
      "[149, 233, 503, 791, 1476, 1836, 2036, 2155, 2221, 2350, 2494, 2761]\n",
      "{'text': 'and terminology that we be following with\\nthis course.', 'start': 3175.91, 'duration': 34.75}\n"
     ]
    }
   ],
   "source": [
    "videos_division = {}\n",
    "\n",
    "for vid in videos_ids:\n",
    "    vid_words = None\n",
    "    vid_shifts = None\n",
    "    shifts = df_videos.loc[df_videos['video id'] == vid,'topic shifts(ends)'].values.tolist()\n",
    "    groundbase = shifts[:-2]\n",
    "    transcripts = transcripts_jsons[vid]\n",
    "    print(vid)\n",
    "    print(groundbase)\n",
    "    print(transcripts[-1])\n",
    "    block_handler = CreateBlocks(transcripts)\n",
    "    block_as_topics = block_handler.partion_by_timestamp(groundbase)\n",
    "    vid_words = [list(blk) for blk in block_as_topics]\n",
    "    groundbase.append('end')\n",
    "    videos_division[vid] = {'topic_words':vid_words,'topic_shift':groundbase}"
   ]
  },
  {
   "cell_type": "code",
   "execution_count": 12,
   "metadata": {},
   "outputs": [],
   "source": [
    "#videos_division"
   ]
  },
  {
   "cell_type": "markdown",
   "metadata": {},
   "source": [
    "# EXTRACT MAIN CHAPTERS OF BOOKS AND ORAGANIZE THE PAPER AS DIFFERENT DOCUMENTS GROUPS"
   ]
  },
  {
   "cell_type": "code",
   "execution_count": 13,
   "metadata": {},
   "outputs": [
    {
     "data": {
      "text/plain": [
       "dict_keys(['corpus', 'titles', 'main titles'])"
      ]
     },
     "execution_count": 13,
     "metadata": {},
     "output_type": "execute_result"
    }
   ],
   "source": [
    "paper_content[doc_name].keys()"
   ]
  },
  {
   "cell_type": "code",
   "execution_count": 14,
   "metadata": {},
   "outputs": [],
   "source": [
    "'''Find the following for each paper:\n",
    "    1) main chapter title index. for example [10,15....]\n",
    "    2) range of subsection within each main chapter . for example [(0,9),(11,14)...]\n",
    "    \n",
    "    '''\n",
    "\n",
    "paper_mainchapter_indexes = {}\n",
    "paper_sec_within_main_indexes = {}\n",
    "paper_mains_as_one_doc = {}\n",
    "paper_subsec_as_one_doc = {}\n",
    "\n",
    "for doc_name in paper_content.keys():\n",
    "    '''Find the main chapter indexes in the list of the overall titles'''\n",
    "    mainchapter_indexes = [paper_content[doc_name]['titles'].index(ch_title)\n",
    "                           for ch_title in paper_content[doc_name]['main titles']]\n",
    "    '''Find the subsection indexes range within each main chapter '''\n",
    "    subsec_mainchapter_indexes = [range(mainchapter_indexes[index],mainchapter_indexes[index + 1])\n",
    "                                  for index in range(len(mainchapter_indexes) - 1)]\n",
    "    subsec_mainchapter_indexes.append(range(mainchapter_indexes[-1],\n",
    "                                            len(paper_content[doc_name]['titles'])))\n",
    "    paper_mainchapter_indexes[doc_name] = mainchapter_indexes\n",
    "    paper_sec_within_main_indexes[doc_name] = subsec_mainchapter_indexes\n",
    "    \n",
    "    \n",
    "    '''Making each chapter as a one documents'''\n",
    "    \n",
    "    '''Union all the documents in a section into single document'''\n",
    "    paper_subsec_as_one_doc[doc_name] = [list(reduce(lambda doc,acc:doc + acc,sec,[]))\n",
    "                                         for sec in paper_content[doc_name]['corpus']]\n",
    "    '''Union all the sub section in a main chapter into one document'''\n",
    "    paper_mains_as_one_doc[doc_name] = [list(reduce(lambda acc,s_i:\n",
    "                                                    paper_subsec_as_one_doc[doc_name][s_i]+acc,subsec_indexes,[]))\n",
    "                                        for subsec_indexes in paper_sec_within_main_indexes[doc_name]]"
   ]
  },
  {
   "cell_type": "code",
   "execution_count": 15,
   "metadata": {},
   "outputs": [],
   "source": [
    "#paper_subsec_as_one_doc['statbook'][0]"
   ]
  },
  {
   "cell_type": "code",
   "execution_count": 16,
   "metadata": {},
   "outputs": [
    {
     "name": "stdout",
     "output_type": "stream",
     "text": [
      "flnal\n"
     ]
    }
   ],
   "source": [
    "'''Debug'''\n",
    "\"\"\"\n",
    "print(paper_content['statbook']['main titles'])\n",
    "print((paper_content['statbook']['titles']))\n",
    "print(len(paper_content['statbook']['titles']))# \n",
    "print(len(paper_content['statbook']['corpus']))#members of each element:section corpus\n",
    "print(len(paper_content['statbook']['corpus'][0]))#members of each element: documents\n",
    "print(len(paper_content['statbook']['corpus'][0][0])) #of each element words\n",
    "print(paper_sec_within_main_indexes['statbook'])\n",
    "\n",
    "\n",
    "#debug\n",
    "print(sum([len(paper_subsec_as_one_doc['statbook'][s]) for s in range(0,10)]))\n",
    "print(len(paper_mains_as_one_doc['statbook'][0]))\n",
    "print(len(paper_mains_as_one_doc['statbook']))\n",
    "\n",
    "\n",
    "\n",
    "\"\"\"\n",
    "\"\"\"#print(len(paper_subsec_as_one_doc['statbook']))\n",
    "print((subsec_mainchapter_indexes))\n",
    "print(len(paper_content['Dsa']['titles']))\n",
    "print(len(paper_subsec_as_one_doc[doc_name]))\n",
    "print(len(paper_sec_within_main_indexes[doc_name]))\n",
    "print(paper_content['Dsa']['titles'][-1])\n",
    "print(paper_subsec_as_one_doc[doc_name][-2])\n",
    "\"\"\"\n",
    "\"\"\"print(paper_content['Dsa']['main titles'][0])\n",
    "print(len(paper_mains_as_one_doc['Dsa'][0][0]))\n",
    "print((paper_mains_as_one_doc['Dsa'][0][0]))\n",
    "#print(len(paper_sec_within_main_indexes['Dsa'][0][0]))\n",
    "print(len(paper_subsec_as_one_doc['Dsa'][0]))\n",
    "print((paper_subsec_as_one_doc['Dsa'][0][0]))\n",
    "print(len(videos_division['tORLeHHtazM']['topic_words'][0][0]))\n",
    "print((videos_division['tORLeHHtazM']['topic_words'][0][0]))\"\"\"\n",
    "\n",
    "#paper_content['Dsa']['corpus']\n",
    "print((paper_mains_as_one_doc['Dsa'][0][0]))"
   ]
  },
  {
   "cell_type": "code",
   "execution_count": null,
   "metadata": {},
   "outputs": [],
   "source": []
  },
  {
   "cell_type": "markdown",
   "metadata": {},
   "source": [
    "# FIND CORRELATION BETWEEN MAIN CHAPTERES AND FOUNDED TOPICS IN THE VIDEO "
   ]
  },
  {
   "cell_type": "code",
   "execution_count": 17,
   "metadata": {},
   "outputs": [],
   "source": [
    "def find_top_words_of_topic(topic_words,chapter_titles=None):\n",
    "    for tp_i,tp_words in enumerate(topic_words):\n",
    "        #\n",
    "        raw_text = ' '.join(tp_words)\n",
    "        myvectorizer = CountVectorizer()\n",
    "        mytf = myvectorizer.fit_transform([raw_text]).toarray()\n",
    "        #print(mytf)\n",
    "        maxes = heapq.nlargest(3,mytf[0])\n",
    "        indexes = []\n",
    "        for i,bal in enumerate(mytf[0]):\n",
    "            if bal in maxes:\n",
    "                indexes.append(i)\n",
    "        ws = [myvectorizer.get_feature_names()[_] for i,_ in enumerate(indexes)]\n",
    "        \n",
    "        if chapter_titles is None:\n",
    "            print('top words for topic %s are %s' %(tp_i,ws))\n",
    "        else:\n",
    "            print('top words for topic %s are %s' %(chapter_titles[tp_i],ws))"
   ]
  },
  {
   "cell_type": "code",
   "execution_count": 18,
   "metadata": {},
   "outputs": [],
   "source": [
    "from nltk.corpus import stopwords\n",
    "from gensim.utils import simple_preprocess\n",
    "import spacy\n",
    "stop_words = stopwords.words('english')\n",
    "nlp = spacy.load('en',disable=['parser','ner'])\n",
    "allowed_postags=['NOUN', 'ADJ', 'VERB']"
   ]
  },
  {
   "cell_type": "code",
   "execution_count": 19,
   "metadata": {},
   "outputs": [],
   "source": [
    "def emphasize_title(book_chapters,titles,factor_enrich = 20):\n",
    "    chapters_enriched = book_chapters[:]\n",
    "    \n",
    "    for index,tl in enumerate(titles):\n",
    "        tl_text_no_punc = simple_preprocess(tl,deacc=True) \n",
    "        tokenized_text_non_stop_words = [ word for word in tl_text_no_punc \n",
    "                                         if word not in stop_words]\n",
    "        text_non_stop_words = ' '.join(tokenized_text_non_stop_words)\n",
    "        tokenized_lemmas = nlp(text_non_stop_words)\n",
    "        tokenized_lemmas = [token.lemma_ for token in tokenized_lemmas \\\n",
    "                            if token.pos_ in allowed_postags]\n",
    "        chapters_enriched[index] = chapters_enriched[index] + tokenized_lemmas * factor_enrich\n",
    "    return chapters_enriched"
   ]
  },
  {
   "cell_type": "code",
   "execution_count": 49,
   "metadata": {},
   "outputs": [],
   "source": [
    "def get_topic_chapter_corr_tfidf(paper_name,book_chapters,\n",
    "                                 vid_topics_words,vid_topics_shift,\n",
    "                                 dispaly_titles):\n",
    "    raw_book_video = []\n",
    "    for tp_vid in vid_topics_words:\n",
    "        raw_book_video = raw_book_video + [tp_vid]\n",
    "    \n",
    "    for ch in book_chapters:\n",
    "        raw_book_video = raw_book_video + [ch]\n",
    "\n",
    "    # creating dictionary of all of the words in the corpus of the video and the paper\n",
    "    #print(len(raw_book_video))\n",
    "    dictionary = Dictionary(raw_book_video)\n",
    "    #dictionary = Dictionary(book_chapters)\n",
    "    \n",
    "    #ch_dict = Dictionary(book_chapters)\n",
    "    #vid_dict = Dictionary(vid_topics_words)\n",
    "    \n",
    "    the_dictionary = dictionary\n",
    "    \n",
    "    #whole_corpus = vid_topics_words + book_chapters\n",
    "    #bgw_corpus = [dictionary.doc2bow(doc) for doc in whole_corpus]\n",
    "    bgw_chapter = [the_dictionary.doc2bow(doc) for doc in book_chapters]\n",
    "    bgw_vids = [the_dictionary.doc2bow(doc) for doc in vid_topics_words]\n",
    "    \n",
    "    '''Calculate the pivot '''\n",
    "    _tmp =  [len(list(set([w for w in ch]))) for ch in book_chapters]\n",
    "    book_pivot = sum(_tmp)/len(_tmp)\n",
    "    _tmp = [len(list(set([w for w in ch]))) for ch in vid_topics_words]\n",
    "    vid_pivot = sum(_tmp)/len(_tmp)\n",
    "    \n",
    "    tf_idf_model_ch = models.TfidfModel(bgw_chapter,\n",
    "                                        dictionary=the_dictionary#,\n",
    "                                        #pivot=book_pivot,\n",
    "                                        #slope=0.8,\n",
    "                                        #smartirs='nnc'\n",
    "                                       ) #,\n",
    "    tf_idf_model_vid = models.TfidfModel(bgw_vids,\n",
    "                                         dictionary=the_dictionary#,\n",
    "                                         #pivot=vid_pivot,\n",
    "                                         #slope=0.4\n",
    "                                        )#,smartirs='lfc'\n",
    "    \n",
    "    index_sim = similarities.SparseMatrixSimilarity(tf_idf_model_ch[bgw_chapter],\n",
    "                                                    num_features=len(the_dictionary))\n",
    "    \n",
    "    correlation = [[s for s in index_sim[tf_idf_model_vid[doc]]] for doc in bgw_vids]\n",
    "    #print(tf_idf_model[bgw_vids])\n",
    "    \n",
    "    # find the top n words in the topic (in the video)\n",
    "    #print('$$$$$$$$$$$$$$top words of video topic$$$$$$$$$$$$$$')\n",
    "    #find_top_words_of_topic(videos_division[vid]['topic_words'])\n",
    "    #print('$$$$$$$$$$$$$$top words of book chapters$$$$$$$$$$$$$$')\n",
    "    #find_top_words_of_topic(book_chapters,chapter_titles=dispaly_titles)\n",
    "    \n",
    "    \n",
    "    \n",
    "    # normalizing the correlation between each topic and chapter \n",
    "    for i_t in range(len(correlation)):\n",
    "        sum_ = sum(correlation[i_t])\n",
    "        for ch_index in range(len(correlation[i_t])):\n",
    "            correlation[i_t][ch_index] = correlation[i_t][ch_index]/sum_\n",
    "    \n",
    "    corr_as_row = reduce(lambda x,y: x+y,correlation,[] ) # to get the global max in min\n",
    "    sns.heatmap(correlation,vmin=min(corr_as_row),vmax=max(corr_as_row))\n",
    "    plt.show()\n",
    "    \n",
    "    \n",
    "    \n",
    "    # find the cha\n",
    "    ch_matching_top = []\n",
    "    #print(len(correlation[0]))\n",
    "    for i,corr in enumerate(correlation):\n",
    "        max_cor = max(corr) # max correlation with that topic\n",
    "        shift = vid_topics_shift[i]\n",
    "\n",
    "        #ch_matching_top.append(paper_mainchapter_indexes[paper_name][corr.index(max_cor)])\n",
    "        ch_matching_top.append(dispaly_titles[corr.index(max_cor)])\n",
    "        \n",
    "        print (\" video_shift index %s at %s , chapter title %s ( index %s) \" \n",
    "               %(i,\n",
    "                 sec_to_min(shift),\n",
    "                 dispaly_titles[corr.index(max_cor)],\n",
    "                 corr.index(max_cor)\n",
    "                 ))\n",
    "    return ch_matching_top,correlation\n",
    "\n",
    "def find_dominent_main_chapter(ch_tp_corr,titles,correlation):\n",
    "    \n",
    "    '''Find the frequency of each chapter'''\n",
    "    chapter_matching_counts_max = [max([ch_tp_corr.count(ch) for ch in ch_tp_corr])]\n",
    "    for max_count in chapter_matching_counts_max:\n",
    "        #print(\"####### #######\")\n",
    "        '''Find the most frequent chapter'''\n",
    "        #print(([ch for ch in ch_tp_corr if ch_tp_corr.count(ch) == max_count]))\n",
    "        dominent_chapters = list(set([ch for ch in ch_tp_corr if ch_tp_corr.count(ch) == max_count]))\n",
    "        #print(dominent_chapters)\n",
    "        \n",
    "        # if we have absulote majority on topic\n",
    "        if len(dominent_chapters) == 1:\n",
    "            return dominent_chapters[0]\n",
    "        else:\n",
    "            \"\"\"max_value = 0\n",
    "            title_max =None\n",
    "            for j,ch in dominent_chapters:\n",
    "                cor = sum(ch_tp_corr[j])\n",
    "                if cor > max_value:\n",
    "                    max_value= cor\n",
    "                    title_max = ch\n",
    "            return title_max\"\"\"\n",
    "            \n",
    "            # draw between topics, decide which one by taking this with the high variance\n",
    "            index_winner = 0\n",
    "            df_ch_corr = pd.DataFrame.from_records(correlation)\n",
    "            for j_dom in range(len(dominent_chapters)):\n",
    "                first = df_ch_corr.var()[titles.index(dominent_chapters[index_winner])]\n",
    "                #print(first)\n",
    "                second = df_ch_corr.var()[titles.index(dominent_chapters[j_dom])]\n",
    "                #print(second)\n",
    "                if first < second:\n",
    "                    index_winner = j_dom\n",
    "            return (dominent_chapters[index_winner])\n",
    "        \n",
    "            \n",
    "        \n",
    "def sec_to_min(seconds):\n",
    "    if seconds == 'end':\n",
    "        return 'end'\n",
    "    return (\"%02d:%02d\"%(seconds//60,seconds%60))\n",
    "\n",
    "# correlations : correaltions of all levels\n",
    "def measure_error(correlations):\n",
    "    n_vid_topic = len(correlations[0]) # number of video topics that were found\n",
    "    topics_errs = []\n",
    "    for topic_index in range(n_vid_topic):\n",
    "        topic_pr = 0\n",
    "        for map_index,correlation_map in enumerate(correlations):\n",
    "            '''Calculate soft max on the correlation of the current topic to the chapters'''\n",
    "            #print('correlation %s map %s' % (topic_index,correlation_map[topic_index]))\n",
    "            sum_ = sum(correlation_map[topic_index])\n",
    "            max_corr_ch_val = max(correlation_map[topic_index])\n",
    "            #most_corr_ch_index = correlation_map[topic_index].index(max_corr_ch_val)\n",
    "            most_corr_ch_val = max_corr_ch_val/sum_\n",
    "            #print('max_val : %s sum_ : %s value from softmax : %s '%(max_corr_ch_val,sum_,most_corr_ch_val))\n",
    "            '''scaling the max value by the cosine value of the max correlated'''\n",
    "            most_corr_ch_val = most_corr_ch_val * max_corr_ch_val\n",
    "            '''adding and scaling the given value to the overall rate of the topic'''\n",
    "            topic_pr += (2**(-(map_index - 1))) * most_corr_ch_val\n",
    "        print(\"For topic number %s the confidence is %s \" % (topic_index,topic_pr))\n",
    "        topics_errs.append(topic_pr)"
   ]
  },
  {
   "cell_type": "code",
   "execution_count": 50,
   "metadata": {},
   "outputs": [
    {
     "name": "stdout",
     "output_type": "stream",
     "text": [
      "################ 7kLHJ-F33GI ################\n"
     ]
    },
    {
     "data": {
      "image/png": "[encoded data removed]",
      "text/plain": [
       "<Figure size 432x288 with 2 Axes>"
      ]
     },
     "metadata": {
      "needs_background": "light"
     },
     "output_type": "display_data"
    },
    {
     "name": "stdout",
     "output_type": "stream",
     "text": [
      " video_shift index 0 at 02:50 , chapter title Maximum Likelihood Estimation ( index 14) \n",
      " video_shift index 1 at 04:59 , chapter title Maximum Likelihood Estimation ( index 14) \n",
      " video_shift index 2 at 10:47 , chapter title Random Variables and Distribution Functions ( index 6) \n",
      " video_shift index 3 at 12:15 , chapter title Maximum Likelihood Estimation ( index 14) \n",
      " video_shift index 4 at 14:31 , chapter title Interval Estimation ( index 15) \n",
      " video_shift index 5 at 19:21 , chapter title Interval Estimation ( index 15) \n",
      " video_shift index 6 at 23:53 , chapter title Unbiased Estimation ( index 13) \n",
      " video_shift index 7 at 27:42 , chapter title Simple Hypotheses ( index 16) \n",
      " video_shift index 8 at 30:58 , chapter title The Expected Value ( index 7) \n",
      " video_shift index 9 at 40:37 , chapter title Unbiased Estimation ( index 13) \n",
      " video_shift index 10 at end , chapter title Method of Moments ( index 12) \n",
      "Maximum Likelihood Estimation\n"
     ]
    },
    {
     "data": {
      "image/png": "[encoded data removed]",
      "text/plain": [
       "<Figure size 432x288 with 2 Axes>"
      ]
     },
     "metadata": {
      "needs_background": "light"
     },
     "output_type": "display_data"
    },
    {
     "name": "stdout",
     "output_type": "stream",
     "text": [
      " video_shift index 0 at 02:50 , chapter title 15.6 Multidimensional Estimation ( index 6) \n",
      " video_shift index 1 at 04:59 , chapter title 15.1 ( index 1) \n",
      " video_shift index 2 at 10:47 , chapter title 15.1 ( index 1) \n",
      " video_shift index 3 at 12:15 , chapter title 15.2 Examples ( index 2) \n",
      " video_shift index 4 at 14:31 , chapter title 15.6 Multidimensional Estimation ( index 6) \n",
      " video_shift index 5 at 19:21 , chapter title 15.6 Multidimensional Estimation ( index 6) \n",
      " video_shift index 6 at 23:53 , chapter title 15.4 Asymptotic Properties ( index 4) \n",
      " video_shift index 7 at 27:42 , chapter title 15.6 Multidimensional Estimation ( index 6) \n",
      " video_shift index 8 at 30:58 , chapter title 15.6 Multidimensional Estimation ( index 6) \n",
      " video_shift index 9 at 40:37 , chapter title 15.2 Examples ( index 2) \n",
      " video_shift index 10 at end , chapter title 15.6 Multidimensional Estimation ( index 6) \n",
      "For topic number 0 the confidence is 0.22454897509726138 \n",
      "For topic number 1 the confidence is 0.11834512301900443 \n",
      "For topic number 2 the confidence is 0.10811310299137014 \n",
      "For topic number 3 the confidence is 0.07907600774758543 \n",
      "For topic number 4 the confidence is 0.21591812068827948 \n",
      "For topic number 5 the confidence is 0.16677724823706125 \n",
      "For topic number 6 the confidence is 0.2120489152699509 \n",
      "For topic number 7 the confidence is 0.11932298980017063 \n",
      "For topic number 8 the confidence is 0.07217532406051634 \n",
      "For topic number 9 the confidence is 0.12557096663228134 \n",
      "For topic number 10 the confidence is 0.15429109138450986 \n",
      "################ 7snJ1mx1EMQ ################\n"
     ]
    },
    {
     "data": {
      "image/png": "[encoded data removed]",
      "text/plain": [
       "<Figure size 432x288 with 2 Axes>"
      ]
     },
     "metadata": {
      "needs_background": "light"
     },
     "output_type": "display_data"
    },
    {
     "name": "stdout",
     "output_type": "stream",
     "text": [
      " video_shift index 0 at 06:30 , chapter title The Central Limit Theorem ( index 10) \n",
      " video_shift index 1 at 14:00 , chapter title Random Variables and Distribution Functions ( index 6) \n",
      " video_shift index 2 at 19:00 , chapter title Maximum Likelihood Estimation ( index 14) \n",
      " video_shift index 3 at 21:00 , chapter title Displaying Data ( index 0) \n",
      " video_shift index 4 at 22:45 , chapter title Maximum Likelihood Estimation ( index 14) \n",
      " video_shift index 5 at 26:05 , chapter title Maximum Likelihood Estimation ( index 14) \n",
      " video_shift index 6 at end , chapter title Maximum Likelihood Estimation ( index 14) \n",
      "Maximum Likelihood Estimation\n"
     ]
    },
    {
     "data": {
      "image/png": "[encoded data removed]",
      "text/plain": [
       "<Figure size 432x288 with 2 Axes>"
      ]
     },
     "metadata": {
      "needs_background": "light"
     },
     "output_type": "display_data"
    },
    {
     "name": "stdout",
     "output_type": "stream",
     "text": [
      " video_shift index 0 at 06:30 , chapter title 15.2 Examples ( index 2) \n",
      " video_shift index 1 at 14:00 , chapter title 15.1 ( index 1) \n",
      " video_shift index 2 at 19:00 , chapter title 15.2 Examples ( index 2) \n",
      " video_shift index 3 at 21:00 , chapter title 15.2 Examples ( index 2) \n",
      " video_shift index 4 at 22:45 , chapter title 15.2 Examples ( index 2) \n",
      " video_shift index 5 at 26:05 , chapter title 15.6 Multidimensional Estimation ( index 6) \n",
      " video_shift index 6 at end , chapter title 15.2 Examples ( index 2) \n",
      "For topic number 0 the confidence is 0.12593070530959732 \n",
      "For topic number 1 the confidence is 0.18705238651953102 \n",
      "For topic number 2 the confidence is 0.1152638478771443 \n",
      "For topic number 3 the confidence is 0.3980911312043644 \n",
      "For topic number 4 the confidence is 0.226234088853161 \n",
      "For topic number 5 the confidence is 0.1125317600667864 \n",
      "For topic number 6 the confidence is 0.14968298474213293 \n",
      "################ RIawrYLVdIw ################\n"
     ]
    },
    {
     "data": {
      "image/png": "[encoded data removed]",
      "text/plain": [
       "<Figure size 432x288 with 2 Axes>"
      ]
     },
     "metadata": {
      "needs_background": "light"
     },
     "output_type": "display_data"
    },
    {
     "name": "stdout",
     "output_type": "stream",
     "text": [
      " video_shift index 0 at 04:25 , chapter title Overview of Estimation ( index 11) \n",
      " video_shift index 1 at 08:39 , chapter title Producing Data ( index 3) \n",
      " video_shift index 2 at 22:09 , chapter title Maximum Likelihood Estimation ( index 14) \n",
      " video_shift index 3 at 30:33 , chapter title Overview of Estimation ( index 11) \n",
      " video_shift index 4 at 37:00 , chapter title Overview of Estimation ( index 11) \n",
      " video_shift index 5 at 38:28 , chapter title Overview of Estimation ( index 11) \n",
      " video_shift index 6 at 42:25 , chapter title Overview of Estimation ( index 11) \n",
      " video_shift index 7 at end , chapter title Overview of Estimation ( index 11) \n",
      "Overview of Estimation\n"
     ]
    },
    {
     "data": {
      "image/png": "[encoded data removed]",
      "text/plain": [
       "<Figure size 432x288 with 2 Axes>"
      ]
     },
     "metadata": {
      "needs_background": "light"
     },
     "output_type": "display_data"
    },
    {
     "name": "stdout",
     "output_type": "stream",
     "text": [
      " video_shift index 0 at 04:25 , chapter title 12.3 Bayesian Statistics ( index 3) \n",
      " video_shift index 1 at 08:39 , chapter title 12.3 Bayesian Statistics ( index 3) \n",
      " video_shift index 2 at 22:09 , chapter title 12.3 Bayesian Statistics ( index 3) \n",
      " video_shift index 3 at 30:33 , chapter title 12.3 Bayesian Statistics ( index 3) \n",
      " video_shift index 4 at 37:00 , chapter title 12.3 Bayesian Statistics ( index 3) \n",
      " video_shift index 5 at 38:28 , chapter title 12.3 Bayesian Statistics ( index 3) \n",
      " video_shift index 6 at 42:25 , chapter title 12.3 Bayesian Statistics ( index 3) \n",
      " video_shift index 7 at end , chapter title Overview of Estimation ( index 0) \n",
      "For topic number 0 the confidence is 0.2619595159376189 \n",
      "For topic number 1 the confidence is 0.2018183848214699 \n",
      "For topic number 2 the confidence is 0.1865811035499908 \n",
      "For topic number 3 the confidence is 0.18330926178177487 \n",
      "For topic number 4 the confidence is 0.15135077533396116 \n",
      "For topic number 5 the confidence is 0.29472385812579893 \n",
      "For topic number 6 the confidence is 0.6061527339845554 \n",
      "For topic number 7 the confidence is 0.13269906909138351 \n",
      "################ tORLeHHtazM ################\n"
     ]
    },
    {
     "data": {
      "image/png": "[encoded data removed]",
      "text/plain": [
       "<Figure size 432x288 with 2 Axes>"
      ]
     },
     "metadata": {
      "needs_background": "light"
     },
     "output_type": "display_data"
    },
    {
     "name": "stdout",
     "output_type": "stream",
     "text": [
      " video_shift index 0 at 01:31 , chapter title Sets ( index 4) \n",
      " video_shift index 1 at 06:50 , chapter title Binary Search Tree ( index 2) \n",
      " video_shift index 2 at 08:33 , chapter title Introduction ( index 0) \n",
      " video_shift index 3 at 13:27 , chapter title Binary Search Tree ( index 2) \n",
      " video_shift index 4 at 16:06 , chapter title Binary Search Tree ( index 2) \n",
      " video_shift index 5 at 23:14 , chapter title AVL Tree ( index 6) \n",
      " video_shift index 6 at 26:44 , chapter title AVL Tree ( index 6) \n",
      " video_shift index 7 at 32:22 , chapter title Binary Search Tree ( index 2) \n",
      " video_shift index 8 at 37:14 , chapter title Binary Search Tree ( index 2) \n",
      " video_shift index 9 at end , chapter title Linked Lists ( index 1) \n",
      "Binary Search Tree\n"
     ]
    },
    {
     "data": {
      "image/png": "[encoded data removed]",
      "text/plain": [
       "<Figure size 432x288 with 2 Axes>"
      ]
     },
     "metadata": {
      "needs_background": "light"
     },
     "output_type": "display_data"
    },
    {
     "name": "stdout",
     "output_type": "stream",
     "text": [
      " video_shift index 0 at 01:31 , chapter title 3.2\tSearching ( index 2) \n",
      " video_shift index 1 at 06:50 , chapter title 3.4\tFinding the parent of a given node ( index 4) \n",
      " video_shift index 2 at 08:33 , chapter title 3.7.2\tPostorder ( index 9) \n",
      " video_shift index 3 at 13:27 , chapter title 3.7.4\tBreadth First ( index 11) \n",
      " video_shift index 4 at 16:06 , chapter title Binary Search Tree ( index 0) \n",
      " video_shift index 5 at 23:14 , chapter title Binary Search Tree ( index 0) \n",
      " video_shift index 6 at 26:44 , chapter title Binary Search Tree ( index 0) \n",
      " video_shift index 7 at 32:22 , chapter title 3.7.2\tPostorder ( index 9) \n",
      " video_shift index 8 at 37:14 , chapter title 3.4\tFinding the parent of a given node ( index 4) \n",
      " video_shift index 9 at end , chapter title 3.5\tAttaining a reference to a node ( index 5) \n",
      "For topic number 0 the confidence is 0.389551309581202 \n",
      "For topic number 1 the confidence is 0.4738822312683951 \n",
      "For topic number 2 the confidence is 0.7240235470845677 \n",
      "For topic number 3 the confidence is 0.29472878478282316 \n",
      "For topic number 4 the confidence is 0.21003835708239432 \n",
      "For topic number 5 the confidence is 0.32114116868073284 \n",
      "For topic number 6 the confidence is 0.43796593541968964 \n",
      "For topic number 7 the confidence is 0.15728207184341259 \n",
      "For topic number 8 the confidence is 0.16641928304295 \n",
      "For topic number 9 the confidence is 0.2037004197406474 \n",
      "################ zWg7U0OEAoE ################\n"
     ]
    },
    {
     "data": {
      "image/png": "[encoded data removed]",
      "text/plain": [
       "<Figure size 432x288 with 2 Axes>"
      ]
     },
     "metadata": {
      "needs_background": "light"
     },
     "output_type": "display_data"
    },
    {
     "name": "stdout",
     "output_type": "stream",
     "text": [
      " video_shift index 0 at 02:29 , chapter title Introduction ( index 0) \n",
      " video_shift index 1 at 03:53 , chapter title Sorting ( index 7) \n",
      " video_shift index 2 at 08:23 , chapter title Sets ( index 4) \n",
      " video_shift index 3 at 13:11 , chapter title AVL Tree ( index 6) \n",
      " video_shift index 4 at 24:36 , chapter title Sorting ( index 7) \n",
      " video_shift index 5 at 30:36 , chapter title Sorting ( index 7) \n",
      " video_shift index 6 at 33:56 , chapter title Introduction ( index 0) \n",
      " video_shift index 7 at 35:55 , chapter title Sorting ( index 7) \n",
      " video_shift index 8 at 37:01 , chapter title AVL Tree ( index 6) \n",
      " video_shift index 9 at 39:10 , chapter title Introduction ( index 0) \n",
      " video_shift index 10 at 41:34 , chapter title Strings ( index 10) \n",
      " video_shift index 11 at 46:01 , chapter title Heap ( index 3) \n",
      " video_shift index 12 at end , chapter title Introduction ( index 0) \n",
      "Introduction\n"
     ]
    },
    {
     "data": {
      "image/png": "[encoded data removed]",
      "text/plain": [
       "<Figure size 432x288 with 2 Axes>"
      ]
     },
     "metadata": {
      "needs_background": "light"
     },
     "output_type": "display_data"
    },
    {
     "name": "stdout",
     "output_type": "stream",
     "text": [
      " video_shift index 0 at 02:29 , chapter title 1.5\tBook outline ( index 8) \n",
      " video_shift index 1 at 03:53 , chapter title 1.3\tPseudocode ( index 6) \n",
      " video_shift index 2 at 08:23 , chapter title 1.2.1\tBig Oh notation ( index 3) \n",
      " video_shift index 3 at 13:11 , chapter title 1.3\tPseudocode ( index 6) \n",
      " video_shift index 4 at 24:36 , chapter title 1.3\tPseudocode ( index 6) \n",
      " video_shift index 5 at 30:36 , chapter title 1.3\tPseudocode ( index 6) \n",
      " video_shift index 6 at 33:56 , chapter title 1.2.1\tBig Oh notation ( index 3) \n",
      " video_shift index 7 at 35:55 , chapter title 1.4\tTips for working through the examples ( index 7) \n",
      " video_shift index 8 at 37:01 , chapter title 1.2.1\tBig Oh notation ( index 3) \n",
      " video_shift index 9 at 39:10 , chapter title 1.2.1\tBig Oh notation ( index 3) \n",
      " video_shift index 10 at 41:34 , chapter title 1.2.1\tBig Oh notation ( index 3) \n",
      " video_shift index 11 at 46:01 , chapter title 1.2.1\tBig Oh notation ( index 3) \n",
      " video_shift index 12 at end , chapter title 1.2.1\tBig Oh notation ( index 3) \n",
      "For topic number 0 the confidence is 0.28588778339347526 \n",
      "For topic number 1 the confidence is 0.21101706408442183 \n",
      "For topic number 2 the confidence is 0.2967052221350862 \n",
      "For topic number 3 the confidence is 0.21045441289051306 \n",
      "For topic number 4 the confidence is 0.2549761336858015 \n",
      "For topic number 5 the confidence is 0.12198175440302352 \n",
      "For topic number 6 the confidence is 0.5969328347947006 \n",
      "For topic number 7 the confidence is 0.17265503110375122 \n",
      "For topic number 8 the confidence is 0.26843455181392956 \n",
      "For topic number 9 the confidence is 0.6489860076534444 \n",
      "For topic number 10 the confidence is 0.49191095805043383 \n",
      "For topic number 11 the confidence is 0.20640465352085974 \n",
      "For topic number 12 the confidence is 0.855249198392833 \n"
     ]
    }
   ],
   "source": [
    "chapters_matching_topics = {}\n",
    "for vid in videos_ids:\n",
    "    print('################ %s ################' % (vid))\n",
    "    paper_name = video_to_paper[vid]\n",
    "    correlations_levels = []\n",
    "    \n",
    "    \n",
    "    '''Finding the correlation between topic and main chapters'''\n",
    "    main_matching_topic,correlation = get_topic_chapter_corr_tfidf(paper_name,\n",
    "                                 paper_mains_as_one_doc[paper_name],\n",
    "                                 videos_division[vid]['topic_words'],\n",
    "                                 videos_division[vid]['topic_shift'],\n",
    "                                 paper_content[paper_name]['main titles'])\n",
    "    \n",
    "    correlations_levels.append(correlation)\n",
    "    #print(main_matching_topic)\n",
    "    dominet_chapter =  find_dominent_main_chapter(main_matching_topic,\n",
    "                                                  paper_content[paper_name]['main titles'],\n",
    "                                                 correlation)\n",
    "    print(dominet_chapter) \n",
    "    \n",
    "    #Searching for each topic the most correlated \n",
    "    #subsection to a topic within the dominent main chapter '''\n",
    "    dom_main_cha_index = paper_content[paper_name]['main titles'].index(dominet_chapter)\n",
    "    dom_subsec_text = [paper_subsec_as_one_doc[paper_name][s_i] for s_i in\n",
    "                      paper_sec_within_main_indexes[paper_name][dom_main_cha_index]]\n",
    "    dom_subsec_titles = [paper_content[paper_name]['titles'][tl]\n",
    "                         for tl in paper_sec_within_main_indexes[paper_name][dom_main_cha_index]]\n",
    "    \n",
    "    dom_subsec_text = emphasize_title(dom_subsec_text,dom_subsec_titles)\n",
    "    \n",
    "    subsec_matching_topic,correlation = get_topic_chapter_corr_tfidf(paper_name,\n",
    "                                 dom_subsec_text,\n",
    "                                 videos_division[vid]['topic_words'],\n",
    "                                 videos_division[vid]['topic_shift'],\n",
    "                                 dom_subsec_titles\n",
    "                                    )\n",
    "    \n",
    "    correlations_levels.append(correlation)\n",
    "    measure_error(correlations_levels)\n",
    "    #break\n",
    "    "
   ]
  },
  {
   "cell_type": "code",
   "execution_count": null,
   "metadata": {},
   "outputs": [],
   "source": []
  },
  {
   "cell_type": "code",
   "execution_count": null,
   "metadata": {},
   "outputs": [],
   "source": []
  }
 ],
 "metadata": {
  "kernelspec": {
   "display_name": "Python 3",
   "language": "python",
   "name": "python3"
  },
  "language_info": {
   "codemirror_mode": {
    "name": "ipython",
    "version": 3
   },
   "file_extension": ".py",
   "mimetype": "text/x-python",
   "name": "python",
   "nbconvert_exporter": "python",
   "pygments_lexer": "ipython3",
   "version": "3.7.4"
  }
 },
 "nbformat": 4,
 "nbformat_minor": 2
}
