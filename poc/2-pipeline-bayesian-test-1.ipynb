{
 "cells": [
  {
   "cell_type": "code",
   "execution_count": 1,
   "metadata": {},
   "outputs": [],
   "source": [
    "import sys\n",
    "sys.path.append('..')\n",
    "from src.models.pipeline import pipeline\n",
    "import glob\n",
    "import json\n",
    "import os\n",
    "import pandas as pd\n",
    "import ast\n",
    "from datetime import datetime\n",
    "from bayes_opt import BayesianOptimization\n",
    "from bayes_opt.logger import JSONLogger\n",
    "from bayes_opt.event import Events\n",
    "from bayes_opt.util import load_logs"
   ]
  },
  {
   "cell_type": "code",
   "execution_count": 2,
   "metadata": {},
   "outputs": [],
   "source": [
    "groundbase_dir = '../data/raw/groundbase'\n",
    "transcripts_dir = os.path.join(groundbase_dir,'transcripts')\n",
    "topic_dataset_path = os.path.join(groundbase_dir,'dataset.csv')\n",
    "transcript_filespath = glob.glob(groundbase_dir + '/transcripts/*.json')\n",
    "\n",
    "'''Read the transcript'''\n",
    "transcripts_jsons = {}\n",
    "for fl in transcript_filespath:\n",
    "    with open(fl,encoding=\"utf8\") as f:\n",
    "        transcript =ast.literal_eval(f.read()) #json.load(f)\n",
    "        vid = fl.split('\\\\')[-1].split('.')[0]\n",
    "        #print(vid)\n",
    "        transcripts_jsons[vid] = transcript\n",
    "#print(transcripts_jsons)\n",
    "\n",
    "'''Read the videos metadata to perform on them the segmentation'''\n",
    "df_videos = pd.read_csv(topic_dataset_path)\n",
    "\n",
    "''' Transfer topic shifts time to seconds units instead HH:MM:SS'''\n",
    "\n",
    "def topic_shifts_seconds(topic_shifts):\n",
    "    tp_shift_sec=[]\n",
    "    for tp in topic_shifts:\n",
    "        intervals = tp.split(':')\n",
    "        seconds = int(intervals[2])\n",
    "        minutes = int(intervals[1]) * 60\n",
    "        hours = int(intervals[0]) * 60 *60\n",
    "        tp_shift_sec.append(seconds + minutes + hours)\n",
    "    return tp_shift_sec\n",
    "\n",
    "\n",
    "for video_id in transcripts_jsons.keys():    \n",
    "    df_videos.at[df_videos['video id'] == video_id,'topic shifts(ends)'] =\\\n",
    "    topic_shifts_seconds(\\\n",
    "                         df_videos[df_videos['video id'] == \\\n",
    "                                   video_id]['topic shifts(ends)'])"
   ]
  },
  {
   "cell_type": "code",
   "execution_count": 12,
   "metadata": {},
   "outputs": [],
   "source": [
    "'''Create an array of functions to optimize'''\n",
    "def build_function_to_optimize(workflow_label):\n",
    "    pipeline_steps_values = workflow_label.split('-')\n",
    "    steps_labels = ['segment','vectorize','similarity','added_filter','clustering']\n",
    "    _pipeline = {}\n",
    "    for key,value in list(zip(steps_labels,pipeline_steps_values)):\n",
    "        _pipeline[key]=value\n",
    "    \n",
    "    '''takingcare of filters'''\n",
    "    filter_params = {'filter_type': None,'mask_shape': None,'sim_thresh':None,'is_min_thresh':True}\n",
    "    # if we have image filter \n",
    "    if _pipeline['added_filter'] != 'None':\n",
    "        vals = _pipeline['added_filter'].split('_')\n",
    "        filter_params['filter_type'] = vals[0]\n",
    "        filter_params['mask_shape'] = ast.literal_eval(vals[1])\n",
    "        \n",
    "    #print(filter_params)    \n",
    "    #print(_pipeline)\n",
    "    '''Cosine and spectral clustering'''\n",
    "    if _pipeline['segment'] =='sliding_window' and _pipeline['vectorize'] =='tfidf' and  _pipeline['similarity'] == 'cosine' and _pipeline['clustering'] == 'spectral_clustering':\n",
    "        print(\"build function tfidf_cosine_sc\")\n",
    "        def _f(window_size,step_size,sim_thresh,n_clusters):\n",
    "            window_size = int(window_size)\n",
    "            step_size = int(step_size)\n",
    "            n_clusters = int(n_clusters)\n",
    "            filter_params['sim_thresh'] = sim_thresh\n",
    "\n",
    "            return pipeline.run_for_baye(groundbase,transcripts,\n",
    "                                slicing_method=_pipeline['segment'],\n",
    "                                window_size=window_size,step_size=step_size,\n",
    "                                vector_method=_pipeline['vectorize'],\n",
    "                                similarity_method=_pipeline['similarity'],\n",
    "                                filter_params=filter_params,\n",
    "                                clustering_params={'algorithm': _pipeline['clustering'],\n",
    "                                                   'n_clusters':n_clusters},\n",
    "                                accurrcy_shift=30\n",
    "                               )\n",
    "\n",
    "        return _f\n",
    "    \n",
    "    \n",
    "    \n",
    "    if _pipeline['segment'] =='sliding_window' and _pipeline['vectorize'] =='tf' and  _pipeline['similarity'] == 'cosine' and _pipeline['clustering'] == 'spectral_clustering':\n",
    "        def _f(window_size,step_size,sim_thresh,n_clusters):\n",
    "            window_size = int(window_size)\n",
    "            step_size = int(step_size)\n",
    "            n_clusters = int(n_clusters)\n",
    "            filter_params['sim_thresh'] = sim_thresh\n",
    "\n",
    "            return pipeline.run_for_baye(groundbase,transcripts,\n",
    "                                slicing_method=_pipeline['segment'],\n",
    "                                window_size=window_size,step_size=step_size,\n",
    "                                vector_method=_pipeline['vectorize'],\n",
    "                                similarity_method=_pipeline['similarity'],\n",
    "                                filter_params=filter_params,\n",
    "                                clustering_params={'algorithm': _pipeline['clustering'],\n",
    "                                                   'n_clusters':n_clusters}\n",
    "                               )\n",
    "\n",
    "        return _f\n",
    "    \n",
    "    if _pipeline['segment'] =='sliding_window' and _pipeline['vectorize'] =='lda' and _pipeline['similarity'] == 'jensen_shannon' and _pipeline['clustering'] == 'spectral_clustering':\n",
    "        #print(\"here you\")\n",
    "        def _f(window_size,step_size,sim_thresh,\n",
    "               n_clusters,alpha\n",
    "               ,eta,chunksize,minimum_probability,passes\n",
    "              ):\n",
    "            window_size = int(window_size)\n",
    "            step_size = int(step_size)\n",
    "            n_clusters = int(n_clusters)\n",
    "            filter_params['sim_thresh'] = sim_thresh\n",
    "            filter_params['is_min_thresh'] = False\n",
    "            passes = int(passes)\n",
    "            chunksize = int(chunksize)\n",
    "            minimum_probability = int(minimum_probability)\n",
    "            vectorizing_params={\"alpha\":alpha,\n",
    "                                'eta':eta,\n",
    "                                'chunksize':chunksize,\n",
    "                                'minimum_probability':minimum_probability,\n",
    "                                'passes':passes,\n",
    "                                'n_clusters':n_clusters}\n",
    "            return pipeline.run_for_baye(groundbase,transcripts,\n",
    "                                        slicing_method=_pipeline['segment'],\n",
    "                                        window_size=window_size,step_size=step_size,\n",
    "                                        vector_method=_pipeline['vectorize'],\n",
    "                                        vectorizing_params=vectorizing_params,\n",
    "                                        similarity_method=_pipeline['similarity'],\n",
    "                                        filter_params=filter_params,\n",
    "                                        clustering_params={'algorithm': _pipeline['clustering'],\n",
    "                                                           'n_clusters':n_clusters}\n",
    "                                       )\n",
    "        return _f\n",
    "    \n",
    "    if _pipeline['segment'] =='sliding_window' and _pipeline['vectorize'] =='lda' and _pipeline['similarity'] == 'cosine' and _pipeline['clustering'] == 'spectral_clustering':\n",
    "        #print(\"here you\")\n",
    "        def _f(window_size,step_size,sim_thresh,\n",
    "               n_clusters,alpha,\n",
    "               eta,chunksize,minimum_probability,passes\n",
    "              ):\n",
    "            window_size = int(window_size)\n",
    "            step_size = int(step_size)\n",
    "            n_clusters = int(n_clusters)\n",
    "            filter_params['sim_thresh'] = sim_thresh\n",
    "            passes = int(passes)\n",
    "            chunksize = int(chunksize)\n",
    "            minimum_probability = int(minimum_probability)\n",
    "            vectorizing_params={\"alpha\":alpha,\n",
    "                                'eta':eta,\n",
    "                                'chunksize':chunksize,\n",
    "                                'minimum_probability':minimum_probability,\n",
    "                                'passes':passes,\n",
    "                                'n_clusters':n_clusters}\n",
    "            return pipeline.run_for_baye(groundbase,transcripts,\n",
    "                                        slicing_method=_pipeline['segment'],\n",
    "                                        window_size=window_size,step_size=step_size,\n",
    "                                        vector_method=_pipeline['vectorize'],\n",
    "                                        vectorizing_params=vectorizing_params,\n",
    "                                        similarity_method=_pipeline['similarity'],\n",
    "                                        filter_params=filter_params,\n",
    "                                        clustering_params={'algorithm': _pipeline['clustering'],\n",
    "                                                           'n_clusters':n_clusters}\n",
    "                                       )\n",
    "        return _f\n",
    "\n",
    "    if _pipeline['segment'] =='sliding_window' and _pipeline['vectorize'] =='do_nothing' and _pipeline['similarity'] == 'wmdistance' and _pipeline['clustering'] == 'spectral_clustering':\n",
    "        #print(\"here you\")\n",
    "        def _f(window_size,step_size,sim_thresh,n_clusters):\n",
    "            window_size = int(window_size)\n",
    "            step_size = int(step_size)\n",
    "            n_clusters = int(n_clusters)\n",
    "            filter_params['sim_thresh'] = sim_thresh\n",
    "            filter_params['is_min_thresh'] = False\n",
    "            return pipeline.run_for_baye(groundbase,transcripts,\n",
    "                                        slicing_method=_pipeline['segment'],\n",
    "                                        window_size=window_size,step_size=step_size,\n",
    "                                        vector_method=_pipeline['vectorize'],\n",
    "                                        similarity_method=_pipeline['similarity'],\n",
    "                                        filter_params=filter_params,\n",
    "                                        clustering_params={'algorithm': _pipeline['clustering'],\n",
    "                                                           'n_clusters':n_clusters}\n",
    "                                       )\n",
    "        return _f \n",
    "    # ------------------------------------\n",
    "    \n",
    "    if _pipeline['segment'] =='audio' and _pipeline['vectorize'] =='tfidf' and  _pipeline['similarity'] == 'cosine' and _pipeline['clustering'] == 'spectral_clustering':\n",
    "        print(\"build function tfidf_cosine_sc\")\n",
    "        def _f(silence_threshold,slice_length,step_size_audio,sim_thresh,n_clusters):\n",
    "            silence_threshold = int(silence_threshold)\n",
    "            slice_length = int(slice_length)\n",
    "            step_size_audio = int(step_size_audio)\n",
    "            n_clusters = int(n_clusters)\n",
    "            filter_params['sim_thresh'] = sim_thresh\n",
    "\n",
    "            return pipeline.run_for_baye(groundbase,transcripts,\n",
    "                                slicing_method=_pipeline['segment'],\n",
    "                                silence_threshold=silence_threshold, slice_length=slice_length,step_size_audio=step_size_audio,\n",
    "                                vector_method=_pipeline['vectorize'],\n",
    "                                similarity_method=_pipeline['similarity'],\n",
    "                                filter_params=filter_params,\n",
    "                                clustering_params={'algorithm': _pipeline['clustering'],\n",
    "                                                   'n_clusters':n_clusters},\n",
    "                                accurrcy_shift=30\n",
    "                               )\n",
    "\n",
    "        return _f\n",
    "    \n",
    "    \n",
    "    \n",
    "    if _pipeline['segment'] =='audio' and _pipeline['vectorize'] =='tf' and  _pipeline['similarity'] == 'cosine' and _pipeline['clustering'] == 'spectral_clustering':\n",
    "        def _f(silence_threshold,slice_length,step_size_audio,sim_thresh,n_clusters):\n",
    "            silence_threshold = int(silence_threshold)\n",
    "            slice_length = int(slice_length)\n",
    "            step_size_audio = int(step_size_audio)\n",
    "            n_clusters = int(n_clusters)\n",
    "            filter_params['sim_thresh'] = sim_thresh\n",
    "\n",
    "            return pipeline.run_for_baye(groundbase,transcripts,\n",
    "                                slicing_method=_pipeline['segment'],\n",
    "                                silence_threshold=silence_threshold, slice_length=slice_length,step_size_audio=step_size_audio,\n",
    "                                vector_method=_pipeline['vectorize'],\n",
    "                                similarity_method=_pipeline['similarity'],\n",
    "                                filter_params=filter_params,\n",
    "                                clustering_params={'algorithm': _pipeline['clustering'],\n",
    "                                                   'n_clusters':n_clusters}\n",
    "                               )\n",
    "\n",
    "        return _f\n",
    "    \n",
    "    if _pipeline['segment'] =='audio' and _pipeline['vectorize'] =='lda' and _pipeline['similarity'] == 'jensen_shannon' and _pipeline['clustering'] == 'spectral_clustering':\n",
    "        #print(\"here you\")\n",
    "        def _f(silence_threshold,slice_length,step_size_audio,sim_thresh,\n",
    "               n_clusters,alpha\n",
    "               ,eta,chunksize,minimum_probability,passes\n",
    "              ):\n",
    "            silence_threshold = int(silence_threshold)\n",
    "            slice_length = int(slice_length)\n",
    "            step_size_audio = int(step_size_audio)\n",
    "            n_clusters = int(n_clusters)\n",
    "            filter_params['sim_thresh'] = sim_thresh\n",
    "            filter_params['is_min_thresh'] = False\n",
    "            passes = int(passes)\n",
    "            chunksize = int(chunksize)\n",
    "            minimum_probability = int(minimum_probability)\n",
    "            vectorizing_params={\"alpha\":alpha,\n",
    "                                'eta':eta,\n",
    "                                'chunksize':chunksize,\n",
    "                                'minimum_probability':minimum_probability,\n",
    "                                'passes':passes,\n",
    "                                'n_clusters':n_clusters}\n",
    "            return pipeline.run_for_baye(groundbase,transcripts,                                         \n",
    "                                        slicing_method=_pipeline['segment'],\n",
    "                                        silence_threshold=silence_threshold, slice_length=slice_length,step_size_audio=step_size_audio,\n",
    "                                        vector_method=_pipeline['vectorize'],\n",
    "                                        vectorizing_params=vectorizing_params,\n",
    "                                        similarity_method=_pipeline['similarity'],\n",
    "                                        filter_params=filter_params,\n",
    "                                        clustering_params={'algorithm': _pipeline['clustering'],\n",
    "                                                           'n_clusters':n_clusters}\n",
    "                                       )\n",
    "        return _f\n",
    "    \n",
    "    if _pipeline['segment'] =='audio' and _pipeline['vectorize'] =='lda' and _pipeline['similarity'] == 'cosine' and _pipeline['clustering'] == 'spectral_clustering':\n",
    "        #print(\"here you\")\n",
    "        def _f(silence_threshold,slice_length,step_size_audio,sim_thresh,\n",
    "               n_clusters,alpha,\n",
    "               eta,chunksize,minimum_probability,passes\n",
    "              ):\n",
    "            silence_threshold = int(silence_threshold)\n",
    "            slice_length = int(slice_length)\n",
    "            step_size_audio = int(step_size_audio)\n",
    "            n_clusters = int(n_clusters)\n",
    "            filter_params['sim_thresh'] = sim_thresh\n",
    "            passes = int(passes)\n",
    "            chunksize = int(chunksize)\n",
    "            minimum_probability = int(minimum_probability)\n",
    "            vectorizing_params={\"alpha\":alpha,\n",
    "                                'eta':eta,\n",
    "                                'chunksize':chunksize,\n",
    "                                'minimum_probability':minimum_probability,\n",
    "                                'passes':passes,\n",
    "                                'n_clusters':n_clusters}\n",
    "            return pipeline.run_for_baye(groundbase,transcripts,                                         \n",
    "                                        slicing_method=_pipeline['segment'],\n",
    "                                        silence_threshold=silence_threshold, slice_length=slice_length,step_size_audio=step_size_audio,\n",
    "                                        vector_method=_pipeline['vectorize'],\n",
    "                                        vectorizing_params=vectorizing_params,\n",
    "                                        similarity_method=_pipeline['similarity'],\n",
    "                                        filter_params=filter_params,\n",
    "                                        clustering_params={'algorithm': _pipeline['clustering'],\n",
    "                                                           'n_clusters':n_clusters}\n",
    "                                       )\n",
    "        return _f\n",
    "\n",
    "    if _pipeline['segment'] =='audio' and _pipeline['vectorize'] =='do_nothing' and _pipeline['similarity'] == 'wmdistance' and _pipeline['clustering'] == 'spectral_clustering':\n",
    "        #print(\"here you\")\n",
    "        def _f(silence_threshold,slice_length,step_size_audio,sim_thresh,n_clusters):\n",
    "            silence_threshold = int(silence_threshold)\n",
    "            slice_length = int(slice_length)\n",
    "            step_size_audio = int(step_size_audio)\n",
    "            n_clusters = int(n_clusters)\n",
    "            filter_params['sim_thresh'] = sim_thresh\n",
    "            filter_params['is_min_thresh'] = False\n",
    "            return pipeline.run_for_baye(groundbase,transcripts,                                         \n",
    "                                        slicing_method=_pipeline['segment'],\n",
    "                                        silence_threshold=silence_threshold, slice_length=slice_length,step_size_audio=step_size_audio,\n",
    "                                        vector_method=_pipeline['vectorize'],\n",
    "                                        similarity_method=_pipeline['similarity'],\n",
    "                                        filter_params=filter_params,\n",
    "                                        clustering_params={'algorithm': _pipeline['clustering'],\n",
    "                                                           'n_clusters':n_clusters}\n",
    "                                       )\n",
    "        return _f \n",
    "    \n",
    "    #-----------------------\n",
    "    \n",
    "    if _pipeline['segment'] =='text_changing' and _pipeline['vectorize'] =='tfidf' and  _pipeline['similarity'] == 'cosine' and _pipeline['clustering'] == 'spectral_clustering':\n",
    "        print(\"build function tfidf_cosine_sc\")\n",
    "        def _f(wanted_frequency,wanted_similarity_percent,sim_thresh,n_clusters):\n",
    "            wanted_frequency = int(wanted_frequency)\n",
    "            wanted_similarity_percent = int(wanted_similarity_percent)\n",
    "            n_clusters = int(n_clusters)\n",
    "            filter_params['sim_thresh'] = sim_thresh\n",
    "\n",
    "            return pipeline.run_for_baye(groundbase,transcripts,\n",
    "                                slicing_method=_pipeline['segment'],\n",
    "                                silence_threshold=silence_threshold, slice_length=slice_length,step_size_audio=step_size_audio,\n",
    "                                vector_method=_pipeline['vectorize'],\n",
    "                                similarity_method=_pipeline['similarity'],\n",
    "                                filter_params=filter_params,\n",
    "                                clustering_params={'algorithm': _pipeline['clustering'],\n",
    "                                                   'n_clusters':n_clusters},\n",
    "                                accurrcy_shift=30\n",
    "                               )\n",
    "\n",
    "        return _f\n",
    "    \n",
    "    \n",
    "    \n",
    "    if _pipeline['segment'] =='text_changing' and _pipeline['vectorize'] =='tf' and  _pipeline['similarity'] == 'cosine' and _pipeline['clustering'] == 'spectral_clustering':\n",
    "        def _f(wanted_frequency,wanted_similarity_percent,sim_thresh,n_clusters):\n",
    "            wanted_frequency = int(wanted_frequency)\n",
    "            wanted_similarity_percent = int(wanted_similarity_percent)\n",
    "            n_clusters = int(n_clusters)\n",
    "            filter_params['sim_thresh'] = sim_thresh\n",
    "\n",
    "            return pipeline.run_for_baye(groundbase,transcripts,\n",
    "                                slicing_method=_pipeline['segment'],\n",
    "                                silence_threshold=silence_threshold, slice_length=slice_length,step_size_audio=step_size_audio,\n",
    "                                vector_method=_pipeline['vectorize'],\n",
    "                                similarity_method=_pipeline['similarity'],\n",
    "                                filter_params=filter_params,\n",
    "                                clustering_params={'algorithm': _pipeline['clustering'],\n",
    "                                                   'n_clusters':n_clusters}\n",
    "                               )\n",
    "\n",
    "        return _f\n",
    "    \n",
    "    if _pipeline['segment'] =='text_changing' and _pipeline['vectorize'] =='lda' and _pipeline['similarity'] == 'jensen_shannon' and _pipeline['clustering'] == 'spectral_clustering':\n",
    "        #print(\"here you\")\n",
    "        def _f(wanted_frequency,wanted_similarity_percent,sim_thresh,\n",
    "               n_clusters,alpha\n",
    "               ,eta,chunksize,minimum_probability,passes\n",
    "              ):\n",
    "            wanted_frequency = int(wanted_frequency)\n",
    "            wanted_similarity_percent = int(wanted_similarity_percent)\n",
    "            n_clusters = int(n_clusters)\n",
    "            filter_params['sim_thresh'] = sim_thresh\n",
    "            filter_params['is_min_thresh'] = False\n",
    "            passes = int(passes)\n",
    "            chunksize = int(chunksize)\n",
    "            minimum_probability = int(minimum_probability)\n",
    "            vectorizing_params={\"alpha\":alpha,\n",
    "                                'eta':eta,\n",
    "                                'chunksize':chunksize,\n",
    "                                'minimum_probability':minimum_probability,\n",
    "                                'passes':passes,\n",
    "                                'n_clusters':n_clusters}\n",
    "            return pipeline.run_for_baye(groundbase,transcripts,                                         \n",
    "                                        slicing_method=_pipeline['segment'],\n",
    "                                        silence_threshold=silence_threshold, slice_length=slice_length,step_size_audio=step_size_audio,\n",
    "                                        vector_method=_pipeline['vectorize'],\n",
    "                                        vectorizing_params=vectorizing_params,\n",
    "                                        similarity_method=_pipeline['similarity'],\n",
    "                                        filter_params=filter_params,\n",
    "                                        clustering_params={'algorithm': _pipeline['clustering'],\n",
    "                                                           'n_clusters':n_clusters}\n",
    "                                       )\n",
    "        return _f\n",
    "    \n",
    "    if _pipeline['segment'] =='text_changing' and _pipeline['vectorize'] =='lda' and _pipeline['similarity'] == 'cosine' and _pipeline['clustering'] == 'spectral_clustering':\n",
    "        #print(\"here you\")\n",
    "        def _f(wanted_frequency,wanted_similarity_percent,sim_thresh,\n",
    "               n_clusters,alpha,\n",
    "               eta,chunksize,minimum_probability,passes\n",
    "              ):\n",
    "            wanted_frequency = int(wanted_frequency)\n",
    "            wanted_similarity_percent = int(wanted_similarity_percent)\n",
    "            n_clusters = int(n_clusters)\n",
    "            filter_params['sim_thresh'] = sim_thresh\n",
    "            passes = int(passes)\n",
    "            chunksize = int(chunksize)\n",
    "            minimum_probability = int(minimum_probability)\n",
    "            vectorizing_params={\"alpha\":alpha,\n",
    "                                'eta':eta,\n",
    "                                'chunksize':chunksize,\n",
    "                                'minimum_probability':minimum_probability,\n",
    "                                'passes':passes,\n",
    "                                'n_clusters':n_clusters}\n",
    "            return pipeline.run_for_baye(groundbase,transcripts,                                         \n",
    "                                        slicing_method=_pipeline['segment'],\n",
    "                                        silence_threshold=silence_threshold, slice_length=slice_length,step_size_audio=step_size_audio,\n",
    "                                        vector_method=_pipeline['vectorize'],\n",
    "                                        vectorizing_params=vectorizing_params,\n",
    "                                        similarity_method=_pipeline['similarity'],\n",
    "                                        filter_params=filter_params,\n",
    "                                        clustering_params={'algorithm': _pipeline['clustering'],\n",
    "                                                           'n_clusters':n_clusters}\n",
    "                                       )\n",
    "        return _f\n",
    "\n",
    "    if _pipeline['segment'] =='text_changing' and _pipeline['vectorize'] =='do_nothing' and _pipeline['similarity'] == 'wmdistance' and _pipeline['clustering'] == 'spectral_clustering':\n",
    "        #print(\"here you\")\n",
    "        def _f(wanted_frequency,wanted_similarity_percent,sim_thresh,n_clusters):\n",
    "            wanted_frequency = int(wanted_frequency)\n",
    "            wanted_similarity_percent = int(wanted_similarity_percent)\n",
    "            n_clusters = int(n_clusters)\n",
    "            filter_params['sim_thresh'] = sim_thresh\n",
    "            filter_params['is_min_thresh'] = False\n",
    "            return pipeline.run_for_baye(groundbase,transcripts,                                         \n",
    "                                        slicing_method=_pipeline['segment'],\n",
    "                                        silence_threshold=silence_threshold, slice_length=slice_length,step_size_audio=step_size_audio,\n",
    "                                        vector_method=_pipeline['vectorize'],\n",
    "                                        similarity_method=_pipeline['similarity'],\n",
    "                                        filter_params=filter_params,\n",
    "                                        clustering_params={'algorithm': _pipeline['clustering'],\n",
    "                                                           'n_clusters':n_clusters}\n",
    "                                       )\n",
    "        return _f "
   ]
  },
  {
   "cell_type": "code",
   "execution_count": 4,
   "metadata": {},
   "outputs": [],
   "source": [
    "models_path  = '../models/bayesian_opt'\n",
    "params_path = os.path.join(models_path,\"parameters_bounds.json\")\n",
    "#print(params_path)\n",
    "with open(params_path,'r') as f:\n",
    "    param_bounds = ast.literal_eval(f.read())\n",
    "#print(param_bounds)"
   ]
  },
  {
   "cell_type": "code",
   "execution_count": 13,
   "metadata": {},
   "outputs": [
    {
     "name": "stdout",
     "output_type": "stream",
     "text": [
      "['sliding_window-tfidf-cosine-median_(2,2)-spectral_clustering', 'sliding_window-tfidf-cosine-median_(3,3)-spectral_clustering', 'sliding_window-tfidf-cosine-None-spectral_clustering']\n",
      "Training workflow sliding_window-tfidf-cosine-median_(2,2)-spectral_clustering\n",
      "build function tfidf_cosine_sc\n",
      "Running the algorithm on 2mC1uqwEmWQ \n",
      "|   iter    |  target   | n_clus... | sim_th... | step_size | window... |\n",
      "-------------------------------------------------------------------------\n",
      "|  1        |  0.0      |  18.0     |  0.2      |  31.16    |  46.41    |\n",
      "|  2        |  0.0      |  18.0     |  0.2      |  31.16    |  46.41    |\n",
      "|  3        |  0.0      |  17.24    |  0.3782   |  59.72    |  197.9    |\n"
     ]
    },
    {
     "name": "stderr",
     "output_type": "stream",
     "text": [
      "C:\\Users\\yaniv\\Anaconda3\\lib\\site-packages\\sklearn\\manifold\\spectral_embedding_.py:235: UserWarning: Graph is not fully connected, spectral embedding may not work as expected.\n",
      "  warnings.warn(\"Graph is not fully connected, spectral embedding\"\n"
     ]
    },
    {
     "name": "stdout",
     "output_type": "stream",
     "text": [
      "|  4        |  0.0      |  17.84    |  0.8651   |  35.14    |  107.5    |\n",
      "|  5        |  0.4667   |  11.15    |  0.4821   |  10.13    |  45.7     |\n"
     ]
    },
    {
     "name": "stderr",
     "output_type": "stream",
     "text": [
      "C:\\Users\\yaniv\\Anaconda3\\lib\\site-packages\\sklearn\\manifold\\spectral_embedding_.py:235: UserWarning: Graph is not fully connected, spectral embedding may not work as expected.\n",
      "  warnings.warn(\"Graph is not fully connected, spectral embedding\"\n"
     ]
    },
    {
     "name": "stdout",
     "output_type": "stream",
     "text": [
      "|  6        |  0.0      |  10.0     |  0.9      |  60.0     |  44.4     |\n"
     ]
    },
    {
     "name": "stderr",
     "output_type": "stream",
     "text": [
      "C:\\Users\\yaniv\\Anaconda3\\lib\\site-packages\\sklearn\\manifold\\spectral_embedding_.py:235: UserWarning: Graph is not fully connected, spectral embedding may not work as expected.\n",
      "  warnings.warn(\"Graph is not fully connected, spectral embedding\"\n"
     ]
    },
    {
     "name": "stdout",
     "output_type": "stream",
     "text": [
      "|  7        |  0.0      |  10.0     |  0.2      |  35.19    |  20.0     |\n",
      "=========================================================================\n",
      "Running the algorithm on 8BeXwhljq2g \n",
      "|   iter    |  target   | n_clus... | sim_th... | step_size | window... |\n",
      "-------------------------------------------------------------------------\n",
      "|  8        |  0.0      |  10.0     |  0.2      |  35.19    |  20.0     |\n",
      "|  9        |  0.3333   |  11.64    |  0.8147   |  11.37    |  140.7    |\n"
     ]
    },
    {
     "name": "stderr",
     "output_type": "stream",
     "text": [
      "C:\\Users\\yaniv\\Anaconda3\\lib\\site-packages\\sklearn\\manifold\\spectral_embedding_.py:235: UserWarning: Graph is not fully connected, spectral embedding may not work as expected.\n",
      "  warnings.warn(\"Graph is not fully connected, spectral embedding\"\n",
      "C:\\Users\\yaniv\\Anaconda3\\lib\\site-packages\\scipy\\sparse\\linalg\\eigen\\arpack\\arpack.py:1572: RuntimeWarning: k >= N for N * N square matrix. Attempting to use scipy.linalg.eigh instead.\n",
      "  RuntimeWarning)\n"
     ]
    },
    {
     "name": "stdout",
     "output_type": "stream",
     "text": [
      "|  10       |  0.0      |  18.0     |  0.9      |  60.0     |  156.6    |\n",
      "|  11       |  0.2222   |  10.0     |  0.2      |  10.0     |  101.5    |\n",
      "|  12       |  0.1111   |  10.0     |  0.9      |  10.0     |  187.9    |\n"
     ]
    },
    {
     "name": "stderr",
     "output_type": "stream",
     "text": [
      "C:\\Users\\yaniv\\Anaconda3\\lib\\site-packages\\sklearn\\manifold\\spectral_embedding_.py:235: UserWarning: Graph is not fully connected, spectral embedding may not work as expected.\n",
      "  warnings.warn(\"Graph is not fully connected, spectral embedding\"\n"
     ]
    },
    {
     "name": "stdout",
     "output_type": "stream",
     "text": [
      "|  13       |  0.0      |  10.0     |  0.9      |  40.8     |  68.85    |\n",
      "|  14       |  0.7778   |  18.0     |  0.2      |  10.0     |  54.03    |\n",
      "=========================================================================\n",
      "Running the algorithm on B-Xe7_mf2CY \n",
      "|   iter    |  target   | n_clus... | sim_th... | step_size | window... |\n",
      "-------------------------------------------------------------------------\n",
      "|  15       |  0.2222   |  13.34    |  0.5911   |  17.02    |  55.66    |\n"
     ]
    },
    {
     "name": "stderr",
     "output_type": "stream",
     "text": [
      "C:\\Users\\yaniv\\Anaconda3\\lib\\site-packages\\sklearn\\manifold\\spectral_embedding_.py:235: UserWarning: Graph is not fully connected, spectral embedding may not work as expected.\n",
      "  warnings.warn(\"Graph is not fully connected, spectral embedding\"\n"
     ]
    },
    {
     "name": "stdout",
     "output_type": "stream",
     "text": [
      "|  16       |  0.2778   |  16.41    |  0.8778   |  25.67    |  144.6    |\n",
      "|  17       |  0.0      |  18.0     |  0.2      |  10.0     |  37.62    |\n"
     ]
    },
    {
     "name": "stderr",
     "output_type": "stream",
     "text": [
      "C:\\Users\\yaniv\\Anaconda3\\lib\\site-packages\\sklearn\\manifold\\spectral_embedding_.py:235: UserWarning: Graph is not fully connected, spectral embedding may not work as expected.\n",
      "  warnings.warn(\"Graph is not fully connected, spectral embedding\"\n"
     ]
    },
    {
     "name": "stdout",
     "output_type": "stream",
     "text": [
      "|  18       |  0.0      |  17.97    |  0.6916   |  44.33    |  86.24    |\n"
     ]
    },
    {
     "name": "stderr",
     "output_type": "stream",
     "text": [
      "C:\\Users\\yaniv\\Anaconda3\\lib\\site-packages\\sklearn\\manifold\\spectral_embedding_.py:235: UserWarning: Graph is not fully connected, spectral embedding may not work as expected.\n",
      "  warnings.warn(\"Graph is not fully connected, spectral embedding\"\n"
     ]
    },
    {
     "name": "stdout",
     "output_type": "stream",
     "text": [
      "|  19       |  0.0      |  10.0     |  0.9      |  60.0     |  122.2    |\n"
     ]
    },
    {
     "name": "stderr",
     "output_type": "stream",
     "text": [
      "C:\\Users\\yaniv\\Anaconda3\\lib\\site-packages\\sklearn\\manifold\\spectral_embedding_.py:235: UserWarning: Graph is not fully connected, spectral embedding may not work as expected.\n",
      "  warnings.warn(\"Graph is not fully connected, spectral embedding\"\n"
     ]
    },
    {
     "name": "stdout",
     "output_type": "stream",
     "text": [
      "|  20       |  0.0      |  18.0     |  0.9      |  39.61    |  169.0    |\n",
      "|  21       |  0.1111   |  10.0     |  0.9      |  10.0     |  200.0    |\n",
      "=========================================================================\n",
      "Running the algorithm on BiLJmhQMbVg \n",
      "|   iter    |  target   | n_clus... | sim_th... | step_size | window... |\n",
      "-------------------------------------------------------------------------\n"
     ]
    },
    {
     "name": "stderr",
     "output_type": "stream",
     "text": [
      "C:\\Users\\yaniv\\Anaconda3\\lib\\site-packages\\sklearn\\manifold\\spectral_embedding_.py:235: UserWarning: Graph is not fully connected, spectral embedding may not work as expected.\n",
      "  warnings.warn(\"Graph is not fully connected, spectral embedding\"\n"
     ]
    },
    {
     "name": "stdout",
     "output_type": "stream",
     "text": [
      "|  22       |  0.0      |  17.01    |  0.8262   |  14.25    |  27.03    |\n",
      "|  23       |  0.4      |  11.36    |  0.8147   |  14.92    |  95.8     |\n",
      "|  24       |  0.0      |  17.71    |  0.5327   |  10.21    |  95.05    |\n",
      "|  25       |  0.2      |  10.11    |  0.6802   |  22.07    |  113.9    |\n",
      "|  26       |  0.4      |  10.05    |  0.5592   |  33.2     |  96.35    |\n",
      "|  27       |  0.0      |  10.0     |  0.2      |  60.0     |  80.45    |\n"
     ]
    },
    {
     "name": "stderr",
     "output_type": "stream",
     "text": [
      "C:\\Users\\yaniv\\Anaconda3\\lib\\site-packages\\sklearn\\manifold\\spectral_embedding_.py:235: UserWarning: Graph is not fully connected, spectral embedding may not work as expected.\n",
      "  warnings.warn(\"Graph is not fully connected, spectral embedding\"\n"
     ]
    },
    {
     "name": "stdout",
     "output_type": "stream",
     "text": [
      "|  28       |  0.0      |  18.0     |  0.9      |  47.84    |  32.87    |\n",
      "=========================================================================\n",
      "Running the algorithm on dkAr9ThdSUU \n",
      "|   iter    |  target   | n_clus... | sim_th... | step_size | window... |\n",
      "-------------------------------------------------------------------------\n"
     ]
    },
    {
     "name": "stderr",
     "output_type": "stream",
     "text": [
      "C:\\Users\\yaniv\\Anaconda3\\lib\\site-packages\\sklearn\\manifold\\spectral_embedding_.py:235: UserWarning: Graph is not fully connected, spectral embedding may not work as expected.\n",
      "  warnings.warn(\"Graph is not fully connected, spectral embedding\"\n"
     ]
    },
    {
     "name": "stdout",
     "output_type": "stream",
     "text": [
      "|  29       |  0.0      |  17.66    |  0.5732   |  44.59    |  76.79    |\n",
      "|  30       |  0.2353   |  15.49    |  0.7842   |  10.91    |  155.0    |\n",
      "|  31       |  0.0      |  11.27    |  0.3085   |  10.15    |  56.84    |\n",
      "|  32       |  0.1765   |  10.07    |  0.5682   |  59.9     |  144.6    |\n"
     ]
    },
    {
     "name": "stderr",
     "output_type": "stream",
     "text": [
      "C:\\Users\\yaniv\\Anaconda3\\lib\\site-packages\\sklearn\\manifold\\spectral_embedding_.py:235: UserWarning: Graph is not fully connected, spectral embedding may not work as expected.\n",
      "  warnings.warn(\"Graph is not fully connected, spectral embedding\"\n"
     ]
    },
    {
     "name": "stdout",
     "output_type": "stream",
     "text": [
      "|  33       |  0.0      |  10.0     |  0.9      |  23.28    |  35.25    |\n"
     ]
    },
    {
     "name": "stderr",
     "output_type": "stream",
     "text": [
      "C:\\Users\\yaniv\\Anaconda3\\lib\\site-packages\\sklearn\\manifold\\spectral_embedding_.py:235: UserWarning: Graph is not fully connected, spectral embedding may not work as expected.\n",
      "  warnings.warn(\"Graph is not fully connected, spectral embedding\"\n"
     ]
    },
    {
     "name": "stdout",
     "output_type": "stream",
     "text": [
      "|  34       |  0.0      |  18.0     |  0.9      |  23.84    |  66.31    |\n",
      "|  35       |  0.0      |  17.62    |  0.2838   |  14.0     |  48.6     |\n",
      "=========================================================================\n",
      "Running the algorithm on ksh6OMRFroI \n",
      "|   iter    |  target   | n_clus... | sim_th... | step_size | window... |\n",
      "-------------------------------------------------------------------------\n",
      "|  36       |  0.0      |  17.91    |  0.7237   |  24.02    |  162.1    |\n"
     ]
    },
    {
     "name": "stderr",
     "output_type": "stream",
     "text": [
      "C:\\Users\\yaniv\\Anaconda3\\lib\\site-packages\\sklearn\\manifold\\spectral_embedding_.py:235: UserWarning: Graph is not fully connected, spectral embedding may not work as expected.\n",
      "  warnings.warn(\"Graph is not fully connected, spectral embedding\"\n"
     ]
    },
    {
     "name": "stdout",
     "output_type": "stream",
     "text": [
      "|  37       |  0.3333   |  10.83    |  0.5135   |  55.43    |  72.85    |\n"
     ]
    },
    {
     "name": "stderr",
     "output_type": "stream",
     "text": [
      "C:\\Users\\yaniv\\Anaconda3\\lib\\site-packages\\sklearn\\manifold\\spectral_embedding_.py:235: UserWarning: Graph is not fully connected, spectral embedding may not work as expected.\n",
      "  warnings.warn(\"Graph is not fully connected, spectral embedding\"\n"
     ]
    },
    {
     "name": "stdout",
     "output_type": "stream",
     "text": [
      "|  38       |  0.0      |  10.0     |  0.9      |  44.2     |  200.0    |\n"
     ]
    },
    {
     "name": "stderr",
     "output_type": "stream",
     "text": [
      "C:\\Users\\yaniv\\Anaconda3\\lib\\site-packages\\sklearn\\manifold\\spectral_embedding_.py:235: UserWarning: Graph is not fully connected, spectral embedding may not work as expected.\n",
      "  warnings.warn(\"Graph is not fully connected, spectral embedding\"\n"
     ]
    },
    {
     "name": "stdout",
     "output_type": "stream",
     "text": [
      "|  39       |  0.0      |  10.27    |  0.4225   |  46.24    |  52.87    |\n",
      "|  40       |  0.4167   |  10.0     |  0.2      |  40.3     |  182.1    |\n"
     ]
    },
    {
     "name": "stderr",
     "output_type": "stream",
     "text": [
      "C:\\Users\\yaniv\\Anaconda3\\lib\\site-packages\\scipy\\sparse\\linalg\\eigen\\arpack\\arpack.py:1572: RuntimeWarning: k >= N for N * N square matrix. Attempting to use scipy.linalg.eigh instead.\n",
      "  RuntimeWarning)\n"
     ]
    },
    {
     "name": "stdout",
     "output_type": "stream",
     "text": [
      "|  41       |  0.75     |  17.93    |  0.7039   |  48.58    |  186.8    |\n",
      "|  42       |  0.5      |  10.0     |  0.2      |  43.44    |  116.8    |\n",
      "=========================================================================\n",
      "Running the algorithm on MkiUBJcgdUY \n",
      "|   iter    |  target   | n_clus... | sim_th... | step_size | window... |\n",
      "-------------------------------------------------------------------------\n",
      "|  43       |  0.1667   |  12.3     |  0.291    |  10.97    |  142.2    |\n"
     ]
    },
    {
     "name": "stderr",
     "output_type": "stream",
     "text": [
      "C:\\Users\\yaniv\\Anaconda3\\lib\\site-packages\\sklearn\\manifold\\spectral_embedding_.py:235: UserWarning: Graph is not fully connected, spectral embedding may not work as expected.\n",
      "  warnings.warn(\"Graph is not fully connected, spectral embedding\"\n"
     ]
    },
    {
     "name": "stdout",
     "output_type": "stream",
     "text": [
      "|  44       |  0.0      |  11.69    |  0.3859   |  34.58    |  29.61    |\n"
     ]
    },
    {
     "name": "stderr",
     "output_type": "stream",
     "text": [
      "C:\\Users\\yaniv\\Anaconda3\\lib\\site-packages\\sklearn\\manifold\\spectral_embedding_.py:235: UserWarning: Graph is not fully connected, spectral embedding may not work as expected.\n",
      "  warnings.warn(\"Graph is not fully connected, spectral embedding\"\n"
     ]
    },
    {
     "name": "stdout",
     "output_type": "stream",
     "text": [
      "|  45       |  0.0      |  18.0     |  0.9      |  16.93    |  131.7    |\n",
      "|  46       |  0.1667   |  10.0     |  0.9      |  10.0     |  128.0    |\n",
      "|  47       |  0.5      |  18.0     |  0.2      |  52.95    |  111.7    |\n",
      "|  48       |  0.1667   |  10.0     |  0.2      |  45.97    |  103.7    |\n"
     ]
    },
    {
     "name": "stderr",
     "output_type": "stream",
     "text": [
      "C:\\Users\\yaniv\\Anaconda3\\lib\\site-packages\\sklearn\\manifold\\spectral_embedding_.py:235: UserWarning: Graph is not fully connected, spectral embedding may not work as expected.\n",
      "  warnings.warn(\"Graph is not fully connected, spectral embedding\"\n"
     ]
    },
    {
     "name": "stdout",
     "output_type": "stream",
     "text": [
      "|  49       |  0.0      |  10.01    |  0.8785   |  51.84    |  188.2    |\n",
      "=========================================================================\n",
      "Running the algorithm on Q-HugPvA7GQ \n",
      "|   iter    |  target   | n_clus... | sim_th... | step_size | window... |\n",
      "-------------------------------------------------------------------------\n",
      "|  50       |  0.3571   |  14.59    |  0.3027   |  39.47    |  146.0    |\n",
      "|  51       |  0.0      |  10.82    |  0.4898   |  44.72    |  94.55    |\n",
      "|  52       |  0.0      |  17.95    |  0.2538   |  39.25    |  192.5    |\n",
      "|  53       |  0.0      |  18.0     |  0.2      |  60.0     |  181.6    |\n"
     ]
    },
    {
     "name": "stderr",
     "output_type": "stream",
     "text": [
      "C:\\Users\\yaniv\\Anaconda3\\lib\\site-packages\\sklearn\\manifold\\spectral_embedding_.py:235: UserWarning: Graph is not fully connected, spectral embedding may not work as expected.\n",
      "  warnings.warn(\"Graph is not fully connected, spectral embedding\"\n"
     ]
    },
    {
     "name": "stdout",
     "output_type": "stream",
     "text": [
      "|  54       |  0.0      |  18.0     |  0.9      |  47.81    |  178.2    |\n",
      "|  55       |  0.07143  |  10.38    |  0.3328   |  26.64    |  177.0    |\n",
      "|  56       |  0.2857   |  17.66    |  0.2987   |  37.6     |  125.2    |\n",
      "=========================================================================\n",
      "Running the algorithm on SCvtxjpVQms \n",
      "|   iter    |  target   | n_clus... | sim_th... | step_size | window... |\n",
      "-------------------------------------------------------------------------\n",
      "|  57       |  0.0      |  10.4     |  0.5751   |  43.19    |  112.7    |\n"
     ]
    },
    {
     "name": "stderr",
     "output_type": "stream",
     "text": [
      "C:\\Users\\yaniv\\Anaconda3\\lib\\site-packages\\sklearn\\manifold\\spectral_embedding_.py:235: UserWarning: Graph is not fully connected, spectral embedding may not work as expected.\n",
      "  warnings.warn(\"Graph is not fully connected, spectral embedding\"\n"
     ]
    },
    {
     "name": "stdout",
     "output_type": "stream",
     "text": [
      "|  58       |  0.0      |  17.56    |  0.6106   |  55.17    |  44.75    |\n"
     ]
    },
    {
     "name": "stderr",
     "output_type": "stream",
     "text": [
      "C:\\Users\\yaniv\\Anaconda3\\lib\\site-packages\\sklearn\\manifold\\spectral_embedding_.py:235: UserWarning: Graph is not fully connected, spectral embedding may not work as expected.\n",
      "  warnings.warn(\"Graph is not fully connected, spectral embedding\"\n"
     ]
    },
    {
     "name": "stdout",
     "output_type": "stream",
     "text": [
      "|  59       |  0.0      |  10.0     |  0.9      |  43.56    |  128.4    |\n"
     ]
    },
    {
     "name": "stderr",
     "output_type": "stream",
     "text": [
      "C:\\Users\\yaniv\\Anaconda3\\lib\\site-packages\\sklearn\\manifold\\spectral_embedding_.py:235: UserWarning: Graph is not fully connected, spectral embedding may not work as expected.\n",
      "  warnings.warn(\"Graph is not fully connected, spectral embedding\"\n"
     ]
    },
    {
     "name": "stdout",
     "output_type": "stream",
     "text": [
      "|  60       |  0.2308   |  17.47    |  0.8058   |  26.76    |  93.07    |\n"
     ]
    },
    {
     "name": "stderr",
     "output_type": "stream",
     "text": [
      "C:\\Users\\yaniv\\Anaconda3\\lib\\site-packages\\sklearn\\manifold\\spectral_embedding_.py:235: UserWarning: Graph is not fully connected, spectral embedding may not work as expected.\n",
      "  warnings.warn(\"Graph is not fully connected, spectral embedding\"\n"
     ]
    },
    {
     "name": "stdout",
     "output_type": "stream",
     "text": [
      "|  61       |  0.0      |  18.0     |  0.9      |  10.0     |  63.47    |\n"
     ]
    },
    {
     "name": "stderr",
     "output_type": "stream",
     "text": [
      "C:\\Users\\yaniv\\Anaconda3\\lib\\site-packages\\sklearn\\manifold\\spectral_embedding_.py:235: UserWarning: Graph is not fully connected, spectral embedding may not work as expected.\n",
      "  warnings.warn(\"Graph is not fully connected, spectral embedding\"\n"
     ]
    },
    {
     "name": "stdout",
     "output_type": "stream",
     "text": [
      "|  62       |  0.0      |  18.0     |  0.9      |  26.09    |  20.0     |\n",
      "|  63       |  0.2308   |  10.0     |  0.9      |  10.0     |  165.5    |\n",
      "=========================================================================\n",
      "Running the algorithm on x5zLaWT5KPs \n",
      "|   iter    |  target   | n_clus... | sim_th... | step_size | window... |\n",
      "-------------------------------------------------------------------------\n"
     ]
    },
    {
     "name": "stderr",
     "output_type": "stream",
     "text": [
      "C:\\Users\\yaniv\\Anaconda3\\lib\\site-packages\\sklearn\\manifold\\spectral_embedding_.py:235: UserWarning: Graph is not fully connected, spectral embedding may not work as expected.\n",
      "  warnings.warn(\"Graph is not fully connected, spectral embedding\"\n"
     ]
    },
    {
     "name": "stdout",
     "output_type": "stream",
     "text": [
      "|  64       |  0.0      |  11.11    |  0.7652   |  29.88    |  49.76    |\n"
     ]
    },
    {
     "name": "stderr",
     "output_type": "stream",
     "text": [
      "C:\\Users\\yaniv\\Anaconda3\\lib\\site-packages\\scipy\\sparse\\linalg\\eigen\\arpack\\arpack.py:1572: RuntimeWarning: k >= N for N * N square matrix. Attempting to use scipy.linalg.eigh instead.\n",
      "  RuntimeWarning)\n"
     ]
    },
    {
     "name": "stdout",
     "output_type": "stream",
     "text": [
      "|  65       |  0.0      |  17.42    |  0.4434   |  47.54    |  150.7    |\n",
      "|  66       |  0.4286   |  10.0     |  0.2      |  60.0     |  163.5    |\n"
     ]
    },
    {
     "name": "stderr",
     "output_type": "stream",
     "text": [
      "C:\\Users\\yaniv\\Anaconda3\\lib\\site-packages\\scipy\\sparse\\linalg\\eigen\\arpack\\arpack.py:1572: RuntimeWarning: k >= N for N * N square matrix. Attempting to use scipy.linalg.eigh instead.\n",
      "  RuntimeWarning)\n"
     ]
    },
    {
     "name": "stdout",
     "output_type": "stream",
     "text": [
      "|  67       |  0.0      |  17.77    |  0.2387   |  51.52    |  121.1    |\n",
      "|  68       |  0.0      |  17.8     |  0.7172   |  20.96    |  104.5    |\n"
     ]
    },
    {
     "name": "stderr",
     "output_type": "stream",
     "text": [
      "C:\\Users\\yaniv\\Anaconda3\\lib\\site-packages\\sklearn\\manifold\\spectral_embedding_.py:235: UserWarning: Graph is not fully connected, spectral embedding may not work as expected.\n",
      "  warnings.warn(\"Graph is not fully connected, spectral embedding\"\n",
      "C:\\Users\\yaniv\\Anaconda3\\lib\\site-packages\\scipy\\sparse\\linalg\\eigen\\arpack\\arpack.py:1572: RuntimeWarning: k >= N for N * N square matrix. Attempting to use scipy.linalg.eigh instead.\n",
      "  RuntimeWarning)\n"
     ]
    },
    {
     "name": "stdout",
     "output_type": "stream",
     "text": [
      "|  69       |  0.0      |  18.0     |  0.9      |  60.0     |  105.6    |\n",
      "|  70       |  0.0      |  10.35    |  0.4532   |  31.83    |  121.6    |\n",
      "=========================================================================\n",
      "Running the algorithm on zT83sJ5IrEE \n",
      "|   iter    |  target   | n_clus... | sim_th... | step_size | window... |\n",
      "-------------------------------------------------------------------------\n"
     ]
    },
    {
     "name": "stderr",
     "output_type": "stream",
     "text": [
      "C:\\Users\\yaniv\\Anaconda3\\lib\\site-packages\\sklearn\\manifold\\spectral_embedding_.py:235: UserWarning: Graph is not fully connected, spectral embedding may not work as expected.\n",
      "  warnings.warn(\"Graph is not fully connected, spectral embedding\"\n"
     ]
    },
    {
     "name": "stdout",
     "output_type": "stream",
     "text": [
      "|  71       |  0.0      |  17.07    |  0.6366   |  47.55    |  82.8     |\n",
      "|  72       |  0.2308   |  12.16    |  0.8271   |  31.4     |  193.7    |\n"
     ]
    },
    {
     "name": "stderr",
     "output_type": "stream",
     "text": [
      "C:\\Users\\yaniv\\Anaconda3\\lib\\site-packages\\sklearn\\manifold\\spectral_embedding_.py:235: UserWarning: Graph is not fully connected, spectral embedding may not work as expected.\n",
      "  warnings.warn(\"Graph is not fully connected, spectral embedding\"\n"
     ]
    },
    {
     "name": "stdout",
     "output_type": "stream",
     "text": [
      "|  73       |  0.0      |  18.0     |  0.9      |  45.59    |  20.0     |\n",
      "|  74       |  0.0      |  10.0     |  0.2      |  60.0     |  59.36    |\n"
     ]
    },
    {
     "name": "stderr",
     "output_type": "stream",
     "text": [
      "C:\\Users\\yaniv\\Anaconda3\\lib\\site-packages\\sklearn\\manifold\\spectral_embedding_.py:235: UserWarning: Graph is not fully connected, spectral embedding may not work as expected.\n",
      "  warnings.warn(\"Graph is not fully connected, spectral embedding\"\n"
     ]
    },
    {
     "name": "stdout",
     "output_type": "stream",
     "text": [
      "|  75       |  0.0      |  10.0     |  0.9      |  34.05    |  162.7    |\n",
      "|  76       |  0.0      |  18.0     |  0.2      |  38.74    |  59.0     |\n"
     ]
    },
    {
     "name": "stderr",
     "output_type": "stream",
     "text": [
      "C:\\Users\\yaniv\\Anaconda3\\lib\\site-packages\\sklearn\\manifold\\spectral_embedding_.py:235: UserWarning: Graph is not fully connected, spectral embedding may not work as expected.\n",
      "  warnings.warn(\"Graph is not fully connected, spectral embedding\"\n"
     ]
    },
    {
     "name": "stdout",
     "output_type": "stream",
     "text": [
      "|  77       |  0.0      |  18.0     |  0.9      |  60.0     |  31.79    |\n",
      "=========================================================================\n",
      "Running the algorithm on zWg7U0OEAoE \n",
      "|   iter    |  target   | n_clus... | sim_th... | step_size | window... |\n",
      "-------------------------------------------------------------------------\n",
      "|  78       |  0.3077   |  15.31    |  0.6352   |  15.74    |  190.9    |\n"
     ]
    },
    {
     "name": "stderr",
     "output_type": "stream",
     "text": [
      "C:\\Users\\yaniv\\Anaconda3\\lib\\site-packages\\sklearn\\manifold\\spectral_embedding_.py:235: UserWarning: Graph is not fully connected, spectral embedding may not work as expected.\n",
      "  warnings.warn(\"Graph is not fully connected, spectral embedding\"\n"
     ]
    },
    {
     "name": "stdout",
     "output_type": "stream",
     "text": [
      "|  79       |  0.0      |  13.6     |  0.6049   |  30.41    |  62.66    |\n",
      "|  80       |  0.1538   |  18.0     |  0.9      |  10.0     |  185.4    |\n",
      "|  81       |  0.07692  |  10.0     |  0.2      |  23.79    |  187.6    |\n"
     ]
    },
    {
     "name": "stderr",
     "output_type": "stream",
     "text": [
      "C:\\Users\\yaniv\\Anaconda3\\lib\\site-packages\\sklearn\\manifold\\spectral_embedding_.py:235: UserWarning: Graph is not fully connected, spectral embedding may not work as expected.\n",
      "  warnings.warn(\"Graph is not fully connected, spectral embedding\"\n"
     ]
    },
    {
     "name": "stdout",
     "output_type": "stream",
     "text": [
      "|  82       |  0.0      |  10.0     |  0.9      |  10.0     |  33.72    |\n",
      "|  83       |  0.07692  |  10.0     |  0.2      |  54.72    |  112.5    |\n"
     ]
    },
    {
     "name": "stderr",
     "output_type": "stream",
     "text": [
      "C:\\Users\\yaniv\\Anaconda3\\lib\\site-packages\\sklearn\\manifold\\spectral_embedding_.py:235: UserWarning: Graph is not fully connected, spectral embedding may not work as expected.\n",
      "  warnings.warn(\"Graph is not fully connected, spectral embedding\"\n"
     ]
    },
    {
     "name": "stdout",
     "output_type": "stream",
     "text": [
      "|  84       |  0.0      |  18.0     |  0.9      |  31.22    |  181.9    |\n",
      "=========================================================================\n",
      "{'target': 0.7777777777777778, 'params': {'n_clusters': 18.0, 'sim_thresh': 0.2, 'step_size': 10.0, 'window_size': 54.02825256456093}}\n",
      "Training workflow sliding_window-tfidf-cosine-median_(3,3)-spectral_clustering\n",
      "build function tfidf_cosine_sc\n",
      "Running the algorithm on 2mC1uqwEmWQ \n",
      "|   iter    |  target   | n_clus... | sim_th... | step_size | window... |\n",
      "-------------------------------------------------------------------------\n",
      "|  1        |  0.0      |  12.07    |  0.4543   |  10.38    |  35.92    |\n",
      "|  2        |  0.0      |  12.07    |  0.4543   |  10.38    |  35.92    |\n"
     ]
    },
    {
     "name": "stderr",
     "output_type": "stream",
     "text": [
      "C:\\Users\\yaniv\\Anaconda3\\lib\\site-packages\\sklearn\\manifold\\spectral_embedding_.py:235: UserWarning: Graph is not fully connected, spectral embedding may not work as expected.\n",
      "  warnings.warn(\"Graph is not fully connected, spectral embedding\"\n"
     ]
    },
    {
     "name": "stdout",
     "output_type": "stream",
     "text": [
      "|  3        |  0.6      |  18.0     |  0.3      |  60.0     |  59.01    |\n"
     ]
    },
    {
     "name": "stderr",
     "output_type": "stream",
     "text": [
      "C:\\Users\\yaniv\\Anaconda3\\lib\\site-packages\\sklearn\\manifold\\spectral_embedding_.py:235: UserWarning: Graph is not fully connected, spectral embedding may not work as expected.\n",
      "  warnings.warn(\"Graph is not fully connected, spectral embedding\"\n"
     ]
    },
    {
     "name": "stdout",
     "output_type": "stream",
     "text": [
      "|  4        |  0.1333   |  12.14    |  0.4894   |  30.91    |  77.94    |\n"
     ]
    },
    {
     "name": "stderr",
     "output_type": "stream",
     "text": [
      "C:\\Users\\yaniv\\Anaconda3\\lib\\site-packages\\sklearn\\manifold\\spectral_embedding_.py:235: UserWarning: Graph is not fully connected, spectral embedding may not work as expected.\n",
      "  warnings.warn(\"Graph is not fully connected, spectral embedding\"\n"
     ]
    },
    {
     "name": "stdout",
     "output_type": "stream",
     "text": [
      "|  5        |  0.2      |  12.0     |  0.3      |  10.0     |  119.2    |\n"
     ]
    },
    {
     "name": "stderr",
     "output_type": "stream",
     "text": [
      "C:\\Users\\yaniv\\Anaconda3\\lib\\site-packages\\sklearn\\manifold\\spectral_embedding_.py:235: UserWarning: Graph is not fully connected, spectral embedding may not work as expected.\n",
      "  warnings.warn(\"Graph is not fully connected, spectral embedding\"\n"
     ]
    },
    {
     "name": "stdout",
     "output_type": "stream",
     "text": [
      "|  6        |  0.0      |  12.0     |  0.6      |  44.44    |  83.89    |\n",
      "|  7        |  0.5333   |  17.83    |  0.3839   |  19.2     |  82.5     |\n",
      "=========================================================================\n",
      "Running the algorithm on 8BeXwhljq2g \n",
      "|   iter    |  target   | n_clus... | sim_th... | step_size | window... |\n",
      "-------------------------------------------------------------------------\n",
      "|  8        |  0.5333   |  17.83    |  0.3839   |  19.2     |  82.5     |\n",
      "|  9        |  0.5333   |  17.83    |  0.3839   |  19.2     |  82.5     |\n"
     ]
    },
    {
     "name": "stderr",
     "output_type": "stream",
     "text": [
      "C:\\Users\\yaniv\\Anaconda3\\lib\\site-packages\\sklearn\\manifold\\spectral_embedding_.py:235: UserWarning: Graph is not fully connected, spectral embedding may not work as expected.\n",
      "  warnings.warn(\"Graph is not fully connected, spectral embedding\"\n"
     ]
    },
    {
     "name": "stdout",
     "output_type": "stream",
     "text": [
      "|  10       |  0.0      |  18.0     |  0.3      |  48.31    |  27.7     |\n"
     ]
    },
    {
     "name": "stderr",
     "output_type": "stream",
     "text": [
      "C:\\Users\\yaniv\\Anaconda3\\lib\\site-packages\\sklearn\\manifold\\spectral_embedding_.py:235: UserWarning: Graph is not fully connected, spectral embedding may not work as expected.\n",
      "  warnings.warn(\"Graph is not fully connected, spectral embedding\"\n"
     ]
    },
    {
     "name": "stdout",
     "output_type": "stream",
     "text": [
      "|  11       |  0.0      |  18.0     |  0.3      |  17.4     |  31.22    |\n"
     ]
    },
    {
     "name": "stderr",
     "output_type": "stream",
     "text": [
      "C:\\Users\\yaniv\\Anaconda3\\lib\\site-packages\\sklearn\\manifold\\spectral_embedding_.py:235: UserWarning: Graph is not fully connected, spectral embedding may not work as expected.\n",
      "  warnings.warn(\"Graph is not fully connected, spectral embedding\"\n"
     ]
    },
    {
     "name": "stdout",
     "output_type": "stream",
     "text": [
      "|  12       |  0.6667   |  17.84    |  0.5951   |  54.18    |  66.33    |\n",
      "|  13       |  0.0      |  18.0     |  0.3      |  43.28    |  73.51    |\n"
     ]
    },
    {
     "name": "stderr",
     "output_type": "stream",
     "text": [
      "C:\\Users\\yaniv\\Anaconda3\\lib\\site-packages\\sklearn\\manifold\\spectral_embedding_.py:235: UserWarning: Graph is not fully connected, spectral embedding may not work as expected.\n",
      "  warnings.warn(\"Graph is not fully connected, spectral embedding\"\n"
     ]
    },
    {
     "name": "stdout",
     "output_type": "stream",
     "text": [
      "|  14       |  0.0      |  12.32    |  0.4119   |  59.95    |  31.74    |\n",
      "=========================================================================\n",
      "Running the algorithm on B-Xe7_mf2CY \n",
      "|   iter    |  target   | n_clus... | sim_th... | step_size | window... |\n",
      "-------------------------------------------------------------------------\n",
      "|  15       |  0.0      |  12.32    |  0.4119   |  59.95    |  31.74    |\n",
      "|  16       |  0.0      |  12.32    |  0.4119   |  59.95    |  31.74    |\n"
     ]
    },
    {
     "name": "stderr",
     "output_type": "stream",
     "text": [
      "C:\\Users\\yaniv\\Anaconda3\\lib\\site-packages\\sklearn\\manifold\\spectral_embedding_.py:235: UserWarning: Graph is not fully connected, spectral embedding may not work as expected.\n",
      "  warnings.warn(\"Graph is not fully connected, spectral embedding\"\n"
     ]
    },
    {
     "name": "stdout",
     "output_type": "stream",
     "text": [
      "|  17       |  0.0      |  12.0     |  0.3      |  60.0     |  117.2    |\n"
     ]
    },
    {
     "name": "stderr",
     "output_type": "stream",
     "text": [
      "C:\\Users\\yaniv\\Anaconda3\\lib\\site-packages\\sklearn\\manifold\\spectral_embedding_.py:235: UserWarning: Graph is not fully connected, spectral embedding may not work as expected.\n",
      "  warnings.warn(\"Graph is not fully connected, spectral embedding\"\n"
     ]
    },
    {
     "name": "stdout",
     "output_type": "stream",
     "text": [
      "|  18       |  0.0      |  18.0     |  0.3      |  60.0     |  141.2    |\n"
     ]
    },
    {
     "name": "stderr",
     "output_type": "stream",
     "text": [
      "C:\\Users\\yaniv\\Anaconda3\\lib\\site-packages\\sklearn\\manifold\\spectral_embedding_.py:235: UserWarning: Graph is not fully connected, spectral embedding may not work as expected.\n",
      "  warnings.warn(\"Graph is not fully connected, spectral embedding\"\n"
     ]
    },
    {
     "name": "stdout",
     "output_type": "stream",
     "text": [
      "|  19       |  0.0      |  18.0     |  0.6      |  60.0     |  66.14    |\n"
     ]
    },
    {
     "name": "stderr",
     "output_type": "stream",
     "text": [
      "C:\\Users\\yaniv\\Anaconda3\\lib\\site-packages\\sklearn\\manifold\\spectral_embedding_.py:235: UserWarning: Graph is not fully connected, spectral embedding may not work as expected.\n",
      "  warnings.warn(\"Graph is not fully connected, spectral embedding\"\n"
     ]
    },
    {
     "name": "stdout",
     "output_type": "stream",
     "text": [
      "|  20       |  0.0      |  13.1     |  0.473    |  54.31    |  57.76    |\n"
     ]
    },
    {
     "name": "stderr",
     "output_type": "stream",
     "text": [
      "C:\\Users\\yaniv\\Anaconda3\\lib\\site-packages\\sklearn\\manifold\\spectral_embedding_.py:235: UserWarning: Graph is not fully connected, spectral embedding may not work as expected.\n",
      "  warnings.warn(\"Graph is not fully connected, spectral embedding\"\n"
     ]
    },
    {
     "name": "stdout",
     "output_type": "stream",
     "text": [
      "|  21       |  0.2222   |  12.0     |  0.3      |  60.0     |  85.15    |\n",
      "=========================================================================\n",
      "Running the algorithm on BiLJmhQMbVg \n",
      "|   iter    |  target   | n_clus... | sim_th... | step_size | window... |\n",
      "-------------------------------------------------------------------------\n"
     ]
    },
    {
     "name": "stderr",
     "output_type": "stream",
     "text": [
      "C:\\Users\\yaniv\\Anaconda3\\lib\\site-packages\\sklearn\\manifold\\spectral_embedding_.py:235: UserWarning: Graph is not fully connected, spectral embedding may not work as expected.\n",
      "  warnings.warn(\"Graph is not fully connected, spectral embedding\"\n"
     ]
    },
    {
     "name": "stdout",
     "output_type": "stream",
     "text": [
      "|  22       |  0.0      |  17.26    |  0.5684   |  14.25    |  25.08    |\n"
     ]
    },
    {
     "name": "stderr",
     "output_type": "stream",
     "text": [
      "C:\\Users\\yaniv\\Anaconda3\\lib\\site-packages\\sklearn\\manifold\\spectral_embedding_.py:235: UserWarning: Graph is not fully connected, spectral embedding may not work as expected.\n",
      "  warnings.warn(\"Graph is not fully connected, spectral embedding\"\n"
     ]
    },
    {
     "name": "stdout",
     "output_type": "stream",
     "text": [
      "|  23       |  0.5      |  13.02    |  0.5634   |  14.92    |  74.74    |\n",
      "|  24       |  0.0      |  12.0     |  0.3      |  33.6     |  127.5    |\n"
     ]
    },
    {
     "name": "stderr",
     "output_type": "stream",
     "text": [
      "C:\\Users\\yaniv\\Anaconda3\\lib\\site-packages\\sklearn\\manifold\\spectral_embedding_.py:235: UserWarning: Graph is not fully connected, spectral embedding may not work as expected.\n",
      "  warnings.warn(\"Graph is not fully connected, spectral embedding\"\n"
     ]
    },
    {
     "name": "stdout",
     "output_type": "stream",
     "text": [
      "|  25       |  0.45     |  12.26    |  0.532    |  23.3     |  85.99    |\n",
      "|  26       |  0.0      |  18.0     |  0.3      |  60.0     |  93.12    |\n",
      "|  27       |  0.0      |  12.0     |  0.3      |  10.0     |  49.59    |\n"
     ]
    },
    {
     "name": "stderr",
     "output_type": "stream",
     "text": [
      "C:\\Users\\yaniv\\Anaconda3\\lib\\site-packages\\sklearn\\manifold\\spectral_embedding_.py:235: UserWarning: Graph is not fully connected, spectral embedding may not work as expected.\n",
      "  warnings.warn(\"Graph is not fully connected, spectral embedding\"\n"
     ]
    },
    {
     "name": "stdout",
     "output_type": "stream",
     "text": [
      "|  28       |  0.0      |  18.0     |  0.3      |  60.0     |  39.78    |\n",
      "=========================================================================\n",
      "Running the algorithm on dkAr9ThdSUU \n",
      "|   iter    |  target   | n_clus... | sim_th... | step_size | window... |\n",
      "-------------------------------------------------------------------------\n"
     ]
    },
    {
     "name": "stderr",
     "output_type": "stream",
     "text": [
      "C:\\Users\\yaniv\\Anaconda3\\lib\\site-packages\\sklearn\\manifold\\spectral_embedding_.py:235: UserWarning: Graph is not fully connected, spectral embedding may not work as expected.\n",
      "  warnings.warn(\"Graph is not fully connected, spectral embedding\"\n"
     ]
    },
    {
     "name": "stdout",
     "output_type": "stream",
     "text": [
      "|  29       |  0.0      |  17.75    |  0.4599   |  44.59    |  61.02    |\n"
     ]
    },
    {
     "name": "stderr",
     "output_type": "stream",
     "text": [
      "C:\\Users\\yaniv\\Anaconda3\\lib\\site-packages\\sklearn\\manifold\\spectral_embedding_.py:235: UserWarning: Graph is not fully connected, spectral embedding may not work as expected.\n",
      "  warnings.warn(\"Graph is not fully connected, spectral embedding\"\n"
     ]
    },
    {
     "name": "stdout",
     "output_type": "stream",
     "text": [
      "|  30       |  0.4118   |  16.12    |  0.5504   |  10.91    |  117.5    |\n"
     ]
    },
    {
     "name": "stderr",
     "output_type": "stream",
     "text": [
      "C:\\Users\\yaniv\\Anaconda3\\lib\\site-packages\\sklearn\\manifold\\spectral_embedding_.py:235: UserWarning: Graph is not fully connected, spectral embedding may not work as expected.\n",
      "  warnings.warn(\"Graph is not fully connected, spectral embedding\"\n"
     ]
    },
    {
     "name": "stdout",
     "output_type": "stream",
     "text": [
      "|  31       |  0.0      |  18.0     |  0.3      |  36.24    |  47.59    |\n"
     ]
    },
    {
     "name": "stderr",
     "output_type": "stream",
     "text": [
      "C:\\Users\\yaniv\\Anaconda3\\lib\\site-packages\\sklearn\\manifold\\spectral_embedding_.py:235: UserWarning: Graph is not fully connected, spectral embedding may not work as expected.\n",
      "  warnings.warn(\"Graph is not fully connected, spectral embedding\"\n"
     ]
    },
    {
     "name": "stdout",
     "output_type": "stream",
     "text": [
      "|  32       |  0.0      |  12.0     |  0.3      |  36.22    |  99.12    |\n"
     ]
    },
    {
     "name": "stderr",
     "output_type": "stream",
     "text": [
      "C:\\Users\\yaniv\\Anaconda3\\lib\\site-packages\\sklearn\\manifold\\spectral_embedding_.py:235: UserWarning: Graph is not fully connected, spectral embedding may not work as expected.\n",
      "  warnings.warn(\"Graph is not fully connected, spectral embedding\"\n"
     ]
    },
    {
     "name": "stdout",
     "output_type": "stream",
     "text": [
      "|  33       |  0.0      |  12.0     |  0.6      |  51.99    |  20.0     |\n",
      "|  34       |  0.1176   |  12.0     |  0.6      |  18.66    |  150.0    |\n"
     ]
    },
    {
     "name": "stderr",
     "output_type": "stream",
     "text": [
      "C:\\Users\\yaniv\\Anaconda3\\lib\\site-packages\\sklearn\\manifold\\spectral_embedding_.py:235: UserWarning: Graph is not fully connected, spectral embedding may not work as expected.\n",
      "  warnings.warn(\"Graph is not fully connected, spectral embedding\"\n"
     ]
    },
    {
     "name": "stdout",
     "output_type": "stream",
     "text": [
      "|  35       |  0.0      |  17.89    |  0.301    |  23.0     |  73.67    |\n",
      "=========================================================================\n",
      "Running the algorithm on ksh6OMRFroI \n",
      "|   iter    |  target   | n_clus... | sim_th... | step_size | window... |\n",
      "-------------------------------------------------------------------------\n"
     ]
    },
    {
     "name": "stderr",
     "output_type": "stream",
     "text": [
      "C:\\Users\\yaniv\\Anaconda3\\lib\\site-packages\\sklearn\\manifold\\spectral_embedding_.py:235: UserWarning: Graph is not fully connected, spectral embedding may not work as expected.\n",
      "  warnings.warn(\"Graph is not fully connected, spectral embedding\"\n"
     ]
    },
    {
     "name": "stdout",
     "output_type": "stream",
     "text": [
      "|  36       |  0.0      |  17.93    |  0.5244   |  24.02    |  122.6    |\n"
     ]
    },
    {
     "name": "stderr",
     "output_type": "stream",
     "text": [
      "C:\\Users\\yaniv\\Anaconda3\\lib\\site-packages\\sklearn\\manifold\\spectral_embedding_.py:235: UserWarning: Graph is not fully connected, spectral embedding may not work as expected.\n",
      "  warnings.warn(\"Graph is not fully connected, spectral embedding\"\n"
     ]
    },
    {
     "name": "stdout",
     "output_type": "stream",
     "text": [
      "|  37       |  0.0      |  12.62    |  0.4344   |  55.43    |  58.17    |\n"
     ]
    },
    {
     "name": "stderr",
     "output_type": "stream",
     "text": [
      "C:\\Users\\yaniv\\Anaconda3\\lib\\site-packages\\sklearn\\manifold\\spectral_embedding_.py:235: UserWarning: Graph is not fully connected, spectral embedding may not work as expected.\n",
      "  warnings.warn(\"Graph is not fully connected, spectral embedding\"\n"
     ]
    },
    {
     "name": "stdout",
     "output_type": "stream",
     "text": [
      "|  38       |  0.4167   |  12.13    |  0.3588   |  57.57    |  73.6     |\n"
     ]
    },
    {
     "name": "stderr",
     "output_type": "stream",
     "text": [
      "C:\\Users\\yaniv\\Anaconda3\\lib\\site-packages\\sklearn\\manifold\\spectral_embedding_.py:235: UserWarning: Graph is not fully connected, spectral embedding may not work as expected.\n",
      "  warnings.warn(\"Graph is not fully connected, spectral embedding\"\n"
     ]
    },
    {
     "name": "stdout",
     "output_type": "stream",
     "text": [
      "|  39       |  0.0      |  18.0     |  0.3      |  22.86    |  91.23    |\n",
      "|  40       |  0.5833   |  12.0     |  0.3      |  19.83    |  79.74    |\n"
     ]
    },
    {
     "name": "stderr",
     "output_type": "stream",
     "text": [
      "C:\\Users\\yaniv\\Anaconda3\\lib\\site-packages\\sklearn\\manifold\\spectral_embedding_.py:235: UserWarning: Graph is not fully connected, spectral embedding may not work as expected.\n",
      "  warnings.warn(\"Graph is not fully connected, spectral embedding\"\n",
      "C:\\Users\\yaniv\\Anaconda3\\lib\\site-packages\\scipy\\sparse\\linalg\\eigen\\arpack\\arpack.py:1572: RuntimeWarning: k >= N for N * N square matrix. Attempting to use scipy.linalg.eigh instead.\n",
      "  RuntimeWarning)\n"
     ]
    },
    {
     "name": "stdout",
     "output_type": "stream",
     "text": [
      "|  41       |  0.0      |  18.0     |  0.6      |  60.0     |  52.36    |\n"
     ]
    },
    {
     "name": "stderr",
     "output_type": "stream",
     "text": [
      "C:\\Users\\yaniv\\Anaconda3\\lib\\site-packages\\sklearn\\manifold\\spectral_embedding_.py:235: UserWarning: Graph is not fully connected, spectral embedding may not work as expected.\n",
      "  warnings.warn(\"Graph is not fully connected, spectral embedding\"\n"
     ]
    },
    {
     "name": "stdout",
     "output_type": "stream",
     "text": [
      "|  42       |  0.0      |  12.0     |  0.3      |  38.4     |  32.35    |\n",
      "=========================================================================\n",
      "Running the algorithm on MkiUBJcgdUY \n",
      "|   iter    |  target   | n_clus... | sim_th... | step_size | window... |\n",
      "-------------------------------------------------------------------------\n"
     ]
    },
    {
     "name": "stderr",
     "output_type": "stream",
     "text": [
      "C:\\Users\\yaniv\\Anaconda3\\lib\\site-packages\\sklearn\\manifold\\spectral_embedding_.py:235: UserWarning: Graph is not fully connected, spectral embedding may not work as expected.\n",
      "  warnings.warn(\"Graph is not fully connected, spectral embedding\"\n"
     ]
    },
    {
     "name": "stdout",
     "output_type": "stream",
     "text": [
      "|  43       |  0.2778   |  13.73    |  0.339    |  10.97    |  108.2    |\n"
     ]
    },
    {
     "name": "stderr",
     "output_type": "stream",
     "text": [
      "C:\\Users\\yaniv\\Anaconda3\\lib\\site-packages\\sklearn\\manifold\\spectral_embedding_.py:235: UserWarning: Graph is not fully connected, spectral embedding may not work as expected.\n",
      "  warnings.warn(\"Graph is not fully connected, spectral embedding\"\n"
     ]
    },
    {
     "name": "stdout",
     "output_type": "stream",
     "text": [
      "|  44       |  0.0      |  13.27    |  0.3797   |  34.58    |  26.94    |\n"
     ]
    },
    {
     "name": "stderr",
     "output_type": "stream",
     "text": [
      "C:\\Users\\yaniv\\Anaconda3\\lib\\site-packages\\sklearn\\manifold\\spectral_embedding_.py:235: UserWarning: Graph is not fully connected, spectral embedding may not work as expected.\n",
      "  warnings.warn(\"Graph is not fully connected, spectral embedding\"\n"
     ]
    },
    {
     "name": "stdout",
     "output_type": "stream",
     "text": [
      "|  45       |  0.3889   |  18.0     |  0.3      |  52.14    |  82.69    |\n"
     ]
    },
    {
     "name": "stderr",
     "output_type": "stream",
     "text": [
      "C:\\Users\\yaniv\\Anaconda3\\lib\\site-packages\\sklearn\\manifold\\spectral_embedding_.py:235: UserWarning: Graph is not fully connected, spectral embedding may not work as expected.\n",
      "  warnings.warn(\"Graph is not fully connected, spectral embedding\"\n"
     ]
    },
    {
     "name": "stdout",
     "output_type": "stream",
     "text": [
      "|  46       |  0.2778   |  18.0     |  0.3      |  57.41    |  124.0    |\n"
     ]
    },
    {
     "name": "stderr",
     "output_type": "stream",
     "text": [
      "C:\\Users\\yaniv\\Anaconda3\\lib\\site-packages\\sklearn\\manifold\\spectral_embedding_.py:235: UserWarning: Graph is not fully connected, spectral embedding may not work as expected.\n",
      "  warnings.warn(\"Graph is not fully connected, spectral embedding\"\n"
     ]
    },
    {
     "name": "stdout",
     "output_type": "stream",
     "text": [
      "|  47       |  0.0      |  17.8     |  0.3582   |  54.27    |  61.76    |\n"
     ]
    },
    {
     "name": "stderr",
     "output_type": "stream",
     "text": [
      "C:\\Users\\yaniv\\Anaconda3\\lib\\site-packages\\sklearn\\manifold\\spectral_embedding_.py:235: UserWarning: Graph is not fully connected, spectral embedding may not work as expected.\n",
      "  warnings.warn(\"Graph is not fully connected, spectral embedding\"\n"
     ]
    },
    {
     "name": "stdout",
     "output_type": "stream",
     "text": [
      "|  48       |  0.0      |  17.73    |  0.4569   |  52.31    |  72.2     |\n"
     ]
    },
    {
     "name": "stderr",
     "output_type": "stream",
     "text": [
      "C:\\Users\\yaniv\\Anaconda3\\lib\\site-packages\\sklearn\\manifold\\spectral_embedding_.py:235: UserWarning: Graph is not fully connected, spectral embedding may not work as expected.\n",
      "  warnings.warn(\"Graph is not fully connected, spectral embedding\"\n"
     ]
    },
    {
     "name": "stdout",
     "output_type": "stream",
     "text": [
      "|  49       |  0.3889   |  18.0     |  0.3      |  47.78    |  92.09    |\n",
      "=========================================================================\n",
      "Running the algorithm on Q-HugPvA7GQ \n",
      "|   iter    |  target   | n_clus... | sim_th... | step_size | window... |\n",
      "-------------------------------------------------------------------------\n"
     ]
    },
    {
     "name": "stderr",
     "output_type": "stream",
     "text": [
      "C:\\Users\\yaniv\\Anaconda3\\lib\\site-packages\\sklearn\\manifold\\spectral_embedding_.py:235: UserWarning: Graph is not fully connected, spectral embedding may not work as expected.\n",
      "  warnings.warn(\"Graph is not fully connected, spectral embedding\"\n"
     ]
    },
    {
     "name": "stdout",
     "output_type": "stream",
     "text": [
      "|  50       |  0.5      |  15.44    |  0.344    |  39.47    |  111.0    |\n"
     ]
    },
    {
     "name": "stderr",
     "output_type": "stream",
     "text": [
      "C:\\Users\\yaniv\\Anaconda3\\lib\\site-packages\\sklearn\\manifold\\spectral_embedding_.py:235: UserWarning: Graph is not fully connected, spectral embedding may not work as expected.\n",
      "  warnings.warn(\"Graph is not fully connected, spectral embedding\"\n"
     ]
    },
    {
     "name": "stdout",
     "output_type": "stream",
     "text": [
      "|  51       |  0.3571   |  12.61    |  0.4242   |  44.72    |  73.84    |\n"
     ]
    },
    {
     "name": "stderr",
     "output_type": "stream",
     "text": [
      "C:\\Users\\yaniv\\Anaconda3\\lib\\site-packages\\sklearn\\manifold\\spectral_embedding_.py:235: UserWarning: Graph is not fully connected, spectral embedding may not work as expected.\n",
      "  warnings.warn(\"Graph is not fully connected, spectral embedding\"\n"
     ]
    },
    {
     "name": "stdout",
     "output_type": "stream",
     "text": [
      "|  52       |  0.5714   |  18.0     |  0.6      |  49.89    |  114.9    |\n"
     ]
    },
    {
     "name": "stderr",
     "output_type": "stream",
     "text": [
      "C:\\Users\\yaniv\\Anaconda3\\lib\\site-packages\\sklearn\\manifold\\spectral_embedding_.py:235: UserWarning: Graph is not fully connected, spectral embedding may not work as expected.\n",
      "  warnings.warn(\"Graph is not fully connected, spectral embedding\"\n"
     ]
    },
    {
     "name": "stdout",
     "output_type": "stream",
     "text": [
      "|  53       |  0.5      |  12.0     |  0.3      |  49.97    |  110.4    |\n",
      "|  54       |  0.3571   |  12.07    |  0.3639   |  12.08    |  95.69    |\n"
     ]
    },
    {
     "name": "stderr",
     "output_type": "stream",
     "text": [
      "C:\\Users\\yaniv\\Anaconda3\\lib\\site-packages\\sklearn\\manifold\\spectral_embedding_.py:235: UserWarning: Graph is not fully connected, spectral embedding may not work as expected.\n",
      "  warnings.warn(\"Graph is not fully connected, spectral embedding\"\n"
     ]
    },
    {
     "name": "stdout",
     "output_type": "stream",
     "text": [
      "|  55       |  0.0      |  12.0     |  0.6      |  51.34    |  66.07    |\n"
     ]
    },
    {
     "name": "stderr",
     "output_type": "stream",
     "text": [
      "C:\\Users\\yaniv\\Anaconda3\\lib\\site-packages\\sklearn\\manifold\\spectral_embedding_.py:235: UserWarning: Graph is not fully connected, spectral embedding may not work as expected.\n",
      "  warnings.warn(\"Graph is not fully connected, spectral embedding\"\n"
     ]
    },
    {
     "name": "stdout",
     "output_type": "stream",
     "text": [
      "|  56       |  0.2143   |  12.18    |  0.5809   |  30.22    |  139.2    |\n",
      "=========================================================================\n",
      "Running the algorithm on SCvtxjpVQms \n",
      "|   iter    |  target   | n_clus... | sim_th... | step_size | window... |\n",
      "-------------------------------------------------------------------------\n"
     ]
    },
    {
     "name": "stderr",
     "output_type": "stream",
     "text": [
      "C:\\Users\\yaniv\\Anaconda3\\lib\\site-packages\\sklearn\\manifold\\spectral_embedding_.py:235: UserWarning: Graph is not fully connected, spectral embedding may not work as expected.\n",
      "  warnings.warn(\"Graph is not fully connected, spectral embedding\"\n"
     ]
    },
    {
     "name": "stdout",
     "output_type": "stream",
     "text": [
      "|  57       |  0.0      |  12.3     |  0.4608   |  43.19    |  86.94    |\n"
     ]
    },
    {
     "name": "stderr",
     "output_type": "stream",
     "text": [
      "C:\\Users\\yaniv\\Anaconda3\\lib\\site-packages\\sklearn\\manifold\\spectral_embedding_.py:235: UserWarning: Graph is not fully connected, spectral embedding may not work as expected.\n",
      "  warnings.warn(\"Graph is not fully connected, spectral embedding\"\n"
     ]
    },
    {
     "name": "stdout",
     "output_type": "stream",
     "text": [
      "|  58       |  0.0      |  17.67    |  0.476    |  55.17    |  37.87    |\n"
     ]
    },
    {
     "name": "stderr",
     "output_type": "stream",
     "text": [
      "C:\\Users\\yaniv\\Anaconda3\\lib\\site-packages\\sklearn\\manifold\\spectral_embedding_.py:235: UserWarning: Graph is not fully connected, spectral embedding may not work as expected.\n",
      "  warnings.warn(\"Graph is not fully connected, spectral embedding\"\n"
     ]
    },
    {
     "name": "stdout",
     "output_type": "stream",
     "text": [
      "|  59       |  0.0      |  12.0     |  0.6      |  10.0     |  68.29    |\n",
      "|  60       |  0.3846   |  18.0     |  0.6      |  15.02    |  53.75    |\n"
     ]
    },
    {
     "name": "stderr",
     "output_type": "stream",
     "text": [
      "C:\\Users\\yaniv\\Anaconda3\\lib\\site-packages\\sklearn\\manifold\\spectral_embedding_.py:235: UserWarning: Graph is not fully connected, spectral embedding may not work as expected.\n",
      "  warnings.warn(\"Graph is not fully connected, spectral embedding\"\n"
     ]
    },
    {
     "name": "stdout",
     "output_type": "stream",
     "text": [
      "|  61       |  0.0      |  17.91    |  0.3653   |  11.29    |  88.97    |\n"
     ]
    },
    {
     "name": "stderr",
     "output_type": "stream",
     "text": [
      "C:\\Users\\yaniv\\Anaconda3\\lib\\site-packages\\sklearn\\manifold\\spectral_embedding_.py:235: UserWarning: Graph is not fully connected, spectral embedding may not work as expected.\n",
      "  warnings.warn(\"Graph is not fully connected, spectral embedding\"\n"
     ]
    },
    {
     "name": "stdout",
     "output_type": "stream",
     "text": [
      "|  62       |  0.1538   |  18.0     |  0.3      |  34.91    |  116.9    |\n"
     ]
    },
    {
     "name": "stderr",
     "output_type": "stream",
     "text": [
      "C:\\Users\\yaniv\\Anaconda3\\lib\\site-packages\\sklearn\\manifold\\spectral_embedding_.py:235: UserWarning: Graph is not fully connected, spectral embedding may not work as expected.\n",
      "  warnings.warn(\"Graph is not fully connected, spectral embedding\"\n"
     ]
    },
    {
     "name": "stdout",
     "output_type": "stream",
     "text": [
      "|  63       |  0.0      |  12.28    |  0.3319   |  20.6     |  53.87    |\n",
      "=========================================================================\n",
      "Running the algorithm on x5zLaWT5KPs \n",
      "|   iter    |  target   | n_clus... | sim_th... | step_size | window... |\n",
      "-------------------------------------------------------------------------\n"
     ]
    },
    {
     "name": "stderr",
     "output_type": "stream",
     "text": [
      "C:\\Users\\yaniv\\Anaconda3\\lib\\site-packages\\sklearn\\manifold\\spectral_embedding_.py:235: UserWarning: Graph is not fully connected, spectral embedding may not work as expected.\n",
      "  warnings.warn(\"Graph is not fully connected, spectral embedding\"\n"
     ]
    },
    {
     "name": "stdout",
     "output_type": "stream",
     "text": [
      "|  64       |  0.0      |  12.84    |  0.5422   |  29.88    |  41.5     |\n"
     ]
    },
    {
     "name": "stderr",
     "output_type": "stream",
     "text": [
      "C:\\Users\\yaniv\\Anaconda3\\lib\\site-packages\\sklearn\\manifold\\spectral_embedding_.py:235: UserWarning: Graph is not fully connected, spectral embedding may not work as expected.\n",
      "  warnings.warn(\"Graph is not fully connected, spectral embedding\"\n",
      "C:\\Users\\yaniv\\Anaconda3\\lib\\site-packages\\scipy\\sparse\\linalg\\eigen\\arpack\\arpack.py:1572: RuntimeWarning: k >= N for N * N square matrix. Attempting to use scipy.linalg.eigh instead.\n",
      "  RuntimeWarning)\n"
     ]
    },
    {
     "name": "stdout",
     "output_type": "stream",
     "text": [
      "|  65       |  0.0      |  17.57    |  0.4043   |  47.54    |  114.4    |\n"
     ]
    },
    {
     "name": "stderr",
     "output_type": "stream",
     "text": [
      "C:\\Users\\yaniv\\Anaconda3\\lib\\site-packages\\sklearn\\manifold\\spectral_embedding_.py:235: UserWarning: Graph is not fully connected, spectral embedding may not work as expected.\n",
      "  warnings.warn(\"Graph is not fully connected, spectral embedding\"\n",
      "C:\\Users\\yaniv\\Anaconda3\\lib\\site-packages\\scipy\\sparse\\linalg\\eigen\\arpack\\arpack.py:1572: RuntimeWarning: k >= N for N * N square matrix. Attempting to use scipy.linalg.eigh instead.\n",
      "  RuntimeWarning)\n"
     ]
    },
    {
     "name": "stdout",
     "output_type": "stream",
     "text": [
      "|  66       |  0.0      |  18.0     |  0.6      |  54.59    |  117.2    |\n"
     ]
    },
    {
     "name": "stderr",
     "output_type": "stream",
     "text": [
      "C:\\Users\\yaniv\\Anaconda3\\lib\\site-packages\\sklearn\\manifold\\spectral_embedding_.py:235: UserWarning: Graph is not fully connected, spectral embedding may not work as expected.\n",
      "  warnings.warn(\"Graph is not fully connected, spectral embedding\"\n",
      "C:\\Users\\yaniv\\Anaconda3\\lib\\site-packages\\scipy\\sparse\\linalg\\eigen\\arpack\\arpack.py:1572: RuntimeWarning: k >= N for N * N square matrix. Attempting to use scipy.linalg.eigh instead.\n",
      "  RuntimeWarning)\n"
     ]
    },
    {
     "name": "stdout",
     "output_type": "stream",
     "text": [
      "|  67       |  0.5      |  12.0     |  0.6      |  60.0     |  104.5    |\n"
     ]
    },
    {
     "name": "stderr",
     "output_type": "stream",
     "text": [
      "C:\\Users\\yaniv\\Anaconda3\\lib\\site-packages\\sklearn\\manifold\\spectral_embedding_.py:235: UserWarning: Graph is not fully connected, spectral embedding may not work as expected.\n",
      "  warnings.warn(\"Graph is not fully connected, spectral embedding\"\n",
      "C:\\Users\\yaniv\\Anaconda3\\lib\\site-packages\\scipy\\sparse\\linalg\\eigen\\arpack\\arpack.py:1572: RuntimeWarning: k >= N for N * N square matrix. Attempting to use scipy.linalg.eigh instead.\n",
      "  RuntimeWarning)\n"
     ]
    },
    {
     "name": "stdout",
     "output_type": "stream",
     "text": [
      "|  68       |  0.0      |  17.86    |  0.3821   |  51.16    |  130.5    |\n"
     ]
    },
    {
     "name": "stderr",
     "output_type": "stream",
     "text": [
      "C:\\Users\\yaniv\\Anaconda3\\lib\\site-packages\\sklearn\\manifold\\spectral_embedding_.py:235: UserWarning: Graph is not fully connected, spectral embedding may not work as expected.\n",
      "  warnings.warn(\"Graph is not fully connected, spectral embedding\"\n",
      "C:\\Users\\yaniv\\Anaconda3\\lib\\site-packages\\scipy\\sparse\\linalg\\eigen\\arpack\\arpack.py:1572: RuntimeWarning: k >= N for N * N square matrix. Attempting to use scipy.linalg.eigh instead.\n",
      "  RuntimeWarning)\n"
     ]
    },
    {
     "name": "stdout",
     "output_type": "stream",
     "text": [
      "|  69       |  0.0      |  17.52    |  0.4045   |  54.06    |  103.9    |\n"
     ]
    },
    {
     "name": "stderr",
     "output_type": "stream",
     "text": [
      "C:\\Users\\yaniv\\Anaconda3\\lib\\site-packages\\sklearn\\manifold\\spectral_embedding_.py:235: UserWarning: Graph is not fully connected, spectral embedding may not work as expected.\n",
      "  warnings.warn(\"Graph is not fully connected, spectral embedding\"\n"
     ]
    },
    {
     "name": "stdout",
     "output_type": "stream",
     "text": [
      "|  70       |  0.8571   |  18.0     |  0.6      |  35.51    |  104.9    |\n",
      "=========================================================================\n",
      "Running the algorithm on zT83sJ5IrEE \n",
      "|   iter    |  target   | n_clus... | sim_th... | step_size | window... |\n",
      "-------------------------------------------------------------------------\n"
     ]
    },
    {
     "name": "stderr",
     "output_type": "stream",
     "text": [
      "C:\\Users\\yaniv\\Anaconda3\\lib\\site-packages\\sklearn\\manifold\\spectral_embedding_.py:235: UserWarning: Graph is not fully connected, spectral embedding may not work as expected.\n",
      "  warnings.warn(\"Graph is not fully connected, spectral embedding\"\n"
     ]
    },
    {
     "name": "stdout",
     "output_type": "stream",
     "text": [
      "|  71       |  0.0      |  17.3     |  0.4871   |  47.55    |  65.36    |\n"
     ]
    },
    {
     "name": "stderr",
     "output_type": "stream",
     "text": [
      "C:\\Users\\yaniv\\Anaconda3\\lib\\site-packages\\sklearn\\manifold\\spectral_embedding_.py:235: UserWarning: Graph is not fully connected, spectral embedding may not work as expected.\n",
      "  warnings.warn(\"Graph is not fully connected, spectral embedding\"\n"
     ]
    },
    {
     "name": "stdout",
     "output_type": "stream",
     "text": [
      "|  72       |  0.07692  |  13.62    |  0.5688   |  31.4     |  145.4    |\n"
     ]
    },
    {
     "name": "stderr",
     "output_type": "stream",
     "text": [
      "C:\\Users\\yaniv\\Anaconda3\\lib\\site-packages\\sklearn\\manifold\\spectral_embedding_.py:235: UserWarning: Graph is not fully connected, spectral embedding may not work as expected.\n",
      "  warnings.warn(\"Graph is not fully connected, spectral embedding\"\n"
     ]
    },
    {
     "name": "stdout",
     "output_type": "stream",
     "text": [
      "|  73       |  0.0      |  12.15    |  0.5207   |  35.55    |  67.77    |\n"
     ]
    },
    {
     "name": "stderr",
     "output_type": "stream",
     "text": [
      "C:\\Users\\yaniv\\Anaconda3\\lib\\site-packages\\sklearn\\manifold\\spectral_embedding_.py:235: UserWarning: Graph is not fully connected, spectral embedding may not work as expected.\n",
      "  warnings.warn(\"Graph is not fully connected, spectral embedding\"\n"
     ]
    },
    {
     "name": "stdout",
     "output_type": "stream",
     "text": [
      "|  74       |  0.5385   |  18.0     |  0.6      |  29.66    |  100.9    |\n"
     ]
    },
    {
     "name": "stderr",
     "output_type": "stream",
     "text": [
      "C:\\Users\\yaniv\\Anaconda3\\lib\\site-packages\\sklearn\\manifold\\spectral_embedding_.py:235: UserWarning: Graph is not fully connected, spectral embedding may not work as expected.\n",
      "  warnings.warn(\"Graph is not fully connected, spectral embedding\"\n"
     ]
    },
    {
     "name": "stdout",
     "output_type": "stream",
     "text": [
      "|  75       |  0.2308   |  12.0     |  0.3      |  50.03    |  150.0    |\n"
     ]
    },
    {
     "name": "stderr",
     "output_type": "stream",
     "text": [
      "C:\\Users\\yaniv\\Anaconda3\\lib\\site-packages\\sklearn\\manifold\\spectral_embedding_.py:235: UserWarning: Graph is not fully connected, spectral embedding may not work as expected.\n",
      "  warnings.warn(\"Graph is not fully connected, spectral embedding\"\n"
     ]
    },
    {
     "name": "stdout",
     "output_type": "stream",
     "text": [
      "|  76       |  0.4615   |  18.0     |  0.3      |  16.42    |  134.0    |\n"
     ]
    },
    {
     "name": "stderr",
     "output_type": "stream",
     "text": [
      "C:\\Users\\yaniv\\Anaconda3\\lib\\site-packages\\sklearn\\manifold\\spectral_embedding_.py:235: UserWarning: Graph is not fully connected, spectral embedding may not work as expected.\n",
      "  warnings.warn(\"Graph is not fully connected, spectral embedding\"\n"
     ]
    },
    {
     "name": "stdout",
     "output_type": "stream",
     "text": [
      "|  77       |  0.0      |  18.0     |  0.3      |  29.14    |  132.5    |\n",
      "=========================================================================\n",
      "Running the algorithm on zWg7U0OEAoE \n",
      "|   iter    |  target   | n_clus... | sim_th... | step_size | window... |\n",
      "-------------------------------------------------------------------------\n"
     ]
    },
    {
     "name": "stderr",
     "output_type": "stream",
     "text": [
      "C:\\Users\\yaniv\\Anaconda3\\lib\\site-packages\\sklearn\\manifold\\spectral_embedding_.py:235: UserWarning: Graph is not fully connected, spectral embedding may not work as expected.\n",
      "  warnings.warn(\"Graph is not fully connected, spectral embedding\"\n"
     ]
    },
    {
     "name": "stdout",
     "output_type": "stream",
     "text": [
      "|  78       |  0.0      |  15.98    |  0.4865   |  15.74    |  143.4    |\n"
     ]
    },
    {
     "name": "stderr",
     "output_type": "stream",
     "text": [
      "C:\\Users\\yaniv\\Anaconda3\\lib\\site-packages\\sklearn\\manifold\\spectral_embedding_.py:235: UserWarning: Graph is not fully connected, spectral embedding may not work as expected.\n",
      "  warnings.warn(\"Graph is not fully connected, spectral embedding\"\n"
     ]
    },
    {
     "name": "stdout",
     "output_type": "stream",
     "text": [
      "|  79       |  0.0      |  14.7     |  0.4735   |  30.41    |  50.81    |\n"
     ]
    },
    {
     "name": "stderr",
     "output_type": "stream",
     "text": [
      "C:\\Users\\yaniv\\Anaconda3\\lib\\site-packages\\sklearn\\manifold\\spectral_embedding_.py:235: UserWarning: Graph is not fully connected, spectral embedding may not work as expected.\n",
      "  warnings.warn(\"Graph is not fully connected, spectral embedding\"\n"
     ]
    },
    {
     "name": "stdout",
     "output_type": "stream",
     "text": [
      "|  80       |  0.0      |  12.14    |  0.3833   |  41.64    |  53.74    |\n"
     ]
    },
    {
     "name": "stderr",
     "output_type": "stream",
     "text": [
      "C:\\Users\\yaniv\\Anaconda3\\lib\\site-packages\\sklearn\\manifold\\spectral_embedding_.py:235: UserWarning: Graph is not fully connected, spectral embedding may not work as expected.\n",
      "  warnings.warn(\"Graph is not fully connected, spectral embedding\"\n"
     ]
    },
    {
     "name": "stdout",
     "output_type": "stream",
     "text": [
      "|  81       |  0.07692  |  12.0     |  0.3      |  14.2     |  130.3    |\n",
      "|  82       |  0.3077   |  17.62    |  0.5997   |  18.86    |  102.9    |\n"
     ]
    },
    {
     "name": "stderr",
     "output_type": "stream",
     "text": [
      "C:\\Users\\yaniv\\Anaconda3\\lib\\site-packages\\sklearn\\manifold\\spectral_embedding_.py:235: UserWarning: Graph is not fully connected, spectral embedding may not work as expected.\n",
      "  warnings.warn(\"Graph is not fully connected, spectral embedding\"\n"
     ]
    },
    {
     "name": "stdout",
     "output_type": "stream",
     "text": [
      "|  83       |  0.2308   |  12.0     |  0.6      |  38.95    |  107.2    |\n"
     ]
    },
    {
     "name": "stderr",
     "output_type": "stream",
     "text": [
      "C:\\Users\\yaniv\\Anaconda3\\lib\\site-packages\\sklearn\\manifold\\spectral_embedding_.py:235: UserWarning: Graph is not fully connected, spectral embedding may not work as expected.\n",
      "  warnings.warn(\"Graph is not fully connected, spectral embedding\"\n"
     ]
    },
    {
     "name": "stdout",
     "output_type": "stream",
     "text": [
      "|  84       |  0.0      |  17.64    |  0.528    |  41.33    |  20.17    |\n",
      "=========================================================================\n",
      "{'target': 0.8571428571428571, 'params': {'n_clusters': 18.0, 'sim_thresh': 0.6, 'step_size': 35.50508662156206, 'window_size': 104.87230701638182}}\n",
      "Training workflow sliding_window-tfidf-cosine-None-spectral_clustering\n",
      "build function tfidf_cosine_sc\n",
      "Running the algorithm on 2mC1uqwEmWQ \n",
      "|   iter    |  target   | n_clus... | sim_th... | step_size | window... |\n",
      "-------------------------------------------------------------------------\n",
      "|  1        |  0.0      |  18.0     |  0.6      |  60.0     |  76.69    |\n",
      "|  2        |  0.4667   |  12.88    |  0.3277   |  19.31    |  64.92    |\n"
     ]
    },
    {
     "name": "stderr",
     "output_type": "stream",
     "text": [
      "C:\\Users\\yaniv\\Anaconda3\\lib\\site-packages\\sklearn\\manifold\\spectral_embedding_.py:235: UserWarning: Graph is not fully connected, spectral embedding may not work as expected.\n",
      "  warnings.warn(\"Graph is not fully connected, spectral embedding\"\n"
     ]
    },
    {
     "name": "stdout",
     "output_type": "stream",
     "text": [
      "|  3        |  0.8      |  18.0     |  0.6      |  10.0     |  97.18    |\n",
      "|  4        |  0.0      |  12.0     |  0.3      |  10.0     |  20.0     |\n"
     ]
    },
    {
     "name": "stderr",
     "output_type": "stream",
     "text": [
      "C:\\Users\\yaniv\\Anaconda3\\lib\\site-packages\\sklearn\\manifold\\spectral_embedding_.py:235: UserWarning: Graph is not fully connected, spectral embedding may not work as expected.\n",
      "  warnings.warn(\"Graph is not fully connected, spectral embedding\"\n"
     ]
    },
    {
     "name": "stdout",
     "output_type": "stream",
     "text": [
      "|  5        |  0.6667   |  18.0     |  0.6      |  27.22    |  90.59    |\n"
     ]
    },
    {
     "name": "stderr",
     "output_type": "stream",
     "text": [
      "C:\\Users\\yaniv\\Anaconda3\\lib\\site-packages\\sklearn\\manifold\\spectral_embedding_.py:235: UserWarning: Graph is not fully connected, spectral embedding may not work as expected.\n",
      "  warnings.warn(\"Graph is not fully connected, spectral embedding\"\n"
     ]
    },
    {
     "name": "stdout",
     "output_type": "stream",
     "text": [
      "|  6        |  0.4      |  12.0     |  0.6      |  10.0     |  86.16    |\n"
     ]
    },
    {
     "name": "stderr",
     "output_type": "stream",
     "text": [
      "C:\\Users\\yaniv\\Anaconda3\\lib\\site-packages\\sklearn\\manifold\\spectral_embedding_.py:235: UserWarning: Graph is not fully connected, spectral embedding may not work as expected.\n",
      "  warnings.warn(\"Graph is not fully connected, spectral embedding\"\n"
     ]
    },
    {
     "name": "stdout",
     "output_type": "stream",
     "text": [
      "|  7        |  0.5333   |  18.0     |  0.6      |  10.0     |  117.4    |\n",
      "=========================================================================\n",
      "Running the algorithm on 8BeXwhljq2g \n",
      "|   iter    |  target   | n_clus... | sim_th... | step_size | window... |\n",
      "-------------------------------------------------------------------------\n"
     ]
    },
    {
     "name": "stderr",
     "output_type": "stream",
     "text": [
      "C:\\Users\\yaniv\\Anaconda3\\lib\\site-packages\\sklearn\\manifold\\spectral_embedding_.py:235: UserWarning: Graph is not fully connected, spectral embedding may not work as expected.\n",
      "  warnings.warn(\"Graph is not fully connected, spectral embedding\"\n"
     ]
    },
    {
     "name": "stdout",
     "output_type": "stream",
     "text": [
      "|  8        |  0.0      |  14.38    |  0.4616   |  30.96    |  109.1    |\n"
     ]
    },
    {
     "name": "stderr",
     "output_type": "stream",
     "text": [
      "C:\\Users\\yaniv\\Anaconda3\\lib\\site-packages\\sklearn\\manifold\\spectral_embedding_.py:235: UserWarning: Graph is not fully connected, spectral embedding may not work as expected.\n",
      "  warnings.warn(\"Graph is not fully connected, spectral embedding\"\n"
     ]
    },
    {
     "name": "stdout",
     "output_type": "stream",
     "text": [
      "|  9        |  0.0      |  13.23    |  0.5634   |  11.37    |  107.2    |\n"
     ]
    },
    {
     "name": "stderr",
     "output_type": "stream",
     "text": [
      "C:\\Users\\yaniv\\Anaconda3\\lib\\site-packages\\sklearn\\manifold\\spectral_embedding_.py:235: UserWarning: Graph is not fully connected, spectral embedding may not work as expected.\n",
      "  warnings.warn(\"Graph is not fully connected, spectral embedding\"\n"
     ]
    },
    {
     "name": "stdout",
     "output_type": "stream",
     "text": [
      "|  10       |  0.0      |  18.0     |  0.6      |  40.09    |  46.24    |\n"
     ]
    },
    {
     "name": "stderr",
     "output_type": "stream",
     "text": [
      "C:\\Users\\yaniv\\Anaconda3\\lib\\site-packages\\sklearn\\manifold\\spectral_embedding_.py:235: UserWarning: Graph is not fully connected, spectral embedding may not work as expected.\n",
      "  warnings.warn(\"Graph is not fully connected, spectral embedding\"\n"
     ]
    },
    {
     "name": "stdout",
     "output_type": "stream",
     "text": [
      "|  11       |  0.0      |  18.0     |  0.3      |  37.7     |  150.0    |\n"
     ]
    },
    {
     "name": "stderr",
     "output_type": "stream",
     "text": [
      "C:\\Users\\yaniv\\Anaconda3\\lib\\site-packages\\sklearn\\manifold\\spectral_embedding_.py:235: UserWarning: Graph is not fully connected, spectral embedding may not work as expected.\n",
      "  warnings.warn(\"Graph is not fully connected, spectral embedding\"\n"
     ]
    },
    {
     "name": "stdout",
     "output_type": "stream",
     "text": [
      "|  12       |  0.0      |  12.0     |  0.4458   |  59.64    |  103.3    |\n",
      "|  13       |  0.6667   |  18.0     |  0.3      |  14.39    |  77.73    |\n",
      "|  14       |  0.5556   |  12.0     |  0.3      |  60.0     |  133.4    |\n",
      "=========================================================================\n",
      "Running the algorithm on B-Xe7_mf2CY \n",
      "|   iter    |  target   | n_clus... | sim_th... | step_size | window... |\n",
      "-------------------------------------------------------------------------\n"
     ]
    },
    {
     "name": "stderr",
     "output_type": "stream",
     "text": [
      "C:\\Users\\yaniv\\Anaconda3\\lib\\site-packages\\sklearn\\manifold\\spectral_embedding_.py:235: UserWarning: Graph is not fully connected, spectral embedding may not work as expected.\n",
      "  warnings.warn(\"Graph is not fully connected, spectral embedding\"\n"
     ]
    },
    {
     "name": "stdout",
     "output_type": "stream",
     "text": [
      "|  15       |  0.1667   |  14.5     |  0.4676   |  17.02    |  45.75    |\n"
     ]
    },
    {
     "name": "stderr",
     "output_type": "stream",
     "text": [
      "C:\\Users\\yaniv\\Anaconda3\\lib\\site-packages\\sklearn\\manifold\\spectral_embedding_.py:235: UserWarning: Graph is not fully connected, spectral embedding may not work as expected.\n",
      "  warnings.warn(\"Graph is not fully connected, spectral embedding\"\n"
     ]
    },
    {
     "name": "stdout",
     "output_type": "stream",
     "text": [
      "|  16       |  0.3333   |  16.8     |  0.5905   |  25.67    |  110.0    |\n"
     ]
    },
    {
     "name": "stderr",
     "output_type": "stream",
     "text": [
      "C:\\Users\\yaniv\\Anaconda3\\lib\\site-packages\\sklearn\\manifold\\spectral_embedding_.py:235: UserWarning: Graph is not fully connected, spectral embedding may not work as expected.\n",
      "  warnings.warn(\"Graph is not fully connected, spectral embedding\"\n"
     ]
    },
    {
     "name": "stdout",
     "output_type": "stream",
     "text": [
      "|  17       |  0.0      |  18.0     |  0.6      |  35.11    |  72.7     |\n"
     ]
    },
    {
     "name": "stderr",
     "output_type": "stream",
     "text": [
      "C:\\Users\\yaniv\\Anaconda3\\lib\\site-packages\\sklearn\\manifold\\spectral_embedding_.py:235: UserWarning: Graph is not fully connected, spectral embedding may not work as expected.\n",
      "  warnings.warn(\"Graph is not fully connected, spectral embedding\"\n"
     ]
    },
    {
     "name": "stdout",
     "output_type": "stream",
     "text": [
      "|  18       |  0.0      |  17.46    |  0.4966   |  34.58    |  20.19    |\n"
     ]
    },
    {
     "name": "stderr",
     "output_type": "stream",
     "text": [
      "C:\\Users\\yaniv\\Anaconda3\\lib\\site-packages\\sklearn\\manifold\\spectral_embedding_.py:235: UserWarning: Graph is not fully connected, spectral embedding may not work as expected.\n",
      "  warnings.warn(\"Graph is not fully connected, spectral embedding\"\n"
     ]
    },
    {
     "name": "stdout",
     "output_type": "stream",
     "text": [
      "|  19       |  0.2778   |  18.0     |  0.6      |  24.92    |  130.3    |\n"
     ]
    },
    {
     "name": "stderr",
     "output_type": "stream",
     "text": [
      "C:\\Users\\yaniv\\Anaconda3\\lib\\site-packages\\sklearn\\manifold\\spectral_embedding_.py:235: UserWarning: Graph is not fully connected, spectral embedding may not work as expected.\n",
      "  warnings.warn(\"Graph is not fully connected, spectral embedding\"\n"
     ]
    },
    {
     "name": "stdout",
     "output_type": "stream",
     "text": [
      "|  20       |  0.0      |  12.57    |  0.5964   |  59.62    |  47.78    |\n"
     ]
    },
    {
     "name": "stderr",
     "output_type": "stream",
     "text": [
      "C:\\Users\\yaniv\\Anaconda3\\lib\\site-packages\\sklearn\\manifold\\spectral_embedding_.py:235: UserWarning: Graph is not fully connected, spectral embedding may not work as expected.\n",
      "  warnings.warn(\"Graph is not fully connected, spectral embedding\"\n"
     ]
    },
    {
     "name": "stdout",
     "output_type": "stream",
     "text": [
      "|  21       |  0.0      |  18.0     |  0.3      |  16.91    |  91.09    |\n",
      "=========================================================================\n",
      "Running the algorithm on BiLJmhQMbVg \n",
      "|   iter    |  target   | n_clus... | sim_th... | step_size | window... |\n",
      "-------------------------------------------------------------------------\n"
     ]
    },
    {
     "name": "stderr",
     "output_type": "stream",
     "text": [
      "C:\\Users\\yaniv\\Anaconda3\\lib\\site-packages\\sklearn\\manifold\\spectral_embedding_.py:235: UserWarning: Graph is not fully connected, spectral embedding may not work as expected.\n",
      "  warnings.warn(\"Graph is not fully connected, spectral embedding\"\n"
     ]
    },
    {
     "name": "stdout",
     "output_type": "stream",
     "text": [
      "|  22       |  0.0      |  17.26    |  0.5684   |  14.25    |  25.08    |\n"
     ]
    },
    {
     "name": "stderr",
     "output_type": "stream",
     "text": [
      "C:\\Users\\yaniv\\Anaconda3\\lib\\site-packages\\sklearn\\manifold\\spectral_embedding_.py:235: UserWarning: Graph is not fully connected, spectral embedding may not work as expected.\n",
      "  warnings.warn(\"Graph is not fully connected, spectral embedding\"\n"
     ]
    },
    {
     "name": "stdout",
     "output_type": "stream",
     "text": [
      "|  23       |  0.5      |  13.02    |  0.5634   |  14.92    |  74.74    |\n"
     ]
    },
    {
     "name": "stderr",
     "output_type": "stream",
     "text": [
      "C:\\Users\\yaniv\\Anaconda3\\lib\\site-packages\\sklearn\\manifold\\spectral_embedding_.py:235: UserWarning: Graph is not fully connected, spectral embedding may not work as expected.\n",
      "  warnings.warn(\"Graph is not fully connected, spectral embedding\"\n"
     ]
    },
    {
     "name": "stdout",
     "output_type": "stream",
     "text": [
      "|  24       |  0.0      |  18.0     |  0.6      |  42.52    |  91.74    |\n",
      "|  25       |  0.0      |  12.0     |  0.3      |  10.0     |  132.8    |\n",
      "|  26       |  0.4      |  18.0     |  0.6      |  46.77    |  135.1    |\n",
      "|  27       |  0.0      |  18.0     |  0.3      |  60.0     |  121.5    |\n"
     ]
    },
    {
     "name": "stderr",
     "output_type": "stream",
     "text": [
      "C:\\Users\\yaniv\\Anaconda3\\lib\\site-packages\\sklearn\\manifold\\spectral_embedding_.py:235: UserWarning: Graph is not fully connected, spectral embedding may not work as expected.\n",
      "  warnings.warn(\"Graph is not fully connected, spectral embedding\"\n"
     ]
    },
    {
     "name": "stdout",
     "output_type": "stream",
     "text": [
      "|  28       |  0.3      |  12.0     |  0.6      |  51.37    |  150.0    |\n",
      "=========================================================================\n",
      "Running the algorithm on dkAr9ThdSUU \n",
      "|   iter    |  target   | n_clus... | sim_th... | step_size | window... |\n",
      "-------------------------------------------------------------------------\n"
     ]
    },
    {
     "name": "stderr",
     "output_type": "stream",
     "text": [
      "C:\\Users\\yaniv\\Anaconda3\\lib\\site-packages\\sklearn\\manifold\\spectral_embedding_.py:235: UserWarning: Graph is not fully connected, spectral embedding may not work as expected.\n",
      "  warnings.warn(\"Graph is not fully connected, spectral embedding\"\n"
     ]
    },
    {
     "name": "stdout",
     "output_type": "stream",
     "text": [
      "|  29       |  0.0      |  17.75    |  0.4599   |  44.59    |  61.02    |\n"
     ]
    },
    {
     "name": "stderr",
     "output_type": "stream",
     "text": [
      "C:\\Users\\yaniv\\Anaconda3\\lib\\site-packages\\sklearn\\manifold\\spectral_embedding_.py:235: UserWarning: Graph is not fully connected, spectral embedding may not work as expected.\n",
      "  warnings.warn(\"Graph is not fully connected, spectral embedding\"\n"
     ]
    },
    {
     "name": "stdout",
     "output_type": "stream",
     "text": [
      "|  30       |  0.4118   |  16.12    |  0.5504   |  10.91    |  117.5    |\n"
     ]
    },
    {
     "name": "stderr",
     "output_type": "stream",
     "text": [
      "C:\\Users\\yaniv\\Anaconda3\\lib\\site-packages\\sklearn\\manifold\\spectral_embedding_.py:235: UserWarning: Graph is not fully connected, spectral embedding may not work as expected.\n",
      "  warnings.warn(\"Graph is not fully connected, spectral embedding\"\n"
     ]
    },
    {
     "name": "stdout",
     "output_type": "stream",
     "text": [
      "|  31       |  0.0      |  12.0     |  0.3      |  29.49    |  34.36    |\n"
     ]
    },
    {
     "name": "stderr",
     "output_type": "stream",
     "text": [
      "C:\\Users\\yaniv\\Anaconda3\\lib\\site-packages\\sklearn\\manifold\\spectral_embedding_.py:235: UserWarning: Graph is not fully connected, spectral embedding may not work as expected.\n",
      "  warnings.warn(\"Graph is not fully connected, spectral embedding\"\n"
     ]
    },
    {
     "name": "stdout",
     "output_type": "stream",
     "text": [
      "|  32       |  0.0      |  12.0     |  0.6      |  31.72    |  85.39    |\n"
     ]
    },
    {
     "name": "stderr",
     "output_type": "stream",
     "text": [
      "C:\\Users\\yaniv\\Anaconda3\\lib\\site-packages\\sklearn\\manifold\\spectral_embedding_.py:235: UserWarning: Graph is not fully connected, spectral embedding may not work as expected.\n",
      "  warnings.warn(\"Graph is not fully connected, spectral embedding\"\n"
     ]
    },
    {
     "name": "stdout",
     "output_type": "stream",
     "text": [
      "|  33       |  0.4706   |  18.0     |  0.6      |  10.0     |  71.25    |\n"
     ]
    },
    {
     "name": "stderr",
     "output_type": "stream",
     "text": [
      "C:\\Users\\yaniv\\Anaconda3\\lib\\site-packages\\sklearn\\manifold\\spectral_embedding_.py:235: UserWarning: Graph is not fully connected, spectral embedding may not work as expected.\n",
      "  warnings.warn(\"Graph is not fully connected, spectral embedding\"\n"
     ]
    },
    {
     "name": "stdout",
     "output_type": "stream",
     "text": [
      "|  34       |  0.0      |  18.0     |  0.3      |  60.0     |  33.72    |\n"
     ]
    },
    {
     "name": "stderr",
     "output_type": "stream",
     "text": [
      "C:\\Users\\yaniv\\Anaconda3\\lib\\site-packages\\sklearn\\manifold\\spectral_embedding_.py:235: UserWarning: Graph is not fully connected, spectral embedding may not work as expected.\n",
      "  warnings.warn(\"Graph is not fully connected, spectral embedding\"\n"
     ]
    },
    {
     "name": "stdout",
     "output_type": "stream",
     "text": [
      "|  35       |  0.0      |  17.57    |  0.4143   |  26.2     |  56.31    |\n",
      "=========================================================================\n",
      "Running the algorithm on ksh6OMRFroI \n",
      "|   iter    |  target   | n_clus... | sim_th... | step_size | window... |\n",
      "-------------------------------------------------------------------------\n"
     ]
    },
    {
     "name": "stderr",
     "output_type": "stream",
     "text": [
      "C:\\Users\\yaniv\\Anaconda3\\lib\\site-packages\\sklearn\\manifold\\spectral_embedding_.py:235: UserWarning: Graph is not fully connected, spectral embedding may not work as expected.\n",
      "  warnings.warn(\"Graph is not fully connected, spectral embedding\"\n"
     ]
    },
    {
     "name": "stdout",
     "output_type": "stream",
     "text": [
      "|  36       |  0.0      |  17.93    |  0.5244   |  24.02    |  122.6    |\n"
     ]
    },
    {
     "name": "stderr",
     "output_type": "stream",
     "text": [
      "C:\\Users\\yaniv\\Anaconda3\\lib\\site-packages\\sklearn\\manifold\\spectral_embedding_.py:235: UserWarning: Graph is not fully connected, spectral embedding may not work as expected.\n",
      "  warnings.warn(\"Graph is not fully connected, spectral embedding\"\n"
     ]
    },
    {
     "name": "stdout",
     "output_type": "stream",
     "text": [
      "|  37       |  0.5      |  12.62    |  0.4344   |  55.43    |  58.17    |\n"
     ]
    },
    {
     "name": "stderr",
     "output_type": "stream",
     "text": [
      "C:\\Users\\yaniv\\Anaconda3\\lib\\site-packages\\sklearn\\manifold\\spectral_embedding_.py:235: UserWarning: Graph is not fully connected, spectral embedding may not work as expected.\n",
      "  warnings.warn(\"Graph is not fully connected, spectral embedding\"\n"
     ]
    },
    {
     "name": "stdout",
     "output_type": "stream",
     "text": [
      "|  38       |  0.4167   |  12.0     |  0.6      |  25.04    |  144.9    |\n"
     ]
    },
    {
     "name": "stderr",
     "output_type": "stream",
     "text": [
      "C:\\Users\\yaniv\\Anaconda3\\lib\\site-packages\\sklearn\\manifold\\spectral_embedding_.py:235: UserWarning: Graph is not fully connected, spectral embedding may not work as expected.\n",
      "  warnings.warn(\"Graph is not fully connected, spectral embedding\"\n",
      "C:\\Users\\yaniv\\Anaconda3\\lib\\site-packages\\scipy\\sparse\\linalg\\eigen\\arpack\\arpack.py:1572: RuntimeWarning: k >= N for N * N square matrix. Attempting to use scipy.linalg.eigh instead.\n",
      "  RuntimeWarning)\n"
     ]
    },
    {
     "name": "stdout",
     "output_type": "stream",
     "text": [
      "|  39       |  0.0      |  18.0     |  0.6      |  60.0     |  61.19    |\n"
     ]
    },
    {
     "name": "stderr",
     "output_type": "stream",
     "text": [
      "C:\\Users\\yaniv\\Anaconda3\\lib\\site-packages\\sklearn\\manifold\\spectral_embedding_.py:235: UserWarning: Graph is not fully connected, spectral embedding may not work as expected.\n",
      "  warnings.warn(\"Graph is not fully connected, spectral embedding\"\n"
     ]
    },
    {
     "name": "stdout",
     "output_type": "stream",
     "text": [
      "|  40       |  0.0      |  12.0     |  0.3      |  36.08    |  135.8    |\n"
     ]
    },
    {
     "name": "stderr",
     "output_type": "stream",
     "text": [
      "C:\\Users\\yaniv\\Anaconda3\\lib\\site-packages\\sklearn\\manifold\\spectral_embedding_.py:235: UserWarning: Graph is not fully connected, spectral embedding may not work as expected.\n",
      "  warnings.warn(\"Graph is not fully connected, spectral embedding\"\n"
     ]
    },
    {
     "name": "stdout",
     "output_type": "stream",
     "text": [
      "|  41       |  0.0      |  12.0     |  0.3      |  46.69    |  31.12    |\n"
     ]
    },
    {
     "name": "stderr",
     "output_type": "stream",
     "text": [
      "C:\\Users\\yaniv\\Anaconda3\\lib\\site-packages\\sklearn\\manifold\\spectral_embedding_.py:235: UserWarning: Graph is not fully connected, spectral embedding may not work as expected.\n",
      "  warnings.warn(\"Graph is not fully connected, spectral embedding\"\n"
     ]
    },
    {
     "name": "stdout",
     "output_type": "stream",
     "text": [
      "|  42       |  0.5833   |  12.0     |  0.3      |  60.0     |  143.5    |\n",
      "=========================================================================\n",
      "Running the algorithm on MkiUBJcgdUY \n",
      "|   iter    |  target   | n_clus... | sim_th... | step_size | window... |\n",
      "-------------------------------------------------------------------------\n"
     ]
    },
    {
     "name": "stderr",
     "output_type": "stream",
     "text": [
      "C:\\Users\\yaniv\\Anaconda3\\lib\\site-packages\\sklearn\\manifold\\spectral_embedding_.py:235: UserWarning: Graph is not fully connected, spectral embedding may not work as expected.\n",
      "  warnings.warn(\"Graph is not fully connected, spectral embedding\"\n"
     ]
    },
    {
     "name": "stdout",
     "output_type": "stream",
     "text": [
      "|  43       |  0.2222   |  13.73    |  0.339    |  10.97    |  108.2    |\n"
     ]
    },
    {
     "name": "stderr",
     "output_type": "stream",
     "text": [
      "C:\\Users\\yaniv\\Anaconda3\\lib\\site-packages\\sklearn\\manifold\\spectral_embedding_.py:235: UserWarning: Graph is not fully connected, spectral embedding may not work as expected.\n",
      "  warnings.warn(\"Graph is not fully connected, spectral embedding\"\n"
     ]
    },
    {
     "name": "stdout",
     "output_type": "stream",
     "text": [
      "|  44       |  0.0      |  13.27    |  0.3797   |  34.58    |  26.94    |\n",
      "|  45       |  0.1111   |  13.26    |  0.5018   |  10.16    |  36.27    |\n",
      "|  46       |  0.4444   |  18.0     |  0.3      |  10.0     |  107.1    |\n"
     ]
    },
    {
     "name": "stderr",
     "output_type": "stream",
     "text": [
      "C:\\Users\\yaniv\\Anaconda3\\lib\\site-packages\\sklearn\\manifold\\spectral_embedding_.py:235: UserWarning: Graph is not fully connected, spectral embedding may not work as expected.\n",
      "  warnings.warn(\"Graph is not fully connected, spectral embedding\"\n"
     ]
    },
    {
     "name": "stdout",
     "output_type": "stream",
     "text": [
      "|  47       |  0.1667   |  12.0     |  0.3      |  60.0     |  88.39    |\n"
     ]
    },
    {
     "name": "stderr",
     "output_type": "stream",
     "text": [
      "C:\\Users\\yaniv\\Anaconda3\\lib\\site-packages\\sklearn\\manifold\\spectral_embedding_.py:235: UserWarning: Graph is not fully connected, spectral embedding may not work as expected.\n",
      "  warnings.warn(\"Graph is not fully connected, spectral embedding\"\n"
     ]
    },
    {
     "name": "stdout",
     "output_type": "stream",
     "text": [
      "|  48       |  0.0      |  12.21    |  0.3032   |  51.96    |  69.81    |\n"
     ]
    },
    {
     "name": "stderr",
     "output_type": "stream",
     "text": [
      "C:\\Users\\yaniv\\Anaconda3\\lib\\site-packages\\sklearn\\manifold\\spectral_embedding_.py:235: UserWarning: Graph is not fully connected, spectral embedding may not work as expected.\n",
      "  warnings.warn(\"Graph is not fully connected, spectral embedding\"\n"
     ]
    },
    {
     "name": "stdout",
     "output_type": "stream",
     "text": [
      "|  49       |  0.3333   |  17.9     |  0.3169   |  58.73    |  138.8    |\n",
      "=========================================================================\n",
      "Running the algorithm on Q-HugPvA7GQ \n",
      "|   iter    |  target   | n_clus... | sim_th... | step_size | window... |\n",
      "-------------------------------------------------------------------------\n"
     ]
    },
    {
     "name": "stderr",
     "output_type": "stream",
     "text": [
      "C:\\Users\\yaniv\\Anaconda3\\lib\\site-packages\\sklearn\\manifold\\spectral_embedding_.py:235: UserWarning: Graph is not fully connected, spectral embedding may not work as expected.\n",
      "  warnings.warn(\"Graph is not fully connected, spectral embedding\"\n"
     ]
    },
    {
     "name": "stdout",
     "output_type": "stream",
     "text": [
      "|  50       |  0.2857   |  15.44    |  0.344    |  39.47    |  111.0    |\n"
     ]
    },
    {
     "name": "stderr",
     "output_type": "stream",
     "text": [
      "C:\\Users\\yaniv\\Anaconda3\\lib\\site-packages\\sklearn\\manifold\\spectral_embedding_.py:235: UserWarning: Graph is not fully connected, spectral embedding may not work as expected.\n",
      "  warnings.warn(\"Graph is not fully connected, spectral embedding\"\n"
     ]
    },
    {
     "name": "stdout",
     "output_type": "stream",
     "text": [
      "|  51       |  0.3571   |  12.61    |  0.4242   |  44.72    |  73.84    |\n"
     ]
    },
    {
     "name": "stderr",
     "output_type": "stream",
     "text": [
      "C:\\Users\\yaniv\\Anaconda3\\lib\\site-packages\\sklearn\\manifold\\spectral_embedding_.py:235: UserWarning: Graph is not fully connected, spectral embedding may not work as expected.\n",
      "  warnings.warn(\"Graph is not fully connected, spectral embedding\"\n"
     ]
    },
    {
     "name": "stdout",
     "output_type": "stream",
     "text": [
      "|  52       |  0.5714   |  18.0     |  0.6      |  38.57    |  123.3    |\n"
     ]
    },
    {
     "name": "stderr",
     "output_type": "stream",
     "text": [
      "C:\\Users\\yaniv\\Anaconda3\\lib\\site-packages\\sklearn\\manifold\\spectral_embedding_.py:235: UserWarning: Graph is not fully connected, spectral embedding may not work as expected.\n",
      "  warnings.warn(\"Graph is not fully connected, spectral embedding\"\n"
     ]
    },
    {
     "name": "stdout",
     "output_type": "stream",
     "text": [
      "|  53       |  0.5      |  17.77    |  0.5014   |  30.08    |  98.11    |\n"
     ]
    },
    {
     "name": "stderr",
     "output_type": "stream",
     "text": [
      "C:\\Users\\yaniv\\Anaconda3\\lib\\site-packages\\sklearn\\manifold\\spectral_embedding_.py:235: UserWarning: Graph is not fully connected, spectral embedding may not work as expected.\n",
      "  warnings.warn(\"Graph is not fully connected, spectral embedding\"\n"
     ]
    },
    {
     "name": "stdout",
     "output_type": "stream",
     "text": [
      "|  54       |  0.0      |  18.0     |  0.3      |  20.11    |  141.6    |\n"
     ]
    },
    {
     "name": "stderr",
     "output_type": "stream",
     "text": [
      "C:\\Users\\yaniv\\Anaconda3\\lib\\site-packages\\sklearn\\manifold\\spectral_embedding_.py:235: UserWarning: Graph is not fully connected, spectral embedding may not work as expected.\n",
      "  warnings.warn(\"Graph is not fully connected, spectral embedding\"\n"
     ]
    },
    {
     "name": "stdout",
     "output_type": "stream",
     "text": [
      "|  55       |  0.0      |  17.96    |  0.4219   |  49.31    |  21.01    |\n"
     ]
    },
    {
     "name": "stderr",
     "output_type": "stream",
     "text": [
      "C:\\Users\\yaniv\\Anaconda3\\lib\\site-packages\\sklearn\\manifold\\spectral_embedding_.py:235: UserWarning: Graph is not fully connected, spectral embedding may not work as expected.\n",
      "  warnings.warn(\"Graph is not fully connected, spectral embedding\"\n"
     ]
    },
    {
     "name": "stdout",
     "output_type": "stream",
     "text": [
      "|  56       |  0.0      |  17.66    |  0.3581   |  10.08    |  84.02    |\n",
      "=========================================================================\n",
      "Running the algorithm on SCvtxjpVQms \n",
      "|   iter    |  target   | n_clus... | sim_th... | step_size | window... |\n",
      "-------------------------------------------------------------------------\n"
     ]
    },
    {
     "name": "stderr",
     "output_type": "stream",
     "text": [
      "C:\\Users\\yaniv\\Anaconda3\\lib\\site-packages\\sklearn\\manifold\\spectral_embedding_.py:235: UserWarning: Graph is not fully connected, spectral embedding may not work as expected.\n",
      "  warnings.warn(\"Graph is not fully connected, spectral embedding\"\n"
     ]
    },
    {
     "name": "stdout",
     "output_type": "stream",
     "text": [
      "|  57       |  0.0      |  12.3     |  0.4608   |  43.19    |  86.94    |\n"
     ]
    },
    {
     "name": "stderr",
     "output_type": "stream",
     "text": [
      "C:\\Users\\yaniv\\Anaconda3\\lib\\site-packages\\sklearn\\manifold\\spectral_embedding_.py:235: UserWarning: Graph is not fully connected, spectral embedding may not work as expected.\n",
      "  warnings.warn(\"Graph is not fully connected, spectral embedding\"\n"
     ]
    },
    {
     "name": "stdout",
     "output_type": "stream",
     "text": [
      "|  58       |  0.0      |  17.67    |  0.476    |  55.17    |  37.87    |\n"
     ]
    },
    {
     "name": "stderr",
     "output_type": "stream",
     "text": [
      "C:\\Users\\yaniv\\Anaconda3\\lib\\site-packages\\sklearn\\manifold\\spectral_embedding_.py:235: UserWarning: Graph is not fully connected, spectral embedding may not work as expected.\n",
      "  warnings.warn(\"Graph is not fully connected, spectral embedding\"\n"
     ]
    },
    {
     "name": "stdout",
     "output_type": "stream",
     "text": [
      "|  59       |  0.0      |  17.95    |  0.5783   |  21.47    |  75.16    |\n"
     ]
    },
    {
     "name": "stderr",
     "output_type": "stream",
     "text": [
      "C:\\Users\\yaniv\\Anaconda3\\lib\\site-packages\\sklearn\\manifold\\spectral_embedding_.py:235: UserWarning: Graph is not fully connected, spectral embedding may not work as expected.\n",
      "  warnings.warn(\"Graph is not fully connected, spectral embedding\"\n"
     ]
    },
    {
     "name": "stdout",
     "output_type": "stream",
     "text": [
      "|  60       |  0.0      |  12.02    |  0.3787   |  35.53    |  60.69    |\n"
     ]
    },
    {
     "name": "stderr",
     "output_type": "stream",
     "text": [
      "C:\\Users\\yaniv\\Anaconda3\\lib\\site-packages\\sklearn\\manifold\\spectral_embedding_.py:235: UserWarning: Graph is not fully connected, spectral embedding may not work as expected.\n",
      "  warnings.warn(\"Graph is not fully connected, spectral embedding\"\n"
     ]
    },
    {
     "name": "stdout",
     "output_type": "stream",
     "text": [
      "|  61       |  0.0      |  12.0     |  0.3      |  23.57    |  20.0     |\n"
     ]
    },
    {
     "name": "stderr",
     "output_type": "stream",
     "text": [
      "C:\\Users\\yaniv\\Anaconda3\\lib\\site-packages\\sklearn\\manifold\\spectral_embedding_.py:235: UserWarning: Graph is not fully connected, spectral embedding may not work as expected.\n",
      "  warnings.warn(\"Graph is not fully connected, spectral embedding\"\n"
     ]
    },
    {
     "name": "stdout",
     "output_type": "stream",
     "text": [
      "|  62       |  0.0      |  12.0     |  0.3      |  48.0     |  50.78    |\n"
     ]
    },
    {
     "name": "stderr",
     "output_type": "stream",
     "text": [
      "C:\\Users\\yaniv\\Anaconda3\\lib\\site-packages\\sklearn\\manifold\\spectral_embedding_.py:235: UserWarning: Graph is not fully connected, spectral embedding may not work as expected.\n",
      "  warnings.warn(\"Graph is not fully connected, spectral embedding\"\n"
     ]
    },
    {
     "name": "stdout",
     "output_type": "stream",
     "text": [
      "|  63       |  0.0      |  17.73    |  0.5632   |  49.21    |  105.8    |\n",
      "=========================================================================\n",
      "Running the algorithm on x5zLaWT5KPs \n",
      "|   iter    |  target   | n_clus... | sim_th... | step_size | window... |\n",
      "-------------------------------------------------------------------------\n"
     ]
    },
    {
     "name": "stderr",
     "output_type": "stream",
     "text": [
      "C:\\Users\\yaniv\\Anaconda3\\lib\\site-packages\\sklearn\\manifold\\spectral_embedding_.py:235: UserWarning: Graph is not fully connected, spectral embedding may not work as expected.\n",
      "  warnings.warn(\"Graph is not fully connected, spectral embedding\"\n"
     ]
    },
    {
     "name": "stdout",
     "output_type": "stream",
     "text": [
      "|  64       |  0.0      |  12.84    |  0.5422   |  29.88    |  41.5     |\n"
     ]
    },
    {
     "name": "stderr",
     "output_type": "stream",
     "text": [
      "C:\\Users\\yaniv\\Anaconda3\\lib\\site-packages\\sklearn\\manifold\\spectral_embedding_.py:235: UserWarning: Graph is not fully connected, spectral embedding may not work as expected.\n",
      "  warnings.warn(\"Graph is not fully connected, spectral embedding\"\n",
      "C:\\Users\\yaniv\\Anaconda3\\lib\\site-packages\\scipy\\sparse\\linalg\\eigen\\arpack\\arpack.py:1572: RuntimeWarning: k >= N for N * N square matrix. Attempting to use scipy.linalg.eigh instead.\n",
      "  RuntimeWarning)\n"
     ]
    },
    {
     "name": "stdout",
     "output_type": "stream",
     "text": [
      "|  65       |  0.0      |  17.57    |  0.4043   |  47.54    |  114.4    |\n"
     ]
    },
    {
     "name": "stderr",
     "output_type": "stream",
     "text": [
      "C:\\Users\\yaniv\\Anaconda3\\lib\\site-packages\\sklearn\\manifold\\spectral_embedding_.py:235: UserWarning: Graph is not fully connected, spectral embedding may not work as expected.\n",
      "  warnings.warn(\"Graph is not fully connected, spectral embedding\"\n"
     ]
    },
    {
     "name": "stdout",
     "output_type": "stream",
     "text": [
      "|  66       |  0.5714   |  12.0     |  0.6      |  50.85    |  130.0    |\n"
     ]
    },
    {
     "name": "stderr",
     "output_type": "stream",
     "text": [
      "C:\\Users\\yaniv\\Anaconda3\\lib\\site-packages\\sklearn\\manifold\\spectral_embedding_.py:235: UserWarning: Graph is not fully connected, spectral embedding may not work as expected.\n",
      "  warnings.warn(\"Graph is not fully connected, spectral embedding\"\n",
      "C:\\Users\\yaniv\\Anaconda3\\lib\\site-packages\\scipy\\sparse\\linalg\\eigen\\arpack\\arpack.py:1572: RuntimeWarning: k >= N for N * N square matrix. Attempting to use scipy.linalg.eigh instead.\n",
      "  RuntimeWarning)\n"
     ]
    },
    {
     "name": "stdout",
     "output_type": "stream",
     "text": [
      "|  67       |  0.0      |  18.0     |  0.6      |  60.0     |  94.72    |\n"
     ]
    },
    {
     "name": "stderr",
     "output_type": "stream",
     "text": [
      "C:\\Users\\yaniv\\Anaconda3\\lib\\site-packages\\sklearn\\manifold\\spectral_embedding_.py:235: UserWarning: Graph is not fully connected, spectral embedding may not work as expected.\n",
      "  warnings.warn(\"Graph is not fully connected, spectral embedding\"\n"
     ]
    },
    {
     "name": "stdout",
     "output_type": "stream",
     "text": [
      "|  68       |  0.8571   |  18.0     |  0.6      |  10.0     |  47.55    |\n"
     ]
    },
    {
     "name": "stderr",
     "output_type": "stream",
     "text": [
      "C:\\Users\\yaniv\\Anaconda3\\lib\\site-packages\\sklearn\\manifold\\spectral_embedding_.py:235: UserWarning: Graph is not fully connected, spectral embedding may not work as expected.\n",
      "  warnings.warn(\"Graph is not fully connected, spectral embedding\"\n"
     ]
    },
    {
     "name": "stdout",
     "output_type": "stream",
     "text": [
      "|  69       |  0.7143   |  12.24    |  0.5725   |  10.15    |  51.73    |\n"
     ]
    },
    {
     "name": "stderr",
     "output_type": "stream",
     "text": [
      "C:\\Users\\yaniv\\Anaconda3\\lib\\site-packages\\sklearn\\manifold\\spectral_embedding_.py:235: UserWarning: Graph is not fully connected, spectral embedding may not work as expected.\n",
      "  warnings.warn(\"Graph is not fully connected, spectral embedding\"\n"
     ]
    },
    {
     "name": "stdout",
     "output_type": "stream",
     "text": [
      "|  70       |  0.0      |  17.96    |  0.569    |  23.29    |  149.7    |\n",
      "=========================================================================\n",
      "Running the algorithm on zT83sJ5IrEE \n",
      "|   iter    |  target   | n_clus... | sim_th... | step_size | window... |\n",
      "-------------------------------------------------------------------------\n"
     ]
    },
    {
     "name": "stderr",
     "output_type": "stream",
     "text": [
      "C:\\Users\\yaniv\\Anaconda3\\lib\\site-packages\\sklearn\\manifold\\spectral_embedding_.py:235: UserWarning: Graph is not fully connected, spectral embedding may not work as expected.\n",
      "  warnings.warn(\"Graph is not fully connected, spectral embedding\"\n"
     ]
    },
    {
     "name": "stdout",
     "output_type": "stream",
     "text": [
      "|  71       |  0.0      |  17.3     |  0.4871   |  47.55    |  65.36    |\n"
     ]
    },
    {
     "name": "stderr",
     "output_type": "stream",
     "text": [
      "C:\\Users\\yaniv\\Anaconda3\\lib\\site-packages\\sklearn\\manifold\\spectral_embedding_.py:235: UserWarning: Graph is not fully connected, spectral embedding may not work as expected.\n",
      "  warnings.warn(\"Graph is not fully connected, spectral embedding\"\n"
     ]
    },
    {
     "name": "stdout",
     "output_type": "stream",
     "text": [
      "|  72       |  0.3077   |  13.62    |  0.5688   |  31.4     |  145.4    |\n"
     ]
    },
    {
     "name": "stderr",
     "output_type": "stream",
     "text": [
      "C:\\Users\\yaniv\\Anaconda3\\lib\\site-packages\\sklearn\\manifold\\spectral_embedding_.py:235: UserWarning: Graph is not fully connected, spectral embedding may not work as expected.\n",
      "  warnings.warn(\"Graph is not fully connected, spectral embedding\"\n"
     ]
    },
    {
     "name": "stdout",
     "output_type": "stream",
     "text": [
      "|  73       |  0.0      |  18.0     |  0.3      |  10.0     |  52.53    |\n",
      "|  74       |  0.3846   |  13.81    |  0.5443   |  10.11    |  45.17    |\n"
     ]
    },
    {
     "name": "stderr",
     "output_type": "stream",
     "text": [
      "C:\\Users\\yaniv\\Anaconda3\\lib\\site-packages\\sklearn\\manifold\\spectral_embedding_.py:235: UserWarning: Graph is not fully connected, spectral embedding may not work as expected.\n",
      "  warnings.warn(\"Graph is not fully connected, spectral embedding\"\n"
     ]
    },
    {
     "name": "stdout",
     "output_type": "stream",
     "text": [
      "|  75       |  0.5385   |  18.0     |  0.6      |  10.0     |  40.06    |\n"
     ]
    },
    {
     "name": "stderr",
     "output_type": "stream",
     "text": [
      "C:\\Users\\yaniv\\Anaconda3\\lib\\site-packages\\sklearn\\manifold\\spectral_embedding_.py:235: UserWarning: Graph is not fully connected, spectral embedding may not work as expected.\n",
      "  warnings.warn(\"Graph is not fully connected, spectral embedding\"\n"
     ]
    },
    {
     "name": "stdout",
     "output_type": "stream",
     "text": [
      "|  76       |  0.0      |  18.0     |  0.3      |  48.61    |  80.52    |\n"
     ]
    },
    {
     "name": "stderr",
     "output_type": "stream",
     "text": [
      "C:\\Users\\yaniv\\Anaconda3\\lib\\site-packages\\sklearn\\manifold\\spectral_embedding_.py:235: UserWarning: Graph is not fully connected, spectral embedding may not work as expected.\n",
      "  warnings.warn(\"Graph is not fully connected, spectral embedding\"\n"
     ]
    },
    {
     "name": "stdout",
     "output_type": "stream",
     "text": [
      "|  77       |  0.4615   |  12.0     |  0.6      |  17.78    |  56.37    |\n",
      "=========================================================================\n",
      "Running the algorithm on zWg7U0OEAoE \n",
      "|   iter    |  target   | n_clus... | sim_th... | step_size | window... |\n",
      "-------------------------------------------------------------------------\n"
     ]
    },
    {
     "name": "stderr",
     "output_type": "stream",
     "text": [
      "C:\\Users\\yaniv\\Anaconda3\\lib\\site-packages\\sklearn\\manifold\\spectral_embedding_.py:235: UserWarning: Graph is not fully connected, spectral embedding may not work as expected.\n",
      "  warnings.warn(\"Graph is not fully connected, spectral embedding\"\n"
     ]
    },
    {
     "name": "stdout",
     "output_type": "stream",
     "text": [
      "|  78       |  0.07692  |  15.98    |  0.4865   |  15.74    |  143.4    |\n"
     ]
    },
    {
     "name": "stderr",
     "output_type": "stream",
     "text": [
      "C:\\Users\\yaniv\\Anaconda3\\lib\\site-packages\\sklearn\\manifold\\spectral_embedding_.py:235: UserWarning: Graph is not fully connected, spectral embedding may not work as expected.\n",
      "  warnings.warn(\"Graph is not fully connected, spectral embedding\"\n"
     ]
    },
    {
     "name": "stdout",
     "output_type": "stream",
     "text": [
      "|  79       |  0.0      |  14.7     |  0.4735   |  30.41    |  50.81    |\n"
     ]
    },
    {
     "name": "stderr",
     "output_type": "stream",
     "text": [
      "C:\\Users\\yaniv\\Anaconda3\\lib\\site-packages\\sklearn\\manifold\\spectral_embedding_.py:235: UserWarning: Graph is not fully connected, spectral embedding may not work as expected.\n",
      "  warnings.warn(\"Graph is not fully connected, spectral embedding\"\n"
     ]
    },
    {
     "name": "stdout",
     "output_type": "stream",
     "text": [
      "|  80       |  0.2308   |  18.0     |  0.3      |  47.23    |  127.0    |\n",
      "|  81       |  0.1538   |  12.0     |  0.3      |  10.0     |  67.2     |\n"
     ]
    },
    {
     "name": "stderr",
     "output_type": "stream",
     "text": [
      "C:\\Users\\yaniv\\Anaconda3\\lib\\site-packages\\sklearn\\manifold\\spectral_embedding_.py:235: UserWarning: Graph is not fully connected, spectral embedding may not work as expected.\n",
      "  warnings.warn(\"Graph is not fully connected, spectral embedding\"\n"
     ]
    },
    {
     "name": "stdout",
     "output_type": "stream",
     "text": [
      "|  82       |  0.3846   |  12.87    |  0.4196   |  51.06    |  139.4    |\n"
     ]
    },
    {
     "name": "stderr",
     "output_type": "stream",
     "text": [
      "C:\\Users\\yaniv\\Anaconda3\\lib\\site-packages\\sklearn\\manifold\\spectral_embedding_.py:235: UserWarning: Graph is not fully connected, spectral embedding may not work as expected.\n",
      "  warnings.warn(\"Graph is not fully connected, spectral embedding\"\n"
     ]
    },
    {
     "name": "stdout",
     "output_type": "stream",
     "text": [
      "|  83       |  0.0      |  12.0     |  0.6      |  60.0     |  116.7    |\n"
     ]
    },
    {
     "name": "stderr",
     "output_type": "stream",
     "text": [
      "C:\\Users\\yaniv\\Anaconda3\\lib\\site-packages\\sklearn\\manifold\\spectral_embedding_.py:235: UserWarning: Graph is not fully connected, spectral embedding may not work as expected.\n",
      "  warnings.warn(\"Graph is not fully connected, spectral embedding\"\n"
     ]
    },
    {
     "name": "stdout",
     "output_type": "stream",
     "text": [
      "|  84       |  0.0      |  18.0     |  0.6      |  22.32    |  35.14    |\n",
      "=========================================================================\n",
      "{'target': 0.8571428571428571, 'params': {'n_clusters': 18.0, 'sim_thresh': 0.6, 'step_size': 10.0, 'window_size': 47.55454708331205}}\n"
     ]
    }
   ],
   "source": [
    "\n",
    "''' Finding optimization for each video'''\n",
    "\n",
    "workflows = list(param_bounds.keys())\n",
    "workflows = list(filter(lambda x: 'tfidf' in x,workflows)) #[workflows[-1]]\n",
    "print(workflows)\n",
    "for workflow in workflows:\n",
    "    print('Training workflow %s' %(workflow))\n",
    "    function_to_optimized = build_function_to_optimize(workflow)\n",
    "    '''Define the optimizer'''    \n",
    "    optimizer = BayesianOptimization(\n",
    "                f=function_to_optimized,\n",
    "                pbounds=param_bounds[workflow],\n",
    "                verbose=2,\n",
    "                random_state=1\n",
    "                )\n",
    "    \n",
    "    model_file_path = os.path.join(models_path,('%s.json' %(workflow)))\n",
    "    if os.path.isfile(model_file_path):\n",
    "        load_logs(optimizer,logs=[model_file_path])\n",
    "    else:\n",
    "        logger = JSONLogger(path=model_file_path)\n",
    "        optimizer.subscribe(Events.OPTIMIZATION_STEP, logger)\n",
    "    \n",
    "    '''optimizer.probe(\n",
    "            params={'window_size':60,'step_size':20,'sim_thresh':0.4,\n",
    "                    'alpha': 1e-05, 'eta': 0.005, 'chunksize': 100,\n",
    "                    'minimum_probability': 0.0, 'passes': 6, 'n_clusters': 10},\n",
    "            lazy=True,\n",
    "    )'''\n",
    "\n",
    "    for vid in transcripts_jsons.keys():\n",
    "        '''Define the function to optimize'''\n",
    "        video_metadata = df_videos.loc[df_videos['video id'] == vid]\n",
    "        groundbase = video_metadata['topic shifts(ends)'].values.tolist()[:-1]\n",
    "        transcripts = transcripts_jsons[vid]\n",
    "\n",
    "        print(\"Running the algorithm on %s \" %(vid))\n",
    "        '''Run the algorithm'''\n",
    "        optimizer.maximize(\n",
    "            init_points = 2,\n",
    "            n_iter = 5\n",
    "        )\n",
    "        \n",
    "    print(optimizer.max)"
   ]
  },
  {
   "cell_type": "code",
   "execution_count": null,
   "metadata": {},
   "outputs": [],
   "source": []
  },
  {
   "cell_type": "code",
   "execution_count": null,
   "metadata": {},
   "outputs": [],
   "source": []
  }
 ],
 "metadata": {
  "kernelspec": {
   "display_name": "Python 3",
   "language": "python",
   "name": "python3"
  },
  "language_info": {
   "codemirror_mode": {
    "name": "ipython",
    "version": 3
   },
   "file_extension": ".py",
   "mimetype": "text/x-python",
   "name": "python",
   "nbconvert_exporter": "python",
   "pygments_lexer": "ipython3",
   "version": "3.7.6"
  }
 },
 "nbformat": 4,
 "nbformat_minor": 2
}
