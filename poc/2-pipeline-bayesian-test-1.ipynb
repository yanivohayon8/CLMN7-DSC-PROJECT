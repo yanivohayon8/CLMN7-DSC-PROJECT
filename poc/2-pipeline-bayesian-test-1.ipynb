{
 "cells": [
  {
   "cell_type": "code",
   "execution_count": 1,
   "metadata": {},
   "outputs": [],
   "source": [
    "import sys\n",
    "sys.path.append('..')\n",
    "from src.models.pipeline import pipeline\n",
    "import glob\n",
    "import json\n",
    "import os\n",
    "import pandas as pd\n",
    "import ast\n",
    "from datetime import datetime\n",
    "from bayes_opt import BayesianOptimization\n",
    "from bayes_opt.logger import JSONLogger\n",
    "from bayes_opt.event import Events\n",
    "from bayes_opt.util import load_logs"
   ]
  },
  {
   "cell_type": "code",
   "execution_count": 2,
   "metadata": {},
   "outputs": [],
   "source": [
    "groundbase_dir = '../data/raw/groundbase'\n",
    "transcripts_dir = os.path.join(groundbase_dir,'transcripts')\n",
    "topic_dataset_path = os.path.join(groundbase_dir,'dataset.csv')\n",
    "transcript_filespath = glob.glob(groundbase_dir + '/transcripts/*.json')\n",
    "\n",
    "'''Read the transcript'''\n",
    "transcripts_jsons = {}\n",
    "for fl in transcript_filespath:\n",
    "    with open(fl,encoding=\"utf8\") as f:\n",
    "        transcript =ast.literal_eval(f.read()) #json.load(f)\n",
    "        vid = fl.split('\\\\')[-1].split('.')[0]\n",
    "        #print(vid)\n",
    "        transcripts_jsons[vid] = transcript\n",
    "#print(transcripts_jsons)\n",
    "\n",
    "'''Read the videos metadata to perform on them the segmentation'''\n",
    "df_videos = pd.read_csv(topic_dataset_path)\n",
    "\n",
    "''' Transfer topic shifts time to seconds units instead HH:MM:SS'''\n",
    "\n",
    "def topic_shifts_seconds(topic_shifts):\n",
    "    tp_shift_sec=[]\n",
    "    for tp in topic_shifts:\n",
    "        intervals = tp.split(':')\n",
    "        seconds = int(intervals[2])\n",
    "        minutes = int(intervals[1]) * 60\n",
    "        hours = int(intervals[0]) * 60 *60\n",
    "        tp_shift_sec.append(seconds + minutes + hours)\n",
    "    return tp_shift_sec\n",
    "\n",
    "\n",
    "for video_id in transcripts_jsons.keys():    \n",
    "    df_videos.at[df_videos['video id'] == video_id,'topic shifts(ends)'] =\\\n",
    "    topic_shifts_seconds(\\\n",
    "                         df_videos[df_videos['video id'] == \\\n",
    "                                   video_id]['topic shifts(ends)'])"
   ]
  },
  {
   "cell_type": "code",
   "execution_count": 34,
   "metadata": {},
   "outputs": [],
   "source": [
    "'''Create an array of functions to optimize'''\n",
    "def build_function_to_optimize(workflow_label):\n",
    "    pipeline_steps_values = workflow_label.split('-')\n",
    "    steps_labels = ['segment','vectorize','similarity','added_filter','clustering']\n",
    "    _pipeline = {}\n",
    "    for key,value in list(zip(steps_labels,pipeline_steps_values)):\n",
    "        _pipeline[key]=value\n",
    "    \n",
    "    '''takingcare of filters'''\n",
    "    filter_params = {'filter_type': None,'mask_shape': None,'sim_thresh':None,'is_min_thresh':True}\n",
    "    # if we have image filter \n",
    "    if _pipeline['added_filter'] != 'None':\n",
    "        vals = _pipeline['added_filter'].split('_')\n",
    "        filter_params['filter_type'] = vals[0]\n",
    "        filter_params['mask_shape'] = ast.literal_eval(vals[1])\n",
    "        \n",
    "    #print(filter_params)    \n",
    "    #print(_pipeline)\n",
    "    '''Cosine and spectral clustering'''\n",
    "    if _pipeline['similarity'] == 'cosine' and _pipeline['clustering'] == 'spectral_clustering':\n",
    "        def _f(window_size,step_size,sim_thresh,n_clusters):\n",
    "            window_size = int(window_size)\n",
    "            step_size = int(step_size)\n",
    "            n_clusters = int(n_clusters)\n",
    "            filter_params['sim_thresh'] = sim_thresh\n",
    "\n",
    "            return pipeline.run_for_baye(groundbase,transcripts,\n",
    "                                window_size=window_size,step_size=step_size,\n",
    "                                vector_method=_pipeline['vectorize'],\n",
    "                                similarity_method=_pipeline['similarity'],\n",
    "                                filter_params=filter_params,\n",
    "                                clustering_params={'algorithm': _pipeline['clustering'],\n",
    "                                                   'n_clusters':n_clusters}\n",
    "                               )\n",
    "\n",
    "        return _f"
   ]
  },
  {
   "cell_type": "code",
   "execution_count": 35,
   "metadata": {},
   "outputs": [],
   "source": [
    "param_bounds = {\n",
    "    'sliding_window-tfidf-cosine-median_(2,2)-spectral_clustering':{\n",
    "        \"window_size\": (20,200),\n",
    "        \"step_size\":(10,60),\n",
    "        'sim_thresh':(0.2,0.9),\n",
    "        'n_clusters': (10,18)\n",
    "    },\n",
    "    'sliding_window-tfidf-cosine-median_(3,3)-spectral_clustering':{\n",
    "        \"window_size\": (20,150),\n",
    "        \"step_size\":(10,60),\n",
    "        'sim_thresh':(0.3,0.6),\n",
    "        'n_clusters': (12,18)\n",
    "    },\n",
    "    'sliding_window-tfidf-cosine-None-spectral_clustering':{\n",
    "        \"window_size\": (20,150),\n",
    "        \"step_size\":(10,60),\n",
    "        'sim_thresh':(0.3,0.6),\n",
    "        'n_clusters': (12,18)\n",
    "    }\n",
    "}"
   ]
  },
  {
   "cell_type": "code",
   "execution_count": 38,
   "metadata": {},
   "outputs": [
    {
     "name": "stdout",
     "output_type": "stream",
     "text": [
      "Training workflow sliding_window-tfidf-cosine-median_(2,2)-spectral_clustering\n",
      "Running the algorithm on 2mC1uqwEmWQ \n",
      "|   iter    |  target   | n_clus... | sim_th... | step_size | window... |\n",
      "-------------------------------------------------------------------------\n",
      "|  1        |  0.0      |  18.0     |  0.2      |  31.16    |  46.41    |\n",
      "|  2        |  0.0      |  17.24    |  0.3782   |  59.72    |  197.9    |\n"
     ]
    },
    {
     "name": "stderr",
     "output_type": "stream",
     "text": [
      "C:\\Users\\yaniv\\Anaconda3\\lib\\site-packages\\sklearn\\manifold\\spectral_embedding_.py:235: UserWarning: Graph is not fully connected, spectral embedding may not work as expected.\n",
      "  warnings.warn(\"Graph is not fully connected, spectral embedding\"\n"
     ]
    },
    {
     "name": "stdout",
     "output_type": "stream",
     "text": [
      "|  3        |  0.0      |  17.84    |  0.8651   |  35.14    |  107.5    |\n",
      "|  4        |  0.3333   |  11.15    |  0.4821   |  10.13    |  45.7     |\n"
     ]
    },
    {
     "name": "stderr",
     "output_type": "stream",
     "text": [
      "C:\\Users\\yaniv\\Anaconda3\\lib\\site-packages\\sklearn\\manifold\\spectral_embedding_.py:235: UserWarning: Graph is not fully connected, spectral embedding may not work as expected.\n",
      "  warnings.warn(\"Graph is not fully connected, spectral embedding\"\n"
     ]
    },
    {
     "name": "stdout",
     "output_type": "stream",
     "text": [
      "|  5        |  0.0      |  10.0     |  0.9      |  60.0     |  44.4     |\n"
     ]
    },
    {
     "name": "stderr",
     "output_type": "stream",
     "text": [
      "C:\\Users\\yaniv\\Anaconda3\\lib\\site-packages\\sklearn\\manifold\\spectral_embedding_.py:235: UserWarning: Graph is not fully connected, spectral embedding may not work as expected.\n",
      "  warnings.warn(\"Graph is not fully connected, spectral embedding\"\n"
     ]
    },
    {
     "name": "stdout",
     "output_type": "stream",
     "text": [
      "|  6        |  0.0      |  10.0     |  0.2      |  35.17    |  20.0     |\n",
      "|  7        |  0.3333   |  18.0     |  0.2      |  60.0     |  156.6    |\n",
      "|  8        |  0.2      |  10.0     |  0.2      |  10.0     |  101.1    |\n",
      "=========================================================================\n",
      "Running the algorithm on B-Xe7_mf2CY \n",
      "|   iter    |  target   | n_clus... | sim_th... | step_size | window... |\n",
      "-------------------------------------------------------------------------\n",
      "|  9        |  0.2      |  10.0     |  0.2      |  10.0     |  101.1    |\n"
     ]
    },
    {
     "name": "stderr",
     "output_type": "stream",
     "text": [
      "C:\\Users\\yaniv\\Anaconda3\\lib\\site-packages\\sklearn\\manifold\\spectral_embedding_.py:235: UserWarning: Graph is not fully connected, spectral embedding may not work as expected.\n",
      "  warnings.warn(\"Graph is not fully connected, spectral embedding\"\n"
     ]
    },
    {
     "name": "stdout",
     "output_type": "stream",
     "text": [
      "|  10       |  0.0      |  10.0     |  0.9      |  40.82    |  69.01    |\n"
     ]
    },
    {
     "name": "stderr",
     "output_type": "stream",
     "text": [
      "C:\\Users\\yaniv\\Anaconda3\\lib\\site-packages\\sklearn\\manifold\\spectral_embedding_.py:235: UserWarning: Graph is not fully connected, spectral embedding may not work as expected.\n",
      "  warnings.warn(\"Graph is not fully connected, spectral embedding\"\n"
     ]
    },
    {
     "name": "stdout",
     "output_type": "stream",
     "text": [
      "|  11       |  0.0      |  10.0     |  0.9      |  60.0     |  146.4    |\n",
      "|  12       |  0.1667   |  10.26    |  0.8336   |  10.36    |  192.0    |\n",
      "|  13       |  0.0      |  10.13    |  0.3622   |  11.55    |  156.3    |\n"
     ]
    },
    {
     "name": "stderr",
     "output_type": "stream",
     "text": [
      "C:\\Users\\yaniv\\Anaconda3\\lib\\site-packages\\sklearn\\manifold\\spectral_embedding_.py:235: UserWarning: Graph is not fully connected, spectral embedding may not work as expected.\n",
      "  warnings.warn(\"Graph is not fully connected, spectral embedding\"\n"
     ]
    },
    {
     "name": "stdout",
     "output_type": "stream",
     "text": [
      "|  14       |  0.0      |  18.0     |  0.9      |  38.78    |  168.3    |\n",
      "|  15       |  0.1111   |  17.78    |  0.5598   |  59.96    |  118.0    |\n",
      "|  16       |  0.1111   |  17.99    |  0.5063   |  11.81    |  55.0     |\n",
      "=========================================================================\n",
      "Running the algorithm on MkiUBJcgdUY \n",
      "|   iter    |  target   | n_clus... | sim_th... | step_size | window... |\n",
      "-------------------------------------------------------------------------\n",
      "|  17       |  0.1111   |  17.99    |  0.5063   |  11.81    |  55.0     |\n"
     ]
    },
    {
     "name": "stderr",
     "output_type": "stream",
     "text": [
      "C:\\Users\\yaniv\\Anaconda3\\lib\\site-packages\\sklearn\\manifold\\spectral_embedding_.py:235: UserWarning: Graph is not fully connected, spectral embedding may not work as expected.\n",
      "  warnings.warn(\"Graph is not fully connected, spectral embedding\"\n"
     ]
    },
    {
     "name": "stdout",
     "output_type": "stream",
     "text": [
      "|  18       |  0.0      |  18.0     |  0.9      |  10.0     |  34.89    |\n"
     ]
    },
    {
     "name": "stderr",
     "output_type": "stream",
     "text": [
      "C:\\Users\\yaniv\\Anaconda3\\lib\\site-packages\\sklearn\\manifold\\spectral_embedding_.py:235: UserWarning: Graph is not fully connected, spectral embedding may not work as expected.\n",
      "  warnings.warn(\"Graph is not fully connected, spectral embedding\"\n"
     ]
    },
    {
     "name": "stdout",
     "output_type": "stream",
     "text": [
      "|  19       |  0.0      |  18.0     |  0.9      |  48.42    |  87.57    |\n",
      "|  20       |  0.05556  |  10.0     |  0.9      |  10.0     |  127.6    |\n"
     ]
    },
    {
     "name": "stderr",
     "output_type": "stream",
     "text": [
      "C:\\Users\\yaniv\\Anaconda3\\lib\\site-packages\\sklearn\\manifold\\spectral_embedding_.py:235: UserWarning: Graph is not fully connected, spectral embedding may not work as expected.\n",
      "  warnings.warn(\"Graph is not fully connected, spectral embedding\"\n"
     ]
    },
    {
     "name": "stdout",
     "output_type": "stream",
     "text": [
      "|  21       |  0.2222   |  18.0     |  0.9      |  10.0     |  93.0     |\n",
      "|  22       |  0.0      |  18.0     |  0.2      |  60.0     |  171.7    |\n"
     ]
    },
    {
     "name": "stderr",
     "output_type": "stream",
     "text": [
      "C:\\Users\\yaniv\\Anaconda3\\lib\\site-packages\\sklearn\\manifold\\spectral_embedding_.py:235: UserWarning: Graph is not fully connected, spectral embedding may not work as expected.\n",
      "  warnings.warn(\"Graph is not fully connected, spectral embedding\"\n"
     ]
    },
    {
     "name": "stdout",
     "output_type": "stream",
     "text": [
      "|  23       |  0.0      |  10.0     |  0.9      |  22.94    |  38.09    |\n"
     ]
    },
    {
     "name": "stderr",
     "output_type": "stream",
     "text": [
      "C:\\Users\\yaniv\\Anaconda3\\lib\\site-packages\\sklearn\\manifold\\spectral_embedding_.py:235: UserWarning: Graph is not fully connected, spectral embedding may not work as expected.\n",
      "  warnings.warn(\"Graph is not fully connected, spectral embedding\"\n"
     ]
    },
    {
     "name": "stdout",
     "output_type": "stream",
     "text": [
      "|  24       |  0.0      |  17.86    |  0.2654   |  49.13    |  34.9     |\n",
      "=========================================================================\n",
      "Running the algorithm on Q-HugPvA7GQ \n",
      "|   iter    |  target   | n_clus... | sim_th... | step_size | window... |\n",
      "-------------------------------------------------------------------------\n",
      "|  25       |  0.07143  |  11.64    |  0.8147   |  11.37    |  140.7    |\n",
      "|  26       |  0.0      |  18.0     |  0.2      |  17.21    |  152.1    |\n",
      "|  27       |  0.0      |  10.0     |  0.2      |  43.99    |  119.0    |\n"
     ]
    },
    {
     "name": "stderr",
     "output_type": "stream",
     "text": [
      "C:\\Users\\yaniv\\Anaconda3\\lib\\site-packages\\sklearn\\manifold\\spectral_embedding_.py:235: UserWarning: Graph is not fully connected, spectral embedding may not work as expected.\n",
      "  warnings.warn(\"Graph is not fully connected, spectral embedding\"\n"
     ]
    },
    {
     "name": "stdout",
     "output_type": "stream",
     "text": [
      "|  28       |  0.0      |  10.44    |  0.6942   |  59.16    |  79.31    |\n",
      "|  29       |  0.1429   |  10.0     |  0.2      |  29.05    |  168.8    |\n",
      "|  30       |  0.07143  |  10.0     |  0.2      |  60.0     |  200.0    |\n"
     ]
    },
    {
     "name": "stderr",
     "output_type": "stream",
     "text": [
      "C:\\Users\\yaniv\\Anaconda3\\lib\\site-packages\\sklearn\\manifold\\spectral_embedding_.py:235: UserWarning: Graph is not fully connected, spectral embedding may not work as expected.\n",
      "  warnings.warn(\"Graph is not fully connected, spectral embedding\"\n"
     ]
    },
    {
     "name": "stdout",
     "output_type": "stream",
     "text": [
      "|  31       |  0.0      |  10.21    |  0.7945   |  20.83    |  59.47    |\n",
      "|  32       |  0.07143  |  10.0     |  0.9      |  10.0     |  200.0    |\n",
      "=========================================================================\n",
      "Running the algorithm on x5zLaWT5KPs \n",
      "|   iter    |  target   | n_clus... | sim_th... | step_size | window... |\n",
      "-------------------------------------------------------------------------\n",
      "|  33       |  0.4286   |  13.34    |  0.5911   |  17.02    |  55.66    |\n",
      "|  34       |  0.0      |  18.0     |  0.2      |  28.35    |  125.2    |\n",
      "|  35       |  0.2857   |  10.0     |  0.2      |  35.07    |  93.89    |\n"
     ]
    },
    {
     "name": "stderr",
     "output_type": "stream",
     "text": [
      "C:\\Users\\yaniv\\Anaconda3\\lib\\site-packages\\sklearn\\manifold\\spectral_embedding_.py:235: UserWarning: Graph is not fully connected, spectral embedding may not work as expected.\n",
      "  warnings.warn(\"Graph is not fully connected, spectral embedding\"\n"
     ]
    },
    {
     "name": "stdout",
     "output_type": "stream",
     "text": [
      "|  36       |  0.0      |  18.0     |  0.9      |  24.09    |  20.0     |\n",
      "|  37       |  0.2857   |  10.0     |  0.2      |  23.71    |  107.8    |\n",
      "|  38       |  0.0      |  18.0     |  0.9      |  10.0     |  185.5    |\n",
      "|  39       |  0.0      |  18.0     |  0.2      |  25.25    |  94.27    |\n"
     ]
    },
    {
     "name": "stderr",
     "output_type": "stream",
     "text": [
      "C:\\Users\\yaniv\\Anaconda3\\lib\\site-packages\\sklearn\\manifold\\spectral_embedding_.py:235: UserWarning: Graph is not fully connected, spectral embedding may not work as expected.\n",
      "  warnings.warn(\"Graph is not fully connected, spectral embedding\"\n"
     ]
    },
    {
     "name": "stdout",
     "output_type": "stream",
     "text": [
      "|  40       |  0.2857   |  10.0     |  0.9      |  46.59    |  188.7    |\n",
      "=========================================================================\n",
      "Running the algorithm on zWg7U0OEAoE \n",
      "|   iter    |  target   | n_clus... | sim_th... | step_size | window... |\n",
      "-------------------------------------------------------------------------\n"
     ]
    },
    {
     "name": "stderr",
     "output_type": "stream",
     "text": [
      "C:\\Users\\yaniv\\Anaconda3\\lib\\site-packages\\sklearn\\manifold\\spectral_embedding_.py:235: UserWarning: Graph is not fully connected, spectral embedding may not work as expected.\n",
      "  warnings.warn(\"Graph is not fully connected, spectral embedding\"\n"
     ]
    },
    {
     "name": "stdout",
     "output_type": "stream",
     "text": [
      "|  41       |  0.0      |  16.41    |  0.8778   |  25.67    |  144.6    |\n"
     ]
    },
    {
     "name": "stderr",
     "output_type": "stream",
     "text": [
      "C:\\Users\\yaniv\\Anaconda3\\lib\\site-packages\\sklearn\\manifold\\spectral_embedding_.py:235: UserWarning: Graph is not fully connected, spectral embedding may not work as expected.\n",
      "  warnings.warn(\"Graph is not fully connected, spectral embedding\"\n"
     ]
    },
    {
     "name": "stdout",
     "output_type": "stream",
     "text": [
      "|  42       |  0.0      |  18.0     |  0.9      |  45.49    |  20.0     |\n"
     ]
    },
    {
     "name": "stderr",
     "output_type": "stream",
     "text": [
      "C:\\Users\\yaniv\\Anaconda3\\lib\\site-packages\\sklearn\\manifold\\spectral_embedding_.py:235: UserWarning: Graph is not fully connected, spectral embedding may not work as expected.\n",
      "  warnings.warn(\"Graph is not fully connected, spectral embedding\"\n"
     ]
    },
    {
     "name": "stdout",
     "output_type": "stream",
     "text": [
      "|  43       |  0.0      |  17.94    |  0.6927   |  51.3     |  52.85    |\n",
      "|  44       |  0.1538   |  18.0     |  0.2      |  10.0     |  134.2    |\n",
      "|  45       |  0.0      |  10.42    |  0.7398   |  10.2     |  57.99    |\n",
      "|  46       |  0.0      |  18.0     |  0.2      |  19.0     |  47.73    |\n"
     ]
    },
    {
     "name": "stderr",
     "output_type": "stream",
     "text": [
      "C:\\Users\\yaniv\\Anaconda3\\lib\\site-packages\\sklearn\\manifold\\spectral_embedding_.py:235: UserWarning: Graph is not fully connected, spectral embedding may not work as expected.\n",
      "  warnings.warn(\"Graph is not fully connected, spectral embedding\"\n"
     ]
    },
    {
     "name": "stdout",
     "output_type": "stream",
     "text": [
      "|  47       |  0.0      |  10.0     |  0.9      |  44.79    |  200.0    |\n",
      "|  48       |  0.0      |  18.0     |  0.2      |  32.03    |  74.24    |\n",
      "=========================================================================\n",
      "Training workflow sliding_window-tfidf-cosine-median_(3,3)-spectral_clustering\n",
      "Running the algorithm on 2mC1uqwEmWQ \n"
     ]
    },
    {
     "name": "stderr",
     "output_type": "stream",
     "text": [
      "C:\\Users\\yaniv\\Anaconda3\\lib\\site-packages\\sklearn\\manifold\\spectral_embedding_.py:235: UserWarning: Graph is not fully connected, spectral embedding may not work as expected.\n",
      "  warnings.warn(\"Graph is not fully connected, spectral embedding\"\n",
      "C:\\Users\\yaniv\\Anaconda3\\lib\\site-packages\\sklearn\\manifold\\spectral_embedding_.py:235: UserWarning: Graph is not fully connected, spectral embedding may not work as expected.\n",
      "  warnings.warn(\"Graph is not fully connected, spectral embedding\"\n",
      "C:\\Users\\yaniv\\Anaconda3\\lib\\site-packages\\sklearn\\manifold\\spectral_embedding_.py:235: UserWarning: Graph is not fully connected, spectral embedding may not work as expected.\n",
      "  warnings.warn(\"Graph is not fully connected, spectral embedding\"\n",
      "C:\\Users\\yaniv\\Anaconda3\\lib\\site-packages\\sklearn\\manifold\\spectral_embedding_.py:235: UserWarning: Graph is not fully connected, spectral embedding may not work as expected.\n",
      "  warnings.warn(\"Graph is not fully connected, spectral embedding\"\n",
      "C:\\Users\\yaniv\\Anaconda3\\lib\\site-packages\\sklearn\\manifold\\spectral_embedding_.py:235: UserWarning: Graph is not fully connected, spectral embedding may not work as expected.\n",
      "  warnings.warn(\"Graph is not fully connected, spectral embedding\"\n",
      "C:\\Users\\yaniv\\Anaconda3\\lib\\site-packages\\sklearn\\manifold\\spectral_embedding_.py:235: UserWarning: Graph is not fully connected, spectral embedding may not work as expected.\n",
      "  warnings.warn(\"Graph is not fully connected, spectral embedding\"\n",
      "C:\\Users\\yaniv\\Anaconda3\\lib\\site-packages\\sklearn\\manifold\\spectral_embedding_.py:235: UserWarning: Graph is not fully connected, spectral embedding may not work as expected.\n",
      "  warnings.warn(\"Graph is not fully connected, spectral embedding\"\n"
     ]
    },
    {
     "name": "stdout",
     "output_type": "stream",
     "text": [
      "Running the algorithm on B-Xe7_mf2CY \n"
     ]
    },
    {
     "name": "stderr",
     "output_type": "stream",
     "text": [
      "C:\\Users\\yaniv\\Anaconda3\\lib\\site-packages\\sklearn\\manifold\\spectral_embedding_.py:235: UserWarning: Graph is not fully connected, spectral embedding may not work as expected.\n",
      "  warnings.warn(\"Graph is not fully connected, spectral embedding\"\n",
      "C:\\Users\\yaniv\\Anaconda3\\lib\\site-packages\\sklearn\\manifold\\spectral_embedding_.py:235: UserWarning: Graph is not fully connected, spectral embedding may not work as expected.\n",
      "  warnings.warn(\"Graph is not fully connected, spectral embedding\"\n",
      "C:\\Users\\yaniv\\Anaconda3\\lib\\site-packages\\sklearn\\manifold\\spectral_embedding_.py:235: UserWarning: Graph is not fully connected, spectral embedding may not work as expected.\n",
      "  warnings.warn(\"Graph is not fully connected, spectral embedding\"\n",
      "C:\\Users\\yaniv\\Anaconda3\\lib\\site-packages\\sklearn\\manifold\\spectral_embedding_.py:235: UserWarning: Graph is not fully connected, spectral embedding may not work as expected.\n",
      "  warnings.warn(\"Graph is not fully connected, spectral embedding\"\n",
      "C:\\Users\\yaniv\\Anaconda3\\lib\\site-packages\\sklearn\\manifold\\spectral_embedding_.py:235: UserWarning: Graph is not fully connected, spectral embedding may not work as expected.\n",
      "  warnings.warn(\"Graph is not fully connected, spectral embedding\"\n",
      "C:\\Users\\yaniv\\Anaconda3\\lib\\site-packages\\sklearn\\manifold\\spectral_embedding_.py:235: UserWarning: Graph is not fully connected, spectral embedding may not work as expected.\n",
      "  warnings.warn(\"Graph is not fully connected, spectral embedding\"\n",
      "C:\\Users\\yaniv\\Anaconda3\\lib\\site-packages\\sklearn\\manifold\\spectral_embedding_.py:235: UserWarning: Graph is not fully connected, spectral embedding may not work as expected.\n",
      "  warnings.warn(\"Graph is not fully connected, spectral embedding\"\n",
      "C:\\Users\\yaniv\\Anaconda3\\lib\\site-packages\\sklearn\\manifold\\spectral_embedding_.py:235: UserWarning: Graph is not fully connected, spectral embedding may not work as expected.\n",
      "  warnings.warn(\"Graph is not fully connected, spectral embedding\"\n"
     ]
    },
    {
     "name": "stdout",
     "output_type": "stream",
     "text": [
      "Running the algorithm on MkiUBJcgdUY \n"
     ]
    },
    {
     "name": "stderr",
     "output_type": "stream",
     "text": [
      "C:\\Users\\yaniv\\Anaconda3\\lib\\site-packages\\sklearn\\manifold\\spectral_embedding_.py:235: UserWarning: Graph is not fully connected, spectral embedding may not work as expected.\n",
      "  warnings.warn(\"Graph is not fully connected, spectral embedding\"\n",
      "C:\\Users\\yaniv\\Anaconda3\\lib\\site-packages\\sklearn\\manifold\\spectral_embedding_.py:235: UserWarning: Graph is not fully connected, spectral embedding may not work as expected.\n",
      "  warnings.warn(\"Graph is not fully connected, spectral embedding\"\n",
      "C:\\Users\\yaniv\\Anaconda3\\lib\\site-packages\\sklearn\\manifold\\spectral_embedding_.py:235: UserWarning: Graph is not fully connected, spectral embedding may not work as expected.\n",
      "  warnings.warn(\"Graph is not fully connected, spectral embedding\"\n",
      "C:\\Users\\yaniv\\Anaconda3\\lib\\site-packages\\sklearn\\manifold\\spectral_embedding_.py:235: UserWarning: Graph is not fully connected, spectral embedding may not work as expected.\n",
      "  warnings.warn(\"Graph is not fully connected, spectral embedding\"\n",
      "C:\\Users\\yaniv\\Anaconda3\\lib\\site-packages\\sklearn\\manifold\\spectral_embedding_.py:235: UserWarning: Graph is not fully connected, spectral embedding may not work as expected.\n",
      "  warnings.warn(\"Graph is not fully connected, spectral embedding\"\n",
      "C:\\Users\\yaniv\\Anaconda3\\lib\\site-packages\\sklearn\\manifold\\spectral_embedding_.py:235: UserWarning: Graph is not fully connected, spectral embedding may not work as expected.\n",
      "  warnings.warn(\"Graph is not fully connected, spectral embedding\"\n",
      "C:\\Users\\yaniv\\Anaconda3\\lib\\site-packages\\sklearn\\manifold\\spectral_embedding_.py:235: UserWarning: Graph is not fully connected, spectral embedding may not work as expected.\n",
      "  warnings.warn(\"Graph is not fully connected, spectral embedding\"\n",
      "C:\\Users\\yaniv\\Anaconda3\\lib\\site-packages\\sklearn\\manifold\\spectral_embedding_.py:235: UserWarning: Graph is not fully connected, spectral embedding may not work as expected.\n",
      "  warnings.warn(\"Graph is not fully connected, spectral embedding\"\n"
     ]
    },
    {
     "name": "stdout",
     "output_type": "stream",
     "text": [
      "Running the algorithm on Q-HugPvA7GQ \n"
     ]
    },
    {
     "name": "stderr",
     "output_type": "stream",
     "text": [
      "C:\\Users\\yaniv\\Anaconda3\\lib\\site-packages\\sklearn\\manifold\\spectral_embedding_.py:235: UserWarning: Graph is not fully connected, spectral embedding may not work as expected.\n",
      "  warnings.warn(\"Graph is not fully connected, spectral embedding\"\n",
      "C:\\Users\\yaniv\\Anaconda3\\lib\\site-packages\\sklearn\\manifold\\spectral_embedding_.py:235: UserWarning: Graph is not fully connected, spectral embedding may not work as expected.\n",
      "  warnings.warn(\"Graph is not fully connected, spectral embedding\"\n",
      "C:\\Users\\yaniv\\Anaconda3\\lib\\site-packages\\sklearn\\manifold\\spectral_embedding_.py:235: UserWarning: Graph is not fully connected, spectral embedding may not work as expected.\n",
      "  warnings.warn(\"Graph is not fully connected, spectral embedding\"\n",
      "C:\\Users\\yaniv\\Anaconda3\\lib\\site-packages\\sklearn\\manifold\\spectral_embedding_.py:235: UserWarning: Graph is not fully connected, spectral embedding may not work as expected.\n",
      "  warnings.warn(\"Graph is not fully connected, spectral embedding\"\n",
      "C:\\Users\\yaniv\\Anaconda3\\lib\\site-packages\\sklearn\\manifold\\spectral_embedding_.py:235: UserWarning: Graph is not fully connected, spectral embedding may not work as expected.\n",
      "  warnings.warn(\"Graph is not fully connected, spectral embedding\"\n",
      "C:\\Users\\yaniv\\Anaconda3\\lib\\site-packages\\sklearn\\manifold\\spectral_embedding_.py:235: UserWarning: Graph is not fully connected, spectral embedding may not work as expected.\n",
      "  warnings.warn(\"Graph is not fully connected, spectral embedding\"\n"
     ]
    },
    {
     "name": "stdout",
     "output_type": "stream",
     "text": [
      "Running the algorithm on x5zLaWT5KPs \n"
     ]
    },
    {
     "name": "stderr",
     "output_type": "stream",
     "text": [
      "C:\\Users\\yaniv\\Anaconda3\\lib\\site-packages\\sklearn\\manifold\\spectral_embedding_.py:235: UserWarning: Graph is not fully connected, spectral embedding may not work as expected.\n",
      "  warnings.warn(\"Graph is not fully connected, spectral embedding\"\n",
      "C:\\Users\\yaniv\\Anaconda3\\lib\\site-packages\\sklearn\\manifold\\spectral_embedding_.py:235: UserWarning: Graph is not fully connected, spectral embedding may not work as expected.\n",
      "  warnings.warn(\"Graph is not fully connected, spectral embedding\"\n",
      "C:\\Users\\yaniv\\Anaconda3\\lib\\site-packages\\sklearn\\manifold\\spectral_embedding_.py:235: UserWarning: Graph is not fully connected, spectral embedding may not work as expected.\n",
      "  warnings.warn(\"Graph is not fully connected, spectral embedding\"\n",
      "C:\\Users\\yaniv\\Anaconda3\\lib\\site-packages\\sklearn\\manifold\\spectral_embedding_.py:235: UserWarning: Graph is not fully connected, spectral embedding may not work as expected.\n",
      "  warnings.warn(\"Graph is not fully connected, spectral embedding\"\n",
      "C:\\Users\\yaniv\\Anaconda3\\lib\\site-packages\\sklearn\\manifold\\spectral_embedding_.py:235: UserWarning: Graph is not fully connected, spectral embedding may not work as expected.\n",
      "  warnings.warn(\"Graph is not fully connected, spectral embedding\"\n",
      "C:\\Users\\yaniv\\Anaconda3\\lib\\site-packages\\sklearn\\manifold\\spectral_embedding_.py:235: UserWarning: Graph is not fully connected, spectral embedding may not work as expected.\n",
      "  warnings.warn(\"Graph is not fully connected, spectral embedding\"\n",
      "C:\\Users\\yaniv\\Anaconda3\\lib\\site-packages\\sklearn\\manifold\\spectral_embedding_.py:235: UserWarning: Graph is not fully connected, spectral embedding may not work as expected.\n",
      "  warnings.warn(\"Graph is not fully connected, spectral embedding\"\n"
     ]
    },
    {
     "name": "stdout",
     "output_type": "stream",
     "text": [
      "Running the algorithm on zWg7U0OEAoE \n"
     ]
    },
    {
     "name": "stderr",
     "output_type": "stream",
     "text": [
      "C:\\Users\\yaniv\\Anaconda3\\lib\\site-packages\\sklearn\\manifold\\spectral_embedding_.py:235: UserWarning: Graph is not fully connected, spectral embedding may not work as expected.\n",
      "  warnings.warn(\"Graph is not fully connected, spectral embedding\"\n",
      "C:\\Users\\yaniv\\Anaconda3\\lib\\site-packages\\sklearn\\manifold\\spectral_embedding_.py:235: UserWarning: Graph is not fully connected, spectral embedding may not work as expected.\n",
      "  warnings.warn(\"Graph is not fully connected, spectral embedding\"\n",
      "C:\\Users\\yaniv\\Anaconda3\\lib\\site-packages\\sklearn\\manifold\\spectral_embedding_.py:235: UserWarning: Graph is not fully connected, spectral embedding may not work as expected.\n",
      "  warnings.warn(\"Graph is not fully connected, spectral embedding\"\n",
      "C:\\Users\\yaniv\\Anaconda3\\lib\\site-packages\\sklearn\\manifold\\spectral_embedding_.py:235: UserWarning: Graph is not fully connected, spectral embedding may not work as expected.\n",
      "  warnings.warn(\"Graph is not fully connected, spectral embedding\"\n",
      "C:\\Users\\yaniv\\Anaconda3\\lib\\site-packages\\sklearn\\manifold\\spectral_embedding_.py:235: UserWarning: Graph is not fully connected, spectral embedding may not work as expected.\n",
      "  warnings.warn(\"Graph is not fully connected, spectral embedding\"\n",
      "C:\\Users\\yaniv\\Anaconda3\\lib\\site-packages\\sklearn\\manifold\\spectral_embedding_.py:235: UserWarning: Graph is not fully connected, spectral embedding may not work as expected.\n",
      "  warnings.warn(\"Graph is not fully connected, spectral embedding\"\n",
      "C:\\Users\\yaniv\\Anaconda3\\lib\\site-packages\\sklearn\\manifold\\spectral_embedding_.py:235: UserWarning: Graph is not fully connected, spectral embedding may not work as expected.\n",
      "  warnings.warn(\"Graph is not fully connected, spectral embedding\"\n",
      "C:\\Users\\yaniv\\Anaconda3\\lib\\site-packages\\sklearn\\manifold\\spectral_embedding_.py:235: UserWarning: Graph is not fully connected, spectral embedding may not work as expected.\n",
      "  warnings.warn(\"Graph is not fully connected, spectral embedding\"\n"
     ]
    },
    {
     "name": "stdout",
     "output_type": "stream",
     "text": [
      "Training workflow sliding_window-tfidf-cosine-None-spectral_clustering\n",
      "Running the algorithm on 2mC1uqwEmWQ \n",
      "|   iter    |  target   | n_clus... | sim_th... | step_size | window... |\n",
      "-------------------------------------------------------------------------\n",
      "|  1        |  0.0      |  18.0     |  0.6      |  60.0     |  76.69    |\n"
     ]
    },
    {
     "name": "stderr",
     "output_type": "stream",
     "text": [
      "C:\\Users\\yaniv\\Anaconda3\\lib\\site-packages\\sklearn\\manifold\\spectral_embedding_.py:235: UserWarning: Graph is not fully connected, spectral embedding may not work as expected.\n",
      "  warnings.warn(\"Graph is not fully connected, spectral embedding\"\n"
     ]
    },
    {
     "name": "stdout",
     "output_type": "stream",
     "text": [
      "|  2        |  0.0      |  18.0     |  0.6      |  10.0     |  20.0     |\n"
     ]
    },
    {
     "name": "stderr",
     "output_type": "stream",
     "text": [
      "C:\\Users\\yaniv\\Anaconda3\\lib\\site-packages\\sklearn\\manifold\\spectral_embedding_.py:235: UserWarning: Graph is not fully connected, spectral embedding may not work as expected.\n",
      "  warnings.warn(\"Graph is not fully connected, spectral embedding\"\n"
     ]
    },
    {
     "name": "stdout",
     "output_type": "stream",
     "text": [
      "|  3        |  0.4667   |  18.0     |  0.6      |  10.0     |  98.83    |\n"
     ]
    },
    {
     "name": "stderr",
     "output_type": "stream",
     "text": [
      "C:\\Users\\yaniv\\Anaconda3\\lib\\site-packages\\sklearn\\manifold\\spectral_embedding_.py:235: UserWarning: Graph is not fully connected, spectral embedding may not work as expected.\n",
      "  warnings.warn(\"Graph is not fully connected, spectral embedding\"\n"
     ]
    },
    {
     "name": "stdout",
     "output_type": "stream",
     "text": [
      "|  4        |  0.2667   |  18.0     |  0.3      |  60.0     |  127.8    |\n"
     ]
    },
    {
     "name": "stderr",
     "output_type": "stream",
     "text": [
      "C:\\Users\\yaniv\\Anaconda3\\lib\\site-packages\\sklearn\\manifold\\spectral_embedding_.py:235: UserWarning: Graph is not fully connected, spectral embedding may not work as expected.\n",
      "  warnings.warn(\"Graph is not fully connected, spectral embedding\"\n"
     ]
    },
    {
     "name": "stdout",
     "output_type": "stream",
     "text": [
      "|  5        |  0.4      |  18.0     |  0.6      |  30.23    |  88.19    |\n"
     ]
    },
    {
     "name": "stderr",
     "output_type": "stream",
     "text": [
      "C:\\Users\\yaniv\\Anaconda3\\lib\\site-packages\\sklearn\\manifold\\spectral_embedding_.py:235: UserWarning: Graph is not fully connected, spectral embedding may not work as expected.\n",
      "  warnings.warn(\"Graph is not fully connected, spectral embedding\"\n"
     ]
    },
    {
     "name": "stdout",
     "output_type": "stream",
     "text": [
      "|  6        |  0.0      |  18.0     |  0.6      |  40.32    |  150.0    |\n"
     ]
    },
    {
     "name": "stderr",
     "output_type": "stream",
     "text": [
      "C:\\Users\\yaniv\\Anaconda3\\lib\\site-packages\\sklearn\\manifold\\spectral_embedding_.py:235: UserWarning: Graph is not fully connected, spectral embedding may not work as expected.\n",
      "  warnings.warn(\"Graph is not fully connected, spectral embedding\"\n"
     ]
    },
    {
     "name": "stdout",
     "output_type": "stream",
     "text": [
      "|  7        |  0.0      |  18.0     |  0.6      |  36.7     |  46.11    |\n",
      "|  8        |  0.0      |  18.0     |  0.6      |  10.0     |  120.8    |\n",
      "=========================================================================\n",
      "Running the algorithm on B-Xe7_mf2CY \n",
      "|   iter    |  target   | n_clus... | sim_th... | step_size | window... |\n",
      "-------------------------------------------------------------------------\n"
     ]
    },
    {
     "name": "stderr",
     "output_type": "stream",
     "text": [
      "C:\\Users\\yaniv\\Anaconda3\\lib\\site-packages\\sklearn\\manifold\\spectral_embedding_.py:235: UserWarning: Graph is not fully connected, spectral embedding may not work as expected.\n",
      "  warnings.warn(\"Graph is not fully connected, spectral embedding\"\n"
     ]
    },
    {
     "name": "stdout",
     "output_type": "stream",
     "text": [
      "|  9        |  0.0      |  12.88    |  0.3277   |  19.31    |  64.92    |\n"
     ]
    },
    {
     "name": "stderr",
     "output_type": "stream",
     "text": [
      "C:\\Users\\yaniv\\Anaconda3\\lib\\site-packages\\sklearn\\manifold\\spectral_embedding_.py:235: UserWarning: Graph is not fully connected, spectral embedding may not work as expected.\n",
      "  warnings.warn(\"Graph is not fully connected, spectral embedding\"\n"
     ]
    },
    {
     "name": "stdout",
     "output_type": "stream",
     "text": [
      "|  10       |  0.0      |  18.0     |  0.6      |  60.0     |  103.1    |\n"
     ]
    },
    {
     "name": "stderr",
     "output_type": "stream",
     "text": [
      "C:\\Users\\yaniv\\Anaconda3\\lib\\site-packages\\sklearn\\manifold\\spectral_embedding_.py:235: UserWarning: Graph is not fully connected, spectral embedding may not work as expected.\n",
      "  warnings.warn(\"Graph is not fully connected, spectral embedding\"\n"
     ]
    },
    {
     "name": "stdout",
     "output_type": "stream",
     "text": [
      "|  11       |  0.1667   |  18.0     |  0.6      |  31.71    |  107.1    |\n"
     ]
    },
    {
     "name": "stderr",
     "output_type": "stream",
     "text": [
      "C:\\Users\\yaniv\\Anaconda3\\lib\\site-packages\\sklearn\\manifold\\spectral_embedding_.py:235: UserWarning: Graph is not fully connected, spectral embedding may not work as expected.\n",
      "  warnings.warn(\"Graph is not fully connected, spectral embedding\"\n"
     ]
    },
    {
     "name": "stdout",
     "output_type": "stream",
     "text": [
      "|  12       |  0.2222   |  18.0     |  0.6      |  10.0     |  80.65    |\n"
     ]
    },
    {
     "name": "stderr",
     "output_type": "stream",
     "text": [
      "C:\\Users\\yaniv\\Anaconda3\\lib\\site-packages\\sklearn\\manifold\\spectral_embedding_.py:235: UserWarning: Graph is not fully connected, spectral embedding may not work as expected.\n",
      "  warnings.warn(\"Graph is not fully connected, spectral embedding\"\n"
     ]
    },
    {
     "name": "stdout",
     "output_type": "stream",
     "text": [
      "|  13       |  0.0      |  12.0     |  0.6      |  60.0     |  47.91    |\n"
     ]
    },
    {
     "name": "stderr",
     "output_type": "stream",
     "text": [
      "C:\\Users\\yaniv\\Anaconda3\\lib\\site-packages\\sklearn\\manifold\\spectral_embedding_.py:235: UserWarning: Graph is not fully connected, spectral embedding may not work as expected.\n",
      "  warnings.warn(\"Graph is not fully connected, spectral embedding\"\n"
     ]
    },
    {
     "name": "stdout",
     "output_type": "stream",
     "text": [
      "|  14       |  0.0      |  12.19    |  0.4447   |  10.0     |  38.13    |\n"
     ]
    },
    {
     "name": "stderr",
     "output_type": "stream",
     "text": [
      "C:\\Users\\yaniv\\Anaconda3\\lib\\site-packages\\sklearn\\manifold\\spectral_embedding_.py:235: UserWarning: Graph is not fully connected, spectral embedding may not work as expected.\n",
      "  warnings.warn(\"Graph is not fully connected, spectral embedding\"\n"
     ]
    },
    {
     "name": "stdout",
     "output_type": "stream",
     "text": [
      "|  15       |  0.05556  |  12.0     |  0.6      |  60.0     |  150.0    |\n"
     ]
    },
    {
     "name": "stderr",
     "output_type": "stream",
     "text": [
      "C:\\Users\\yaniv\\Anaconda3\\lib\\site-packages\\sklearn\\manifold\\spectral_embedding_.py:235: UserWarning: Graph is not fully connected, spectral embedding may not work as expected.\n",
      "  warnings.warn(\"Graph is not fully connected, spectral embedding\"\n"
     ]
    },
    {
     "name": "stdout",
     "output_type": "stream",
     "text": [
      "|  16       |  0.0      |  12.0     |  0.6      |  34.81    |  20.0     |\n",
      "=========================================================================\n",
      "Running the algorithm on MkiUBJcgdUY \n",
      "|   iter    |  target   | n_clus... | sim_th... | step_size | window... |\n",
      "-------------------------------------------------------------------------\n"
     ]
    },
    {
     "name": "stderr",
     "output_type": "stream",
     "text": [
      "C:\\Users\\yaniv\\Anaconda3\\lib\\site-packages\\sklearn\\manifold\\spectral_embedding_.py:235: UserWarning: Graph is not fully connected, spectral embedding may not work as expected.\n",
      "  warnings.warn(\"Graph is not fully connected, spectral embedding\"\n"
     ]
    },
    {
     "name": "stdout",
     "output_type": "stream",
     "text": [
      "|  17       |  0.1667   |  14.38    |  0.4616   |  30.96    |  109.1    |\n"
     ]
    },
    {
     "name": "stderr",
     "output_type": "stream",
     "text": [
      "C:\\Users\\yaniv\\Anaconda3\\lib\\site-packages\\sklearn\\manifold\\spectral_embedding_.py:235: UserWarning: Graph is not fully connected, spectral embedding may not work as expected.\n",
      "  warnings.warn(\"Graph is not fully connected, spectral embedding\"\n"
     ]
    },
    {
     "name": "stdout",
     "output_type": "stream",
     "text": [
      "|  18       |  0.05556  |  12.0     |  0.6      |  10.0     |  95.04    |\n"
     ]
    },
    {
     "name": "stderr",
     "output_type": "stream",
     "text": [
      "C:\\Users\\yaniv\\Anaconda3\\lib\\site-packages\\sklearn\\manifold\\spectral_embedding_.py:235: UserWarning: Graph is not fully connected, spectral embedding may not work as expected.\n",
      "  warnings.warn(\"Graph is not fully connected, spectral embedding\"\n"
     ]
    },
    {
     "name": "stdout",
     "output_type": "stream",
     "text": [
      "|  19       |  0.0      |  17.79    |  0.5205   |  41.38    |  71.08    |\n"
     ]
    },
    {
     "name": "stderr",
     "output_type": "stream",
     "text": [
      "C:\\Users\\yaniv\\Anaconda3\\lib\\site-packages\\sklearn\\manifold\\spectral_embedding_.py:235: UserWarning: Graph is not fully connected, spectral embedding may not work as expected.\n",
      "  warnings.warn(\"Graph is not fully connected, spectral embedding\"\n"
     ]
    },
    {
     "name": "stdout",
     "output_type": "stream",
     "text": [
      "|  20       |  0.2222   |  18.0     |  0.6      |  40.96    |  130.1    |\n"
     ]
    },
    {
     "name": "stderr",
     "output_type": "stream",
     "text": [
      "C:\\Users\\yaniv\\Anaconda3\\lib\\site-packages\\sklearn\\manifold\\spectral_embedding_.py:235: UserWarning: Graph is not fully connected, spectral embedding may not work as expected.\n",
      "  warnings.warn(\"Graph is not fully connected, spectral embedding\"\n"
     ]
    },
    {
     "name": "stdout",
     "output_type": "stream",
     "text": [
      "|  21       |  0.0      |  12.0     |  0.6      |  43.89    |  91.5     |\n"
     ]
    },
    {
     "name": "stderr",
     "output_type": "stream",
     "text": [
      "C:\\Users\\yaniv\\Anaconda3\\lib\\site-packages\\sklearn\\manifold\\spectral_embedding_.py:235: UserWarning: Graph is not fully connected, spectral embedding may not work as expected.\n",
      "  warnings.warn(\"Graph is not fully connected, spectral embedding\"\n"
     ]
    },
    {
     "name": "stdout",
     "output_type": "stream",
     "text": [
      "|  22       |  0.0      |  18.0     |  0.3      |  19.47    |  95.41    |\n"
     ]
    },
    {
     "name": "stderr",
     "output_type": "stream",
     "text": [
      "C:\\Users\\yaniv\\Anaconda3\\lib\\site-packages\\sklearn\\manifold\\spectral_embedding_.py:235: UserWarning: Graph is not fully connected, spectral embedding may not work as expected.\n",
      "  warnings.warn(\"Graph is not fully connected, spectral embedding\"\n"
     ]
    },
    {
     "name": "stdout",
     "output_type": "stream",
     "text": [
      "|  23       |  0.0      |  18.0     |  0.6      |  51.08    |  31.99    |\n"
     ]
    },
    {
     "name": "stderr",
     "output_type": "stream",
     "text": [
      "C:\\Users\\yaniv\\Anaconda3\\lib\\site-packages\\sklearn\\manifold\\spectral_embedding_.py:235: UserWarning: Graph is not fully connected, spectral embedding may not work as expected.\n",
      "  warnings.warn(\"Graph is not fully connected, spectral embedding\"\n"
     ]
    },
    {
     "name": "stdout",
     "output_type": "stream",
     "text": [
      "|  24       |  0.2222   |  18.0     |  0.6      |  15.99    |  49.54    |\n",
      "=========================================================================\n",
      "Running the algorithm on Q-HugPvA7GQ \n",
      "|   iter    |  target   | n_clus... | sim_th... | step_size | window... |\n",
      "-------------------------------------------------------------------------\n",
      "|  25       |  0.1429   |  13.23    |  0.5634   |  11.37    |  107.2    |\n"
     ]
    },
    {
     "name": "stderr",
     "output_type": "stream",
     "text": [
      "C:\\Users\\yaniv\\Anaconda3\\lib\\site-packages\\sklearn\\manifold\\spectral_embedding_.py:235: UserWarning: Graph is not fully connected, spectral embedding may not work as expected.\n",
      "  warnings.warn(\"Graph is not fully connected, spectral embedding\"\n"
     ]
    },
    {
     "name": "stdout",
     "output_type": "stream",
     "text": [
      "|  26       |  0.2143   |  17.8     |  0.5424   |  54.6     |  141.7    |\n"
     ]
    },
    {
     "name": "stderr",
     "output_type": "stream",
     "text": [
      "C:\\Users\\yaniv\\Anaconda3\\lib\\site-packages\\sklearn\\manifold\\spectral_embedding_.py:235: UserWarning: Graph is not fully connected, spectral embedding may not work as expected.\n",
      "  warnings.warn(\"Graph is not fully connected, spectral embedding\"\n"
     ]
    },
    {
     "name": "stdout",
     "output_type": "stream",
     "text": [
      "|  27       |  0.0      |  18.0     |  0.3      |  44.72    |  112.2    |\n"
     ]
    },
    {
     "name": "stderr",
     "output_type": "stream",
     "text": [
      "C:\\Users\\yaniv\\Anaconda3\\lib\\site-packages\\sklearn\\manifold\\spectral_embedding_.py:235: UserWarning: Graph is not fully connected, spectral embedding may not work as expected.\n",
      "  warnings.warn(\"Graph is not fully connected, spectral embedding\"\n"
     ]
    },
    {
     "name": "stdout",
     "output_type": "stream",
     "text": [
      "|  28       |  0.0      |  18.0     |  0.3      |  25.1     |  31.12    |\n"
     ]
    },
    {
     "name": "stderr",
     "output_type": "stream",
     "text": [
      "C:\\Users\\yaniv\\Anaconda3\\lib\\site-packages\\sklearn\\manifold\\spectral_embedding_.py:235: UserWarning: Graph is not fully connected, spectral embedding may not work as expected.\n",
      "  warnings.warn(\"Graph is not fully connected, spectral embedding\"\n"
     ]
    },
    {
     "name": "stdout",
     "output_type": "stream",
     "text": [
      "|  29       |  0.0      |  12.0     |  0.6      |  60.0     |  116.8    |\n"
     ]
    },
    {
     "name": "stderr",
     "output_type": "stream",
     "text": [
      "C:\\Users\\yaniv\\Anaconda3\\lib\\site-packages\\sklearn\\manifold\\spectral_embedding_.py:235: UserWarning: Graph is not fully connected, spectral embedding may not work as expected.\n",
      "  warnings.warn(\"Graph is not fully connected, spectral embedding\"\n"
     ]
    },
    {
     "name": "stdout",
     "output_type": "stream",
     "text": [
      "|  30       |  0.1429   |  12.0     |  0.6      |  22.18    |  138.0    |\n"
     ]
    },
    {
     "name": "stderr",
     "output_type": "stream",
     "text": [
      "C:\\Users\\yaniv\\Anaconda3\\lib\\site-packages\\sklearn\\manifold\\spectral_embedding_.py:235: UserWarning: Graph is not fully connected, spectral embedding may not work as expected.\n",
      "  warnings.warn(\"Graph is not fully connected, spectral embedding\"\n"
     ]
    },
    {
     "name": "stdout",
     "output_type": "stream",
     "text": [
      "|  31       |  0.2143   |  18.0     |  0.6      |  26.8     |  121.8    |\n"
     ]
    },
    {
     "name": "stderr",
     "output_type": "stream",
     "text": [
      "C:\\Users\\yaniv\\Anaconda3\\lib\\site-packages\\sklearn\\manifold\\spectral_embedding_.py:235: UserWarning: Graph is not fully connected, spectral embedding may not work as expected.\n",
      "  warnings.warn(\"Graph is not fully connected, spectral embedding\"\n"
     ]
    },
    {
     "name": "stdout",
     "output_type": "stream",
     "text": [
      "|  32       |  0.1429   |  18.0     |  0.6      |  29.02    |  78.32    |\n",
      "=========================================================================\n",
      "Running the algorithm on x5zLaWT5KPs \n",
      "|   iter    |  target   | n_clus... | sim_th... | step_size | window... |\n",
      "-------------------------------------------------------------------------\n"
     ]
    },
    {
     "name": "stderr",
     "output_type": "stream",
     "text": [
      "C:\\Users\\yaniv\\Anaconda3\\lib\\site-packages\\sklearn\\manifold\\spectral_embedding_.py:235: UserWarning: Graph is not fully connected, spectral embedding may not work as expected.\n",
      "  warnings.warn(\"Graph is not fully connected, spectral embedding\"\n"
     ]
    },
    {
     "name": "stdout",
     "output_type": "stream",
     "text": [
      "|  33       |  0.3571   |  14.5     |  0.4676   |  17.02    |  45.75    |\n"
     ]
    },
    {
     "name": "stderr",
     "output_type": "stream",
     "text": [
      "C:\\Users\\yaniv\\Anaconda3\\lib\\site-packages\\sklearn\\manifold\\spectral_embedding_.py:235: UserWarning: Graph is not fully connected, spectral embedding may not work as expected.\n",
      "  warnings.warn(\"Graph is not fully connected, spectral embedding\"\n"
     ]
    },
    {
     "name": "stdout",
     "output_type": "stream",
     "text": [
      "|  34       |  0.0      |  12.04    |  0.519    |  29.55    |  40.87    |\n"
     ]
    },
    {
     "name": "stderr",
     "output_type": "stream",
     "text": [
      "C:\\Users\\yaniv\\Anaconda3\\lib\\site-packages\\sklearn\\manifold\\spectral_embedding_.py:235: UserWarning: Graph is not fully connected, spectral embedding may not work as expected.\n",
      "  warnings.warn(\"Graph is not fully connected, spectral embedding\"\n",
      "C:\\Users\\yaniv\\Anaconda3\\lib\\site-packages\\scipy\\sparse\\linalg\\eigen\\arpack\\arpack.py:1572: RuntimeWarning: k >= N for N * N square matrix. Attempting to use scipy.linalg.eigh instead.\n",
      "  RuntimeWarning)\n"
     ]
    },
    {
     "name": "stdout",
     "output_type": "stream",
     "text": [
      "|  35       |  0.0      |  17.97    |  0.3881   |  59.78    |  57.41    |\n"
     ]
    },
    {
     "name": "stderr",
     "output_type": "stream",
     "text": [
      "C:\\Users\\yaniv\\Anaconda3\\lib\\site-packages\\sklearn\\manifold\\spectral_embedding_.py:235: UserWarning: Graph is not fully connected, spectral embedding may not work as expected.\n",
      "  warnings.warn(\"Graph is not fully connected, spectral embedding\"\n"
     ]
    },
    {
     "name": "stdout",
     "output_type": "stream",
     "text": [
      "|  36       |  0.0      |  18.0     |  0.6      |  39.71    |  86.01    |\n"
     ]
    },
    {
     "name": "stderr",
     "output_type": "stream",
     "text": [
      "C:\\Users\\yaniv\\Anaconda3\\lib\\site-packages\\sklearn\\manifold\\spectral_embedding_.py:235: UserWarning: Graph is not fully connected, spectral embedding may not work as expected.\n",
      "  warnings.warn(\"Graph is not fully connected, spectral embedding\"\n"
     ]
    },
    {
     "name": "stdout",
     "output_type": "stream",
     "text": [
      "|  37       |  0.0      |  12.0     |  0.6      |  46.8     |  59.08    |\n"
     ]
    },
    {
     "name": "stderr",
     "output_type": "stream",
     "text": [
      "C:\\Users\\yaniv\\Anaconda3\\lib\\site-packages\\sklearn\\manifold\\spectral_embedding_.py:235: UserWarning: Graph is not fully connected, spectral embedding may not work as expected.\n",
      "  warnings.warn(\"Graph is not fully connected, spectral embedding\"\n"
     ]
    },
    {
     "name": "stdout",
     "output_type": "stream",
     "text": [
      "|  38       |  0.0      |  12.0     |  0.6      |  23.33    |  150.0    |\n"
     ]
    },
    {
     "name": "stderr",
     "output_type": "stream",
     "text": [
      "C:\\Users\\yaniv\\Anaconda3\\lib\\site-packages\\sklearn\\manifold\\spectral_embedding_.py:235: UserWarning: Graph is not fully connected, spectral embedding may not work as expected.\n",
      "  warnings.warn(\"Graph is not fully connected, spectral embedding\"\n"
     ]
    },
    {
     "name": "stdout",
     "output_type": "stream",
     "text": [
      "|  39       |  0.3571   |  12.0     |  0.6      |  30.93    |  86.15    |\n"
     ]
    },
    {
     "name": "stderr",
     "output_type": "stream",
     "text": [
      "C:\\Users\\yaniv\\Anaconda3\\lib\\site-packages\\sklearn\\manifold\\spectral_embedding_.py:235: UserWarning: Graph is not fully connected, spectral embedding may not work as expected.\n",
      "  warnings.warn(\"Graph is not fully connected, spectral embedding\"\n"
     ]
    },
    {
     "name": "stdout",
     "output_type": "stream",
     "text": [
      "|  40       |  0.4286   |  12.0     |  0.6      |  10.0     |  50.86    |\n",
      "=========================================================================\n",
      "Running the algorithm on zWg7U0OEAoE \n",
      "|   iter    |  target   | n_clus... | sim_th... | step_size | window... |\n",
      "-------------------------------------------------------------------------\n"
     ]
    },
    {
     "name": "stderr",
     "output_type": "stream",
     "text": [
      "C:\\Users\\yaniv\\Anaconda3\\lib\\site-packages\\sklearn\\manifold\\spectral_embedding_.py:235: UserWarning: Graph is not fully connected, spectral embedding may not work as expected.\n",
      "  warnings.warn(\"Graph is not fully connected, spectral embedding\"\n"
     ]
    },
    {
     "name": "stdout",
     "output_type": "stream",
     "text": [
      "|  41       |  0.1538   |  16.8     |  0.5905   |  25.67    |  110.0    |\n"
     ]
    },
    {
     "name": "stderr",
     "output_type": "stream",
     "text": [
      "C:\\Users\\yaniv\\Anaconda3\\lib\\site-packages\\sklearn\\manifold\\spectral_embedding_.py:235: UserWarning: Graph is not fully connected, spectral embedding may not work as expected.\n",
      "  warnings.warn(\"Graph is not fully connected, spectral embedding\"\n"
     ]
    },
    {
     "name": "stdout",
     "output_type": "stream",
     "text": [
      "|  42       |  0.0      |  18.0     |  0.3      |  46.33    |  20.0     |\n"
     ]
    },
    {
     "name": "stderr",
     "output_type": "stream",
     "text": [
      "C:\\Users\\yaniv\\Anaconda3\\lib\\site-packages\\sklearn\\manifold\\spectral_embedding_.py:235: UserWarning: Graph is not fully connected, spectral embedding may not work as expected.\n",
      "  warnings.warn(\"Graph is not fully connected, spectral embedding\"\n"
     ]
    },
    {
     "name": "stdout",
     "output_type": "stream",
     "text": [
      "|  43       |  0.0      |  12.0     |  0.6      |  19.5     |  51.7     |\n"
     ]
    },
    {
     "name": "stderr",
     "output_type": "stream",
     "text": [
      "C:\\Users\\yaniv\\Anaconda3\\lib\\site-packages\\sklearn\\manifold\\spectral_embedding_.py:235: UserWarning: Graph is not fully connected, spectral embedding may not work as expected.\n",
      "  warnings.warn(\"Graph is not fully connected, spectral embedding\"\n"
     ]
    },
    {
     "name": "stdout",
     "output_type": "stream",
     "text": [
      "|  44       |  0.07692  |  12.0     |  0.3      |  10.0     |  138.0    |\n"
     ]
    },
    {
     "name": "stderr",
     "output_type": "stream",
     "text": [
      "C:\\Users\\yaniv\\Anaconda3\\lib\\site-packages\\sklearn\\manifold\\spectral_embedding_.py:235: UserWarning: Graph is not fully connected, spectral embedding may not work as expected.\n",
      "  warnings.warn(\"Graph is not fully connected, spectral embedding\"\n"
     ]
    },
    {
     "name": "stdout",
     "output_type": "stream",
     "text": [
      "|  45       |  0.1538   |  12.0     |  0.3      |  60.0     |  89.22    |\n"
     ]
    },
    {
     "name": "stderr",
     "output_type": "stream",
     "text": [
      "C:\\Users\\yaniv\\Anaconda3\\lib\\site-packages\\sklearn\\manifold\\spectral_embedding_.py:235: UserWarning: Graph is not fully connected, spectral embedding may not work as expected.\n",
      "  warnings.warn(\"Graph is not fully connected, spectral embedding\"\n"
     ]
    },
    {
     "name": "stdout",
     "output_type": "stream",
     "text": [
      "|  46       |  0.0      |  12.0     |  0.6      |  10.0     |  71.89    |\n"
     ]
    },
    {
     "name": "stderr",
     "output_type": "stream",
     "text": [
      "C:\\Users\\yaniv\\Anaconda3\\lib\\site-packages\\sklearn\\manifold\\spectral_embedding_.py:235: UserWarning: Graph is not fully connected, spectral embedding may not work as expected.\n",
      "  warnings.warn(\"Graph is not fully connected, spectral embedding\"\n"
     ]
    },
    {
     "name": "stdout",
     "output_type": "stream",
     "text": [
      "|  47       |  0.0      |  12.0     |  0.3      |  60.0     |  68.6     |\n"
     ]
    },
    {
     "name": "stderr",
     "output_type": "stream",
     "text": [
      "C:\\Users\\yaniv\\Anaconda3\\lib\\site-packages\\sklearn\\manifold\\spectral_embedding_.py:235: UserWarning: Graph is not fully connected, spectral embedding may not work as expected.\n",
      "  warnings.warn(\"Graph is not fully connected, spectral embedding\"\n"
     ]
    },
    {
     "name": "stdout",
     "output_type": "stream",
     "text": [
      "|  48       |  0.0      |  18.0     |  0.3      |  10.0     |  45.23    |\n",
      "=========================================================================\n"
     ]
    }
   ],
   "source": [
    "models_path  = '../models/bayesian_opt'\n",
    "''' Finding optimization for each video'''\n",
    "\n",
    "workflows = list(param_bounds.keys())\n",
    "\n",
    "for workflow in workflows:\n",
    "    print('Training workflow %s' %(workflow))\n",
    "    function_to_optimized = build_function_to_optimize(workflow)\n",
    "    '''Define the optimizer'''    \n",
    "    optimizer = BayesianOptimization(\n",
    "                f=function_to_optimized,\n",
    "                pbounds=param_bounds[workflow],\n",
    "                verbose=2,\n",
    "                random_state=1\n",
    "                )\n",
    "    \n",
    "    model_file_path = os.path.join(models_path,('%s.json' %(workflow)))\n",
    "    if os.path.isfile(model_file_path):\n",
    "        load_logs(optimizer,logs=[model_file_path])\n",
    "    else:\n",
    "        logger = JSONLogger(path=model_file_path)\n",
    "        optimizer.subscribe(Events.OPTIMIZATION_STEP, logger)\n",
    "\n",
    "\n",
    "    for vid in transcripts_jsons.keys():\n",
    "        '''Define the function to optimize'''\n",
    "        video_metadata = df_videos.loc[df_videos['video id'] == vid]\n",
    "        groundbase = video_metadata['topic shifts(ends)'].values.tolist()[:-1]\n",
    "        transcripts = transcripts_jsons[vid]\n",
    "\n",
    "        print(\"Running the algorithm on %s \" %(vid))\n",
    "        '''Run the algorithm'''\n",
    "        optimizer.maximize(\n",
    "            init_points = 1,\n",
    "            n_iter = 7\n",
    "        )"
   ]
  },
  {
   "cell_type": "code",
   "execution_count": 7,
   "metadata": {},
   "outputs": [
    {
     "data": {
      "text/plain": [
       "'1 2'"
      ]
     },
     "execution_count": 7,
     "metadata": {},
     "output_type": "execute_result"
    }
   ],
   "source": [
    "(\"%s %s\" %(1,2))"
   ]
  },
  {
   "cell_type": "code",
   "execution_count": null,
   "metadata": {},
   "outputs": [],
   "source": []
  }
 ],
 "metadata": {
  "kernelspec": {
   "display_name": "Python 3",
   "language": "python",
   "name": "python3"
  },
  "language_info": {
   "codemirror_mode": {
    "name": "ipython",
    "version": 3
   },
   "file_extension": ".py",
   "mimetype": "text/x-python",
   "name": "python",
   "nbconvert_exporter": "python",
   "pygments_lexer": "ipython3",
   "version": "3.7.4"
  }
 },
 "nbformat": 4,
 "nbformat_minor": 2
}
