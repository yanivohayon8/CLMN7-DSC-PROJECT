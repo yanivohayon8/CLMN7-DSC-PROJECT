{
 "cells": [
  {
   "cell_type": "code",
   "execution_count": 1,
   "metadata": {},
   "outputs": [],
   "source": [
    "import sys\n",
    "sys.path.append('..')"
   ]
  },
  {
   "cell_type": "code",
   "execution_count": 47,
   "metadata": {},
   "outputs": [],
   "source": [
    "from src.features.segment_transcript import CreateBlocks\n",
    "from src.visualization.visualize import MyPlotting\n",
    "import glob\n",
    "import json\n",
    "import os\n",
    "import pandas as pd\n",
    "import ast\n",
    "import numpy as np"
   ]
  },
  {
   "cell_type": "code",
   "execution_count": 114,
   "metadata": {},
   "outputs": [
    {
     "name": "stderr",
     "output_type": "stream",
     "text": [
      "C:\\Users\\yaniv\\Anaconda3\\lib\\importlib\\_bootstrap.py:219: RuntimeWarning: numpy.ufunc size changed, may indicate binary incompatibility. Expected 192 from C header, got 216 from PyObject\n",
      "  return f(*args, **kwds)\n"
     ]
    }
   ],
   "source": [
    "from scipy.ndimage.filters import median_filter"
   ]
  },
  {
   "cell_type": "code",
   "execution_count": 9,
   "metadata": {},
   "outputs": [],
   "source": [
    "import gensim.corpora as corpora\n",
    "import gensim"
   ]
  },
  {
   "cell_type": "code",
   "execution_count": 39,
   "metadata": {},
   "outputs": [],
   "source": [
    "from scipy.stats import entropy"
   ]
  },
  {
   "cell_type": "code",
   "execution_count": 4,
   "metadata": {},
   "outputs": [],
   "source": [
    "groundbase_dir = '../data/raw/groundbase'\n",
    "transcripts_dir = os.path.join(groundbase_dir,'transcripts')\n",
    "topic_dataset_path = os.path.join(groundbase_dir,'dataset.csv')\n",
    "transcript_filespath = glob.glob(groundbase_dir + '/transcripts/*.json')"
   ]
  },
  {
   "cell_type": "code",
   "execution_count": 5,
   "metadata": {},
   "outputs": [],
   "source": [
    "'''Read the transcript'''\n",
    "transcripts_jsons = {}\n",
    "for fl in transcript_filespath:\n",
    "    with open(fl,encoding=\"utf8\") as f:\n",
    "        transcript =ast.literal_eval(f.read()) #json.load(f)\n",
    "        vid = fl.split('\\\\')[-1].split('.')[0]\n",
    "        #print(vid)\n",
    "        transcripts_jsons[vid] = transcript\n"
   ]
  },
  {
   "cell_type": "code",
   "execution_count": 6,
   "metadata": {},
   "outputs": [
    {
     "data": {
      "text/plain": [
       "dict_keys(['2mC1uqwEmWQ', 'MkiUBJcgdUY', 'x5zLaWT5KPs', 'zWg7U0OEAoE'])"
      ]
     },
     "execution_count": 6,
     "metadata": {},
     "output_type": "execute_result"
    }
   ],
   "source": [
    "transcripts_jsons.keys()"
   ]
  },
  {
   "cell_type": "code",
   "execution_count": 117,
   "metadata": {},
   "outputs": [],
   "source": [
    "block_handler =  CreateBlocks(transcripts_jsons['2mC1uqwEmWQ'],window_size=20)\n",
    "blocks = block_handler.partion_by_sliding_windows(120,20)"
   ]
  },
  {
   "cell_type": "code",
   "execution_count": 118,
   "metadata": {},
   "outputs": [],
   "source": [
    "id2word = corpora.Dictionary(blocks)\n",
    "#print(id2word.token2id)"
   ]
  },
  {
   "cell_type": "code",
   "execution_count": 119,
   "metadata": {},
   "outputs": [],
   "source": [
    "corpus = [id2word.doc2bow(doc) for doc in blocks]\n",
    "#print(corpus)"
   ]
  },
  {
   "cell_type": "code",
   "execution_count": 120,
   "metadata": {},
   "outputs": [],
   "source": [
    "# low alpha means each document is only represented by a small number of topics, and vice versa\n",
    "# low eta means each topic is only represented by a small number of words, and vice versa\n",
    "lda = gensim.models.ldamodel.LdaModel(corpus=corpus, num_topics=15, id2word=id2word,\n",
    "               alpha=1e-5, eta=0.5e-2, chunksize=100, minimum_probability=0.0, passes=2)\n",
    "#print(\"Time to train LDA model on \", len(df), \"articles: \", (t2-t1)/60, \"min\")"
   ]
  },
  {
   "cell_type": "code",
   "execution_count": 121,
   "metadata": {},
   "outputs": [],
   "source": [
    "#lda.show_topics(num_topics=15,num_words=20)"
   ]
  },
  {
   "cell_type": "code",
   "execution_count": 122,
   "metadata": {},
   "outputs": [],
   "source": [
    "#lda.get_document_topics(bow=corpus[0])"
   ]
  },
  {
   "cell_type": "code",
   "execution_count": 123,
   "metadata": {},
   "outputs": [],
   "source": [
    "blocks_distributions = np.array([np.array([doc_dis[1] for doc_dis in lda.get_document_topics(bow=cp)]) for cp in corpus] )"
   ]
  },
  {
   "cell_type": "code",
   "execution_count": 124,
   "metadata": {},
   "outputs": [
    {
     "data": {
      "text/plain": [
       "(58, 15)"
      ]
     },
     "execution_count": 124,
     "metadata": {},
     "output_type": "execute_result"
    }
   ],
   "source": [
    "blocks_distributions.shape"
   ]
  },
  {
   "cell_type": "code",
   "execution_count": 125,
   "metadata": {},
   "outputs": [],
   "source": [
    "def shannon_distance(doc_dist_1,doc_dist_2):\n",
    "    m = 0.5 * (doc_dist_1 + doc_dist_2)\n",
    "    return np.square(0.5*(entropy(doc_dist_1,m) + entropy(doc_dist_2,m)))"
   ]
  },
  {
   "cell_type": "code",
   "execution_count": 126,
   "metadata": {},
   "outputs": [],
   "source": [
    "sh_mat = np.empty(shape=(blocks_distributions.shape[0],blocks_distributions.shape[0]))"
   ]
  },
  {
   "cell_type": "code",
   "execution_count": 127,
   "metadata": {},
   "outputs": [],
   "source": [
    "for i in range(blocks_distributions.shape[0]):\n",
    "    for j in range(blocks_distributions.shape[0]):\n",
    "        sh_mat[i][j] = shannon_distance(blocks_distributions[i],blocks_distributions[j])"
   ]
  },
  {
   "cell_type": "code",
   "execution_count": 128,
   "metadata": {},
   "outputs": [
    {
     "data": {
      "text/plain": [
       "array([[0.00000000e+00, 3.30222003e-03, 3.30222003e-03, ...,\n",
       "        2.15473911e-01, 2.15473911e-01, 2.42885500e-01],\n",
       "       [3.30222003e-03, 0.00000000e+00, 2.47259531e-27, ...,\n",
       "        4.80450042e-01, 4.80450042e-01, 4.80449216e-01],\n",
       "       [3.30222003e-03, 2.47259531e-27, 0.00000000e+00, ...,\n",
       "        4.80450042e-01, 4.80450042e-01, 4.80449216e-01],\n",
       "       ...,\n",
       "       [2.15473911e-01, 4.80450042e-01, 4.80450042e-01, ...,\n",
       "        0.00000000e+00, 2.47420215e-27, 1.71281074e-02],\n",
       "       [2.15473911e-01, 4.80450042e-01, 4.80450042e-01, ...,\n",
       "        2.47420215e-27, 0.00000000e+00, 1.71281074e-02],\n",
       "       [2.42885500e-01, 4.80449216e-01, 4.80449216e-01, ...,\n",
       "        1.71281074e-02, 1.71281074e-02, 0.00000000e+00]])"
      ]
     },
     "execution_count": 128,
     "metadata": {},
     "output_type": "execute_result"
    }
   ],
   "source": [
    "sh_mat"
   ]
  },
  {
   "cell_type": "code",
   "execution_count": 129,
   "metadata": {},
   "outputs": [
    {
     "data": {
      "text/html": [
       "<div>\n",
       "<style scoped>\n",
       "    .dataframe tbody tr th:only-of-type {\n",
       "        vertical-align: middle;\n",
       "    }\n",
       "\n",
       "    .dataframe tbody tr th {\n",
       "        vertical-align: top;\n",
       "    }\n",
       "\n",
       "    .dataframe thead th {\n",
       "        text-align: right;\n",
       "    }\n",
       "</style>\n",
       "<table border=\"1\" class=\"dataframe\">\n",
       "  <thead>\n",
       "    <tr style=\"text-align: right;\">\n",
       "      <th></th>\n",
       "      <th>0</th>\n",
       "      <th>1</th>\n",
       "      <th>2</th>\n",
       "      <th>3</th>\n",
       "      <th>4</th>\n",
       "      <th>5</th>\n",
       "      <th>6</th>\n",
       "      <th>7</th>\n",
       "      <th>8</th>\n",
       "      <th>9</th>\n",
       "      <th>...</th>\n",
       "      <th>48</th>\n",
       "      <th>49</th>\n",
       "      <th>50</th>\n",
       "      <th>51</th>\n",
       "      <th>52</th>\n",
       "      <th>53</th>\n",
       "      <th>54</th>\n",
       "      <th>55</th>\n",
       "      <th>56</th>\n",
       "      <th>57</th>\n",
       "    </tr>\n",
       "  </thead>\n",
       "  <tbody>\n",
       "    <tr>\n",
       "      <td>count</td>\n",
       "      <td>58.000000</td>\n",
       "      <td>58.000000</td>\n",
       "      <td>58.000000</td>\n",
       "      <td>58.000000</td>\n",
       "      <td>58.000000</td>\n",
       "      <td>58.000000</td>\n",
       "      <td>58.000000</td>\n",
       "      <td>58.000000</td>\n",
       "      <td>58.000000</td>\n",
       "      <td>58.000000</td>\n",
       "      <td>...</td>\n",
       "      <td>58.000000</td>\n",
       "      <td>58.000000</td>\n",
       "      <td>58.000000</td>\n",
       "      <td>58.000000</td>\n",
       "      <td>58.000000</td>\n",
       "      <td>58.000000</td>\n",
       "      <td>58.000000</td>\n",
       "      <td>58.000000</td>\n",
       "      <td>58.000000</td>\n",
       "      <td>58.000000</td>\n",
       "    </tr>\n",
       "    <tr>\n",
       "      <td>mean</td>\n",
       "      <td>0.390665</td>\n",
       "      <td>0.415624</td>\n",
       "      <td>0.415624</td>\n",
       "      <td>0.415624</td>\n",
       "      <td>0.415624</td>\n",
       "      <td>0.415624</td>\n",
       "      <td>0.399189</td>\n",
       "      <td>0.389123</td>\n",
       "      <td>0.432131</td>\n",
       "      <td>0.432131</td>\n",
       "      <td>...</td>\n",
       "      <td>0.413115</td>\n",
       "      <td>0.413115</td>\n",
       "      <td>0.413115</td>\n",
       "      <td>0.413115</td>\n",
       "      <td>0.382837</td>\n",
       "      <td>0.394150</td>\n",
       "      <td>0.427876</td>\n",
       "      <td>0.427876</td>\n",
       "      <td>0.427876</td>\n",
       "      <td>0.430131</td>\n",
       "    </tr>\n",
       "    <tr>\n",
       "      <td>std</td>\n",
       "      <td>0.169784</td>\n",
       "      <td>0.163768</td>\n",
       "      <td>0.163768</td>\n",
       "      <td>0.163768</td>\n",
       "      <td>0.163768</td>\n",
       "      <td>0.163768</td>\n",
       "      <td>0.167481</td>\n",
       "      <td>0.173648</td>\n",
       "      <td>0.136497</td>\n",
       "      <td>0.136497</td>\n",
       "      <td>...</td>\n",
       "      <td>0.161119</td>\n",
       "      <td>0.161119</td>\n",
       "      <td>0.161119</td>\n",
       "      <td>0.161119</td>\n",
       "      <td>0.178876</td>\n",
       "      <td>0.162642</td>\n",
       "      <td>0.145483</td>\n",
       "      <td>0.145483</td>\n",
       "      <td>0.145483</td>\n",
       "      <td>0.139933</td>\n",
       "    </tr>\n",
       "    <tr>\n",
       "      <td>min</td>\n",
       "      <td>0.000000</td>\n",
       "      <td>0.000000</td>\n",
       "      <td>0.000000</td>\n",
       "      <td>0.000000</td>\n",
       "      <td>0.000000</td>\n",
       "      <td>0.000000</td>\n",
       "      <td>0.000000</td>\n",
       "      <td>0.000000</td>\n",
       "      <td>0.000000</td>\n",
       "      <td>0.000000</td>\n",
       "      <td>...</td>\n",
       "      <td>0.000000</td>\n",
       "      <td>0.000000</td>\n",
       "      <td>0.000000</td>\n",
       "      <td>0.000000</td>\n",
       "      <td>0.000000</td>\n",
       "      <td>0.000000</td>\n",
       "      <td>0.000000</td>\n",
       "      <td>0.000000</td>\n",
       "      <td>0.000000</td>\n",
       "      <td>0.000000</td>\n",
       "    </tr>\n",
       "    <tr>\n",
       "      <td>25%</td>\n",
       "      <td>0.480448</td>\n",
       "      <td>0.480449</td>\n",
       "      <td>0.480449</td>\n",
       "      <td>0.480449</td>\n",
       "      <td>0.480449</td>\n",
       "      <td>0.480449</td>\n",
       "      <td>0.480448</td>\n",
       "      <td>0.480448</td>\n",
       "      <td>0.480449</td>\n",
       "      <td>0.480449</td>\n",
       "      <td>...</td>\n",
       "      <td>0.480449</td>\n",
       "      <td>0.480449</td>\n",
       "      <td>0.480449</td>\n",
       "      <td>0.480449</td>\n",
       "      <td>0.480448</td>\n",
       "      <td>0.480448</td>\n",
       "      <td>0.480449</td>\n",
       "      <td>0.480449</td>\n",
       "      <td>0.480449</td>\n",
       "      <td>0.480448</td>\n",
       "    </tr>\n",
       "    <tr>\n",
       "      <td>50%</td>\n",
       "      <td>0.480449</td>\n",
       "      <td>0.480449</td>\n",
       "      <td>0.480449</td>\n",
       "      <td>0.480449</td>\n",
       "      <td>0.480449</td>\n",
       "      <td>0.480449</td>\n",
       "      <td>0.480449</td>\n",
       "      <td>0.480449</td>\n",
       "      <td>0.480450</td>\n",
       "      <td>0.480450</td>\n",
       "      <td>...</td>\n",
       "      <td>0.480449</td>\n",
       "      <td>0.480449</td>\n",
       "      <td>0.480449</td>\n",
       "      <td>0.480449</td>\n",
       "      <td>0.480449</td>\n",
       "      <td>0.480449</td>\n",
       "      <td>0.480449</td>\n",
       "      <td>0.480449</td>\n",
       "      <td>0.480449</td>\n",
       "      <td>0.480449</td>\n",
       "    </tr>\n",
       "    <tr>\n",
       "      <td>75%</td>\n",
       "      <td>0.480449</td>\n",
       "      <td>0.480450</td>\n",
       "      <td>0.480450</td>\n",
       "      <td>0.480450</td>\n",
       "      <td>0.480450</td>\n",
       "      <td>0.480450</td>\n",
       "      <td>0.480449</td>\n",
       "      <td>0.480449</td>\n",
       "      <td>0.480450</td>\n",
       "      <td>0.480450</td>\n",
       "      <td>...</td>\n",
       "      <td>0.480450</td>\n",
       "      <td>0.480450</td>\n",
       "      <td>0.480450</td>\n",
       "      <td>0.480450</td>\n",
       "      <td>0.480449</td>\n",
       "      <td>0.480449</td>\n",
       "      <td>0.480450</td>\n",
       "      <td>0.480450</td>\n",
       "      <td>0.480450</td>\n",
       "      <td>0.480449</td>\n",
       "    </tr>\n",
       "    <tr>\n",
       "      <td>max</td>\n",
       "      <td>0.480449</td>\n",
       "      <td>0.480450</td>\n",
       "      <td>0.480450</td>\n",
       "      <td>0.480450</td>\n",
       "      <td>0.480450</td>\n",
       "      <td>0.480450</td>\n",
       "      <td>0.480449</td>\n",
       "      <td>0.480449</td>\n",
       "      <td>0.480450</td>\n",
       "      <td>0.480450</td>\n",
       "      <td>...</td>\n",
       "      <td>0.480450</td>\n",
       "      <td>0.480450</td>\n",
       "      <td>0.480450</td>\n",
       "      <td>0.480450</td>\n",
       "      <td>0.480450</td>\n",
       "      <td>0.480449</td>\n",
       "      <td>0.480450</td>\n",
       "      <td>0.480450</td>\n",
       "      <td>0.480450</td>\n",
       "      <td>0.480449</td>\n",
       "    </tr>\n",
       "  </tbody>\n",
       "</table>\n",
       "<p>8 rows × 58 columns</p>\n",
       "</div>"
      ],
      "text/plain": [
       "              0          1          2          3          4          5   \\\n",
       "count  58.000000  58.000000  58.000000  58.000000  58.000000  58.000000   \n",
       "mean    0.390665   0.415624   0.415624   0.415624   0.415624   0.415624   \n",
       "std     0.169784   0.163768   0.163768   0.163768   0.163768   0.163768   \n",
       "min     0.000000   0.000000   0.000000   0.000000   0.000000   0.000000   \n",
       "25%     0.480448   0.480449   0.480449   0.480449   0.480449   0.480449   \n",
       "50%     0.480449   0.480449   0.480449   0.480449   0.480449   0.480449   \n",
       "75%     0.480449   0.480450   0.480450   0.480450   0.480450   0.480450   \n",
       "max     0.480449   0.480450   0.480450   0.480450   0.480450   0.480450   \n",
       "\n",
       "              6          7          8          9   ...         48         49  \\\n",
       "count  58.000000  58.000000  58.000000  58.000000  ...  58.000000  58.000000   \n",
       "mean    0.399189   0.389123   0.432131   0.432131  ...   0.413115   0.413115   \n",
       "std     0.167481   0.173648   0.136497   0.136497  ...   0.161119   0.161119   \n",
       "min     0.000000   0.000000   0.000000   0.000000  ...   0.000000   0.000000   \n",
       "25%     0.480448   0.480448   0.480449   0.480449  ...   0.480449   0.480449   \n",
       "50%     0.480449   0.480449   0.480450   0.480450  ...   0.480449   0.480449   \n",
       "75%     0.480449   0.480449   0.480450   0.480450  ...   0.480450   0.480450   \n",
       "max     0.480449   0.480449   0.480450   0.480450  ...   0.480450   0.480450   \n",
       "\n",
       "              50         51         52         53         54         55  \\\n",
       "count  58.000000  58.000000  58.000000  58.000000  58.000000  58.000000   \n",
       "mean    0.413115   0.413115   0.382837   0.394150   0.427876   0.427876   \n",
       "std     0.161119   0.161119   0.178876   0.162642   0.145483   0.145483   \n",
       "min     0.000000   0.000000   0.000000   0.000000   0.000000   0.000000   \n",
       "25%     0.480449   0.480449   0.480448   0.480448   0.480449   0.480449   \n",
       "50%     0.480449   0.480449   0.480449   0.480449   0.480449   0.480449   \n",
       "75%     0.480450   0.480450   0.480449   0.480449   0.480450   0.480450   \n",
       "max     0.480450   0.480450   0.480450   0.480449   0.480450   0.480450   \n",
       "\n",
       "              56         57  \n",
       "count  58.000000  58.000000  \n",
       "mean    0.427876   0.430131  \n",
       "std     0.145483   0.139933  \n",
       "min     0.000000   0.000000  \n",
       "25%     0.480449   0.480448  \n",
       "50%     0.480449   0.480449  \n",
       "75%     0.480450   0.480449  \n",
       "max     0.480450   0.480449  \n",
       "\n",
       "[8 rows x 58 columns]"
      ]
     },
     "execution_count": 129,
     "metadata": {},
     "output_type": "execute_result"
    }
   ],
   "source": [
    "df = pd.DataFrame(sh_mat)\n",
    "df.describe()"
   ]
  },
  {
   "cell_type": "code",
   "execution_count": 130,
   "metadata": {},
   "outputs": [
    {
     "data": {
      "image/png": "[encoded data removed]",
      "text/plain": [
       "<Figure size 432x288 with 2 Axes>"
      ]
     },
     "metadata": {
      "needs_background": "light"
     },
     "output_type": "display_data"
    }
   ],
   "source": [
    "import seaborn as sns\n",
    "import matplotlib.pyplot as plt\n",
    "\n",
    "ax = sns.heatmap(sh_mat,vmin=0, vmax=0.468946, center=0.468946,cmap=sns.diverging_palette(20, 220, n=200),square=True)\n",
    "ax.set_title('vika')\n",
    "ax.set_xticklabels(\n",
    "    ax.get_xticklabels(),\n",
    "    rotation=45,\n",
    "    horizontalalignment='right'\n",
    ")\n",
    "        \n",
    "        #if figure_path is not None:\n",
    "        #    fig_path = os.path.join(figure_path,title + '.png')\n",
    "        #    plt.savefig(fig_path)\n",
    "        \n",
    "plt.show()"
   ]
  },
  {
   "cell_type": "code",
   "execution_count": 131,
   "metadata": {},
   "outputs": [],
   "source": [
    "sim_mat = median_filter(sh_mat,footprint=np.ones((2,2)))"
   ]
  },
  {
   "cell_type": "code",
   "execution_count": 132,
   "metadata": {},
   "outputs": [
    {
     "data": {
      "image/png": "[encoded data removed]",
      "text/plain": [
       "<Figure size 432x288 with 2 Axes>"
      ]
     },
     "metadata": {
      "needs_background": "light"
     },
     "output_type": "display_data"
    }
   ],
   "source": [
    "import seaborn as sns\n",
    "import matplotlib.pyplot as plt\n",
    "\n",
    "ax = sns.heatmap(sim_mat,vmin=0, vmax=0.468946, center=0.468946,cmap=sns.diverging_palette(20, 220, n=200),square=True)\n",
    "ax.set_title('vika')\n",
    "ax.set_xticklabels(\n",
    "    ax.get_xticklabels(),\n",
    "    rotation=45,\n",
    "    horizontalalignment='right'\n",
    ")\n",
    "        \n",
    "        #if figure_path is not None:\n",
    "        #    fig_path = os.path.join(figure_path,title + '.png')\n",
    "        #    plt.savefig(fig_path)\n",
    "        \n",
    "plt.show()"
   ]
  },
  {
   "cell_type": "code",
   "execution_count": null,
   "metadata": {},
   "outputs": [],
   "source": []
  }
 ],
 "metadata": {
  "kernelspec": {
   "display_name": "Python 3",
   "language": "python",
   "name": "python3"
  },
  "language_info": {
   "codemirror_mode": {
    "name": "ipython",
    "version": 3
   },
   "file_extension": ".py",
   "mimetype": "text/x-python",
   "name": "python",
   "nbconvert_exporter": "python",
   "pygments_lexer": "ipython3",
   "version": "3.7.4"
  }
 },
 "nbformat": 4,
 "nbformat_minor": 2
}
